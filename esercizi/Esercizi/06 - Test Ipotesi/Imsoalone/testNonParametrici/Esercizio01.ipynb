{
 "cells": [
  {
   "cell_type": "code",
   "execution_count": 1,
   "id": "14653471-498a-4a6d-9eb4-b437233be21b",
   "metadata": {},
   "outputs": [
    {
     "name": "stdout",
     "output_type": "stream",
     "text": [
      "[2158.7  1678.15 2316.   2061.3  2207.5  1708.3  1784.7  2575.1  2357.9\n",
      " 2256.7  2165.2  2399.55 1779.8  2336.75 1765.3  2053.5  2414.4  2200.5\n",
      " 2654.2  1753.7 ]\n",
      "Le differenze hanno valore: [ 158.7  -321.85  316.     61.3   207.5  -291.7  -215.3   575.1   357.9\n",
      "  256.7   165.2   399.55 -220.2   336.75 -234.7    53.5   414.4   200.5\n",
      "  654.2  -246.3 ]\n",
      "Il valore di R+ 14\n"
     ]
    }
   ],
   "source": [
    "# Un motore a reazione è formato legando insieme un propellente di accensione e un propellente di sostegno\n",
    "# all'interno di un alloggiamento metallco. La resistenza al taglio del legame tra i due tipi di propellente è\n",
    "# una caratteristica importante.\n",
    "\n",
    "# Vogliamo testare l'ipotesi che la mediana della resistenza al taglio sia 2000 psi con una significatività\n",
    "alpha = 0.05\n",
    "mediana = 2000\n",
    "\n",
    "# I dati sono riportati nel file\n",
    "import numpy as np\n",
    "\n",
    "dataset = np.loadtxt(\"Dataset_motore.dat\")\n",
    "print (dataset)\n",
    "n = dataset.size\n",
    "\n",
    "D = dataset - mediana # torna array con tutti i delta per ogni slot 53/64\n",
    "Rp = D > 0 # torna array True/False\n",
    "Rp = Rp.astype(int) # torna array 1/0\n",
    "Rp = np.sum(Rp) # torna numero ottenuto mediante la somma di tutti gli 1 (tutti i true)\n",
    "print (\"Il valore di R+\", Rp)\n"
   ]
  }
 ],
 "metadata": {
  "kernelspec": {
   "display_name": "Python 3 (ipykernel)",
   "language": "python",
   "name": "python3"
  },
  "language_info": {
   "codemirror_mode": {
    "name": "ipython",
    "version": 3
   },
   "file_extension": ".py",
   "mimetype": "text/x-python",
   "name": "python",
   "nbconvert_exporter": "python",
   "pygments_lexer": "ipython3",
   "version": "3.12.7"
  }
 },
 "nbformat": 4,
 "nbformat_minor": 5
}
