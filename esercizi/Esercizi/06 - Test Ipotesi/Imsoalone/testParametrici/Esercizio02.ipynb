{
 "cells": [
  {
   "cell_type": "code",
   "execution_count": 1,
   "id": "14653471-498a-4a6d-9eb4-b437233be21b",
   "metadata": {},
   "outputs": [],
   "source": [
    "# Si vuole testare ad un livello di significatività alpha = 0.05 se il carico di rottura di un materiale\n",
    "# supera 10 MPa. tenendo presente che 22 prove hanno fornito i seguenti risultati\n",
    "prove = [19.8, 18.5, 17.6, 16.7, 15.8, 15.4, 14.1, 13.6, 11.9, 11.4, 11.4, 8.8, 7.5, 15.4, 15.4,\n",
    "         19.5, 14.9, 12.7, 11.9, 11.4, 10.1, 7.9]\n",
    "\n",
    "import numpy as np\n",
    "from scipy.stats import t"
   ]
  },
  {
   "cell_type": "code",
   "execution_count": 2,
   "id": "a4c762e9-7609-4c50-9834-b35280c462c1",
   "metadata": {},
   "outputs": [
    {
     "name": "stdout",
     "output_type": "stream",
     "text": [
      "Il  valore di T0 è 4.902\n",
      "Il valore della legge di student sul numero delle prove è 2.08\n",
      "si rigetta l'ipotesi nulla in favore dell'ipotesi alternativa\n",
      "Il valore del p-value è 3.781272593450513e-05\n"
     ]
    }
   ],
   "source": [
    "# Calcolare il p-value\n",
    "# OSS. Il testo dice \"supera 10 MPa, ergo vuole il test unilatero a destra\"\n",
    "# OSS. il testo non fornisce il valore della varianza\n",
    "\n",
    "alpha = 0.05\n",
    "mi0 = 10\n",
    "media = np.mean (prove)\n",
    "n = np.size (prove)\n",
    "S = np.std (prove, ddof = 1)\n",
    "\n",
    "T0 = ((media - mi0) / S) * np.sqrt(n)\n",
    "student_t = t.ppf(1- alpha/2, n-1)\n",
    "\n",
    "print (\"Il  valore di T0 è\", round(T0, 3))\n",
    "print (\"Il valore della legge di student sul numero delle prove è\", round(student_t, 3))\n",
    "\n",
    "if T0 > student_t:\n",
    "    print (\"si rigetta l'ipotesi nulla in favore dell'ipotesi alternativa\")\n",
    "else:\n",
    "    print (\"l'ipotesi può essere accettata (non possiamo dire con certezza se è possibile rigettarla)\")\n",
    "\n",
    "pValue = 1-t.cdf(T0, n-1)\n",
    "print (\"Il valore del p-value è\", pValue)"
   ]
  }
 ],
 "metadata": {
  "kernelspec": {
   "display_name": "Python 3 (ipykernel)",
   "language": "python",
   "name": "python3"
  },
  "language_info": {
   "codemirror_mode": {
    "name": "ipython",
    "version": 3
   },
   "file_extension": ".py",
   "mimetype": "text/x-python",
   "name": "python",
   "nbconvert_exporter": "python",
   "pygments_lexer": "ipython3",
   "version": "3.12.7"
  }
 },
 "nbformat": 4,
 "nbformat_minor": 5
}
