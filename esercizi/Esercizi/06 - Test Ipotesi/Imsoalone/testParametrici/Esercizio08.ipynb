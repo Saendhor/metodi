{
 "cells": [
  {
   "cell_type": "code",
   "execution_count": null,
   "id": "14653471-498a-4a6d-9eb4-b437233be21b",
   "metadata": {},
   "outputs": [],
   "source": [
    "# Si può adattare una distribuzione di Puoisson ai dati della seguente tabella?\n",
    "import numpy as np\n",
    "from scipy.stats import chi2\n",
    "from scipy.stats import poisson\n",
    "\n",
    "campioni = np.array([584, 398, 165, 35, 15])\n",
    "n = campioni.size\n",
    "m = np.sum(campioni)\n",
    "\n",
    "p = campioni / m #IDK"
   ]
  }
 ],
 "metadata": {
  "kernelspec": {
   "display_name": "Python 3 (ipykernel)",
   "language": "python",
   "name": "python3"
  },
  "language_info": {
   "codemirror_mode": {
    "name": "ipython",
    "version": 3
   },
   "file_extension": ".py",
   "mimetype": "text/x-python",
   "name": "python",
   "nbconvert_exporter": "python",
   "pygments_lexer": "ipython3",
   "version": "3.12.7"
  }
 },
 "nbformat": 4,
 "nbformat_minor": 5
}
