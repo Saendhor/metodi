{
 "cells": [
  {
   "cell_type": "code",
   "execution_count": 1,
   "id": "a511ea1b-e815-494f-acef-f5ae7b36c80e",
   "metadata": {},
   "outputs": [],
   "source": [
    "# Le specifiche tecniche per la velocità di combustione di un propellente richiedono che deve essere di 50 cm/s. Sappiamo che la deviazione standard è di 2 cm/s. Si effettuano 24 misurazioni\n",
    "misurazioni = [51, 50.2, 49.5, 48.7, 50.2, 50.5, 49.6, 51.1, 50.6, 49.1, 53.1, 50.4, 49.3, 48.9, 50.3, 51.8, 51.3, 48.5, 49.3, 55.1, 53.1, 52.5, 55.1, 50.6]\n",
    "# Si può rigettare l'ipotesi nulla con un livello di significatività del 5%? E se invece richiedesse l'1%? Calcolare infine il p-value.\n",
    "\n",
    "import numpy as np\n",
    "from scipy.stats import norm"
   ]
  },
  {
   "cell_type": "code",
   "execution_count": 2,
   "id": "60628c0c-bb38-4734-a800-2d0a4cd2a2ec",
   "metadata": {},
   "outputs": [
    {
     "name": "stdout",
     "output_type": "stream",
     "text": [
      "Il valore di Z0 è 2.021\n",
      " \n",
      "# Passo 1: Verifica rigetto ipotesi nulla (µ = µ0) con alpha = 0.05\n",
      "Il valore di phi per alpha = 0.05 è 1.96\n",
      "Il valore di Z0 non coincide con il valore di phi\n",
      " \n",
      "# Passo 2: Verifica rigetto ipotesi nulla (µ = µ0) con alpha = 0.01\n",
      "Il valore di phi per alpha = 0.01 è 2.576\n",
      "Il valore di Z0 non coincide con il valore di phi\n",
      " \n",
      "# Passo 3: Calcolo del p-value\n",
      "Il valore del p-value è 0.043\n"
     ]
    }
   ],
   "source": [
    "# Passo 1: Verifica rigetto ipotesi nulla (µ = µ0) con alpha = 0.05\n",
    "\n",
    "media = np.mean(misurazioni)\n",
    "mi0 = 50\n",
    "devStandard = 2\n",
    "n = 24\n",
    "\n",
    "Z0 = ((media - mi0) / devStandard) * np.sqrt(n)\n",
    "print (\"Il valore di Z0 è\", round(Z0, 3))\n",
    "\n",
    "print (\" \") #############################################################################\n",
    "print (\"# Passo 1: Verifica rigetto ipotesi nulla (µ = µ0) con alpha = 0.05\")\n",
    "\n",
    "alpha = 0.05\n",
    "phi = norm.ppf (1- alpha/2)\n",
    "print (\"Il valore di phi per alpha = 0.05 è\", round(phi, 3))\n",
    "\n",
    "if Z0 == phi:\n",
    "    print (\"Il valore di Z0 coincide con il valore di phi\")\n",
    "else:\n",
    "    print (\"Il valore di Z0 non coincide con il valore di phi\")\n",
    "\n",
    "print (\" \") #############################################################################\n",
    "print (\"# Passo 2: Verifica rigetto ipotesi nulla (µ = µ0) con alpha = 0.01\")\n",
    "\n",
    "alpha_1 = 0.01\n",
    "phi_1 = norm.ppf(1 - alpha_1/2)\n",
    "print (\"Il valore di phi per alpha = 0.01 è\", round(phi_1, 3))\n",
    "\n",
    "if Z0 == phi_1:\n",
    "    print (\"Il valore di Z0 coincide con il valore di phi\")\n",
    "else:\n",
    "    print (\"Il valore di Z0 non coincide con il valore di phi\")\n",
    "\n",
    "print (\" \") #############################################################################\n",
    "print (\"# Passo 3: Calcolo del p-value\")\n",
    "\n",
    "pValue = 2*(1- norm.cdf(np.abs(Z0)))\n",
    "print (\"Il valore del p-value è\", round(pValue, 3))"
   ]
  },
  {
   "cell_type": "code",
   "execution_count": 3,
   "id": "789e72d7-0545-4e40-98fe-95fa5964595f",
   "metadata": {},
   "outputs": [
    {
     "name": "stdout",
     "output_type": "stream",
     "text": [
      "La dimensione campionaria è 42.03\n"
     ]
    }
   ],
   "source": [
    "# Supponiamo che lo sperimentatore voglia impostare il test in modo che la reale velocità di combustione media differisca da 50 cm/s per al più 1 cm/s. Si vuole inoltre che il test affermerà questo fatto\n",
    "# (cioè rigetterà H0: µ = 50) con una probabilità del 90% e un livello di significatività del 5%. Determinare la dimensione campionaria.\n",
    "\n",
    "# alpha = 0.05 # definito sopra\n",
    "beta =  0.1 # (1-ß) *100 = 90% -> 1-ß = 0.9 -> ß = 0.1\n",
    "delta = 1\n",
    "\n",
    "dimensioneCampionaria = ((norm.ppf(1-alpha/2) + norm.ppf(1-beta))**2) * (devStandard**2) / (delta**2)\n",
    "print (\"La dimensione campionaria è\", round (dimensioneCampionaria, 3))"
   ]
  }
 ],
 "metadata": {
  "kernelspec": {
   "display_name": "Python 3 (ipykernel)",
   "language": "python",
   "name": "python3"
  },
  "language_info": {
   "codemirror_mode": {
    "name": "ipython",
    "version": 3
   },
   "file_extension": ".py",
   "mimetype": "text/x-python",
   "name": "python",
   "nbconvert_exporter": "python",
   "pygments_lexer": "ipython3",
   "version": "3.12.7"
  }
 },
 "nbformat": 4,
 "nbformat_minor": 5
}
