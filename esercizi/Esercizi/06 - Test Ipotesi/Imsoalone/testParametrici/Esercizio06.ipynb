{
 "cells": [
  {
   "cell_type": "code",
   "execution_count": 1,
   "id": "14653471-498a-4a6d-9eb4-b437233be21b",
   "metadata": {},
   "outputs": [
    {
     "name": "stdout",
     "output_type": "stream",
     "text": [
      "[[265 240 258 295 251 245 287 314 260 279 283 240 238 225 247]\n",
      " [229 331 227 240 238 241 234 256 247 239 246 218 219 226 233]]\n"
     ]
    }
   ],
   "source": [
    "# Quindici adulti di età compresa fra i 35 e i 50 anni partecipano ad uno studio per valutare gli effetti\n",
    "# di dieta alimentare ed esercizio fisico sul livello di colesterolo nel sangue. In ogni individuo il\n",
    "# livello di colesterolo è stato misurato inizialmente e tre mesi dopo la dieta e l'allenamento.\n",
    "# Con un livello di significatività alpha = 0.05, è possibile avallare l'ipotesi che dieta ed esercizio\n",
    "# fisico portino a ridurre il livello medio di colesterolo?\n",
    "\n",
    "import numpy as np\n",
    "misurazioni = np.array([[265, 240, 258, 295, 251, 245, 287, 314, 260, 279, 283, 240, 238, 225, 247],\n",
    "                        [229, 331, 227, 240, 238, 241, 234, 256, 247, 239, 246, 218, 219, 226, 233]])\n",
    "print (misurazioni)\n",
    "\n",
    "from scipy.stats import t"
   ]
  },
  {
   "cell_type": "code",
   "execution_count": 2,
   "id": "da67eb27-1b58-4b4b-b320-6d1acc86a19f",
   "metadata": {},
   "outputs": [
    {
     "name": "stdout",
     "output_type": "stream",
     "text": [
      "Il valore di T0 è 2.1830382352272597\n",
      "Il valore di test_t è 1.7613101357748562\n",
      "L'ipotesi può essere rigettata\n"
     ]
    }
   ],
   "source": [
    "# Punto 1) Con un livello di significatività alpha = 0.05, è possibile avallare l'ipotesi che dieta ed esercizio\n",
    "# fisico portino a ridurre il livello medio di colesterolo?\n",
    "\n",
    "alpha = 0.05\n",
    "\n",
    "D = misurazioni [0, :] - misurazioni [1, :]\n",
    "n = D.size\n",
    "media = np.mean(D)\n",
    "S = np.std(D, ddof = 1)\n",
    "\n",
    "T0 = (media / S) * np.sqrt(n)\n",
    "print (\"Il valore di T0 è\", T0)\n",
    "\n",
    "# a noi interessa che sia un test unilatero a destra, quindi\n",
    "\n",
    "test_t = t.ppf (1- alpha, n-1)\n",
    "print (\"Il valore di test_t è\", test_t)\n",
    "\n",
    "if T0 > test_t:\n",
    "    print (\"L'ipotesi può essere rigettata\")\n",
    "else:\n",
    "    print (\"L'ipotesi non può essere rigettata\")"
   ]
  }
 ],
 "metadata": {
  "kernelspec": {
   "display_name": "Python 3 (ipykernel)",
   "language": "python",
   "name": "python3"
  },
  "language_info": {
   "codemirror_mode": {
    "name": "ipython",
    "version": 3
   },
   "file_extension": ".py",
   "mimetype": "text/x-python",
   "name": "python",
   "nbconvert_exporter": "python",
   "pygments_lexer": "ipython3",
   "version": "3.12.7"
  }
 },
 "nbformat": 4,
 "nbformat_minor": 5
}
