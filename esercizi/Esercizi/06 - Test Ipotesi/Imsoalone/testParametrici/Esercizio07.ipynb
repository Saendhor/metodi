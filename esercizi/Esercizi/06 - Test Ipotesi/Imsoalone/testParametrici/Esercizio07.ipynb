{
 "cells": [
  {
   "cell_type": "code",
   "execution_count": 1,
   "id": "14653471-498a-4a6d-9eb4-b437233be21b",
   "metadata": {},
   "outputs": [],
   "source": [
    "import numpy as np\n",
    "from scipy.stats import chi2\n",
    "\n",
    "# Si vuole testare se un dado sia equilibrato o meno ad un livello di significatività alpha = 0.05. Si effettuano\n",
    "# 100 lanci, registrando i risultati riportati nella seguente tabella.\n",
    "N1 = np.array([20, 7, 12, 18, 20, 23])\n",
    "\n",
    "# Dopo aver aumentato la dimensione campionaria, si registrano i risultati riportati nella seguente tabella.\n",
    "# Si ripeta il test di cui sopra con i nuovi dati.\n",
    "N2 = np.array([388, 322, 314, 316, 344, 316])\n",
    "\n",
    "\n",
    "# Si ripeta quest'ultimo test con alpha = 0.01"
   ]
  },
  {
   "cell_type": "code",
   "execution_count": 2,
   "id": "fd2fa9c9-8c76-4fa4-9bed-d96eb19dd77d",
   "metadata": {},
   "outputs": [
    {
     "name": "stdout",
     "output_type": "stream",
     "text": [
      "I valori di E [16.66666667 16.66666667 16.66666667 16.66666667 16.66666667 16.66666667]\n",
      "Il valore di T è 10.760000000000002\n",
      "Il valore di chi² è 11.070497693516351\n",
      "L'ipotesi non può essere rigettata\n"
     ]
    }
   ],
   "source": [
    "# Punto 1) Si vuole testare se un dado sia equilibrato o meno ad un livello di significatività alpha = 0.05\n",
    "n_elem1 = np.sum(N1)\n",
    "p = 1/6 #probabilità del dado uguale per ogni misurazione in N\n",
    "E1 = np.ones(6) * p * n_elem1\n",
    "print (\"I valori di E\", E1)\n",
    "\n",
    "# Calcolo T\n",
    "T = np.sum(((N1 - E1)**2.) / E1)\n",
    "print (\"Il valore di T è\", T)\n",
    "\n",
    "m1 = N1.size\n",
    "alpha1 = 0.05\n",
    "chi_quadro1 = chi2.ppf(1- alpha1, m1 -1)\n",
    "print (\"Il valore di chi² è\", chi_quadro1)\n",
    "\n",
    "if T > chi_quadro1:\n",
    "    print(\"L'ipotesi può essere rigettata\")\n",
    "else:\n",
    "    print(\"L'ipotesi non può essere rigettata\")"
   ]
  },
  {
   "cell_type": "code",
   "execution_count": 3,
   "id": "a4bdf4c7-6758-4c35-90d9-c107b73ef4aa",
   "metadata": {},
   "outputs": [
    {
     "name": "stdout",
     "output_type": "stream",
     "text": [
      "I valori di E [333.33333333 333.33333333 333.33333333 333.33333333 333.33333333\n",
      " 333.33333333]\n",
      "Il valore di T è 12.616000000000001\n",
      "Il valore di chi² è 11.070497693516351\n",
      "L'ipotesi può essere rigettata\n"
     ]
    }
   ],
   "source": [
    "# Passo 2) Dopo aver aumentato la dimensione campionaria, si registrano i risultati riportati nella seguente\n",
    "# tabella. Si ripeta il test di cui sopra con i nuovi dati.\n",
    "n_elem2 = np.sum(N2)\n",
    "E2 = np.ones(6) * p * n_elem2\n",
    "print (\"I valori di E\", E2)\n",
    "\n",
    "# Calcolo T\n",
    "T = np.sum(((N2 - E2)**2.) / E2)\n",
    "print (\"Il valore di T è\", T)\n",
    "\n",
    "m2 = N2.size\n",
    "alpha1 = 0.05\n",
    "chi_quadro2 = chi2.ppf(1- alpha1, m2 -1)\n",
    "print (\"Il valore di chi² è\", chi_quadro2)\n",
    "\n",
    "if T > chi_quadro2:\n",
    "    print(\"L'ipotesi può essere rigettata\")\n",
    "else:\n",
    "    print(\"L'ipotesi non può essere rigettata\")"
   ]
  }
 ],
 "metadata": {
  "kernelspec": {
   "display_name": "Python 3 (ipykernel)",
   "language": "python",
   "name": "python3"
  },
  "language_info": {
   "codemirror_mode": {
    "name": "ipython",
    "version": 3
   },
   "file_extension": ".py",
   "mimetype": "text/x-python",
   "name": "python",
   "nbconvert_exporter": "python",
   "pygments_lexer": "ipython3",
   "version": "3.12.7"
  }
 },
 "nbformat": 4,
 "nbformat_minor": 5
}
