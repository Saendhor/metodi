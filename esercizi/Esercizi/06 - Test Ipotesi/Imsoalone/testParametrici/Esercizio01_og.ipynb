{
 "cells": [
  {
   "cell_type": "code",
   "execution_count": 1,
   "id": "6f0439f8-e365-4ba7-92c0-e4808963c7f5",
   "metadata": {},
   "outputs": [],
   "source": [
    "# Le specifiche tecniche per la velocità di combustione di un propellente richiedono che deve essere\n",
    "# di 50 cm/s. Sappiamo che la deviazione standard è di 2 cm/s. Si effettuano 24 misurazioni:\n",
    "misurazioni = [51, 50.2, 49.5, 48.7, 50.2, 50.5, 49.6, 51.1, 50.6, 49.1, 53.1, 50.4,\n",
    "              49.3, 48.9, 50.3, 51.8, 51.3, 48.5, 49.3, 55.1, 53.1, 52.5, 55.1, 50.6]\n",
    "# Si può rigettare l'ipotesi nulla con un livello di significatività del 5%? E se invece si richiedesse\n",
    "# l'1%? Calcolare infine il p-value\n",
    "\n",
    "import numpy as np\n",
    "from scipy.stats import norm"
   ]
  },
  {
   "cell_type": "code",
   "execution_count": 2,
   "id": "be4697ca-b7bc-41a3-af02-cc74d78e7f9d",
   "metadata": {},
   "outputs": [
    {
     "name": "stdout",
     "output_type": "stream",
     "text": [
      "# Passo 1: Rigettare l'ipotesi nulla con un livello di significatività del 5%\n",
      "Il valore di Z è: 2.021\n",
      "Il valore di phi è: 1.96\n",
      "L'ipotesi nulla può essere rigettata in quanto Z non coincide con phi\n",
      " \n",
      "# Passo 2: Rigettare l'ipotesi nulla con un livello di significatività dell' 1%\n",
      "Il valore di Z è: 2.021\n",
      "Il valore di phi è: 2.576\n",
      "L'ipotesi nulla può essere rigettata in quanto Z non coincide con phi\n",
      " \n",
      "# Passo 3: Calcolare il p-value\n",
      "Il valore del p-value è 0.043\n"
     ]
    }
   ],
   "source": [
    "# Passo 1: Rigettare l'ipotesi nulla con un livello di significatività del 5%\n",
    "print (\"# Passo 1: Rigettare l'ipotesi nulla con un livello di significatività del 5%\")\n",
    "\n",
    "media = np.mean(misurazioni)\n",
    "mi = 50 # [cm/s]\n",
    "devStandard = 2 # [cm/s]\n",
    "n = np.size(misurazioni)\n",
    "\n",
    "Z = ((media - mi) / devStandard) * np.sqrt(n)\n",
    "print (\"Il valore di Z è:\", round(Z, 3))\n",
    "\n",
    "alpha = 0.05\n",
    "phi = norm.ppf(1-alpha/2)\n",
    "print (\"Il valore di phi è:\", round(phi, 3))\n",
    "\n",
    "# in pratica µ = µ0\n",
    "if Z == phi:\n",
    "    print (\"L'ipotesi nulla non può essere rigettata in quanto Z coincide con phi\")\n",
    "else:\n",
    "    print (\"L'ipotesi nulla può essere rigettata in quanto Z non coincide con phi\")\n",
    "\n",
    "# Passo 2: Rigettare l'ipotesi nulla con un livello di significatività dell' 1%\n",
    "print (\" \")\n",
    "print (\"# Passo 2: Rigettare l'ipotesi nulla con un livello di significatività dell' 1%\")\n",
    "\n",
    "alpha_1 = 0.01\n",
    "phi_1 = norm.ppf(1- alpha_1/2)\n",
    "print (\"Il valore di Z è:\", round(Z, 3))\n",
    "print (\"Il valore di phi è:\", round(phi_1, 3))\n",
    "\n",
    "if Z == phi_1:\n",
    "    print (\"L'ipotesi nulla non può essere rigettata in quanto Z coincide con phi\")\n",
    "else:\n",
    "    print (\"L'ipotesi nulla può essere rigettata in quanto Z non coincide con phi\")\n",
    "\n",
    "# Passo 3: Calcolare il p-value\n",
    "print (\" \")\n",
    "print (\"# Passo 3: Calcolare il p-value\")\n",
    "\n",
    "pValue = 2*(1- norm.cdf(np.abs(Z)))\n",
    "print (\"Il valore del p-value è\", round(pValue, 3))"
   ]
  },
  {
   "cell_type": "code",
   "execution_count": 3,
   "id": "230fa2b1-0552-499d-a7df-71d701eb93cc",
   "metadata": {},
   "outputs": [
    {
     "name": "stdout",
     "output_type": "stream",
     "text": [
      "il valore della dimensione campionaria è 42.03\n"
     ]
    }
   ],
   "source": [
    "# Supponiamo che lo sperimentatore voglia impostare il test in modo che la reale velocità di combustione\n",
    "# media differisca da 50 cm/s per al più 1 cm/s. Si vuole inoltre che il test affermerà questo fatto\n",
    "# (cioè rigettera H0: µ = 50) con una probabilità del 90% e un livello di significatività del 5%.\n",
    "# Determinare la dimensione campionaria.\n",
    "\n",
    "beta = 0.10 # (100 - 90) / 100\n",
    "delta = 1 # [cm/s]\n",
    "\n",
    "dimensioneCampionaria = ((norm.ppf (1- alpha/2) + norm.ppf(1- beta))**2) * (devStandard**2) / (delta**2)\n",
    "print (\"il valore della dimensione campionaria è\", round(dimensioneCampionaria, 3))"
   ]
  }
 ],
 "metadata": {
  "kernelspec": {
   "display_name": "Python 3 (ipykernel)",
   "language": "python",
   "name": "python3"
  },
  "language_info": {
   "codemirror_mode": {
    "name": "ipython",
    "version": 3
   },
   "file_extension": ".py",
   "mimetype": "text/x-python",
   "name": "python",
   "nbconvert_exporter": "python",
   "pygments_lexer": "ipython3",
   "version": "3.12.7"
  }
 },
 "nbformat": 4,
 "nbformat_minor": 5
}
