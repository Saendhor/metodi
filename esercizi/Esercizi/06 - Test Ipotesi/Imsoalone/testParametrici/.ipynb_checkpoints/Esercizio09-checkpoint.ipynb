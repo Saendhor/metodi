{
 "cells": [
  {
   "cell_type": "code",
   "execution_count": 1,
   "id": "14653471-498a-4a6d-9eb4-b437233be21b",
   "metadata": {},
   "outputs": [
    {
     "name": "stdout",
     "output_type": "stream",
     "text": [
      "Il valore di T è 2.9397160835021268\n",
      "Il valore di chi² è 3.841458820694124\n"
     ]
    }
   ],
   "source": [
    "# Si vuole testare se un antibiotico è efficace. Si considerano 170 pazienti. I dati ottenuti sono stati raccolti\n",
    "# nella tabella seguente, detta tabella di contigenza\n",
    "import numpy as np\n",
    "from scipy.stats import chi2\n",
    "\n",
    "pazienti = np.array([[44, 10], [81, 35]])\n",
    "# I due effetti, trattamento e guarigione, sono indipendenti? Si usi alpha = 0.05\n",
    "\n",
    "n_pazienti = 125 + 45\n",
    "\n",
    "# probabilità empiriche trattamento\n",
    "trattamento = np.array([51, 116])\n",
    "p = trattamento / n_pazienti\n",
    "m = trattamento.size\n",
    "\n",
    "# probabilità empiriche guarigione\n",
    "guarigione = np.array([125, 45])\n",
    "q = guarigione / n_pazienti\n",
    "r = guarigione.size\n",
    "\n",
    "# probabilità empirica congiunta\n",
    "PI = pazienti / n_pazienti # è P(X = trattamento, Y = guarigione)\n",
    "\n",
    "# Calcoliamo il valore di T\n",
    "T = 0.\n",
    "for h in range(m):\n",
    "    for k in range (r):\n",
    "        T = T + (((p [h] * q [k]) - PI [h][k])**2) / PI [h][k]\n",
    "\n",
    "T = n_pazienti * T\n",
    "print (\"Il valore di T è\", T)\n",
    "\n",
    "alpha = 0.05\n",
    "\n",
    "#Calcolo chi_quadro\n",
    "chi_quadro = chi2.ppf(1-alpha, (m-1)*(r-1) )\n",
    "print (\"Il valore di chi² è\", chi_quadro)\n",
    "\n",
    "if T > chi_quadro and T < chi:\n",
    "    print(\"Guarigione e trattamento non sono indipendenti, quindi l'ipotesi può essere accettata.\")\n",
    "else:\n",
    "    print(\"Non si può rigettare l'ipotesi nulla perchè le guarigione e trattamento sono indipendenti.\")\n"
   ]
  }
 ],
 "metadata": {
  "kernelspec": {
   "display_name": "Python 3 (ipykernel)",
   "language": "python",
   "name": "python3"
  },
  "language_info": {
   "codemirror_mode": {
    "name": "ipython",
    "version": 3
   },
   "file_extension": ".py",
   "mimetype": "text/x-python",
   "name": "python",
   "nbconvert_exporter": "python",
   "pygments_lexer": "ipython3",
   "version": "3.12.7"
  }
 },
 "nbformat": 4,
 "nbformat_minor": 5
}
