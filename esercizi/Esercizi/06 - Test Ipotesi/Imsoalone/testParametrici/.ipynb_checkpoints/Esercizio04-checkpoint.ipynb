{
 "cells": [
  {
   "cell_type": "code",
   "execution_count": 1,
   "id": "14653471-498a-4a6d-9eb4-b437233be21b",
   "metadata": {},
   "outputs": [],
   "source": [
    "# In una catena di produzione si vuole mantenere il numero di pezzi difettosi al di sotto del 5%.\n",
    "# Si analizza un campione di 200 pezzi e si trovano 4 pezzi difettosi.\n",
    "\n",
    "# 1) Si può asserire ad un livello di significatività alpha = 0.05 che la produzione rispetta le aspettative?\n",
    "\n",
    "# 2) Supponendo che il valore vero sia p* = 0.03 e supponendo che il costruttore voglia accettare un valore\n",
    "# dell'errore di secondo tipo ß = 0.01, quale ampiezza dovrebbe avere il campione?\n",
    "\n",
    "import numpy as np\n",
    "from scipy.stats import norm"
   ]
  },
  {
   "cell_type": "code",
   "execution_count": 2,
   "id": "e259a0eb-b550-44b5-a299-67d02c212d1f",
   "metadata": {},
   "outputs": [
    {
     "name": "stdout",
     "output_type": "stream",
     "text": [
      "L'approssimazione normale è valida con (A) 10.0 >= 5 e (B) 190.0 >= 5\n",
      "Z0 = -1.946657053569151 , phi = -1.6448536269514729\n",
      "L'ipotesi può essere rigettata\n"
     ]
    }
   ],
   "source": [
    "# Punto 1) Si può asserire ad un livello di significatività alpha = 0.05 che la produzione\n",
    "# rispetta le aspettative?\n",
    "\n",
    "alpha = 0.05\n",
    "n = 200\n",
    "p0 = 5/100 # valore che non si deve superare\n",
    "p = 4/n # 4 pezzi difettosi su 200\n",
    "\n",
    "cond_a = n * p0\n",
    "cond_b = n * (1- p0)\n",
    "\n",
    "if cond_a >= 5 and cond_b >= 5:\n",
    "    print (\"L'approssimazione normale è valida con (A)\",\n",
    "           round(cond_a, 3), \">= 5 e (B)\", round(cond_b, 3), \">= 5\")\n",
    "    \n",
    "    Z0 = ((p - p0) / np.sqrt(p0 * (1- p0)) * np.sqrt(n))\n",
    "    phi = norm.ppf(alpha) # a noi interessa che sia inferiore, quindi unilatero a sinistra\n",
    "    print (\"Z0 =\", Z0, \", phi =\", phi)\n",
    "\n",
    "    if Z0 < phi:\n",
    "        print (\"L'ipotesi può essere rigettata\")\n",
    "    else:\n",
    "        print (\"L'ipotesi non può essere rigettata\")\n",
    "    "
   ]
  },
  {
   "cell_type": "code",
   "execution_count": 3,
   "id": "8711a5bb-4de2-46a5-be94-51dbc80799f6",
   "metadata": {},
   "outputs": [
    {
     "name": "stdout",
     "output_type": "stream",
     "text": [
      "L'ampiezza del campione dati i parametri di p* e ß specificati è 1426.3189305900364\n"
     ]
    }
   ],
   "source": [
    "# Punto 2) Supponendo che il valore vero sia p* = 0.03 e supponendo che il costruttore voglia accettare\n",
    "# un valore dell'errore di secondo tipo ß = 0.01, quale ampiezza dovrebbe avere il campione?\n",
    "\n",
    "beta = 0.1\n",
    "p_star = 0.03\n",
    "\n",
    "phi_beta = norm.ppf (beta)\n",
    "phi_alpha = norm.ppf (alpha)\n",
    "\n",
    "arg_beta = np.sqrt(p_star * (1. - p_star))\n",
    "arg_alpha = np.sqrt(p0 * (1. - p0))\n",
    "\n",
    "denom = p0 - p_star\n",
    "\n",
    "ampiezzaCampione = (((phi_beta * arg_beta) + (phi_alpha * arg_alpha)) / denom ) **2.0\n",
    "print (\"L'ampiezza del campione dati i parametri di p* e ß specificati è\", ampiezzaCampione)"
   ]
  }
 ],
 "metadata": {
  "kernelspec": {
   "display_name": "Python 3 (ipykernel)",
   "language": "python",
   "name": "python3"
  },
  "language_info": {
   "codemirror_mode": {
    "name": "ipython",
    "version": 3
   },
   "file_extension": ".py",
   "mimetype": "text/x-python",
   "name": "python",
   "nbconvert_exporter": "python",
   "pygments_lexer": "ipython3",
   "version": "3.12.7"
  }
 },
 "nbformat": 4,
 "nbformat_minor": 5
}
