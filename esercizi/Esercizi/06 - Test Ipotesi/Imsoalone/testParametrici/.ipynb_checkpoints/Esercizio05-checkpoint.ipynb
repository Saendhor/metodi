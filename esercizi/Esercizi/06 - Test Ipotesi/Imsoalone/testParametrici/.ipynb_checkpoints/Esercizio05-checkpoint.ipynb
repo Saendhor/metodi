{
 "cells": [
  {
   "cell_type": "code",
   "execution_count": 1,
   "id": "14653471-498a-4a6d-9eb4-b437233be21b",
   "metadata": {},
   "outputs": [],
   "source": [
    "# Si vogliono confrontare due tipi di preparati per pittura. Ci si aspetta un diverso tempo di essiccamento\n",
    "# Si può supporre che la deviazione standard del tempo di essiccamento per ciascun tipo di essiccamento\n",
    "# sia 8 minuti. 10 pareti vengono tinteggiate con il trattamento 1 e altrettante pareti con il trattamento\n",
    "# 2. Si rilevano le medie campionarie X = 121 minuti e Y = 112 minuti.\n",
    "# Si può trarre la conclusione che il tempo di essiccamento del campione 1 sia maggiore di quello del\n",
    "# campione 2 assumendo alpha = 0.05?\n",
    "# Calcolare l'intervallo di confidenza per la differenza dei tempi medi di essiccamento.\n",
    "\n",
    "import numpy as np\n",
    "from scipy.stats import norm"
   ]
  },
  {
   "cell_type": "code",
   "execution_count": 2,
   "id": "02328579-72f4-4a78-9795-44555784a555",
   "metadata": {},
   "outputs": [
    {
     "name": "stdout",
     "output_type": "stream",
     "text": [
      "Z0 = 2.5155764746872635 , phi = 1.6448536269514722\n",
      "L'ipotesi può essere rigettata\n"
     ]
    }
   ],
   "source": [
    "# Punto 1) Si può trarre la conclusione che il tempo di essiccamento del campione 1 sia maggiore di quello\n",
    "# del campione 2 assumendo alpha = 0.05?\n",
    "\n",
    "devStandard = 8 #minuti\n",
    "n = 10 # sia per A che per B\n",
    "X = 121 #minuti\n",
    "Y = 112 #minuti\n",
    "\n",
    "alpha = 0.05\n",
    "#hyp: µ1 > µ2 => unilatero a destra\n",
    "\n",
    "# dal momento che devStandard1 = devStandard2 && n = m => np.sqrt(2*( (devStandard**2) / n)\n",
    "Z0 = (X - Y) / np.sqrt(2*( (devStandard**2) / n))\n",
    "\n",
    "phi = norm.ppf (1-alpha)\n",
    "\n",
    "print (\"Z0 =\", Z0, \", phi =\", phi)\n",
    "   \n",
    "if Z0 > phi: # test unilatero a destra\n",
    "   print (\"L'ipotesi può essere rigettata\")\n",
    "else:\n",
    "    print (\"L'ipotesi non può essere rigettata\")"
   ]
  },
  {
   "cell_type": "code",
   "execution_count": 3,
   "id": "b1bc4c13-4576-4f39-b780-d7615137a766",
   "metadata": {},
   "outputs": [
    {
     "name": "stdout",
     "output_type": "stream",
     "text": [
      "L'intervallo di confidenza per la differenza dei tempi medi di essiccamento,considerato il caso unilatero a destra, è 3.115192763359085\n"
     ]
    }
   ],
   "source": [
    "# Punto 2) Calcolare l'intervallo di confidenza per la differenza dei tempi medi di essiccamento.\n",
    "# Siccome il punto 1 è soddisfatto:\n",
    "\n",
    "conf = X - Y - (phi * np.sqrt(2*( (devStandard**2) / n)))\n",
    "print (\"L'intervallo di confidenza per la differenza dei tempi medi di essiccamento,\"\n",
    "        \"considerato il caso unilatero a destra, è\", conf)"
   ]
  }
 ],
 "metadata": {
  "kernelspec": {
   "display_name": "Python 3 (ipykernel)",
   "language": "python",
   "name": "python3"
  },
  "language_info": {
   "codemirror_mode": {
    "name": "ipython",
    "version": 3
   },
   "file_extension": ".py",
   "mimetype": "text/x-python",
   "name": "python",
   "nbconvert_exporter": "python",
   "pygments_lexer": "ipython3",
   "version": "3.12.7"
  }
 },
 "nbformat": 4,
 "nbformat_minor": 5
}
