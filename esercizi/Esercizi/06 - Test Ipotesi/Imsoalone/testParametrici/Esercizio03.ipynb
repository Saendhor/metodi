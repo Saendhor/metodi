{
 "cells": [
  {
   "cell_type": "code",
   "execution_count": 1,
   "id": "14653471-498a-4a6d-9eb4-b437233be21b",
   "metadata": {},
   "outputs": [
    {
     "name": "stdout",
     "output_type": "stream",
     "text": [
      "Il valore di W è 9.968\n",
      "Il valore di chi² è 10.117\n",
      "L'ipotesi può essere rigettata\n"
     ]
    }
   ],
   "source": [
    "# Un macchinario riempie automaticamente delle bottiglie. Da un campione di 20 misurazioni si ottengono i \n",
    "# seguenti valori (in litri)\n",
    "misurazioni = [2.05, 2.04, 1.98, 1.96, 2.03, 2.01, 1.97, 1.99, 2.01, 2.05,\n",
    "               1.96, 1.95, 2.04, 2.01, 1.97, 1.96, 2.02, 2.04, 1.98, 1.94]\n",
    "# Se la deviazione standard fosse superiore a 0.05 litri, la proporzione i bottiglie sotto o sovrariempite\n",
    "# sarebbe non accettabile.\n",
    "\n",
    "# I dati del campione contengono prove che suggeriscono che il produttore abbia un problema con le bottiglie\n",
    "# riempite troppo o troppo poco? Utilizzare alpha = 0.05 e assumere che il volume di riempimento abbia una\n",
    "# distribuzione normale.\n",
    "import numpy as np\n",
    "from scipy.stats import chi2\n",
    "from scipy.stats import norm\n",
    "\n",
    "alpha = 0.05\n",
    "n = np.size (misurazioni)\n",
    "media = np.mean (misurazioni)\n",
    "devStandard = 0.05\n",
    "S = np.std(misurazioni, ddof = 1)\n",
    "\n",
    "W = (S **2) / (devStandard **2) * (n-1)\n",
    "print (\"Il valore di W è\", round(W, 3))\n",
    "\n",
    "chi_quadro = chi2.ppf(alpha, n-1)\n",
    "print (\"Il valore di chi² è\", round(chi_quadro, 3))\n",
    "\n",
    "# Il problema ci specifica \"riempite troppo o troppo poco\" => test bilatero\n",
    "if W < chi_quadro:\n",
    "    print (\"L'ipotesi può essere rigettata\")\n",
    "else:\n",
    "    print (\"L'ipotesi non può essere rigettata\")"
   ]
  }
 ],
 "metadata": {
  "kernelspec": {
   "display_name": "Python 3 (ipykernel)",
   "language": "python",
   "name": "python3"
  },
  "language_info": {
   "codemirror_mode": {
    "name": "ipython",
    "version": 3
   },
   "file_extension": ".py",
   "mimetype": "text/x-python",
   "name": "python",
   "nbconvert_exporter": "python",
   "pygments_lexer": "ipython3",
   "version": "3.12.7"
  }
 },
 "nbformat": 4,
 "nbformat_minor": 5
}
