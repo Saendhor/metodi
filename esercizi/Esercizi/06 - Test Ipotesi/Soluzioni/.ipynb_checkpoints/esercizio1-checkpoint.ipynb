{
 "cells": [
  {
   "cell_type": "code",
   "execution_count": 1,
   "id": "b06df94d-413d-4090-a140-79f3e2b04c57",
   "metadata": {},
   "outputs": [],
   "source": [
    "#le specifiche tecniche per la velocità di combustione di un proiettile richiedono che deve essere di 50cm/s.\n",
    "#Sappiamo che la deviazione standard è di 2cm/s.\n",
    "#Si effettuano 24 misurazioni:\n",
    "#51, 50.2, 49.5, 48.7, 50.2, 50.5, 49.6, 51.1, 50.6, 49.1, 53.1, 50.4, 49.3, 48.9, 50.3, 51.8, 51.3, 48.5, 49.3, 55.1, 53.1, 52.5, 55.1, 50.6"
   ]
  },
  {
   "cell_type": "code",
   "execution_count": 2,
   "id": "c56ab162-cc09-494e-81b9-21c1efcbc732",
   "metadata": {},
   "outputs": [],
   "source": [
    "#1: si può rigettare l'ipotesi nulla con un livello di significatività del 5%?"
   ]
  },
  {
   "cell_type": "code",
   "execution_count": 3,
   "id": "7844715a-661b-4489-a3a6-34ee32d54852",
   "metadata": {},
   "outputs": [
    {
     "name": "stdout",
     "output_type": "stream",
     "text": [
      "la variabile Z è:  2.020829037796111\n",
      "la phi è:  1.959963984540054\n",
      "l'ipotesi nulla può essere rigettata perchè Z0 non è uguale a phi.\n"
     ]
    }
   ],
   "source": [
    "import numpy as np\n",
    "from math import sqrt\n",
    "from scipy.stats import norm\n",
    "\n",
    "X = np.array([51, 50.2, 49.5, 48.7, 50.2, 50.5, 49.6, 51.1, 50.6, 49.1, 53.1, 50.4, 49.3, 48.9, \n",
    "              50.3, 51.8, 51.3, 48.5, 49.3, 55.1, 53.1, 52.5, 55.1, 50.6])\n",
    "n = X.size\n",
    "\n",
    "devSta1 = 2 #quindi la varianza è 4\n",
    "media = np.mean(X)\n",
    "\n",
    "#ipotesi nulla\n",
    "mu0 = 50\n",
    "\n",
    "#calcoliamo la variabile Z\n",
    "Z0 = ((media-mu0)/devSta1) * sqrt(n)\n",
    "\n",
    "print(\n",
    "    \"la variabile Z è: \",\n",
    "    Z0\n",
    ")\n",
    "\n",
    "#livello di significatività alpha del test: 5%\n",
    "alpha1 = 5/100\n",
    "\n",
    "#calcoliamo phi\n",
    "phi = norm.ppf(1-alpha1/2)\n",
    "\n",
    "print(\n",
    "    \"la phi è: \",\n",
    "    phi\n",
    ")\n",
    "\n",
    "if Z0 == phi:\n",
    "    print (\n",
    "        \"l'ipotesi nulla non può essere rigettata perchè Z0 coincide con phi.\"\n",
    "    )\n",
    "else:\n",
    "    print(\n",
    "        \"l'ipotesi nulla può essere rigettata perchè Z0 non è uguale a phi.\"\n",
    "    )\n",
    "\n"
   ]
  },
  {
   "cell_type": "code",
   "execution_count": 4,
   "id": "a376bbb0-a52c-4d47-b916-979923453ce1",
   "metadata": {},
   "outputs": [],
   "source": [
    "#2: e se invece si richiedesse l'1%?"
   ]
  },
  {
   "cell_type": "code",
   "execution_count": 5,
   "id": "e4bec4c0-5f2b-4265-8f82-30135b2681df",
   "metadata": {},
   "outputs": [
    {
     "name": "stdout",
     "output_type": "stream",
     "text": [
      "phi:  2.5758293035489004\n",
      "Z0:  2.020829037796111\n",
      "l'ipotesi nulla può essere rigettata perchè Z0 non coincide con phi.\n"
     ]
    }
   ],
   "source": [
    "import numpy as np\n",
    "from scipy.stats import norm\n",
    "from math import sqrt\n",
    "\n",
    "X = np.array([51, 50.2, 49.5, 48.7, 50.2, 50.5, 49.6, 51.1, 50.6, 49.1, 53.1, 50.4, 49.3, 48.9, \n",
    "              50.3, 51.8, 51.3, 48.5, 49.3, 55.1, 53.1, 52.5, 55.1, 50.6])\n",
    "n = X.size\n",
    "mu0 = 50\n",
    "alpha2 = 1/100\n",
    "\n",
    "media = np.mean(X)\n",
    "devSta2 = 2\n",
    "\n",
    "phi = norm.ppf(1-alpha2/2)\n",
    "print (\"phi: \", phi)\n",
    "print( \"Z0: \", Z0)\n",
    "Z0 = ((media - mu0 )/devSta2)*sqrt(n)\n",
    "\n",
    "if Z0 == phi:\n",
    "    print(\n",
    "        \"l'ipotesi nulla non può essere rigettata perchè Z0 e phi coincidono.\"\n",
    "    )\n",
    "else:\n",
    "    print(\n",
    "        \"l'ipotesi nulla può essere rigettata perchè Z0 non coincide con phi.\"\n",
    "    )"
   ]
  },
  {
   "cell_type": "code",
   "execution_count": 6,
   "id": "7a26f085-4d7d-4d5c-be1c-4694f2898278",
   "metadata": {},
   "outputs": [],
   "source": [
    "#3: calcolare il p-value"
   ]
  },
  {
   "cell_type": "code",
   "execution_count": 7,
   "id": "6c5c24ea-4811-419e-a793-b2128d98cd19",
   "metadata": {},
   "outputs": [
    {
     "name": "stdout",
     "output_type": "stream",
     "text": [
      "Il p-value è:  0.04329746577930438\n"
     ]
    }
   ],
   "source": [
    "import numpy as np\n",
    "from scipy.stats import norm\n",
    "from math import sqrt\n",
    "\n",
    "\n",
    "X = np.array([51, 50.2, 49.5, 48.7, 50.2, 50.5, 49.6, 51.1, 50.6, 49.1, 53.1, 50.4, 49.3, 48.9, \n",
    "              50.3, 51.8, 51.3, 48.5, 49.3, 55.1, 53.1, 52.5, 55.1, 50.6])\n",
    "\n",
    "n = X.size\n",
    "alpha = 5/100\n",
    "media = np.mean(X)\n",
    "mu0 = 50\n",
    "devStand = 2\n",
    " \n",
    "Z0 = ((media - mu0)/devStand)*sqrt(n)\n",
    "\n",
    "pVal = 2*(1-norm.cdf(np.abs(Z0)))\n",
    "\n",
    "print(\n",
    "    \"Il p-value è: \",\n",
    "    pVal\n",
    ")\n"
   ]
  },
  {
   "cell_type": "code",
   "execution_count": 8,
   "id": "108f9b73-be0e-4a9b-a529-1b9973b995b9",
   "metadata": {},
   "outputs": [],
   "source": [
    "#4: supponiamo che lo sperimentatore voglia impostare il test il modo che la reale velocità di combustione media differisca da 50cm/s \n",
    "#per al più 1cm/s.\n",
    "#si vuole inoltre che il test affermerà questo fatto (cioè rigetterà il H0 con media = 50) con una probabilità del 90% \n",
    "#e un livello di significatività del 5%.\n",
    "#Determinare la dimensione campionaria."
   ]
  },
  {
   "cell_type": "code",
   "execution_count": 9,
   "id": "f3278c89-3475-41b0-8a2c-b30f4e68755c",
   "metadata": {},
   "outputs": [
    {
     "name": "stdout",
     "output_type": "stream",
     "text": [
      "la dimensione campionaria è:  42.029692245762476\n"
     ]
    }
   ],
   "source": [
    "from scipy.stats import norm\n",
    "from math import sqrt\n",
    "import numpy as np\n",
    "\n",
    "alpha = 5/100\n",
    "beta = 10/100\n",
    "delta = 1\n",
    "X = np.array([51, 50.2, 49.5, 48.7, 50.2, 50.5, 49.6, 51.1, 50.6, 49.1, 53.1, 50.4, 49.3, 48.9, \n",
    "              50.3, 51.8, 51.3, 48.5, 49.3, 55.1, 53.1, 52.5, 55.1, 50.6])\n",
    "n = X.size\n",
    "devStand = 2\n",
    "\n",
    "phi = norm.ppf(1.0-alpha/2)\n",
    "\n",
    "dimensioneCampionaria = pow((phi + norm.ppf(1-beta)),2) * pow(devStand,2)/pow(delta,2)\n",
    "\n",
    "print(\n",
    "    \"la dimensione campionaria è: \",\n",
    "    dimensioneCampionaria\n",
    ")\n"
   ]
  },
  {
   "cell_type": "code",
   "execution_count": null,
   "id": "c16dbc5f-39f0-4d64-8b1a-1032bf3bc4ed",
   "metadata": {},
   "outputs": [],
   "source": []
  },
  {
   "cell_type": "code",
   "execution_count": null,
   "id": "e8d7ab56-7f9d-4450-86d6-517149bc0288",
   "metadata": {},
   "outputs": [],
   "source": []
  }
 ],
 "metadata": {
  "kernelspec": {
   "display_name": "Python 3 (ipykernel)",
   "language": "python",
   "name": "python3"
  },
  "language_info": {
   "codemirror_mode": {
    "name": "ipython",
    "version": 3
   },
   "file_extension": ".py",
   "mimetype": "text/x-python",
   "name": "python",
   "nbconvert_exporter": "python",
   "pygments_lexer": "ipython3",
   "version": "3.11.7"
  }
 },
 "nbformat": 4,
 "nbformat_minor": 5
}
