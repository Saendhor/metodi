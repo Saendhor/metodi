{
 "cells": [
  {
   "cell_type": "code",
   "execution_count": 1,
   "id": "2f3a3056-a95c-4f14-ba4d-70e8f080ba80",
   "metadata": {},
   "outputs": [],
   "source": [
    "#si vuole testare ad un livello di significatività alpha = 0.05 se il carico di rottura di un materiale supera 10MPa\n",
    "#tenendo presente che 22 prove hanno fornito i seguenti risultati:\n",
    "#19.8 18.5 17.6 16.7 15.8 15.4 14.1 13.6 11.9 11.4 11.4 8.8 7.5 15.4 15.4 19.5 14.9 12.7 11.9 11.4 10.1 7.9"
   ]
  },
  {
   "cell_type": "code",
   "execution_count": 2,
   "id": "1bce211e-abd3-4fc3-9cb0-22c1c3207fc3",
   "metadata": {},
   "outputs": [
    {
     "name": "stdout",
     "output_type": "stream",
     "text": [
      "variabile T:  4.901682101212391\n",
      "t:  2.079613844727662\n",
      "l'ipotesi può essere rigettata.\n"
     ]
    }
   ],
   "source": [
    "import numpy as np\n",
    "from math import sqrt\n",
    "from scipy.stats import t\n",
    "\n",
    "X = np.array([19.8,18.5,17.6, 16.7, 15.8, 15.4, 14.1, 13.6, 11.9, 11.4, 11.4, 8.8, 7.5, 15.4, 15.4, 19.5, 14.9, 12.7, 11.9, 11.4, 10.1, 7.9])\n",
    "n = X.size\n",
    "\n",
    "S = np.std(X, ddof=1)\n",
    "media = np.mean(X)\n",
    "miu0 = 10 \n",
    "\n",
    "#calcoliamo la variabile T\n",
    "T = (media-miu0)/S * sqrt(n)\n",
    "\n",
    "alpha = 0.05\n",
    "t = t.ppf(1-alpha/2, n-1)\n",
    "print(\n",
    "    \"variabile T: \",\n",
    "    T\n",
    ")\n",
    "print(\n",
    "    \"t: \",\n",
    "    t\n",
    ")\n",
    "\n",
    "if T > t:\n",
    "    print(\"l'ipotesi può essere rigettata.\")\n",
    "else:\n",
    "    print(\"l'ipotesi può essere accettata.\")\n",
    "    \n",
    "\n",
    "\n",
    "\n"
   ]
  },
  {
   "cell_type": "code",
   "execution_count": 3,
   "id": "9f9a8689-bc20-4d9a-97fe-edc73151c278",
   "metadata": {},
   "outputs": [],
   "source": [
    "#2: calcola il p-value"
   ]
  },
  {
   "cell_type": "code",
   "execution_count": 4,
   "id": "7deba5d3-3a87-41bf-8f55-10e043aa0269",
   "metadata": {},
   "outputs": [
    {
     "name": "stdout",
     "output_type": "stream",
     "text": [
      "il p-value è:  3.781272593450513e-05\n"
     ]
    }
   ],
   "source": [
    "import numpy as np\n",
    "from scipy.stats import t\n",
    "from math import sqrt\n",
    "\n",
    "X = np.array([19.8,18.5,17.6, 16.7, 15.8, 15.4, 14.1, 13.6, 11.9, 11.4, 11.4, 8.8, 7.5, 15.4, 15.4, \n",
    "              19.5, 14.9, 12.7, 11.9, 11.4, 10.1, 7.9])\n",
    "\n",
    "n = X.size\n",
    "media = np.mean(X)\n",
    "S = np.std(X, ddof=1) #deviazione standard\n",
    "miu0 = 10 \n",
    "\n",
    "#calcoliamo la variabile T0\n",
    "T0 = ((media-miu0)/S)*sqrt(n)\n",
    "\n",
    "\n",
    "pVal = 1-t.cdf(T0, n-1)\n",
    "\n",
    "print(\n",
    "    \"il p-value è: \",\n",
    "    pVal\n",
    ")"
   ]
  },
  {
   "cell_type": "code",
   "execution_count": null,
   "id": "02cacbf4-76b8-4afd-8654-ede4bfaf006f",
   "metadata": {},
   "outputs": [],
   "source": []
  },
  {
   "cell_type": "code",
   "execution_count": null,
   "id": "887a370f-9eb2-4534-ba2e-d9146b67ada3",
   "metadata": {},
   "outputs": [],
   "source": []
  }
 ],
 "metadata": {
  "kernelspec": {
   "display_name": "Python 3 (ipykernel)",
   "language": "python",
   "name": "python3"
  },
  "language_info": {
   "codemirror_mode": {
    "name": "ipython",
    "version": 3
   },
   "file_extension": ".py",
   "mimetype": "text/x-python",
   "name": "python",
   "nbconvert_exporter": "python",
   "pygments_lexer": "ipython3",
   "version": "3.11.7"
  }
 },
 "nbformat": 4,
 "nbformat_minor": 5
}
