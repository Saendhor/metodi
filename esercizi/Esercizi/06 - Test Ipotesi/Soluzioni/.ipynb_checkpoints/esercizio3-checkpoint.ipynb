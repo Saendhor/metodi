{
 "cells": [
  {
   "cell_type": "code",
   "execution_count": 1,
   "id": "be1c6c37-ac91-42c8-b6f4-59a44444cf05",
   "metadata": {},
   "outputs": [],
   "source": [
    "#un macchinario riempe automaticamente delle bottiglie.\n",
    "#da un campione di 20 si ottengono i seguenti valori(in litri)\n",
    "#2.05, 2.04, 1.98, 1.96, 2.03, 2.01, 1.97, 1.99, 2.01, 2.05, 1.96, 1.95, 2.04, 2.01, 1.97, 1.96, 2.02, 2.04, 1.98, 1.94\n",
    "#Se la deviazione standard fosse superiore a 0.05 litri la proporzione di bottiglie sotto o sovrariempite sarebbe non accettabile."
   ]
  },
  {
   "cell_type": "code",
   "execution_count": 2,
   "id": "8eee1e53-08d8-4e7d-b51b-753d6595066e",
   "metadata": {},
   "outputs": [],
   "source": [
    "#I dati del campione contengono prove che suggeriscono che il produttore abbia un problema con le bottiglie riempite\n",
    "#troppo o troppo poco?\n",
    "#Utilizzare alpha = 0.05 e assumere che il volume di riempimento abbia una distribuzione normale."
   ]
  },
  {
   "cell_type": "code",
   "execution_count": 3,
   "id": "d2dbfd22-8522-42ec-a2f2-3a99219c9a71",
   "metadata": {},
   "outputs": [
    {
     "name": "stdout",
     "output_type": "stream",
     "text": [
      "W:  9.967999999999988\n",
      "chi:  10.117013063859044\n",
      "l'ipotesi può essere rigettata.\n"
     ]
    }
   ],
   "source": [
    "from scipy.stats import norm\n",
    "import numpy as np\n",
    "from scipy.stats import chi2\n",
    "\n",
    "alpha = 0.05\n",
    "\n",
    "X = np.array([2.05, 2.04, 1.98, 1.96, 2.03, 2.01, 1.97, 1.99, 2.01, 2.05, 1.96, 1.95, 2.04, 2.01, 1.97, 1.96, 2.02, 2.04, 1.98, 1.94])\n",
    "n = X.size\n",
    "\n",
    "devStan0 = 0.05\n",
    "S = np.std(X, ddof=1)\n",
    "\n",
    "#calcoliamo la variabile W\n",
    "W = (pow(S,2)/pow(devStan0,2))*(n-1)\n",
    "print(\"W: \", W)\n",
    "\n",
    "#calcoliamo CHI --> usiamo il test unilaterale a sinistro perchè la deviazione standard non deve superare 0.05 \n",
    "chi = chi2.ppf(alpha, n-1)\n",
    "print(\"chi: \", chi)\n",
    "\n",
    "if W < chi:\n",
    "    print(\"l'ipotesi può essere rigettata.\")\n",
    "else:\n",
    "    print(\"l'ipotesi non può essere rigettata.\")"
   ]
  },
  {
   "cell_type": "code",
   "execution_count": null,
   "id": "2949514a-a2ae-47c4-b3ae-8495c7536a0f",
   "metadata": {},
   "outputs": [],
   "source": []
  },
  {
   "cell_type": "code",
   "execution_count": null,
   "id": "6502d63d-acf6-436f-9a02-5f7035f90d66",
   "metadata": {},
   "outputs": [],
   "source": []
  }
 ],
 "metadata": {
  "kernelspec": {
   "display_name": "Python 3 (ipykernel)",
   "language": "python",
   "name": "python3"
  },
  "language_info": {
   "codemirror_mode": {
    "name": "ipython",
    "version": 3
   },
   "file_extension": ".py",
   "mimetype": "text/x-python",
   "name": "python",
   "nbconvert_exporter": "python",
   "pygments_lexer": "ipython3",
   "version": "3.11.7"
  }
 },
 "nbformat": 4,
 "nbformat_minor": 5
}
