{
 "cells": [
  {
   "cell_type": "code",
   "execution_count": 1,
   "id": "315bac4d-2246-4536-ad6f-e180615db2b7",
   "metadata": {},
   "outputs": [],
   "source": [
    "#1: si vuole testare se un dado sia equilibrato o meno a un livello di significatività alpha = 0.05.\n",
    "#Si effettuano 100 lanci, registrando i risultati seguenti:\n",
    "#20, 7, 12, 18, 20, 23"
   ]
  },
  {
   "cell_type": "code",
   "execution_count": 2,
   "id": "ed6b1687-4f5e-4c39-bd5e-af5ab1cddd4d",
   "metadata": {},
   "outputs": [
    {
     "name": "stdout",
     "output_type": "stream",
     "text": [
      "T:  10.760000000000002\n",
      "chi:  11.070497693516351\n",
      "L'ipotesi non può essere rigettata.\n"
     ]
    }
   ],
   "source": [
    "from scipy.stats import chi2\n",
    "import numpy as np\n",
    "\n",
    "X = np.array([20, 7, 12, 18, 20, 23])\n",
    "\n",
    "\n",
    "#N = 100 #numero lanci\n",
    "N = np.sum(X)\n",
    "p = 1/6 #probabilità del singolo numero del dado\n",
    "\n",
    "E = np.ones(6)*p*N\n",
    "\n",
    "#calcoliamo la variabile T\n",
    "T = np.sum((X-E)**2./E)  #sum perchè nella formula c'è la sommatoria \n",
    "print(\"T: \", T)\n",
    "\n",
    "alpha = 0.05\n",
    "m = 6\n",
    "#calcoliamo chi\n",
    "chi = chi2.ppf(1.-alpha, m-1)\n",
    "print(\"chi: \", chi)\n",
    "\n",
    "if T > chi:\n",
    "    print(\"L'ipotesi può essere rigettata.\")\n",
    "else:\n",
    "    print(\"L'ipotesi non può essere rigettata.\")\n",
    "\n",
    "\n",
    "\n",
    "\n",
    "\n",
    "\n",
    "\n",
    "\n"
   ]
  },
  {
   "cell_type": "code",
   "execution_count": 3,
   "id": "bb06b34a-5796-4f3c-ac1d-68a5189a620b",
   "metadata": {},
   "outputs": [],
   "source": [
    "#2: dopo aver aumentanto la dimensione campionaria si registrano i risultati riportati in seguito:\n",
    "# 388, 322, 314, 316, 344, 316\n",
    "# Si ripeta il test di cui sopra con i nuovi dati"
   ]
  },
  {
   "cell_type": "code",
   "execution_count": 4,
   "id": "59e5c634-7138-489c-9206-4f5db0b0c237",
   "metadata": {},
   "outputs": [
    {
     "name": "stdout",
     "output_type": "stream",
     "text": [
      "T:  12.616000000000001\n",
      "chi:  11.070497693516351\n",
      "L'ipotesi può essere rigettata.\n"
     ]
    }
   ],
   "source": [
    "import numpy as np\n",
    "from scipy.stats import chi2\n",
    "\n",
    "X = np.array([388, 322, 314, 316, 344, 316])\n",
    "N = np.sum(X) \n",
    "p = 1/6\n",
    "\n",
    "E = np.ones(6)*p*N\n",
    "m = 6\n",
    "\n",
    "#calcolo la variabile T\n",
    "T = np.sum((pow( (X-E),2))/E)\n",
    "print(\"T: \", T)\n",
    "\n",
    "alpha = 0.05\n",
    "#calcoliamo chi\n",
    "chi = chi2.ppf(1-alpha, m-1)\n",
    "print(\"chi: \", chi)\n",
    "\n",
    "if T > chi:\n",
    "    print(\"L'ipotesi può essere rigettata.\")\n",
    "else:\n",
    "    print(\"L'ipotesi non può essere rigettata.\")\n",
    "\n"
   ]
  },
  {
   "cell_type": "code",
   "execution_count": 5,
   "id": "9bb7d1f1-2511-42d2-8ef1-601bfb91b8b8",
   "metadata": {},
   "outputs": [],
   "source": [
    "#3: si ripeta quest'ultimo test con alpha = 0.01"
   ]
  },
  {
   "cell_type": "code",
   "execution_count": 6,
   "id": "79de2e0a-5d35-40a7-8a00-419b4d1a6f1c",
   "metadata": {},
   "outputs": [
    {
     "name": "stdout",
     "output_type": "stream",
     "text": [
      "T:  12.616000000000001\n",
      "chi:  15.08627246938899\n",
      "L'ipotesi non può essere rigettata.\n"
     ]
    }
   ],
   "source": [
    "import numpy as np\n",
    "from scipy.stats import chi2\n",
    "\n",
    "X = np.array([388, 322, 314, 316, 344, 316])\n",
    "N = np.sum(X)\n",
    "p = 1/6\n",
    "m = 6\n",
    "E = np.ones(6)*p*N\n",
    "\n",
    "T = np.sum((pow((X-E),2))/ E)\n",
    "print(\"T: \", T)\n",
    "\n",
    "alpha = 0.01\n",
    "#calcoliamo chi\n",
    "chi = chi2.ppf(1-alpha, m-1)\n",
    "print(\"chi: \", chi)\n",
    "\n",
    "if T > chi:\n",
    "    print(\"L'ipotesi può essere rigettata.\")\n",
    "else:\n",
    "    print(\"L'ipotesi non può essere rigettata.\")\n"
   ]
  },
  {
   "cell_type": "code",
   "execution_count": null,
   "id": "e45abac8-aade-45cd-87fd-dd60547158dc",
   "metadata": {},
   "outputs": [],
   "source": []
  },
  {
   "cell_type": "code",
   "execution_count": null,
   "id": "9b07b098-741f-4dcf-866d-8810cd6a898b",
   "metadata": {},
   "outputs": [],
   "source": []
  }
 ],
 "metadata": {
  "kernelspec": {
   "display_name": "Python 3 (ipykernel)",
   "language": "python",
   "name": "python3"
  },
  "language_info": {
   "codemirror_mode": {
    "name": "ipython",
    "version": 3
   },
   "file_extension": ".py",
   "mimetype": "text/x-python",
   "name": "python",
   "nbconvert_exporter": "python",
   "pygments_lexer": "ipython3",
   "version": "3.11.7"
  }
 },
 "nbformat": 4,
 "nbformat_minor": 5
}
