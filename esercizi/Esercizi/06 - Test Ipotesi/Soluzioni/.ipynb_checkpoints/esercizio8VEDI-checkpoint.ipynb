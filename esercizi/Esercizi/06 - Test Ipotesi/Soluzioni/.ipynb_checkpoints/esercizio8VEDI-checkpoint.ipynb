{
 "cells": [
  {
   "cell_type": "code",
   "execution_count": 1,
   "id": "2ef5b6b5-48fb-43d1-a4b4-b5742a1f6255",
   "metadata": {},
   "outputs": [],
   "source": [
    "#si può adattare una distribuzione di Poisson ai dati della seguente tabella\n",
    "#584, 398, 165, 35, 15\n"
   ]
  },
  {
   "cell_type": "code",
   "execution_count": 2,
   "id": "ca0b21de-1c85-4115-be3a-bf0f6a86457b",
   "metadata": {},
   "outputs": [
    {
     "name": "stdout",
     "output_type": "stream",
     "text": [
      "T:  7.6054880723053175\n",
      "chi:  7.814727903251179\n"
     ]
    }
   ],
   "source": [
    "import numpy as np\n",
    "from scipy.stats import poisson\n",
    "from scipy.stats import chi2\n",
    "\n",
    "X = np.array([584, 398, 165, 35, 15])\n",
    "m = X.size\n",
    "N = np.sum(X)\n",
    "\n",
    "p = X/N\n",
    "X_n = X * np.array([0, 1, 2, 3, 4])\n",
    "lam = sum(X_n)/N\n",
    "\n",
    "p0 = np.zeros(5) #creiamo un array contenente soli zeri\n",
    "\n",
    "for i in range(4):\n",
    "    p0[i] = poisson.pmf(i,lam)\n",
    "p0[4] = 1 - np.sum(p0)\n",
    "\n",
    "T = N * np.sum(pow((p-p0),2)/p0)\n",
    "print(\"T: \",T)\n",
    "\n",
    "alpha = 0.05\n",
    "chi = chi2.ppf(1-alpha, m-1-1)\n",
    "print(\"chi: \", chi)"
   ]
  },
  {
   "cell_type": "code",
   "execution_count": null,
   "id": "a89ee143-731d-4801-9111-d4e2deda2430",
   "metadata": {},
   "outputs": [],
   "source": [
    "\n"
   ]
  },
  {
   "cell_type": "code",
   "execution_count": null,
   "id": "570f8126-42a8-494a-9c36-18fa0cebd40f",
   "metadata": {},
   "outputs": [],
   "source": []
  }
 ],
 "metadata": {
  "kernelspec": {
   "display_name": "Python 3 (ipykernel)",
   "language": "python",
   "name": "python3"
  },
  "language_info": {
   "codemirror_mode": {
    "name": "ipython",
    "version": 3
   },
   "file_extension": ".py",
   "mimetype": "text/x-python",
   "name": "python",
   "nbconvert_exporter": "python",
   "pygments_lexer": "ipython3",
   "version": "3.11.7"
  }
 },
 "nbformat": 4,
 "nbformat_minor": 5
}
