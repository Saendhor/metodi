{
 "cells": [
  {
   "cell_type": "code",
   "execution_count": 1,
   "id": "1851a88a-c2d7-4d7b-bcdb-dec5f1294305",
   "metadata": {},
   "outputs": [],
   "source": [
    "#Quindici adulti di età compresa tra 35 e 50 anni partecipano a uno studio per valutare gli effetti di dieta alimentare ed esercizio fisico sui \n",
    "#livello di colesterolo nel sangue.\n",
    "#In ogni individuo il livello di colesterolo è stato misurato inizialmente e tre mesi dopo la dieta e l'allenamento."
   ]
  },
  {
   "cell_type": "code",
   "execution_count": 2,
   "id": "18bbc5fa-8f7f-49bf-9408-bd25933b3cba",
   "metadata": {},
   "outputs": [],
   "source": [
    "#1: con un livello di significatività alpha = 0.05, è possibile avvallare l'ipotesi che dieta ed esercizio fisico portino a \n",
    "#ridurre il valore medio di colesterolo?"
   ]
  },
  {
   "cell_type": "code",
   "execution_count": 3,
   "id": "61c70dda-0dda-4ccd-b905-96543c2df2a5",
   "metadata": {},
   "outputs": [],
   "source": [
    "#vedi slide per la tabella con i valori"
   ]
  },
  {
   "cell_type": "code",
   "execution_count": 4,
   "id": "d4ddbce2-6af0-494f-8262-fbf14e83244c",
   "metadata": {},
   "outputs": [
    {
     "name": "stdout",
     "output_type": "stream",
     "text": [
      "T0:  7.729913132685699\n",
      "t:  1.6991270265334972\n",
      "La tesi si può rigettare.\n"
     ]
    }
   ],
   "source": [
    "import numpy as np\n",
    "from scipy.stats import t\n",
    "from math import sqrt\n",
    "\n",
    "X = np.array([[265, 240, 258, 295, 251, 245, 287, 314, 260, 279, 283, 240, 238, 225, 247],\n",
    "             [229, 231, 227, 240, 238, 241, 234, 256, 247, 239, 246, 218, 219, 226, 233]])\n",
    "\n",
    "n = X.size\n",
    "D = X[0,:] - X[1,:]\n",
    " \n",
    "D_mean = np.mean(D) #media campionaria\n",
    "S = np.std(D, ddof = 1) #deviazione Standard empirica\n",
    "\n",
    "#calcoliamo la variabile T0\n",
    "T0 = (D_mean / S) * sqrt(n)\n",
    "print(\"T0: \",T0)\n",
    "\n",
    "alpha = 0.05\n",
    "\n",
    "#calcoliamo t\n",
    "t = t.ppf(1-alpha, n-1) #test unilaterale a destra\n",
    "print(\"t: \", t)\n",
    "\n",
    "if T0 > t:\n",
    "    print(\"La tesi si può rigettare.\")\n",
    "else:\n",
    "    print(\"La tesi non può essere rigettata.\")\n",
    "\n",
    "\n"
   ]
  },
  {
   "cell_type": "code",
   "execution_count": null,
   "id": "cf416794-6967-4fae-830a-e1a19cd01395",
   "metadata": {},
   "outputs": [],
   "source": []
  }
 ],
 "metadata": {
  "kernelspec": {
   "display_name": "Python 3 (ipykernel)",
   "language": "python",
   "name": "python3"
  },
  "language_info": {
   "codemirror_mode": {
    "name": "ipython",
    "version": 3
   },
   "file_extension": ".py",
   "mimetype": "text/x-python",
   "name": "python",
   "nbconvert_exporter": "python",
   "pygments_lexer": "ipython3",
   "version": "3.12.7"
  }
 },
 "nbformat": 4,
 "nbformat_minor": 5
}
