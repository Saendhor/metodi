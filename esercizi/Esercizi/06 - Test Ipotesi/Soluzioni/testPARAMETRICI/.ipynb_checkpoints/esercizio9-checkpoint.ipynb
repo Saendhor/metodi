{
 "cells": [
  {
   "cell_type": "code",
   "execution_count": 1,
   "id": "c00fa917-845c-4d77-9da0-658a9dc915b5",
   "metadata": {},
   "outputs": [],
   "source": [
    "#Si vuole testare se un antibiotico è efficace.\n",
    "#Si considerano 170 pazienti.\n",
    "#I seguenti dati sono stati raccolti nella tabella di contigenza:\n",
    "# pazienti non trattati: guariti -> 44 ; non guariti -> 10 >>> totali: 54\n",
    "# pazienti trattati:     guariti -> 81 ; non guariti -> 35 >>> totali 116\n",
    "#totali ----->                      125;                45"
   ]
  },
  {
   "cell_type": "code",
   "execution_count": 2,
   "id": "159faa17-a441-4996-93eb-66d1c45806cb",
   "metadata": {},
   "outputs": [],
   "source": [
    "#1: i due effetti, trattamento e guarigione sono indipendenti? Si consideri alpha = 0.05"
   ]
  },
  {
   "cell_type": "code",
   "execution_count": 3,
   "id": "01684877-f78d-45e5-b641-a55f01fab9ee",
   "metadata": {},
   "outputs": [
    {
     "name": "stdout",
     "output_type": "stream",
     "text": [
      "T:  3.0175117739708286\n",
      "chi:  3.841458820694124\n",
      "Non si può rigettare l'ipotesi nulla perchè le guarigione e trattamento sono indipendenti.\n"
     ]
    }
   ],
   "source": [
    "import numpy as np\n",
    "from scipy.stats import chi2\n",
    "\n",
    "X = np.array([[44,10],[81,35]])\n",
    "n = 125 + 45\n",
    "\n",
    "#probabilità empiriche del trattamento -> p\n",
    "trattamento = np.array([54, 116])\n",
    "p = trattamento / n\n",
    "\n",
    "#probabilità empiriche della guarigione -> q\n",
    "guarigione = np.array([125, 45])\n",
    "q = guarigione / n\n",
    "#q = np.array([125., 45.]) / n\n",
    "\n",
    "#probabilità empirica congiunta\n",
    "PI = X / n\n",
    "print (\"Questo è come appare PI\", PI)\n",
    "\n",
    "#calcoliamo la variabile T\n",
    "T = 0\n",
    "\n",
    "for h in range(2):\n",
    "    for k in range(2):\n",
    "        T = T + pow(((p[h]*q[k]) - PI[h][k]),2) / PI[h][k]\n",
    "T = n * T\n",
    "print(\"T: \", T)\n",
    "\n",
    "\n",
    "m = 2\n",
    "r = 2\n",
    "alpha = 0.05\n",
    "#calcoliamo chi\n",
    "chi = chi2.ppf(1-alpha, (m-1)*(r-1))\n",
    "print(\"chi: \", chi)\n",
    "\n",
    "if T > chi and T < chi:\n",
    "    print(\"Guarigione e trattamento non sono indipendenti, quindi l'ipotesi può essere accettata.\")\n",
    "else:\n",
    "    print(\"Non si può rigettare l'ipotesi nulla perchè le guarigione e trattamento sono indipendenti.\")\n",
    "        "
   ]
  },
  {
   "cell_type": "code",
   "execution_count": null,
   "id": "1f893739-75c4-4bde-aa98-5893cc4b505c",
   "metadata": {},
   "outputs": [],
   "source": []
  },
  {
   "cell_type": "code",
   "execution_count": null,
   "id": "ec18f698-6a88-479a-b88e-b524f92fe4f0",
   "metadata": {},
   "outputs": [],
   "source": []
  }
 ],
 "metadata": {
  "kernelspec": {
   "display_name": "Python 3 (ipykernel)",
   "language": "python",
   "name": "python3"
  },
  "language_info": {
   "codemirror_mode": {
    "name": "ipython",
    "version": 3
   },
   "file_extension": ".py",
   "mimetype": "text/x-python",
   "name": "python",
   "nbconvert_exporter": "python",
   "pygments_lexer": "ipython3",
   "version": "3.12.7"
  }
 },
 "nbformat": 4,
 "nbformat_minor": 5
}
