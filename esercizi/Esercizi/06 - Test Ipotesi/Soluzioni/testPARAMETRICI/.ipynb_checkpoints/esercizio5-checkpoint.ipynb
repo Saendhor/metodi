{
 "cells": [
  {
   "cell_type": "code",
   "execution_count": 1,
   "id": "788d90b5-ce83-431c-83c0-2a40f9cf9ace",
   "metadata": {},
   "outputs": [],
   "source": [
    "#si vogliono confrontare due tipi di preparati per pittura. Ci si aspetta un diverso tempo di essiccamento.\n",
    "#Si può supporre che la deviazione Standard del tempo di essiccamento per ciascun tipo di essiccamento sia 8 minuti.\n",
    "#10 pareti vengono tinteggiate con il trattamento 1 e altrettante pareti con il trattamento 2.\n",
    "#Si rilevano le medie campionarie X = 121 minuti e Y = 112 minuti."
   ]
  },
  {
   "cell_type": "code",
   "execution_count": 2,
   "id": "e764fc97-e6ad-49d1-80fe-35add72b9de6",
   "metadata": {},
   "outputs": [],
   "source": [
    "#1: Si può trarre la conclusione che il tempo di essiccamento del campione 1 sia maggiore del campione 2 assumendo alpha = 0.05?"
   ]
  },
  {
   "cell_type": "code",
   "execution_count": 3,
   "id": "cb79402a-e65a-4032-87fc-50afc6948588",
   "metadata": {},
   "outputs": [
    {
     "name": "stdout",
     "output_type": "stream",
     "text": [
      "Z0:  2.5155764746872635\n",
      "phi:  1.6448536269514722\n",
      "L'ipotesi può essere rigettata.\n"
     ]
    }
   ],
   "source": [
    "from math import sqrt\n",
    "from scipy.stats import norm\n",
    "\n",
    "alpha = 0.05\n",
    "mediaX = 121\n",
    "mediaY = 112 \n",
    "devStand = 8\n",
    "\n",
    "#campioni: 10 pareti con trattamento di tipo 1 e 10 pareti con trattamento di tipo 2\n",
    "n = 10\n",
    "m = 10\n",
    "\n",
    "#calcoliamo la variabile Z0\n",
    "Z0 = (mediaX-mediaY) / sqrt(((pow(devStand,2))/n) + ((pow(devStand,2))/m))\n",
    "print(\"Z0: \",Z0)\n",
    "\n",
    "#calcoliamo PHI\n",
    "phi = norm.ppf(1-alpha) #test unilaterale a destra\n",
    "print(\"phi: \",phi)\n",
    "\n",
    "if Z0 > phi:\n",
    "    print(\"L'ipotesi può essere rigettata.\")\n",
    "else:\n",
    "    print(\"L'ipotesi non può essere rigettata.\")\n",
    "\n"
   ]
  },
  {
   "cell_type": "code",
   "execution_count": 4,
   "id": "7baaafa6-3d39-4613-b136-218d574cc605",
   "metadata": {},
   "outputs": [],
   "source": [
    "#2: calcolare l'intervallo di confidenza per la differenza dei tempi medi di essiccamento."
   ]
  },
  {
   "cell_type": "code",
   "execution_count": 5,
   "id": "27d2351d-e420-4dca-80c9-18fc2f538ac6",
   "metadata": {},
   "outputs": [
    {
     "name": "stdout",
     "output_type": "stream",
     "text": [
      "L'intervallo di confidenza è:  3.115192763359085\n"
     ]
    }
   ],
   "source": [
    "from math import sqrt\n",
    "from scipy.stats import norm\n",
    "\n",
    "mediaX = 121\n",
    "mediaY = 112\n",
    "\n",
    "n = 10\n",
    "m = 10\n",
    "\n",
    "devStand = 8 #è uguale per entrambi\n",
    "\n",
    "#calcoliamo PHI\n",
    "phi = norm.ppf(1-alpha)\n",
    "\n",
    "intervalloConfidenza = mediaX - mediaY - phi * sqrt(((pow(devStand,2))/n) + ((pow(devStand,2))/m))\n",
    "\n",
    "print(\n",
    "    \"L'intervallo di confidenza è: \",\n",
    "    intervalloConfidenza\n",
    ")\n"
   ]
  },
  {
   "cell_type": "code",
   "execution_count": null,
   "id": "d50b5c5d-ccf6-46d5-b540-9c1d6911b486",
   "metadata": {},
   "outputs": [],
   "source": []
  },
  {
   "cell_type": "code",
   "execution_count": null,
   "id": "6449a8f7-24e5-44ed-93b4-f09f143570d6",
   "metadata": {},
   "outputs": [],
   "source": []
  }
 ],
 "metadata": {
  "kernelspec": {
   "display_name": "Python 3 (ipykernel)",
   "language": "python",
   "name": "python3"
  },
  "language_info": {
   "codemirror_mode": {
    "name": "ipython",
    "version": 3
   },
   "file_extension": ".py",
   "mimetype": "text/x-python",
   "name": "python",
   "nbconvert_exporter": "python",
   "pygments_lexer": "ipython3",
   "version": "3.11.7"
  }
 },
 "nbformat": 4,
 "nbformat_minor": 5
}
