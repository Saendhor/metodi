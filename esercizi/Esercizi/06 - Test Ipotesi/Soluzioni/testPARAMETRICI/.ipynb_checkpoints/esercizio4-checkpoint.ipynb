{
 "cells": [
  {
   "cell_type": "code",
   "execution_count": 1,
   "id": "72a38127-910f-494f-9ca0-c3d3d3982776",
   "metadata": {},
   "outputs": [],
   "source": [
    "#In una catena di produzione si vuole mantenere il numero di pezzi difettosi al di sotto del 5%.\n",
    "#Si analizza un campione di 200 pezzi e si trovano 4 pezzi difettosi."
   ]
  },
  {
   "cell_type": "code",
   "execution_count": 2,
   "id": "e167596c-2d35-4b98-89a6-80ff35e1f00f",
   "metadata": {},
   "outputs": [],
   "source": [
    "#1: si può asserire ad un livello di significatività alpha = 0.05 che la produzione rispetta le aspettative?"
   ]
  },
  {
   "cell_type": "code",
   "execution_count": 3,
   "id": "07389804-c297-4c95-b37b-853d7a2e4db6",
   "metadata": {},
   "outputs": [
    {
     "name": "stdout",
     "output_type": "stream",
     "text": [
      "Z0:  -1.946657053569151\n",
      "phi:  -1.6448536269514729\n",
      "L'ipotesi deve essere rigettata.\n"
     ]
    }
   ],
   "source": [
    "import numpy as np\n",
    "from scipy.stats import norm\n",
    "from math import sqrt\n",
    "\n",
    "p0 = 5/100 #valore che non si deve superare\n",
    "n = 200\n",
    "p = 4/n #4 pezzi difettosi su 200\n",
    "alpha = 0.05\n",
    "\n",
    "#calcoliamo la variabile Z0\n",
    "Z0 = ((p-p0)/sqrt((p0*(1-p0))))*sqrt(n)\n",
    "print(\"Z0: \", Z0)\n",
    "\n",
    "#calcoliamo PHI\n",
    "phi = norm.ppf(alpha) #usiamo il test unilaterale a sinistra perchè si vuole mantenere il valore AL DI SOTTO del 5%\n",
    "print(\"phi: \", phi)\n",
    "\n",
    "if Z0 < phi:\n",
    "    print(\"L'ipotesi deve essere rigettata.\")\n",
    "else:\n",
    "    print(\"L'ipotesi non può essere rigettata.\")"
   ]
  },
  {
   "cell_type": "code",
   "execution_count": 4,
   "id": "e79cf2f0-afc5-4a11-9578-83ff8c792a94",
   "metadata": {},
   "outputs": [],
   "source": [
    "#2: supponendo che il valore vero sia p* = 0.03 e supponendo che il costruttore voglia accettare un \n",
    "#valore dell'errore di secondo tipo beta = 0.1.\n",
    "#Quale ampiezza dovrebbe avere il campione?"
   ]
  },
  {
   "cell_type": "code",
   "execution_count": 5,
   "id": "f8f85069-c2d3-48c4-9ebb-7caa633da698",
   "metadata": {},
   "outputs": [
    {
     "name": "stdout",
     "output_type": "stream",
     "text": [
      "L'ampiezza del campione dovrebbe essere:  832.6221546780524\n"
     ]
    }
   ],
   "source": [
    "from math import sqrt\n",
    "from scipy.stats import norm\n",
    "\n",
    "alpha = 0.05\n",
    "pTrue = 0.03\n",
    "beta = 0.1\n",
    "p0 = 5/100\n",
    "\n",
    "#calcoliamo PHI_BETA e PHI_ALPHA\n",
    "phi_beta = norm.ppf(beta)\n",
    "phi_alpha = norm.ppf(alpha)\n",
    "\n",
    "ampiezzaCampione = pow((((phi_beta)*(sqrt((pTrue*(1-pTrue))))) + ((phi_alpha)*(sqrt((p0*(1-p0)))))) / (p0-pTrue) , 2)\n",
    "\n",
    "print(\n",
    "    \"L'ampiezza del campione dovrebbe essere: \",\n",
    "    ampiezzaCampione\n",
    ")\n"
   ]
  },
  {
   "cell_type": "code",
   "execution_count": null,
   "id": "5563779b-eeed-4fdb-8fe3-dab99ff7effa",
   "metadata": {},
   "outputs": [],
   "source": []
  },
  {
   "cell_type": "code",
   "execution_count": null,
   "id": "6bf50e83-b444-46bc-b8d4-616e033d9e12",
   "metadata": {},
   "outputs": [],
   "source": []
  }
 ],
 "metadata": {
  "kernelspec": {
   "display_name": "Python 3 (ipykernel)",
   "language": "python",
   "name": "python3"
  },
  "language_info": {
   "codemirror_mode": {
    "name": "ipython",
    "version": 3
   },
   "file_extension": ".py",
   "mimetype": "text/x-python",
   "name": "python",
   "nbconvert_exporter": "python",
   "pygments_lexer": "ipython3",
   "version": "3.12.7"
  }
 },
 "nbformat": 4,
 "nbformat_minor": 5
}
