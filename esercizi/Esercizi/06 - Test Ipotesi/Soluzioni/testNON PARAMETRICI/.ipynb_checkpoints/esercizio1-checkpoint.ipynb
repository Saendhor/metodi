{
 "cells": [
  {
   "cell_type": "code",
   "execution_count": 1,
   "id": "47feeba6-e2e9-4501-967f-2afad01c83e0",
   "metadata": {},
   "outputs": [],
   "source": [
    "#un motore a reazione è formato legando insieme un propellente in accensione e propellente di sostegno \n",
    "#all'interno di un alloggiamento metallico.\n",
    "#La resistenza al taglio del legame tra due tipi di propellente è una caratteristica importante."
   ]
  },
  {
   "cell_type": "code",
   "execution_count": 2,
   "id": "89ef72a2-a529-4d6f-99c8-833aa3ff4855",
   "metadata": {},
   "outputs": [],
   "source": [
    "#1: vogliamo testare l'ipotesi che la mediana della resistenza al taglio sia 2000 psi con una significatività alpha = 0.05.\n",
    "#I dati sono riportati nel file Dataset_motore.dat."
   ]
  },
  {
   "cell_type": "code",
   "execution_count": 3,
   "id": "8cde7bed-60de-45f5-9cb7-f0520789c433",
   "metadata": {},
   "outputs": [
    {
     "name": "stdout",
     "output_type": "stream",
     "text": [
      "X:  [2158.7  1678.15 2316.   2061.3  2207.5  1708.3  1784.7  2575.1  2357.9\n",
      " 2256.7  2165.2  2399.55 1779.8  2336.75 1765.3  2053.5  2414.4  2200.5\n",
      " 2654.2  1753.7 ]\n",
      "D:  [ 158.7  -321.85  316.     61.3   207.5  -291.7  -215.3   575.1   357.9\n",
      "  256.7   165.2   399.55 -220.2   336.75 -234.7    53.5   414.4   200.5\n",
      "  654.2  -246.3 ]\n",
      "r+:  14\n",
      "n/2:  10.0\n",
      "pValue:  0.11531829833984372\n",
      "L'ipotesi nulla non si può rigettare.\n"
     ]
    }
   ],
   "source": [
    "import numpy as np\n",
    "from scipy.stats import binom\n",
    "\n",
    "X = np.loadtxt(\"Dataset_motore.dat\")\n",
    "print(\"X: \", X)\n",
    "n = X.size\n",
    "\n",
    "\n",
    "mediana = 2000\n",
    "alpha = 0.05\n",
    "\n",
    "#calcoliamo le differenze\n",
    "D = X-mediana\n",
    "print(\"D: \", D)\n",
    "\n",
    "#calciamo il numero di differenze positive ottenute dalle osservazioni --> r+\n",
    "#per farlo--> 3 passi\n",
    "#passo1: creiamo un array di booleani: true se la condizione D>0 è vera\n",
    "rPiu = D > 0\n",
    "#passo2: convertiamo i booleani in interi --> quindi in valoli 0 e 1\n",
    "rPiu = rPiu.astype(int)\n",
    "#passo3: facciamo la somma dei valori che sono maggiori positivi quindi >0\n",
    "rPiu = np.sum(rPiu) #Numero di DIFFERENZE POSITIVE osservate\n",
    "print(\"r+: \", rPiu)\n",
    "\n",
    "#calcoliamo n/2\n",
    "nMezzi = n/2\n",
    "print(\"n/2: \", nMezzi)\n",
    "\n",
    "#poichè r+ e maggiore di n/2 allora il pValue = 2*P(R+ >= r+), con R+ che segue B(n,1/2) --> TEST BILATERALE\n",
    "\n",
    "k = range(rPiu, n+1) #numero di successi\n",
    "Y = binom.pmf(k, n, 1/2)\n",
    "\n",
    "#calcoliamo pValue\n",
    "pValue = 2 * np.sum(Y)\n",
    "print(\"pValue: \", pValue)\n",
    "\n",
    "if pValue <= alpha:\n",
    "    print(\"L'ipotesi nulla si deve rigettare.\")\n",
    "else:\n",
    "    print(\"L'ipotesi nulla non si può rigettare.\")\n"
   ]
  },
  {
   "cell_type": "code",
   "execution_count": null,
   "id": "21487fa4-592c-4559-aba8-d024075f7c0d",
   "metadata": {},
   "outputs": [],
   "source": []
  },
  {
   "cell_type": "code",
   "execution_count": null,
   "id": "a76e2751-ea15-4f7b-8b3e-7e6a3dc5ac8c",
   "metadata": {},
   "outputs": [],
   "source": []
  }
 ],
 "metadata": {
  "kernelspec": {
   "display_name": "Python 3 (ipykernel)",
   "language": "python",
   "name": "python3"
  },
  "language_info": {
   "codemirror_mode": {
    "name": "ipython",
    "version": 3
   },
   "file_extension": ".py",
   "mimetype": "text/x-python",
   "name": "python",
   "nbconvert_exporter": "python",
   "pygments_lexer": "ipython3",
   "version": "3.11.7"
  }
 },
 "nbformat": 4,
 "nbformat_minor": 5
}
