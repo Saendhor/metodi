{
 "cells": [
  {
   "cell_type": "code",
   "execution_count": 1,
   "id": "96b12dfd-15ce-47df-b92e-55dbcb80dd71",
   "metadata": {},
   "outputs": [],
   "source": [
    "#in un esperimento si confrontano quattro diverse tecniche di mescolamento per il cemento e si misura la resistenza alla trazione."
   ]
  },
  {
   "cell_type": "code",
   "execution_count": 2,
   "id": "f54a8050-1569-4f30-8f25-15fcd0e1772c",
   "metadata": {},
   "outputs": [],
   "source": [
    "#1: si può affermare che la tecnica di mescolamento influisca sulla resistenza alla trazione?\n",
    "#Si usa alpha = 0.05"
   ]
  },
  {
   "cell_type": "code",
   "execution_count": 3,
   "id": "931c3274-378d-4cb8-95ba-2f63b52658b4",
   "metadata": {},
   "outputs": [],
   "source": [
    "#per i dati guardare slide"
   ]
  },
  {
   "cell_type": "code",
   "execution_count": 4,
   "id": "dc2d4924-06bd-4f5b-8345-047c82196a1d",
   "metadata": {},
   "outputs": [
    {
     "name": "stdout",
     "output_type": "stream",
     "text": [
      "n:  [4 4 4 4]\n",
      "N:  16\n",
      "Y:  [3129 3000 2865 2890 3200 3000 2975 3150 2800 2900 2985 3050 2600 2700\n",
      " 2600 2765]\n",
      "R:  [14.  11.5  6.   7.  16.  11.5  9.  15.   5.   8.  10.  13.   1.5  3.\n",
      "  1.5  4. ]\n",
      "S:  22.6\n",
      "RR:  [38.5 51.5 36.  10. ]\n",
      "H:  10.027654867256636\n",
      "chi:  0.35184631774927144\n",
      "La tesi nulla si può rigettare.\n"
     ]
    }
   ],
   "source": [
    "import numpy as np\n",
    "from scipy.stats import rankdata\n",
    "from scipy.stats import chi2\n",
    "\n",
    "X1 = np.array([3129,3000, 2865, 2890])\n",
    "X2 = np.array([3200, 3000, 2975, 3150])\n",
    "X3 = np.array([2800, 2900, 2985, 3050])\n",
    "X4 = np.array([2600, 2700, 2600, 2765])\n",
    "\n",
    "alpha = 0.05\n",
    "n = np.array([X1.size, X2.size, X3.size, X4.size]) #crea un array che contiene le dimensioni dei singoli array\n",
    "print(\"n: \" , n)\n",
    "m = 4 #numero dei campioni\n",
    "\n",
    "N = np.sum(n) #numero totale di osservazioni\n",
    "print(\"N: \" , N)\n",
    "\n",
    "Y = np.concatenate([X1, X2, X3, X4]) #fa una concatenazione dei quattro array\n",
    "print(\"Y: \", Y)\n",
    "\n",
    "R = rankdata(Y) #assegniamo il rango ai dati\n",
    "print(\"R: \", R)\n",
    "\n",
    "S2 = (np.sum(R**2) - N*(N+1)**2 / 4) / (N-1)\n",
    "print(\"S: \", S2)\n",
    "\n",
    "RR = np.zeros(m)\n",
    "for i in range(m):\n",
    "    RR[i] = np.sum(R[m*i:m*(i+1)])\n",
    "\n",
    "print(\"RR: \", RR)\n",
    "\n",
    "#calcoliamo H\n",
    "H = (np.sum(pow(RR,2)/n)- N*(pow(N+1,2))/4) /S2\n",
    "print(\"H: \", H)\n",
    "\n",
    "#calcoliamo chi\n",
    "chi = chi2.ppf(alpha, m-1)\n",
    "print(\"chi: \", chi)\n",
    "\n",
    "if H > chi:\n",
    "    print(\"La tesi nulla si può rigettare.\")\n",
    "else:\n",
    "    print(\"La tesi nulla non si può rigettare.\")\n",
    "    \n",
    "\n"
   ]
  },
  {
   "cell_type": "code",
   "execution_count": null,
   "id": "d4d7d9f5-7cf8-4818-92c5-cb1819217079",
   "metadata": {},
   "outputs": [],
   "source": []
  },
  {
   "cell_type": "code",
   "execution_count": null,
   "id": "5662a346-b7a2-4c9c-89b5-c22b35b5c19d",
   "metadata": {},
   "outputs": [],
   "source": []
  }
 ],
 "metadata": {
  "kernelspec": {
   "display_name": "Python 3 (ipykernel)",
   "language": "python",
   "name": "python3"
  },
  "language_info": {
   "codemirror_mode": {
    "name": "ipython",
    "version": 3
   },
   "file_extension": ".py",
   "mimetype": "text/x-python",
   "name": "python",
   "nbconvert_exporter": "python",
   "pygments_lexer": "ipython3",
   "version": "3.11.7"
  }
 },
 "nbformat": 4,
 "nbformat_minor": 5
}
