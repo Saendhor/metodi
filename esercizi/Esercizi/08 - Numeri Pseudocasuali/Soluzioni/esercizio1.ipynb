{
 "cells": [
  {
   "cell_type": "code",
   "execution_count": 1,
   "id": "51146c6e-e24c-45e6-b682-6a7670deea76",
   "metadata": {},
   "outputs": [],
   "source": [
    "#scrivere un algortimo per generare numeri pseudocasuali con distribuzione multinomiale B(1, 1/4, 1/2, 1/4).\n",
    "#Generare 2000 di questi numeri e costruire un istogramma verificando l'accordo con la distribuzione teorica di probabilità."
   ]
  },
  {
   "cell_type": "code",
   "execution_count": 2,
   "id": "fcf091b4-9e20-4842-a5fc-d33dc6e90d86",
   "metadata": {},
   "outputs": [],
   "source": [
    "import numpy as np\n",
    "\n",
    "#è la funzione che permette l'inversione della distribuzione cumulativa\n",
    "def rand_multi(p):\n",
    "    F = np.cumsum(p) #calcoliamo la somma cumulativa dell'array p\n",
    "    xi = np.random.rand() #genera numero casuale tra 0 e 1\n",
    "    X = np.nonzero(xi < F)[0][0] + 1 #creare un array booleno in cui si ha true se xi<F e false se xi>F \n",
    "                                     #si restituisce una tupla contenente gli indici i cui elementi sono veri (diversi da zero)\n",
    "                                     #seleziona il primo indice dalla tupla cioè il primo elemento true\n",
    "                                     #fa partire gli indici da 1 e non da 0\n",
    "    return X\n",
    "    print(\"X: \",X)"
   ]
  },
  {
   "cell_type": "code",
   "execution_count": 3,
   "id": "0aca5143-2649-45d9-9896-04ab0cbe7218",
   "metadata": {},
   "outputs": [
    {
     "name": "stdout",
     "output_type": "stream",
     "text": [
      "F:  [ 470. 1022.  508.]\n",
      "somma:  2000.0\n"
     ]
    }
   ],
   "source": [
    "p = np.array([1/4, 1/2, 1/4]) #non so perchè non si mette 1, se lo metti vengono 2000 0 0 \n",
    "m = p.size\n",
    "N = 2000 #numero di campioni da generare\n",
    "X = np.zeros(N) #array in cui inserire i campioni da generare --> è formato inizialmente da tutti zero\n",
    "\n",
    "#genera N campioni e li inserisce in X\n",
    "for i in range(N):\n",
    "    X[i]=rand_multi(p)\n",
    "\n",
    "F = np.zeros(m) #array usato per memorizzare le frequenze --> è formato inizialmente da tutti zero\n",
    "\n",
    "#contiamo le occorrenze delle categorie nei campioni \n",
    "for i in range(m):\n",
    "    F[i] = np.sum(X==i+1)\n",
    "\n",
    "print(\"F: \", F) #F contiene le frequenze osservate\n",
    "print(\"somma: \", np.sum(F)) #fa la somma delle frequenze"
   ]
  },
  {
   "cell_type": "code",
   "execution_count": 4,
   "id": "82cfc645-e4d6-4aa7-ba61-ddd1b251d6c8",
   "metadata": {},
   "outputs": [
    {
     "data": {
      "image/png": "[encoded data removed]",
      "text/plain": [
       "<Figure size 640x480 with 1 Axes>"
      ]
     },
     "metadata": {},
     "output_type": "display_data"
    }
   ],
   "source": [
    "import matplotlib.pyplot as plt\n",
    "\n",
    "x = np.arange(m)+1\n",
    "y = F/np.sum(F)\n",
    "plt.bar(x,y)\n",
    "plt.show()"
   ]
  },
  {
   "cell_type": "code",
   "execution_count": null,
   "id": "d0917366-19c0-4851-8aef-c5e9721c1c6d",
   "metadata": {},
   "outputs": [],
   "source": []
  }
 ],
 "metadata": {
  "kernelspec": {
   "display_name": "Python 3 (ipykernel)",
   "language": "python",
   "name": "python3"
  },
  "language_info": {
   "codemirror_mode": {
    "name": "ipython",
    "version": 3
   },
   "file_extension": ".py",
   "mimetype": "text/x-python",
   "name": "python",
   "nbconvert_exporter": "python",
   "pygments_lexer": "ipython3",
   "version": "3.12.7"
  }
 },
 "nbformat": 4,
 "nbformat_minor": 5
}
