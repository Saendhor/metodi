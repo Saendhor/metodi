{
 "cells": [
  {
   "cell_type": "code",
   "execution_count": 1,
   "id": "8d588352-6b12-4ed5-a0b1-c0dda5a926f7",
   "metadata": {},
   "outputs": [
    {
     "data": {
      "text/plain": [
       "array([ 459., 1022.,  519.])"
      ]
     },
     "metadata": {},
     "output_type": "display_data"
    },
    {
     "data": {
      "text/plain": [
       "2000.0"
      ]
     },
     "metadata": {},
     "output_type": "display_data"
    }
   ],
   "source": [
    "import numpy as np\n",
    "import matplotlib.pyplot as plt\n",
    "\n",
    "def rand_multi(p):\n",
    "    F = np.cumsum(p)\n",
    "    xi = np.random.rand()\n",
    "    X = np.nonzero(xi<F)[0][0]+1\n",
    "    return X\n",
    "\n",
    "p = np.array([1/4,1/2,1/4])\n",
    "\n",
    "N = 2000\n",
    "X = np.zeros(N)\n",
    "for i in range(N):\n",
    "    X[i] = rand_multi(p)\n",
    "\n",
    "\n",
    "m = p.size\n",
    "F = np.zeros(m)\n",
    "for i in range(m):\n",
    "    F[i] = np.sum(X==i+1)\n",
    "display(F)\n",
    "display(np.sum(F))"
   ]
  },
  {
   "cell_type": "code",
   "execution_count": 6,
   "id": "f0ba5873-5fdc-4f2f-a757-b34115db5998",
   "metadata": {},
   "outputs": [
    {
     "data": {
      "image/png": "[encoded data removed]",
      "text/plain": [
       "<Figure size 640x480 with 1 Axes>"
      ]
     },
     "metadata": {},
     "output_type": "display_data"
    }
   ],
   "source": [
    "x = np.arange(m)+1\n",
    "F = F/np.sum(F)\n",
    "plt.bar(x,F,edgecolor = \"black\")\n",
    "plt.show()"
   ]
  },
  {
   "cell_type": "code",
   "execution_count": null,
   "id": "7ce3316d-2bf2-4025-aabe-34320c73b51b",
   "metadata": {},
   "outputs": [],
   "source": []
  }
 ],
 "metadata": {
  "kernelspec": {
   "display_name": "Python 3 (ipykernel)",
   "language": "python",
   "name": "python3"
  },
  "language_info": {
   "codemirror_mode": {
    "name": "ipython",
    "version": 3
   },
   "file_extension": ".py",
   "mimetype": "text/x-python",
   "name": "python",
   "nbconvert_exporter": "python",
   "pygments_lexer": "ipython3",
   "version": "3.12.4"
  }
 },
 "nbformat": 4,
 "nbformat_minor": 5
}
