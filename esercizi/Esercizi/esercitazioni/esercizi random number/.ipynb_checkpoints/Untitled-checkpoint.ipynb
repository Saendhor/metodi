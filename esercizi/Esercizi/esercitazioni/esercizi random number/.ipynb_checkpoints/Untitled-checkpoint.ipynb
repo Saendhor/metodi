{
 "cells": [
  {
   "cell_type": "code",
   "execution_count": 7,
   "id": "db9b6833-1d1b-4b1c-8331-64b13777ce47",
   "metadata": {},
   "outputs": [
    {
     "data": {
      "text/plain": [
       "1"
      ]
     },
     "metadata": {},
     "output_type": "display_data"
    }
   ],
   "source": [
    "import numpy as np\n",
    "\n",
    "\n",
    "p = 0.2\n",
    "\n",
    "xi = np.random.rand()\n",
    "\n",
    "if xi < p:\n",
    "    X=1\n",
    "else:\n",
    "    X=0\n",
    "display(X)"
   ]
  },
  {
   "cell_type": "code",
   "execution_count": 9,
   "id": "29e4f84e-14a7-4464-889f-5354e3b726a7",
   "metadata": {},
   "outputs": [
    {
     "data": {
      "text/plain": [
       "0.19739"
      ]
     },
     "metadata": {},
     "output_type": "display_data"
    },
    {
     "data": {
      "text/plain": [
       "0.80261"
      ]
     },
     "metadata": {},
     "output_type": "display_data"
    },
    {
     "data": {
      "text/plain": [
       "0.2"
      ]
     },
     "metadata": {},
     "output_type": "display_data"
    },
    {
     "data": {
      "text/plain": [
       "0.8"
      ]
     },
     "metadata": {},
     "output_type": "display_data"
    }
   ],
   "source": [
    "N = 100000\n",
    "X = np.zeros(N)\n",
    "\n",
    "for i in range(N):\n",
    "    xi = np.random.rand()\n",
    "    if xi < p:\n",
    "        X[i] = 1\n",
    "    else:\n",
    "        X[i] = 0\n",
    "\n",
    "n_succ = np.sum(X)\n",
    "n_insucc = N - n_succ\n",
    "\n",
    "prob_succ = n_succ/N\n",
    "prob_insucc = 1 - prob_succ\n",
    "\n",
    "display(prob_succ, prob_insucc)\n",
    "display(p,1-p)"
   ]
  },
  {
   "cell_type": "code",
   "execution_count": null,
   "id": "74966fd7-def8-42d1-a45d-3a768186209c",
   "metadata": {},
   "outputs": [],
   "source": []
  }
 ],
 "metadata": {
  "kernelspec": {
   "display_name": "Python 3 (ipykernel)",
   "language": "python",
   "name": "python3"
  },
  "language_info": {
   "codemirror_mode": {
    "name": "ipython",
    "version": 3
   },
   "file_extension": ".py",
   "mimetype": "text/x-python",
   "name": "python",
   "nbconvert_exporter": "python",
   "pygments_lexer": "ipython3",
   "version": "3.12.4"
  }
 },
 "nbformat": 4,
 "nbformat_minor": 5
}
