{
 "cells": [
  {
   "cell_type": "code",
   "execution_count": 15,
   "id": "c4d20737-0eaf-4223-b2e1-d55c92f210e4",
   "metadata": {},
   "outputs": [
    {
     "name": "stdout",
     "output_type": "stream",
     "text": [
      "intervallo di confidenza al 95%:[11.535567560708872,12.842210217068908]\n",
      "intervallo di confidenza al 99%:[11.330279121039256,13.047498656738524]\n"
     ]
    }
   ],
   "source": [
    "import numpy as np\n",
    "from scipy.stats import norm\n",
    "from math import sqrt\n",
    "\n",
    "dev = 1\n",
    "\n",
    "x = np.array([11,13.2,12.3,10.9,13,10.5,12.3,13,13.5])\n",
    "media = np.mean(x)\n",
    "n = x.size\n",
    "alpha_1 = 0.05\n",
    "alpha_2 = 0.01\n",
    "\n",
    "min1 = media- dev/sqrt(n) * norm.ppf(1-alpha_1/2)\n",
    "max1 = media+ dev/sqrt(n) * norm.ppf(1-alpha_1/2)\n",
    "\n",
    "print(\"intervallo di confidenza al 95%:[{},{}]\".format(min1,max1))\n",
    "\n",
    "min2 = media- dev/sqrt(n) * norm.ppf(1-alpha_2/2)\n",
    "max2 = media+ dev/sqrt(n) * norm.ppf(1-alpha_2/2)\n",
    "\n",
    "print(\"intervallo di confidenza al 99%:[{},{}]\".format(min2,max2))"
   ]
  },
  {
   "cell_type": "code",
   "execution_count": 17,
   "id": "1dcc755b-212f-4c87-9331-a96c4603ab6b",
   "metadata": {},
   "outputs": [
    {
     "name": "stdout",
     "output_type": "stream",
     "text": [
      "intervallo di confidenza al 95%:[11.274239029436865,13.103538748340915]\n",
      "intervallo di confidenza al 99%:[10.986835213899404,13.390942563878376]\n"
     ]
    }
   ],
   "source": [
    "dev = 1.4 \n",
    "\n",
    "min3 = media- dev/sqrt(n) * norm.ppf(1-alpha_1/2)\n",
    "max3 = media+ dev/sqrt(n) * norm.ppf(1-alpha_1/2)\n",
    "\n",
    "print(\"intervallo di confidenza al 95%:[{},{}]\".format(min3,max3))\n",
    "\n",
    "min4 = media- dev/sqrt(n) * norm.ppf(1-alpha_2/2)\n",
    "max4 = media+ dev/sqrt(n) * norm.ppf(1-alpha_2/2)\n",
    "\n",
    "print(\"intervallo di confidenza al 99%:[{},{}]\".format(min4,max4))"
   ]
  },
  {
   "cell_type": "code",
   "execution_count": 19,
   "id": "aaf0aef9-5bbc-4a5c-863a-2dc634fd6748",
   "metadata": {},
   "outputs": [
    {
     "name": "stdout",
     "output_type": "stream",
     "text": [
      "intervallo di confidenza al 95%:[11.7506276186006,12.62715015917718]\n",
      "intervallo di confidenza al 99%:[11.612915946771762,12.764861831006018]\n"
     ]
    }
   ],
   "source": [
    "import numpy as np\n",
    "from scipy.stats import norm\n",
    "from math import sqrt\n",
    "\n",
    "dev = 1\n",
    "\n",
    "x = np.array([11,13.2,12.3,10.9,13,10.5,12.3,13,13.5])\n",
    "media = np.mean(x)\n",
    "n = 20\n",
    "alpha_1 = 0.05\n",
    "alpha_2 = 0.01\n",
    "\n",
    "min1 = media- dev/sqrt(n) * norm.ppf(1-alpha_1/2)\n",
    "max1 = media+ dev/sqrt(n) * norm.ppf(1-alpha_1/2)\n",
    "\n",
    "print(\"intervallo di confidenza al 95%:[{},{}]\".format(min1,max1))\n",
    "\n",
    "min2 = media- dev/sqrt(n) * norm.ppf(1-alpha_2/2)\n",
    "max2 = media+ dev/sqrt(n) * norm.ppf(1-alpha_2/2)\n",
    "\n",
    "print(\"intervallo di confidenza al 99%:[{},{}]\".format(min2,max2))"
   ]
  },
  {
   "cell_type": "code",
   "execution_count": null,
   "id": "c10c3e26-7c91-4e9c-a125-7f92cae96c13",
   "metadata": {},
   "outputs": [],
   "source": []
  }
 ],
 "metadata": {
  "kernelspec": {
   "display_name": "Python 3 (ipykernel)",
   "language": "python",
   "name": "python3"
  },
  "language_info": {
   "codemirror_mode": {
    "name": "ipython",
    "version": 3
   },
   "file_extension": ".py",
   "mimetype": "text/x-python",
   "name": "python",
   "nbconvert_exporter": "python",
   "pygments_lexer": "ipython3",
   "version": "3.12.4"
  }
 },
 "nbformat": 4,
 "nbformat_minor": 5
}
