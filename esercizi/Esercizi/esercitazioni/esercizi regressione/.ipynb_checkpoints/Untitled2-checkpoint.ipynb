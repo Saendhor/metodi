{
 "cells": [
  {
   "cell_type": "code",
   "execution_count": 3,
   "id": "16936eed-cd3c-4175-878a-8a415f8f3ab1",
   "metadata": {},
   "outputs": [
    {
     "data": {
      "text/plain": [
       "-4.391330475499407"
      ]
     },
     "metadata": {},
     "output_type": "display_data"
    },
    {
     "data": {
      "text/plain": [
       "3.010167753127515"
      ]
     },
     "metadata": {},
     "output_type": "display_data"
    }
   ],
   "source": [
    "import numpy as np\n",
    "\n",
    "DATA = np.loadtxt(\"DATA_reg_lin_2.dat\")\n",
    "x = DATA[:,0]    # x\n",
    "y = DATA[:,1]    # y\n",
    "n = x.size\n",
    "x_bar = np.mean(x)\n",
    "y_bar = np.mean(y)\n",
    "sig_xy = np.sum((x-x_bar)*(y-y_bar))/n\n",
    "sig_x_2 = np.sum((x-x_bar)**2.)/n\n",
    "\n",
    "b_0 = y_bar - sig_xy/sig_x_2*x_bar\n",
    "b_1 = sig_xy/sig_x_2\n",
    "display(b_0, b_1)"
   ]
  },
  {
   "cell_type": "code",
   "execution_count": 5,
   "id": "26e074d0-ba9e-46cf-94be-3d286dd6358b",
   "metadata": {},
   "outputs": [
    {
     "data": {
      "text/plain": [
       "array([[ 1.  ,  0.32],\n",
       "       [ 1.  ,  2.83],\n",
       "       [ 1.  ,  3.94],\n",
       "       [ 1.  ,  6.52],\n",
       "       [ 1.  ,  7.51],\n",
       "       [ 1.  , 11.43],\n",
       "       [ 1.  ,  0.96],\n",
       "       [ 1.  ,  3.32],\n",
       "       [ 1.  ,  4.62],\n",
       "       [ 1.  ,  6.65],\n",
       "       [ 1.  ,  8.96],\n",
       "       [ 1.  , 11.45],\n",
       "       [ 1.  ,  0.96],\n",
       "       [ 1.  ,  3.8 ],\n",
       "       [ 1.  ,  5.91],\n",
       "       [ 1.  ,  6.83],\n",
       "       [ 1.  ,  9.56],\n",
       "       [ 1.  , 12.02]])"
      ]
     },
     "metadata": {},
     "output_type": "display_data"
    }
   ],
   "source": [
    "x1 = np.ones(n)\n",
    "x2 = x\n",
    "X = np.ones((n,2))\n",
    "X[:,0] = x1\n",
    "X[:,1] = x2\n",
    "display(X)"
   ]
  },
  {
   "cell_type": "code",
   "execution_count": 7,
   "id": "64f68e8e-de4d-4f23-914f-1ccbae46a948",
   "metadata": {},
   "outputs": [],
   "source": [
    "XX = np.linalg.pinv(X)"
   ]
  },
  {
   "cell_type": "code",
   "execution_count": 9,
   "id": "b2c1e270-2174-4b09-8b4d-10611593882f",
   "metadata": {},
   "outputs": [
    {
     "data": {
      "text/plain": [
       "array([-4.39133048,  3.01016775])"
      ]
     },
     "metadata": {},
     "output_type": "display_data"
    }
   ],
   "source": [
    "b = np.dot(XX,y)\n",
    "display(b)"
   ]
  },
  {
   "cell_type": "code",
   "execution_count": 11,
   "id": "dfa99b76-d13e-4bea-bc24-01acea09dcec",
   "metadata": {},
   "outputs": [
    {
     "data": {
      "text/plain": [
       "array([-3.42807679,  4.12744427,  7.46873047, 15.23496327, 18.21502935,\n",
       "       30.01488694, -1.50156943,  5.60242646,  9.51564454, 15.62628508,\n",
       "       22.57977259, 30.0750903 , -1.50156943,  7.04730699, 13.39876095,\n",
       "       16.16811528, 24.38587324, 31.79088592])"
      ]
     },
     "metadata": {},
     "output_type": "display_data"
    }
   ],
   "source": [
    "y_hat = np.dot(X,b)\n",
    "display(y_hat)"
   ]
  },
  {
   "cell_type": "code",
   "execution_count": 13,
   "id": "9dce48ac-804f-4fb5-af7d-8cce4c2bc6de",
   "metadata": {},
   "outputs": [
    {
     "data": {
      "image/png": "[encoded data removed]",
      "text/plain": [
       "<Figure size 640x480 with 1 Axes>"
      ]
     },
     "metadata": {},
     "output_type": "display_data"
    }
   ],
   "source": [
    "xx = np.linspace(0,12,100)\n",
    "yy = b[0] + b[1]*xx\n",
    "\n",
    "import matplotlib.pyplot as p\n",
    "p.plot(x,y,'*')\n",
    "p.plot(xx,yy)\n",
    "p.show()"
   ]
  },
  {
   "cell_type": "code",
   "execution_count": 17,
   "id": "335aa53e-47d0-405e-9726-d91afb685a4f",
   "metadata": {},
   "outputs": [
    {
     "data": {
      "text/plain": [
       "0.8905996203945862"
      ]
     },
     "metadata": {},
     "output_type": "display_data"
    }
   ],
   "source": [
    "R2 = np.sum((y_hat-y_bar)**2)/np.sum((y-y_bar)**2)\n",
    "display(R2)"
   ]
  },
  {
   "cell_type": "code",
   "execution_count": 29,
   "id": "ed0acfc8-489b-4e70-b1e0-4fd70dd0df46",
   "metadata": {},
   "outputs": [
    {
     "data": {
      "text/plain": [
       "array([[ 0.20967922, -0.02578517],\n",
       "       [-0.02578517,  0.0043139 ]])"
      ]
     },
     "metadata": {},
     "output_type": "display_data"
    }
   ],
   "source": [
    "r = y - y_hat\n",
    "s2 = np.sum(r**2)/(n-2)\n",
    "M = np.linalg.inv(np.dot(X.T,X))\n",
    "display(M)"
   ]
  },
  {
   "cell_type": "code",
   "execution_count": 31,
   "id": "a4b545da-6174-4758-9831-d53af74b1ef0",
   "metadata": {},
   "outputs": [
    {
     "data": {
      "text/plain": [
       "11.412790093360776"
      ]
     },
     "metadata": {},
     "output_type": "display_data"
    },
    {
     "data": {
      "text/plain": [
       "2.1199052992210112"
      ]
     },
     "metadata": {},
     "output_type": "display_data"
    }
   ],
   "source": [
    "m = M[1][1]\n",
    "T1 = b[1]/(np.sqrt(s2*m))\n",
    "from scipy.stats import t\n",
    "alpha = 0.05\n",
    "tt = t.ppf(1.-alpha/2.,n-2)\n",
    "display(T1)\n",
    "display(tt)"
   ]
  },
  {
   "cell_type": "code",
   "execution_count": null,
   "id": "205db0ae-bc4d-42d5-99fd-65939332a55e",
   "metadata": {},
   "outputs": [],
   "source": []
  }
 ],
 "metadata": {
  "kernelspec": {
   "display_name": "Python 3 (ipykernel)",
   "language": "python",
   "name": "python3"
  },
  "language_info": {
   "codemirror_mode": {
    "name": "ipython",
    "version": 3
   },
   "file_extension": ".py",
   "mimetype": "text/x-python",
   "name": "python",
   "nbconvert_exporter": "python",
   "pygments_lexer": "ipython3",
   "version": "3.12.4"
  }
 },
 "nbformat": 4,
 "nbformat_minor": 5
}
