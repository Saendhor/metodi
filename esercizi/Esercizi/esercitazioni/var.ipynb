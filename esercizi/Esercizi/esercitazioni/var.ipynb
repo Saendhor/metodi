{
 "cells": [
  {
   "cell_type": "code",
   "execution_count": 9,
   "id": "7eb4c4bf-b72f-4798-8d67-b6c211d95987",
   "metadata": {},
   "outputs": [
    {
     "name": "stdout",
     "output_type": "stream",
     "text": [
      "l'intervallo di confidenza al 95% per il limite superiore per la varianza è:  0.0007933669721643767\n",
      "l'intervallo di confidenza al 95% per il limite superiore per la deviazione Standard è:  0.02816677070884017\n"
     ]
    }
   ],
   "source": [
    "import numpy as np\n",
    "from scipy.stats import chi2\n",
    "from math import sqrt\n",
    "\n",
    "x = np.array([2.05, 2.04, 1.98, 1.96, 2.03, 2.01, 1.97, 1.99, 2.01, 2.05, 1.96, 1.95, 2.04, 2.01, 1.97, 1.96, 2.02, 2.04, 1.98, 1.94])\n",
    "n = X.size\n",
    "\n",
    "S = np.std(x,ddof=1)\n",
    "\n",
    "alpha = 0.05\n",
    "chi = chi2.ppf(1-alpha,n)\n",
    "\n",
    "var = (pow(S,2)*(n-1))/chi\n",
    "\n",
    "dev = sqrt(var)\n",
    "\n",
    "print(\n",
    "    \"l'intervallo di confidenza al 95% per il limite superiore per la varianza è: \",\n",
    "    var\n",
    ")\n",
    "\n",
    "print(\n",
    "    \"l'intervallo di confidenza al 95% per il limite superiore per la deviazione Standard è: \",\n",
    "    dev\n",
    ")"
   ]
  },
  {
   "cell_type": "code",
   "execution_count": null,
   "id": "bde95072-9e1d-43b2-b0f3-bb6eadca07a7",
   "metadata": {},
   "outputs": [],
   "source": []
  }
 ],
 "metadata": {
  "kernelspec": {
   "display_name": "Python 3 (ipykernel)",
   "language": "python",
   "name": "python3"
  },
  "language_info": {
   "codemirror_mode": {
    "name": "ipython",
    "version": 3
   },
   "file_extension": ".py",
   "mimetype": "text/x-python",
   "name": "python",
   "nbconvert_exporter": "python",
   "pygments_lexer": "ipython3",
   "version": "3.12.4"
  }
 },
 "nbformat": 4,
 "nbformat_minor": 5
}
