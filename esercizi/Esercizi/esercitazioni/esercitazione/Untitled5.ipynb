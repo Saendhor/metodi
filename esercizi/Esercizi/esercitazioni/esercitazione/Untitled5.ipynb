{
 "cells": [
  {
   "cell_type": "code",
   "execution_count": 3,
   "id": "9280ab76-fe7c-4707-937d-9ec8b967bad2",
   "metadata": {},
   "outputs": [
    {
     "name": "stdout",
     "output_type": "stream",
     "text": [
      "0.423836\n",
      "0.2860893\n"
     ]
    }
   ],
   "source": [
    "import numpy as np\n",
    "\n",
    "def fun(x):\n",
    "    y = np.exp(-x**2./2.)/np.sqrt(2.*np.pi)\n",
    "    return y\n",
    "\n",
    "a = 0.5\n",
    "b = 2\n",
    "\n",
    "M = 0.45\n",
    "\n",
    "N = 1000000\n",
    "Ns = 0\n",
    "\n",
    "x = np.zeros(N)\n",
    "for i in range(N):\n",
    "    r1 = np.random.rand()\n",
    "    r2 = np.random.rand()\n",
    "    xi = a+r1*(b-a)\n",
    "    eta = M*r2\n",
    "    if(eta < fun(xi)):\n",
    "        Ns = Ns+1\n",
    "\n",
    "p = Ns/N\n",
    "print(p)\n",
    "I = p*M*(b-a)\n",
    "print(I)"
   ]
  },
  {
   "cell_type": "code",
   "execution_count": 5,
   "id": "7b21b0cd-3ac6-4948-9a5c-2352cbe6362d",
   "metadata": {},
   "outputs": [
    {
     "name": "stdout",
     "output_type": "stream",
     "text": [
      "0.2857874067778077\n"
     ]
    }
   ],
   "source": [
    "from scipy.stats import norm\n",
    "\n",
    "phi = norm.cdf(b) - norm.cdf(a)\n",
    "print(phi)"
   ]
  },
  {
   "cell_type": "code",
   "execution_count": null,
   "id": "92634e9c-4844-42e6-b072-bd442b57c631",
   "metadata": {},
   "outputs": [],
   "source": []
  }
 ],
 "metadata": {
  "kernelspec": {
   "display_name": "Python 3 (ipykernel)",
   "language": "python",
   "name": "python3"
  },
  "language_info": {
   "codemirror_mode": {
    "name": "ipython",
    "version": 3
   },
   "file_extension": ".py",
   "mimetype": "text/x-python",
   "name": "python",
   "nbconvert_exporter": "python",
   "pygments_lexer": "ipython3",
   "version": "3.12.4"
  }
 },
 "nbformat": 4,
 "nbformat_minor": 5
}
