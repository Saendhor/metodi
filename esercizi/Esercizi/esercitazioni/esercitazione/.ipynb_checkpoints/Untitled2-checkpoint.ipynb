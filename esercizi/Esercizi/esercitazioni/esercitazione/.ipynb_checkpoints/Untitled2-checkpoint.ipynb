{
 "cells": [
  {
   "cell_type": "code",
   "execution_count": 1,
   "id": "28a63faa-045c-4f66-a81c-69ebc0db5f8b",
   "metadata": {},
   "outputs": [
    {
     "data": {
      "text/plain": [
       "622.8005909315598"
      ]
     },
     "metadata": {},
     "output_type": "display_data"
    },
    {
     "data": {
      "text/plain": [
       "3.841458820694124"
      ]
     },
     "metadata": {},
     "output_type": "display_data"
    }
   ],
   "source": [
    "import numpy as np\n",
    "import matplotlib.pyplot as plt\n",
    "from scipy.stats import chi2\n",
    "\n",
    "x = np.array([[44,10],[81,35]])\n",
    "n = 170\n",
    "\n",
    "p = np.array([54,116])/n\n",
    "\n",
    "q = np.array([125,45])/n\n",
    "\n",
    "pi = x/n\n",
    "tn = 0\n",
    "for h in range(2):\n",
    "    for k in range(2):\n",
    "        tn = tn + (p[h]*q[k]-pi[h][k])**2/pi[h][k]\n",
    "\n",
    "tn = n*tn\n",
    "display(tn)\n",
    "chi = chi2.ppf(1-0.05,1)\n",
    "display(chi)"
   ]
  },
  {
   "cell_type": "code",
   "execution_count": null,
   "id": "b818bda7-94fa-44b7-a9da-27ed1c96de04",
   "metadata": {},
   "outputs": [],
   "source": []
  }
 ],
 "metadata": {
  "kernelspec": {
   "display_name": "Python 3 (ipykernel)",
   "language": "python",
   "name": "python3"
  },
  "language_info": {
   "codemirror_mode": {
    "name": "ipython",
    "version": 3
   },
   "file_extension": ".py",
   "mimetype": "text/x-python",
   "name": "python",
   "nbconvert_exporter": "python",
   "pygments_lexer": "ipython3",
   "version": "3.12.4"
  }
 },
 "nbformat": 4,
 "nbformat_minor": 5
}
