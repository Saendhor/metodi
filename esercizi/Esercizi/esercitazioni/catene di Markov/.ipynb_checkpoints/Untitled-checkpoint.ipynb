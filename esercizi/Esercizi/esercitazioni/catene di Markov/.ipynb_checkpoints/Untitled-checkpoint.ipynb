{
 "cells": [
  {
   "cell_type": "code",
   "execution_count": 3,
   "id": "907875d0-fd6b-40e0-8a17-c5dd43d60e8d",
   "metadata": {},
   "outputs": [
    {
     "data": {
      "text/plain": [
       "array([-0.57569391,  1.        ,  0.32569391])"
      ]
     },
     "metadata": {},
     "output_type": "display_data"
    },
    {
     "data": {
      "text/plain": [
       "array([[ 0.78010553, -0.57469577,  0.55506939],\n",
       "       [-0.18130286, -0.28734789, -0.79611302],\n",
       "       [-0.59880267, -0.76626103,  0.24104363]])"
      ]
     },
     "metadata": {},
     "output_type": "display_data"
    }
   ],
   "source": [
    "import numpy as np\n",
    "\n",
    "P = np.array([[0,1/4,3/4],[0,1/2,1/2],[3/4,0,1/4]])\n",
    "\n",
    "#calcolo p^2 ed essendo tutti gli elementi positivi la catena risulta regolare per definizione\n",
    "\n",
    "#metodo analitico\n",
    "\n",
    "lam, V = np.linalg.eig(P.T)\n",
    "display(lam)\n",
    "display(V)"
   ]
  },
  {
   "cell_type": "code",
   "execution_count": 5,
   "id": "122e7cfe-fa6a-452d-b201-acd3a009fde9",
   "metadata": {},
   "outputs": [
    {
     "data": {
      "text/plain": [
       "array([0.35294118, 0.17647059, 0.47058824])"
      ]
     },
     "metadata": {},
     "output_type": "display_data"
    }
   ],
   "source": [
    "v = V[:,1]/np.sum(V[:,1])\n",
    "display(v)"
   ]
  },
  {
   "cell_type": "code",
   "execution_count": 14,
   "id": "72e7c4ff-cb51-4569-b9fb-9856f02c571e",
   "metadata": {},
   "outputs": [
    {
     "data": {
      "text/plain": [
       "array([0., 1., 0.])"
      ]
     },
     "metadata": {},
     "output_type": "display_data"
    },
    {
     "data": {
      "text/plain": [
       "array([352601., 176262., 471138.])"
      ]
     },
     "metadata": {},
     "output_type": "display_data"
    },
    {
     "data": {
      "text/plain": [
       "array([0.352601, 0.176262, 0.471138])"
      ]
     },
     "metadata": {},
     "output_type": "display_data"
    }
   ],
   "source": [
    "#metodo monte carlo\n",
    "n = 3\n",
    "F = np.zeros(n)\n",
    "j = np.random.randint(n)\n",
    "F[j] = 1\n",
    "display(F)\n",
    "N = 1000000\n",
    "\n",
    "for i in range(N):\n",
    "    j_multi = np.random.multinomial(1,P[j,:])\n",
    "    j = np.nonzero(j_multi)[0][0]\n",
    "    F[j] = F[j]+1\n",
    "\n",
    "vv = F/N\n",
    "display(F)\n",
    "display(vv)"
   ]
  },
  {
   "cell_type": "code",
   "execution_count": null,
   "id": "7c3e6a26-d458-49d2-a81e-1eba160b72cb",
   "metadata": {},
   "outputs": [],
   "source": []
  },
  {
   "cell_type": "code",
   "execution_count": null,
   "id": "e651e2fd-c764-4364-b26a-a650e5f00ec2",
   "metadata": {},
   "outputs": [],
   "source": []
  }
 ],
 "metadata": {
  "kernelspec": {
   "display_name": "Python 3 (ipykernel)",
   "language": "python",
   "name": "python3"
  },
  "language_info": {
   "codemirror_mode": {
    "name": "ipython",
    "version": 3
   },
   "file_extension": ".py",
   "mimetype": "text/x-python",
   "name": "python",
   "nbconvert_exporter": "python",
   "pygments_lexer": "ipython3",
   "version": "3.12.4"
  }
 },
 "nbformat": 4,
 "nbformat_minor": 5
}
