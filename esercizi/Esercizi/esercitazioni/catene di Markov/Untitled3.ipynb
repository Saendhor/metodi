{
 "cells": [
  {
   "cell_type": "code",
   "execution_count": 3,
   "id": "458005e7-b9bc-4fe7-9771-17ccad4027c7",
   "metadata": {},
   "outputs": [],
   "source": [
    "import numpy as np\n",
    "\n",
    "def rand_exp(lam):\n",
    "    eta = np.random.rand()\n",
    "    x = -np.log(eta)/lam\n",
    "    return x\n",
    "\n",
    "def rand_pois(lam):\n",
    "    t = 0\n",
    "    X = 0\n",
    "    while t <= 1:\n",
    "        r = rand_exp(lam)\n",
    "        t = t+r\n",
    "        X = X+1\n",
    "    X = X-1\n",
    "    return X\n",
    "\n",
    "lam = 2 \n",
    "N = 10000\n",
    "x = np.zeros(N)\n",
    "for i in range(N):\n",
    "    x[i] = rand_pois(lam)"
   ]
  },
  {
   "cell_type": "code",
   "execution_count": 7,
   "id": "f25696b1-a916-48fd-9125-b10282935692",
   "metadata": {},
   "outputs": [
    {
     "data": {
      "text/plain": [
       "9.0"
      ]
     },
     "metadata": {},
     "output_type": "display_data"
    }
   ],
   "source": [
    "M = np.max(x)\n",
    "display(M)"
   ]
  },
  {
   "cell_type": "code",
   "execution_count": null,
   "id": "cc580e0a-f486-4493-b059-5faa1ff8c1e9",
   "metadata": {},
   "outputs": [],
   "source": [
    "F = np.zeros(int(M+1))\n",
    "\n",
    "for i in range(N):\n",
    "    k = int(X[i])\n",
    "    F[k] = F[k]+1\n",
    "\n",
    "F = F/N"
   ]
  }
 ],
 "metadata": {
  "kernelspec": {
   "display_name": "Python 3 (ipykernel)",
   "language": "python",
   "name": "python3"
  },
  "language_info": {
   "codemirror_mode": {
    "name": "ipython",
    "version": 3
   },
   "file_extension": ".py",
   "mimetype": "text/x-python",
   "name": "python",
   "nbconvert_exporter": "python",
   "pygments_lexer": "ipython3",
   "version": "3.12.4"
  }
 },
 "nbformat": 4,
 "nbformat_minor": 5
}
