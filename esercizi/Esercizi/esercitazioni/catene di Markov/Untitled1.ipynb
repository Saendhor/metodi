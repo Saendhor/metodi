{
 "cells": [
  {
   "cell_type": "code",
   "execution_count": 1,
   "id": "4800705c-7542-4832-86ce-656ba8f89b5c",
   "metadata": {},
   "outputs": [
    {
     "data": {
      "text/plain": [
       "array([[0.        , 0.33333333, 0.        , 0.33333333, 0.33333333],\n",
       "       [0.33333333, 0.        , 0.33333333, 0.        , 0.33333333],\n",
       "       [0.        , 0.33333333, 0.        , 0.33333333, 0.33333333],\n",
       "       [0.33333333, 0.        , 0.33333333, 0.        , 0.33333333],\n",
       "       [0.25      , 0.25      , 0.25      , 0.25      , 0.        ]])"
      ]
     },
     "metadata": {},
     "output_type": "display_data"
    },
    {
     "data": {
      "text/plain": [
       "array([ 1.00000000e+00, -1.29122935e-16, -6.66666667e-01, -3.33333333e-01,\n",
       "        0.00000000e+00])"
      ]
     },
     "metadata": {},
     "output_type": "display_data"
    },
    {
     "data": {
      "text/plain": [
       "array([[-4.16025147e-01, -7.07106781e-01,  5.00000000e-01,\n",
       "        -2.23606798e-01,  2.01454444e-02],\n",
       "       [-4.16025147e-01,  6.17628897e-17, -5.00000000e-01,\n",
       "        -2.23606798e-01, -7.06819751e-01],\n",
       "       [-4.16025147e-01,  7.07106781e-01,  5.00000000e-01,\n",
       "        -2.23606798e-01, -2.01454444e-02],\n",
       "       [-4.16025147e-01,  2.28296343e-16, -5.00000000e-01,\n",
       "        -2.23606798e-01,  7.06819751e-01],\n",
       "       [-5.54700196e-01,  4.15560011e-17,  5.69175284e-17,\n",
       "         8.94427191e-01,  7.74775310e-17]])"
      ]
     },
     "metadata": {},
     "output_type": "display_data"
    }
   ],
   "source": [
    "import numpy as np\n",
    "P = np.array([[0, 1/3, 0, 1/3, 1/3],[1/3, 0, 1/3, 0, 1/3],[0, 1/3, 0, 1/3, 1/3],\n",
    "             [1/3, 0, 1/3, 0, 1/3], [1/4, 1/4, 1/4, 1/4, 0]])\n",
    "display(P)\n",
    "\n",
    "#metodo analitico\n",
    "lam ,V = np.linalg.eig(P.T)\n",
    "display(lam)\n",
    "display(V)"
   ]
  },
  {
   "cell_type": "code",
   "execution_count": 3,
   "id": "59d19051-7bf2-49b6-9dc4-0acfb1cf70f3",
   "metadata": {},
   "outputs": [
    {
     "data": {
      "text/plain": [
       "array([0.1875, 0.1875, 0.1875, 0.1875, 0.25  ])"
      ]
     },
     "metadata": {},
     "output_type": "display_data"
    }
   ],
   "source": [
    "v = np.real(V[:,0])/np.sum(np.real(V[:,0]))\n",
    "display(v)"
   ]
  },
  {
   "cell_type": "code",
   "execution_count": 9,
   "id": "52397931-0036-48a8-bc71-1534bc482e27",
   "metadata": {},
   "outputs": [
    {
     "data": {
      "text/plain": [
       "array([0.187455, 0.187014, 0.187546, 0.187334, 0.250652])"
      ]
     },
     "metadata": {},
     "output_type": "display_data"
    }
   ],
   "source": [
    "#metodo monte carlo\n",
    "\n",
    "n = 5\n",
    "F = np.zeros(n)\n",
    "j = np.random.randint(n)\n",
    "F[j] = 1\n",
    "N = 1000000\n",
    "\n",
    "for i in range(N):\n",
    "    j_multi = np.random.multinomial(1,P[j,:])\n",
    "    j = np.nonzero(j_multi)[0][0]\n",
    "    F[j] = F[j]+1\n",
    "\n",
    "vv = F/N\n",
    "display(vv)"
   ]
  },
  {
   "cell_type": "code",
   "execution_count": null,
   "id": "f78a128b-b101-4510-8ad5-168b0ba332b8",
   "metadata": {},
   "outputs": [],
   "source": []
  }
 ],
 "metadata": {
  "kernelspec": {
   "display_name": "Python 3 (ipykernel)",
   "language": "python",
   "name": "python3"
  },
  "language_info": {
   "codemirror_mode": {
    "name": "ipython",
    "version": 3
   },
   "file_extension": ".py",
   "mimetype": "text/x-python",
   "name": "python",
   "nbconvert_exporter": "python",
   "pygments_lexer": "ipython3",
   "version": "3.12.4"
  }
 },
 "nbformat": 4,
 "nbformat_minor": 5
}
