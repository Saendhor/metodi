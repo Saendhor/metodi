{
 "cells": [
  {
   "cell_type": "code",
   "execution_count": 1,
   "id": "b9105351-4cd7-4432-983b-cb892573543b",
   "metadata": {},
   "outputs": [
    {
     "data": {
      "text/plain": [
       "array([4, 4, 4, 4])"
      ]
     },
     "metadata": {},
     "output_type": "display_data"
    }
   ],
   "source": [
    "import numpy as np\n",
    "\n",
    "X_1 = np.array([3129., 3000., 2865., 2890.])\n",
    "X_2 = np.array([3200., 3000., 2975., 3150.])\n",
    "X_3 = np.array([2800., 2900., 2985., 3050.])\n",
    "X_4 = np.array([2600., 2700., 2600., 2765.])\n",
    "\n",
    "m = 4\n",
    "n = np.array([X_1.size, X_2.size, X_3.size, X_4.size])\n",
    "display(n)"
   ]
  },
  {
   "cell_type": "code",
   "execution_count": 5,
   "id": "8766582b-aeb6-4597-8533-3bc35774e852",
   "metadata": {},
   "outputs": [
    {
     "data": {
      "text/plain": [
       "array([3129., 3000., 2865., 2890., 3200., 3000., 2975., 3150., 2800.,\n",
       "       2900., 2985., 3050., 2600., 2700., 2600., 2765.])"
      ]
     },
     "metadata": {},
     "output_type": "display_data"
    }
   ],
   "source": [
    "N = 16\n",
    "\n",
    "Y = np.concatenate([X_1,X_2,X_3,X_4])\n",
    "display(Y)"
   ]
  },
  {
   "cell_type": "code",
   "execution_count": 7,
   "id": "dafd3802-1a80-4cb9-aad4-e2df8dbcd4af",
   "metadata": {},
   "outputs": [
    {
     "data": {
      "text/plain": [
       "array([14. , 11.5,  6. ,  7. , 16. , 11.5,  9. , 15. ,  5. ,  8. , 10. ,\n",
       "       13. ,  1.5,  3. ,  1.5,  4. ])"
      ]
     },
     "metadata": {},
     "output_type": "display_data"
    }
   ],
   "source": [
    "from scipy.stats import rankdata\n",
    "R = rankdata(Y)\n",
    "display(R)"
   ]
  },
  {
   "cell_type": "code",
   "execution_count": null,
   "id": "0c284238-b788-4012-b3de-036afc703f34",
   "metadata": {},
   "outputs": [],
   "source": []
  }
 ],
 "metadata": {
  "kernelspec": {
   "display_name": "Python 3 (ipykernel)",
   "language": "python",
   "name": "python3"
  },
  "language_info": {
   "codemirror_mode": {
    "name": "ipython",
    "version": 3
   },
   "file_extension": ".py",
   "mimetype": "text/x-python",
   "name": "python",
   "nbconvert_exporter": "python",
   "pygments_lexer": "ipython3",
   "version": "3.12.4"
  }
 },
 "nbformat": 4,
 "nbformat_minor": 5
}
