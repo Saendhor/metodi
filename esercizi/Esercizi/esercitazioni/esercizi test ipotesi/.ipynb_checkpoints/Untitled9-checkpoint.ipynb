{
 "cells": [
  {
   "cell_type": "code",
   "execution_count": 1,
   "id": "bd760e0e-207c-4027-b9bc-dd4818485318",
   "metadata": {},
   "outputs": [],
   "source": [
    "import numpy as np\n",
    "from scipy.stats import binom\n",
    "\n",
    "X = np.loadtxt(\"Dataset_motore.dat\")"
   ]
  },
  {
   "cell_type": "code",
   "execution_count": 3,
   "id": "312a8ffa-c9ba-49cf-840a-4124bf4276e5",
   "metadata": {},
   "outputs": [
    {
     "data": {
      "text/plain": [
       "14"
      ]
     },
     "metadata": {},
     "output_type": "display_data"
    }
   ],
   "source": [
    "n = X.size\n",
    "mu = 2000\n",
    "alpha = 0.05\n",
    "\n",
    "D = X - mu\n",
    "r_p = D>0\n",
    "r_p = r_p.astype(int)\n",
    "r_p = np.sum(r_p)\n",
    "display(r_p)"
   ]
  },
  {
   "cell_type": "code",
   "execution_count": 5,
   "id": "39756204-f907-4bff-8bcd-8ea884eb631d",
   "metadata": {},
   "outputs": [
    {
     "data": {
      "text/plain": [
       "10.0"
      ]
     },
     "metadata": {},
     "output_type": "display_data"
    }
   ],
   "source": [
    "display(n/2)"
   ]
  },
  {
   "cell_type": "code",
   "execution_count": 7,
   "id": "508a32bb-4f80-4613-9e6f-f172e160c9aa",
   "metadata": {},
   "outputs": [
    {
     "data": {
      "text/plain": [
       "range(14, 21)"
      ]
     },
     "metadata": {},
     "output_type": "display_data"
    }
   ],
   "source": [
    "k = range(r_p, n+1)\n",
    "display(k)"
   ]
  },
  {
   "cell_type": "code",
   "execution_count": 9,
   "id": "f9012e55-df7b-4fd8-8d5a-f888eb6b7fa7",
   "metadata": {},
   "outputs": [
    {
     "data": {
      "text/plain": [
       "array([3.69644165e-02, 1.47857666e-02, 4.62055206e-03, 1.08718872e-03,\n",
       "       1.81198120e-04, 1.90734863e-05, 9.53674316e-07])"
      ]
     },
     "metadata": {},
     "output_type": "display_data"
    }
   ],
   "source": [
    "Y = binom.pmf(k,n,0.5)\n",
    "display(Y)"
   ]
  },
  {
   "cell_type": "code",
   "execution_count": 11,
   "id": "02139556-88ac-4714-b0c5-1dcff8eda1a4",
   "metadata": {},
   "outputs": [
    {
     "data": {
      "text/plain": [
       "0.11531829833984372"
      ]
     },
     "metadata": {},
     "output_type": "display_data"
    }
   ],
   "source": [
    "pvalue = 2*np.sum(Y)\n",
    "display(pvalue)"
   ]
  },
  {
   "cell_type": "code",
   "execution_count": null,
   "id": "e6c4fde4-a6c6-4721-87b8-8cbbe07925cf",
   "metadata": {},
   "outputs": [],
   "source": []
  }
 ],
 "metadata": {
  "kernelspec": {
   "display_name": "Python 3 (ipykernel)",
   "language": "python",
   "name": "python3"
  },
  "language_info": {
   "codemirror_mode": {
    "name": "ipython",
    "version": 3
   },
   "file_extension": ".py",
   "mimetype": "text/x-python",
   "name": "python",
   "nbconvert_exporter": "python",
   "pygments_lexer": "ipython3",
   "version": "3.12.4"
  }
 },
 "nbformat": 4,
 "nbformat_minor": 5
}
