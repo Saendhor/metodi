{
 "cells": [
  {
   "cell_type": "code",
   "execution_count": 7,
   "id": "bc50c4a3-f2fe-48c9-8e59-844f04a567b8",
   "metadata": {},
   "outputs": [
    {
     "data": {
      "text/plain": [
       "0.03621572790057408"
      ]
     },
     "metadata": {},
     "output_type": "display_data"
    }
   ],
   "source": [
    "from scipy.stats import chi2\n",
    "import numpy as np\n",
    "\n",
    "prove = np.array([2.05,2.04,1.98,1.96,2.03,2.01,1.97,1.99,2.01,2.05,1.96,1.95,2.04,2.01,1.97,1.96,2.02,2.04,1.98,1.94])\n",
    "n = 20\n",
    "sigma0 = 0.05\n",
    "S = np.std(prove,ddof=1)\n",
    "display(S)"
   ]
  },
  {
   "cell_type": "code",
   "execution_count": 9,
   "id": "abce794b-188a-494f-8b79-508c1ac69469",
   "metadata": {},
   "outputs": [
    {
     "data": {
      "text/plain": [
       "9.967999999999988"
      ]
     },
     "metadata": {},
     "output_type": "display_data"
    }
   ],
   "source": [
    "W0 = (S**2/sigma0**2)*(n-1)\n",
    "display(W0)"
   ]
  },
  {
   "cell_type": "code",
   "execution_count": 11,
   "id": "1f59a94b-2460-4fe6-9de8-13a071105e9b",
   "metadata": {},
   "outputs": [
    {
     "data": {
      "text/plain": [
       "10.117013063859044"
      ]
     },
     "metadata": {},
     "output_type": "display_data"
    }
   ],
   "source": [
    "chi = chi2.ppf(0.05,n-1)\n",
    "display(chi)"
   ]
  },
  {
   "cell_type": "code",
   "execution_count": null,
   "id": "7bc13630-5bf0-496d-a197-bf0489ef2045",
   "metadata": {},
   "outputs": [],
   "source": []
  }
 ],
 "metadata": {
  "kernelspec": {
   "display_name": "Python 3 (ipykernel)",
   "language": "python",
   "name": "python3"
  },
  "language_info": {
   "codemirror_mode": {
    "name": "ipython",
    "version": 3
   },
   "file_extension": ".py",
   "mimetype": "text/x-python",
   "name": "python",
   "nbconvert_exporter": "python",
   "pygments_lexer": "ipython3",
   "version": "3.12.4"
  }
 },
 "nbformat": 4,
 "nbformat_minor": 5
}
