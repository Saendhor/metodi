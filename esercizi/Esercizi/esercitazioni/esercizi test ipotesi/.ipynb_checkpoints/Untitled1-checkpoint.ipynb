{
 "cells": [
  {
   "cell_type": "code",
   "execution_count": 21,
   "id": "02acd569-43e0-484e-9c6d-f10d888b3a23",
   "metadata": {},
   "outputs": [
    {
     "data": {
      "text/plain": [
       "13.713636363636363"
      ]
     },
     "metadata": {},
     "output_type": "display_data"
    }
   ],
   "source": [
    "from scipy.stats import t\n",
    "from math import sqrt\n",
    "import numpy as np\n",
    "\n",
    "alpha = 0.05\n",
    "mu = 10\n",
    "n = 22\n",
    "prove = np.array([19.8,18.5,17.6,16.7,15.8,15.4,14.1,13.6,11.9,11.4,11.4,8.8,7.5,15.4,15.4,19.5,14.9,12.7,11.9,11.4,10.1,7.9])\n",
    "media = np.mean(prove)\n",
    "display(media)"
   ]
  },
  {
   "cell_type": "code",
   "execution_count": 23,
   "id": "72769f6b-3724-4dbb-8a88-89754481b12b",
   "metadata": {},
   "outputs": [
    {
     "data": {
      "text/plain": [
       "3.5535757249424744"
      ]
     },
     "metadata": {},
     "output_type": "display_data"
    }
   ],
   "source": [
    "S = np.std(prove,ddof=1)\n",
    "display(S)"
   ]
  },
  {
   "cell_type": "code",
   "execution_count": 25,
   "id": "10269edf-0bb8-45cc-adc7-e99b4e64f6c1",
   "metadata": {},
   "outputs": [
    {
     "data": {
      "text/plain": [
       "4.901682101212391"
      ]
     },
     "metadata": {},
     "output_type": "display_data"
    }
   ],
   "source": [
    "T = ((media-mu)/S)*sqrt(n)\n",
    "display(T)"
   ]
  },
  {
   "cell_type": "code",
   "execution_count": 27,
   "id": "83d0e1f8-5302-46cb-8841-0e787b4297fb",
   "metadata": {},
   "outputs": [
    {
     "data": {
      "text/plain": [
       "2.079613844727662"
      ]
     },
     "metadata": {},
     "output_type": "display_data"
    }
   ],
   "source": [
    "ti = t.ppf(1-alpha/2,n-1)\n",
    "display(ti)"
   ]
  },
  {
   "cell_type": "code",
   "execution_count": 29,
   "id": "3d56c3cc-cf0b-4b15-9bec-d2c41d80d82c",
   "metadata": {},
   "outputs": [],
   "source": [
    "# essendo che T è maggiore di t, si supera la zona di rigetto, quindi si rigetta l'ipotesi nulla"
   ]
  },
  {
   "cell_type": "code",
   "execution_count": 33,
   "id": "d1ad5aaa-414a-406e-b7bd-c9e32dc9aa75",
   "metadata": {},
   "outputs": [
    {
     "data": {
      "text/plain": [
       "3.781272593450513e-05"
      ]
     },
     "metadata": {},
     "output_type": "display_data"
    }
   ],
   "source": [
    "pvalue = (1 - t.cdf(T,n-1))\n",
    "display(pvalue)"
   ]
  },
  {
   "cell_type": "code",
   "execution_count": null,
   "id": "99decc3d-5ad0-492d-bc3e-221e4f743f09",
   "metadata": {},
   "outputs": [],
   "source": []
  }
 ],
 "metadata": {
  "kernelspec": {
   "display_name": "Python 3 (ipykernel)",
   "language": "python",
   "name": "python3"
  },
  "language_info": {
   "codemirror_mode": {
    "name": "ipython",
    "version": 3
   },
   "file_extension": ".py",
   "mimetype": "text/x-python",
   "name": "python",
   "nbconvert_exporter": "python",
   "pygments_lexer": "ipython3",
   "version": "3.12.4"
  }
 },
 "nbformat": 4,
 "nbformat_minor": 5
}
