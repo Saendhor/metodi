{
 "cells": [
  {
   "cell_type": "code",
   "execution_count": 5,
   "id": "e358e787-8c85-4b54-a472-0b519dad5fca",
   "metadata": {},
   "outputs": [
    {
     "data": {
      "text/plain": [
       "array([16.66666667, 16.66666667, 16.66666667, 16.66666667, 16.66666667,\n",
       "       16.66666667])"
      ]
     },
     "metadata": {},
     "output_type": "display_data"
    }
   ],
   "source": [
    "from scipy.stats import chi2\n",
    "import numpy as np\n",
    "\n",
    "alpha = 0.05\n",
    "X = np.array([20,7,12,18,20,23])\n",
    "N = 100\n",
    "p = 1/6\n",
    "m = X.size\n",
    "E = np.ones(6)*p*N\n",
    "display(E)"
   ]
  },
  {
   "cell_type": "code",
   "execution_count": 7,
   "id": "e9c3591e-df44-4b3b-9b3b-0aba79bc0059",
   "metadata": {},
   "outputs": [
    {
     "data": {
      "text/plain": [
       "10.760000000000002"
      ]
     },
     "metadata": {},
     "output_type": "display_data"
    }
   ],
   "source": [
    "Tn = np.sum((X-E)**2/E)\n",
    "display(Tn)"
   ]
  },
  {
   "cell_type": "code",
   "execution_count": 9,
   "id": "c57261ff-61aa-4494-bafa-8be9ffad5682",
   "metadata": {},
   "outputs": [],
   "source": [
    "chi = chi2.ppf(1-alpha,m-1)"
   ]
  },
  {
   "cell_type": "code",
   "execution_count": 11,
   "id": "8deac063-ce70-4938-93e8-14f1807c66e7",
   "metadata": {},
   "outputs": [
    {
     "data": {
      "text/plain": [
       "11.070497693516351"
      ]
     },
     "metadata": {},
     "output_type": "display_data"
    }
   ],
   "source": [
    "display(chi)"
   ]
  },
  {
   "cell_type": "code",
   "execution_count": 17,
   "id": "c678c338-c916-4d14-a8c7-261b28431af0",
   "metadata": {},
   "outputs": [
    {
     "data": {
      "text/plain": [
       "2000"
      ]
     },
     "metadata": {},
     "output_type": "display_data"
    }
   ],
   "source": [
    "Z = np.array([388,322,314,316,344,316])\n",
    "prove = np.sum(Z)\n",
    "display(prove)"
   ]
  },
  {
   "cell_type": "code",
   "execution_count": 19,
   "id": "e5e9d912-c4d8-467e-951b-cccdaacafe25",
   "metadata": {},
   "outputs": [
    {
     "data": {
      "text/plain": [
       "array([333.33333333, 333.33333333, 333.33333333, 333.33333333,\n",
       "       333.33333333, 333.33333333])"
      ]
     },
     "metadata": {},
     "output_type": "display_data"
    }
   ],
   "source": [
    "alpha = 0.01\n",
    "E = np.ones(6)*p*prove\n",
    "display(E)"
   ]
  },
  {
   "cell_type": "code",
   "execution_count": 21,
   "id": "8f234945-ec17-42e9-8da5-b2594a5b0352",
   "metadata": {},
   "outputs": [
    {
     "data": {
      "text/plain": [
       "12.616000000000001"
      ]
     },
     "metadata": {},
     "output_type": "display_data"
    },
    {
     "data": {
      "text/plain": [
       "15.08627246938899"
      ]
     },
     "metadata": {},
     "output_type": "display_data"
    }
   ],
   "source": [
    "Tn = np.sum((Z-E)**2/E)\n",
    "display(Tn)\n",
    "chi = chi2.ppf(1-alpha,m-1)\n",
    "display(chi)"
   ]
  },
  {
   "cell_type": "code",
   "execution_count": null,
   "id": "069cde1c-a654-4921-8844-bf0dd7a2896a",
   "metadata": {},
   "outputs": [],
   "source": []
  }
 ],
 "metadata": {
  "kernelspec": {
   "display_name": "Python 3 (ipykernel)",
   "language": "python",
   "name": "python3"
  },
  "language_info": {
   "codemirror_mode": {
    "name": "ipython",
    "version": 3
   },
   "file_extension": ".py",
   "mimetype": "text/x-python",
   "name": "python",
   "nbconvert_exporter": "python",
   "pygments_lexer": "ipython3",
   "version": "3.12.4"
  }
 },
 "nbformat": 4,
 "nbformat_minor": 5
}
