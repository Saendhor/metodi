{
 "cells": [
  {
   "cell_type": "code",
   "execution_count": 5,
   "id": "0d3efb92-fcee-4d1a-a622-e6e71cd2e89c",
   "metadata": {},
   "outputs": [
    {
     "data": {
      "text/plain": [
       "array([36.,  9., 31., 55., 13.,  4., 53., 58., 13., 40., 37., 22., 19.,\n",
       "       -1., 14.])"
      ]
     },
     "metadata": {},
     "output_type": "display_data"
    },
    {
     "data": {
      "text/plain": [
       "19.037056595217756"
      ]
     },
     "metadata": {},
     "output_type": "display_data"
    },
    {
     "data": {
      "text/plain": [
       "26.866666666666667"
      ]
     },
     "metadata": {},
     "output_type": "display_data"
    },
    {
     "data": {
      "text/plain": [
       "15"
      ]
     },
     "metadata": {},
     "output_type": "display_data"
    }
   ],
   "source": [
    "from scipy.stats import t\n",
    "import numpy as np\n",
    "\n",
    "X = np.array([[265., 240., 258., 295., 251., 245., 287., 314., 260., 279., 283., 240., 238., 225., 247.],\n",
    "              [229., 231., 227., 240., 238., 241., 234., 256., 247., 239., 246., 218., 219., 226., 233.]])\n",
    "\n",
    "alpha = 0.05\n",
    "\n",
    "D = X[0,:] - X[1,:]\n",
    "S = np.std(D,ddof=1)\n",
    "media = np.mean(D)\n",
    "display(D)\n",
    "display(dev)\n",
    "display(media)\n",
    "n = D.size\n",
    "display(n)"
   ]
  },
  {
   "cell_type": "code",
   "execution_count": 7,
   "id": "0f4eb10a-ff51-43a8-a787-67e4b1882eda",
   "metadata": {},
   "outputs": [
    {
     "data": {
      "text/plain": [
       "5.4658739941050065"
      ]
     },
     "metadata": {},
     "output_type": "display_data"
    },
    {
     "data": {
      "text/plain": [
       "1.7613101357748562"
      ]
     },
     "metadata": {},
     "output_type": "display_data"
    }
   ],
   "source": [
    "T_0 = (media/S)*np.sqrt(n)\n",
    "t_test = t.ppf(1-alpha,n-1)\n",
    "\n",
    "display(T_0)\n",
    "display(t_test)"
   ]
  },
  {
   "cell_type": "code",
   "execution_count": null,
   "id": "e06d37d2-8550-4d03-9d6a-3fe79798b4fb",
   "metadata": {},
   "outputs": [],
   "source": []
  }
 ],
 "metadata": {
  "kernelspec": {
   "display_name": "Python 3 (ipykernel)",
   "language": "python",
   "name": "python3"
  },
  "language_info": {
   "codemirror_mode": {
    "name": "ipython",
    "version": 3
   },
   "file_extension": ".py",
   "mimetype": "text/x-python",
   "name": "python",
   "nbconvert_exporter": "python",
   "pygments_lexer": "ipython3",
   "version": "3.12.4"
  }
 },
 "nbformat": 4,
 "nbformat_minor": 5
}
