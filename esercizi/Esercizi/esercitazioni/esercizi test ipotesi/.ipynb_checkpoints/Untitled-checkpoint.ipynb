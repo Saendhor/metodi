{
 "cells": [
  {
   "cell_type": "code",
   "execution_count": 3,
   "id": "e669a7f8-b1a5-421a-a668-016a0a4e9044",
   "metadata": {},
   "outputs": [
    {
     "name": "stdout",
     "output_type": "stream",
     "text": [
      "50.824999999999996\n"
     ]
    }
   ],
   "source": [
    "from scipy.stats import norm\n",
    "import numpy as np\n",
    "from math import sqrt\n",
    "\n",
    "misurazioni = np.array([51,50.2,49.5,48.7,50.2,50.5,49.6,51.1,50.6,49.1,53.1,50.4,49.3,48.9,50.3,51.8,51.3,48.5,49.3,55.1,53.1,52.5,55.1,50.6])\n",
    "me = np.mean(misurazioni)\n",
    "n = 24\n",
    "dev = 2\n",
    "mu = 50\n",
    "print(me)"
   ]
  },
  {
   "cell_type": "code",
   "execution_count": 5,
   "id": "92454014-76bd-414d-9690-5ffe4cf7b0ef",
   "metadata": {},
   "outputs": [
    {
     "name": "stdout",
     "output_type": "stream",
     "text": [
      "2.020829037796111\n"
     ]
    }
   ],
   "source": [
    "alpha = 0.05\n",
    "Z_0 = ((me-mu)/dev)*sqrt(n)\n",
    "print(Z_0)"
   ]
  },
  {
   "cell_type": "code",
   "execution_count": 7,
   "id": "df863bf6-6446-4c14-9ee4-dca226212bb9",
   "metadata": {},
   "outputs": [
    {
     "name": "stdout",
     "output_type": "stream",
     "text": [
      "1.959963984540054\n"
     ]
    }
   ],
   "source": [
    "phi = norm.ppf(1-alpha/2)\n",
    "print(phi)"
   ]
  },
  {
   "cell_type": "code",
   "execution_count": 11,
   "id": "c9146359-9864-42e3-a41f-34bed2187494",
   "metadata": {},
   "outputs": [
    {
     "name": "stdout",
     "output_type": "stream",
     "text": [
      "2.5758293035489004\n",
      "in questo caso non rigettiamo l'ipotesi nulla\n"
     ]
    }
   ],
   "source": [
    "alpha = 0.01\n",
    "phi = norm.ppf(1-alpha/2)\n",
    "print(phi)\n",
    "print(\"in questo caso non rigettiamo l'ipotesi nulla\")"
   ]
  },
  {
   "cell_type": "code",
   "execution_count": 13,
   "id": "fb05e5fb-0628-4117-b169-34a35ca96444",
   "metadata": {},
   "outputs": [
    {
     "name": "stdout",
     "output_type": "stream",
     "text": [
      "0.04329746577930438\n"
     ]
    }
   ],
   "source": [
    "#p-value\n",
    "a = 2*(1-norm.cdf(np.abs(Z_0)))\n",
    "print(a)"
   ]
  },
  {
   "cell_type": "code",
   "execution_count": 17,
   "id": "798ef0c9-2e03-43cc-bdf7-be5f1d6da69b",
   "metadata": {},
   "outputs": [
    {
     "name": "stdout",
     "output_type": "stream",
     "text": [
      "42.029692245762476\n"
     ]
    }
   ],
   "source": [
    "#determinare la dimensione campionaria\n",
    "#fare prima il test del 3 sigma\n",
    "alpha = 0.05\n",
    "beta = 0.1\n",
    "delta = 1\n",
    "\n",
    "n = (norm.ppf(1-alpha/2)+norm.ppf(1-beta))**2*(dev**2/delta**2)\n",
    "print(n)"
   ]
  },
  {
   "cell_type": "code",
   "execution_count": null,
   "id": "75892131-7e0a-4840-960f-12ea5a986f45",
   "metadata": {},
   "outputs": [],
   "source": []
  }
 ],
 "metadata": {
  "kernelspec": {
   "display_name": "Python 3 (ipykernel)",
   "language": "python",
   "name": "python3"
  },
  "language_info": {
   "codemirror_mode": {
    "name": "ipython",
    "version": 3
   },
   "file_extension": ".py",
   "mimetype": "text/x-python",
   "name": "python",
   "nbconvert_exporter": "python",
   "pygments_lexer": "ipython3",
   "version": "3.12.4"
  }
 },
 "nbformat": 4,
 "nbformat_minor": 5
}
