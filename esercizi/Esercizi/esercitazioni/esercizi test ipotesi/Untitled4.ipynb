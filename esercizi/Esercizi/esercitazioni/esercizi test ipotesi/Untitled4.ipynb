{
 "cells": [
  {
   "cell_type": "code",
   "execution_count": 1,
   "id": "57a9d73c-abc2-48b4-a480-5d3277d25575",
   "metadata": {},
   "outputs": [
    {
     "data": {
      "text/plain": [
       "2.5155764746872635"
      ]
     },
     "metadata": {},
     "output_type": "display_data"
    }
   ],
   "source": [
    "from scipy.stats import norm\n",
    "import numpy as np\n",
    "\n",
    "dev = 8\n",
    "\n",
    "n_X = 10\n",
    "n_Y = 10\n",
    "\n",
    "X_med = 121\n",
    "Y_med = 112\n",
    "sig = dev**2\n",
    "alpha = 0.05\n",
    "#unilatero a destra\n",
    "\n",
    "Z_0 = (X_med - Y_med)/np.sqrt(sig/10+sig/10)\n",
    "display(Z_0)"
   ]
  },
  {
   "cell_type": "code",
   "execution_count": 3,
   "id": "f1ccea9d-2b46-43d4-b6ba-2c77cef6a4c0",
   "metadata": {},
   "outputs": [
    {
     "data": {
      "text/plain": [
       "1.6448536269514722"
      ]
     },
     "metadata": {},
     "output_type": "display_data"
    }
   ],
   "source": [
    "phi = norm.ppf(1-alpha)\n",
    "display(phi)"
   ]
  },
  {
   "cell_type": "code",
   "execution_count": 5,
   "id": "b96202e5-cde9-4df3-9198-9932db7e05a8",
   "metadata": {},
   "outputs": [],
   "source": [
    "#rifiutiamo H0 in favore di H1"
   ]
  },
  {
   "cell_type": "code",
   "execution_count": 17,
   "id": "bd39d598-c509-4d2b-bcde-d85a0c237351",
   "metadata": {},
   "outputs": [
    {
     "name": "stdout",
     "output_type": "stream",
     "text": [
      "9 >= 3.115192763359085\n"
     ]
    }
   ],
   "source": [
    "#trovare intervallo di confidenza\n",
    "mu = 121 - 112\n",
    "I = X_med - Y_med - phi*np.sqrt(sig/10+sig/10)\n",
    "print(mu, \">=\" ,I)"
   ]
  },
  {
   "cell_type": "code",
   "execution_count": null,
   "id": "6fdf8c81-46a4-4b46-8d98-dc01491658bb",
   "metadata": {},
   "outputs": [],
   "source": []
  }
 ],
 "metadata": {
  "kernelspec": {
   "display_name": "Python 3 (ipykernel)",
   "language": "python",
   "name": "python3"
  },
  "language_info": {
   "codemirror_mode": {
    "name": "ipython",
    "version": 3
   },
   "file_extension": ".py",
   "mimetype": "text/x-python",
   "name": "python",
   "nbconvert_exporter": "python",
   "pygments_lexer": "ipython3",
   "version": "3.12.4"
  }
 },
 "nbformat": 4,
 "nbformat_minor": 5
}
