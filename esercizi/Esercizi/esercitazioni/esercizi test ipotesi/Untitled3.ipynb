{
 "cells": [
  {
   "cell_type": "code",
   "execution_count": 1,
   "id": "12cdf7c2-524f-45b5-9b10-d27f52f8c1a9",
   "metadata": {},
   "outputs": [
    {
     "data": {
      "text/plain": [
       "-1.946657053569151"
      ]
     },
     "metadata": {},
     "output_type": "display_data"
    }
   ],
   "source": [
    "from scipy.stats import norm\n",
    "import numpy as np\n",
    "from math import sqrt\n",
    "\n",
    "alpha = 0.05\n",
    "n = 200\n",
    "p = 5/100\n",
    "p1 = 4/n\n",
    "\n",
    "Z0 = ((p1-p)/sqrt(p*(1-p)))*sqrt(n)\n",
    "display(Z0)"
   ]
  },
  {
   "cell_type": "code",
   "execution_count": 7,
   "id": "e64d7611-7d10-458a-8fa2-c138a1a6ceca",
   "metadata": {},
   "outputs": [
    {
     "data": {
      "text/plain": [
       "-1.6448536269514729"
      ]
     },
     "metadata": {},
     "output_type": "display_data"
    }
   ],
   "source": [
    "phi = norm.ppf(alpha)\n",
    "display(phi)"
   ]
  },
  {
   "cell_type": "code",
   "execution_count": 25,
   "id": "cea9342b-b35b-4743-b86f-41ef0fcb13bf",
   "metadata": {},
   "outputs": [
    {
     "data": {
      "text/plain": [
       "832.6221546780524"
      ]
     },
     "metadata": {},
     "output_type": "display_data"
    }
   ],
   "source": [
    "p_star = 0.03\n",
    "beta = 0.1\n",
    "\n",
    "n = ((norm.ppf(beta)*np.sqrt(p_star*(1.-p_star))+phi*np.sqrt(p*(1.-p)))/(p-p_star))**2\n",
    "display(n)"
   ]
  },
  {
   "cell_type": "code",
   "execution_count": null,
   "id": "46f9471d-a31d-43e4-89c7-d2ac4c3b7601",
   "metadata": {},
   "outputs": [],
   "source": []
  }
 ],
 "metadata": {
  "kernelspec": {
   "display_name": "Python 3 (ipykernel)",
   "language": "python",
   "name": "python3"
  },
  "language_info": {
   "codemirror_mode": {
    "name": "ipython",
    "version": 3
   },
   "file_extension": ".py",
   "mimetype": "text/x-python",
   "name": "python",
   "nbconvert_exporter": "python",
   "pygments_lexer": "ipython3",
   "version": "3.12.4"
  }
 },
 "nbformat": 4,
 "nbformat_minor": 5
}
