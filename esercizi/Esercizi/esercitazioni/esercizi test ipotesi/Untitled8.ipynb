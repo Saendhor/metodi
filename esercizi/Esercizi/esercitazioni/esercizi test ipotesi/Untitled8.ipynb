{
 "cells": [
  {
   "cell_type": "code",
   "execution_count": 1,
   "id": "6fe31101-45da-48b5-95fa-0bc488412ef3",
   "metadata": {},
   "outputs": [
    {
     "data": {
      "text/plain": [
       "array([0.31764706, 0.68235294])"
      ]
     },
     "metadata": {},
     "output_type": "display_data"
    },
    {
     "data": {
      "text/plain": [
       "array([0.73529412, 0.26470588])"
      ]
     },
     "metadata": {},
     "output_type": "display_data"
    }
   ],
   "source": [
    "import numpy as np\n",
    "from scipy.stats import chi2\n",
    "\n",
    "n = 170\n",
    "X = np.array([[44,10],[81,35]])\n",
    "\n",
    "#prob empiriche trattamento\n",
    "p = np.array([54,116])/n\n",
    "\n",
    "q = np.array([125,45])/n\n",
    "\n",
    "display(p)\n",
    "display(q)"
   ]
  },
  {
   "cell_type": "code",
   "execution_count": 3,
   "id": "689adb1c-e883-4a80-bded-8ce14940bad1",
   "metadata": {},
   "outputs": [
    {
     "data": {
      "text/plain": [
       "array([[0.25882353, 0.05882353],\n",
       "       [0.47647059, 0.20588235]])"
      ]
     },
     "metadata": {},
     "output_type": "display_data"
    }
   ],
   "source": [
    "#prob congiunta empirica\n",
    "\n",
    "pi = X/n\n",
    "display(pi)"
   ]
  },
  {
   "cell_type": "code",
   "execution_count": 5,
   "id": "dd726b64-e666-45d6-8189-da9260323a44",
   "metadata": {},
   "outputs": [
    {
     "data": {
      "text/plain": [
       "3.0175117739708286"
      ]
     },
     "metadata": {},
     "output_type": "display_data"
    }
   ],
   "source": [
    "T = 0\n",
    "\n",
    "for h in range(2):\n",
    "    for k in range(2):\n",
    "        T = T + ((p[h]*q[k] - pi[h][k])**2)/pi[h][k]\n",
    "\n",
    "T = n*T\n",
    "display(T)"
   ]
  },
  {
   "cell_type": "code",
   "execution_count": 7,
   "id": "249c7f6a-5409-40c7-bc9f-2c170477d8cb",
   "metadata": {},
   "outputs": [
    {
     "data": {
      "text/plain": [
       "3.841458820694124"
      ]
     },
     "metadata": {},
     "output_type": "display_data"
    }
   ],
   "source": [
    "alpha = 0.05\n",
    "chi = chi2.ppf(1-alpha,1)\n",
    "display(chi)"
   ]
  },
  {
   "cell_type": "code",
   "execution_count": null,
   "id": "60644e84-22f2-4311-8634-c690a1464897",
   "metadata": {},
   "outputs": [],
   "source": []
  }
 ],
 "metadata": {
  "kernelspec": {
   "display_name": "Python 3 (ipykernel)",
   "language": "python",
   "name": "python3"
  },
  "language_info": {
   "codemirror_mode": {
    "name": "ipython",
    "version": 3
   },
   "file_extension": ".py",
   "mimetype": "text/x-python",
   "name": "python",
   "nbconvert_exporter": "python",
   "pygments_lexer": "ipython3",
   "version": "3.12.4"
  }
 },
 "nbformat": 4,
 "nbformat_minor": 5
}
