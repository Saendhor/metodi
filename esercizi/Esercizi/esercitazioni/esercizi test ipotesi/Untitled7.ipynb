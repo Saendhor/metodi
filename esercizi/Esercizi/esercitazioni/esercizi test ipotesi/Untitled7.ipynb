{
 "cells": [
  {
   "cell_type": "code",
   "execution_count": 1,
   "id": "1c28059f-fa6b-4586-9ae1-3b9e8c1323e0",
   "metadata": {},
   "outputs": [
    {
     "data": {
      "text/plain": [
       "array([0.48788638, 0.33249791, 0.13784461, 0.02923977, 0.01253133])"
      ]
     },
     "metadata": {},
     "output_type": "display_data"
    }
   ],
   "source": [
    "import numpy as np\n",
    "from scipy.stats import chi2\n",
    "from scipy.stats import poisson\n",
    "\n",
    "X = np.array([584,398,165,35,15])\n",
    "m = X.size\n",
    "N = np.sum(X)\n",
    "p = X/N\n",
    "display(p)"
   ]
  },
  {
   "cell_type": "code",
   "execution_count": 3,
   "id": "50b4ba0c-654c-4120-bd5f-59676042ea4c",
   "metadata": {},
   "outputs": [
    {
     "data": {
      "text/plain": [
       "array([  0, 398, 330, 105,  60])"
      ]
     },
     "metadata": {},
     "output_type": "display_data"
    }
   ],
   "source": [
    "Xn = X*np.array([0,1,2,3,4])\n",
    "display(Xn)"
   ]
  },
  {
   "cell_type": "code",
   "execution_count": 11,
   "id": "a3110a2e-46ea-4c67-bf14-ea316e9c28e8",
   "metadata": {},
   "outputs": [
    {
     "data": {
      "text/plain": [
       "0.746031746031746"
      ]
     },
     "metadata": {},
     "output_type": "display_data"
    }
   ],
   "source": [
    "lam = np.sum(Xn)/N\n",
    "display(lam)"
   ]
  },
  {
   "cell_type": "code",
   "execution_count": 13,
   "id": "9860cef6-1ee6-4db6-9259-4465fb98bb02",
   "metadata": {},
   "outputs": [
    {
     "data": {
      "text/plain": [
       "array([0.47424475, 0.35380164, 0.13197363, 0.03281884, 0.00716115])"
      ]
     },
     "metadata": {},
     "output_type": "display_data"
    }
   ],
   "source": [
    "p0 = np.zeros(5)\n",
    "\n",
    "for i in range(4):\n",
    "    p0[i] = poisson.pmf(i,lam)\n",
    "p0[4] = 1 - np.sum(p0)\n",
    "display(p0)"
   ]
  },
  {
   "cell_type": "code",
   "execution_count": 15,
   "id": "ac490f05-a041-4626-ba29-0e24325e49f6",
   "metadata": {},
   "outputs": [
    {
     "data": {
      "text/plain": [
       "7.6054880723053175"
      ]
     },
     "metadata": {},
     "output_type": "display_data"
    }
   ],
   "source": [
    "T = N*np.sum((p0-p)**2/p0)\n",
    "display(T)"
   ]
  },
  {
   "cell_type": "code",
   "execution_count": 17,
   "id": "7894be37-9bde-4026-a19f-574be6cdf0c9",
   "metadata": {},
   "outputs": [
    {
     "data": {
      "text/plain": [
       "7.814727903251179"
      ]
     },
     "metadata": {},
     "output_type": "display_data"
    }
   ],
   "source": [
    "alpha = 0.05\n",
    "CHI = chi2.ppf(1.-alpha,m-1-1)\n",
    "display(CHI)"
   ]
  },
  {
   "cell_type": "code",
   "execution_count": null,
   "id": "86d0f853-4227-403e-a404-bc2c30c86638",
   "metadata": {},
   "outputs": [],
   "source": []
  }
 ],
 "metadata": {
  "kernelspec": {
   "display_name": "Python 3 (ipykernel)",
   "language": "python",
   "name": "python3"
  },
  "language_info": {
   "codemirror_mode": {
    "name": "ipython",
    "version": 3
   },
   "file_extension": ".py",
   "mimetype": "text/x-python",
   "name": "python",
   "nbconvert_exporter": "python",
   "pygments_lexer": "ipython3",
   "version": "3.12.4"
  }
 },
 "nbformat": 4,
 "nbformat_minor": 5
}
