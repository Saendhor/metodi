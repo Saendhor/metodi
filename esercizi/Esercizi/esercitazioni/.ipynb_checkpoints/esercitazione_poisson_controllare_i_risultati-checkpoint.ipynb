{
 "cells": [
  {
   "cell_type": "code",
   "execution_count": 1,
   "id": "1d9a773b-668b-4ad7-88fd-c9fa3f6de11a",
   "metadata": {},
   "outputs": [],
   "source": [
    "from scipy.stats import poisson"
   ]
  },
  {
   "cell_type": "code",
   "execution_count": 3,
   "id": "d0ae9234-3f0b-458b-96fd-ccbd7c2096f1",
   "metadata": {},
   "outputs": [],
   "source": [
    "#punto 1"
   ]
  },
  {
   "cell_type": "code",
   "execution_count": 5,
   "id": "65329a3e-86de-45bf-9377-cb592c1c08d0",
   "metadata": {},
   "outputs": [],
   "source": [
    "lamda_a = 2\n",
    "gnu_b = 4"
   ]
  },
  {
   "cell_type": "code",
   "execution_count": 7,
   "id": "e6fb39e8-b6f7-463b-9d89-10c3b37897e3",
   "metadata": {},
   "outputs": [],
   "source": [
    "#calcolo la probabilità con la poisson della somma"
   ]
  },
  {
   "cell_type": "code",
   "execution_count": 9,
   "id": "dfb6f8b7-b13a-4f96-a5fe-3dd40e2d59ab",
   "metadata": {},
   "outputs": [],
   "source": [
    "pr_1 = 1 - poisson.pmf(2,6) - poisson.pmf(1,6) - poisson.pmf(0,6)"
   ]
  },
  {
   "cell_type": "code",
   "execution_count": 11,
   "id": "c76db117-e1f2-4110-a8c9-391540264820",
   "metadata": {},
   "outputs": [
    {
     "data": {
      "text/plain": [
       "0.938031195583341"
      ]
     },
     "metadata": {},
     "output_type": "display_data"
    }
   ],
   "source": [
    "display(pr_1)"
   ]
  },
  {
   "cell_type": "code",
   "execution_count": 13,
   "id": "d7f987a4-9919-41bb-9413-8d928b050b7b",
   "metadata": {},
   "outputs": [],
   "source": [
    "#esercizio 2 sulla poisson"
   ]
  },
  {
   "cell_type": "code",
   "execution_count": 15,
   "id": "36203f53-2085-4878-99fd-edd79a30e3db",
   "metadata": {},
   "outputs": [
    {
     "data": {
      "text/plain": [
       "0.33469524022264474"
      ]
     },
     "metadata": {},
     "output_type": "display_data"
    }
   ],
   "source": [
    "pr_2 = poisson.pmf(1,1.5)\n",
    "display(pr_2)"
   ]
  },
  {
   "cell_type": "code",
   "execution_count": 17,
   "id": "fdf8825f-14c2-4cc1-8d5d-dae59afbf7d7",
   "metadata": {},
   "outputs": [],
   "source": [
    "#punto 2 esercizio 2"
   ]
  },
  {
   "cell_type": "code",
   "execution_count": 21,
   "id": "4a4bf444-fc9a-4b5c-bec2-b79616e1ce5a",
   "metadata": {},
   "outputs": [
    {
     "data": {
      "text/plain": [
       "0.1911531694619419"
      ]
     },
     "metadata": {},
     "output_type": "display_data"
    }
   ],
   "source": [
    "pr_3 = 1 - poisson.pmf(2,1.5) - poisson.pmf(1,1.5) - poisson.pmf(0,1.5)\n",
    "display(pr_3)"
   ]
  },
  {
   "cell_type": "code",
   "execution_count": null,
   "id": "3205d40e-f335-42dd-a210-315a97d014d8",
   "metadata": {},
   "outputs": [],
   "source": []
  }
 ],
 "metadata": {
  "kernelspec": {
   "display_name": "Python 3 (ipykernel)",
   "language": "python",
   "name": "python3"
  },
  "language_info": {
   "codemirror_mode": {
    "name": "ipython",
    "version": 3
   },
   "file_extension": ".py",
   "mimetype": "text/x-python",
   "name": "python",
   "nbconvert_exporter": "python",
   "pygments_lexer": "ipython3",
   "version": "3.12.4"
  }
 },
 "nbformat": 4,
 "nbformat_minor": 5
}
