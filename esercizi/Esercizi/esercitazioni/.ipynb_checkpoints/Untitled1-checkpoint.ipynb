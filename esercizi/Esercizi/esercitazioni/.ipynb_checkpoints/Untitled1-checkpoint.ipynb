{
 "cells": [
  {
   "cell_type": "code",
   "execution_count": 1,
   "id": "29910bbb-d216-49ca-bc89-baa201b2698b",
   "metadata": {},
   "outputs": [
    {
     "name": "stdout",
     "output_type": "stream",
     "text": [
      "0.1715\n"
     ]
    }
   ],
   "source": [
    "#esercitazioni sulle varie distribuzioni discrete\n",
    "from scipy.stats import binom\n",
    "\n",
    "p = 0.05\n",
    "\n",
    "pr = binom.pmf(1,4,p)\n",
    "print(round(pr,4))"
   ]
  },
  {
   "cell_type": "code",
   "execution_count": 2,
   "id": "d7a455d4-f7f3-4049-8dea-9430503cece4",
   "metadata": {},
   "outputs": [
    {
     "name": "stdout",
     "output_type": "stream",
     "text": [
      "0.99951875\n",
      "0.9995187500000005\n"
     ]
    }
   ],
   "source": [
    "pr = binom.cdf(2,4,p)\n",
    "pr_1 = binom.pmf(0,4,p)+binom.pmf(1,4,p)+binom.pmf(2,4,p)\n",
    "print(pr)\n",
    "print(pr_1)"
   ]
  },
  {
   "cell_type": "code",
   "execution_count": 3,
   "id": "72259562-9108-402e-9ef1-54d607600b4c",
   "metadata": {},
   "outputs": [
    {
     "name": "stdout",
     "output_type": "stream",
     "text": [
      "2.0\n"
     ]
    }
   ],
   "source": [
    "E = 40*p\n",
    "print(round(E,4))"
   ]
  },
  {
   "cell_type": "code",
   "execution_count": 4,
   "id": "06fcccf5-b8bc-4b99-bcb9-ac28a2e2ebba",
   "metadata": {},
   "outputs": [
    {
     "name": "stdout",
     "output_type": "stream",
     "text": [
      "0.3853\n"
     ]
    }
   ],
   "source": [
    "from scipy.special import binom as bi\n",
    "from scipy.stats import binom\n",
    "b = 0\n",
    "r = 30\n",
    "k = 28\n",
    "\n",
    "pr = (bi(100,0)*bi(2900,28))/bi(3000,28)\n",
    "print(round(pr,4))"
   ]
  },
  {
   "cell_type": "code",
   "execution_count": 5,
   "id": "7954ae60-b3d1-46c9-aa07-151c75a0c100",
   "metadata": {},
   "outputs": [
    {
     "name": "stdout",
     "output_type": "stream",
     "text": [
      "0.3870337242752073\n"
     ]
    }
   ],
   "source": [
    "p = binom.pmf(0,28,1/30)\n",
    "print(p)"
   ]
  },
  {
   "cell_type": "code",
   "execution_count": 6,
   "id": "3363e4cc-e53f-4530-a4df-0bd4f36bd175",
   "metadata": {},
   "outputs": [
    {
     "name": "stdout",
     "output_type": "stream",
     "text": [
      "0.11574074074074076\n",
      "0.11574074074074074\n",
      "0.1388888888888889\n",
      "0.1388888888888889\n"
     ]
    }
   ],
   "source": [
    "p = 1/6\n",
    "pr = p*(1-p)**2\n",
    "print(pr)\n",
    "print(25/216)\n",
    "pr = p*(1-p)**1\n",
    "print(pr)\n",
    "print(5/36)"
   ]
  },
  {
   "cell_type": "code",
   "execution_count": 7,
   "id": "7a9b674f-bc49-4491-ac9c-03354a004677",
   "metadata": {},
   "outputs": [
    {
     "name": "stdout",
     "output_type": "stream",
     "text": [
      "0.1219\n"
     ]
    }
   ],
   "source": [
    "from scipy.stats import poisson as pesce\n",
    "\n",
    "p = 1 - pesce.cdf(1,3/5)\n",
    "print(round(p,4))"
   ]
  },
  {
   "cell_type": "code",
   "execution_count": 8,
   "id": "f90685e7-e837-4798-8137-e6235be4766c",
   "metadata": {},
   "outputs": [
    {
     "name": "stdout",
     "output_type": "stream",
     "text": [
      "0.0031\n",
      "0.0031\n"
     ]
    }
   ],
   "source": [
    "import math\n",
    "n = 4\n",
    "w1 = w3 = w4 = w5 = 0\n",
    "w2 = 3\n",
    "w6 = 1\n",
    "q = 1/6\n",
    "p = (math.factorial(n)/(math.factorial(w1)*math.factorial(w2)*math.factorial(w3)*math.factorial(w4)*math.factorial(w5)*math.factorial(w6)))\n",
    "p = p*(q**w1*q**w2*q**w3*q**w4*q**w5*q**w6)\n",
    "\n",
    "print(round(p,4))\n",
    "print(round(4/6**4,4))"
   ]
  },
  {
   "cell_type": "code",
   "execution_count": 40,
   "id": "b4160fa1-53eb-44ec-942a-c3bc55e5e4db",
   "metadata": {},
   "outputs": [
    {
     "name": "stdout",
     "output_type": "stream",
     "text": [
      "1.5\n",
      "0.4191282431929131\n",
      "0.34154569915480437\n"
     ]
    }
   ],
   "source": [
    "from scipy.stats import norm\n",
    "from math import sqrt\n",
    "med = 1+2-3/2\n",
    "print(med)\n",
    "sig = sqrt(6)\n",
    "\n",
    "pr = 1-norm.cdf(2,med,sig)\n",
    "print(pr)\n",
    "pr = norm.cdf(0.5,med,sig)\n",
    "print(pr)"
   ]
  },
  {
   "cell_type": "code",
   "execution_count": null,
   "id": "8367339a-1ead-4da8-939b-c186f0811c6a",
   "metadata": {},
   "outputs": [],
   "source": []
  }
 ],
 "metadata": {
  "kernelspec": {
   "display_name": "Python 3 (ipykernel)",
   "language": "python",
   "name": "python3"
  },
  "language_info": {
   "codemirror_mode": {
    "name": "ipython",
    "version": 3
   },
   "file_extension": ".py",
   "mimetype": "text/x-python",
   "name": "python",
   "nbconvert_exporter": "python",
   "pygments_lexer": "ipython3",
   "version": "3.12.4"
  }
 },
 "nbformat": 4,
 "nbformat_minor": 5
}
