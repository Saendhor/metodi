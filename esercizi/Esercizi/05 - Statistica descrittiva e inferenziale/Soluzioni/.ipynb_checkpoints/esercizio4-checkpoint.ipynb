{
 "cells": [
  {
   "cell_type": "code",
   "execution_count": 1,
   "id": "895c29c3-b116-4173-a035-888dbc258709",
   "metadata": {},
   "outputs": [],
   "source": [
    "#si vuole testare un dispositivo con uno strumento che fornisce delle misure di voltaggio.\n",
    "#si eseguono 9 misurazioni registrando i valori in volt: 11, 13.2, 2.3, 10.9, 13, 10.5, 12.3, 13, 13.5\n",
    "#è nota la precisione dello strumento e si ha sigma = 1V."
   ]
  },
  {
   "cell_type": "code",
   "execution_count": 2,
   "id": "4f7dc42d-6e4c-4283-bc28-2b0018c1d810",
   "metadata": {},
   "outputs": [],
   "source": [
    "#1: si determinino gli intervalli di confidenza al 95% e al 99%."
   ]
  },
  {
   "cell_type": "code",
   "execution_count": 3,
   "id": "5fd7e439-ac79-4414-a59a-a6ea5d7a9f58",
   "metadata": {},
   "outputs": [
    {
     "name": "stdout",
     "output_type": "stream",
     "text": [
      "l'intervallo di confidenza al 95% è [11.535567560708872,12.842210217068908]\n",
      "l'intervallo di confidenza al 99% è [11.330279121039256,13.047498656738524]\n"
     ]
    }
   ],
   "source": [
    "import numpy as np\n",
    "from scipy.stats import norm\n",
    "from math import sqrt\n",
    "\n",
    "devStandard = 1 #è sigma\n",
    "\n",
    "X = np.array([11, 13.2, 12.3, 10.9, 13, 10.5, 12.3, 13, 13.5])\n",
    "\n",
    "#caso in cui si ha il 95%\n",
    "alpha1 = 0.05\n",
    "phi1 = norm.ppf(1-alpha1/2)\n",
    "n = X.size\n",
    "media = np.mean(X)\n",
    "\n",
    "min1 = media - devStandard/sqrt(n) * phi1\n",
    "max1 = media + devStandard/sqrt(n) * phi1\n",
    "\n",
    "print(\n",
    "    \"l'intervallo di confidenza al 95% è [{},{}]\".format(min1,max1)\n",
    ")\n",
    "\n",
    "#alpha2 = (100 - 99) /100\n",
    "alpha2 = 0.01\n",
    "phi2 = norm.ppf(1-alpha2/2)\n",
    "min2 = media - devStandard/sqrt(n) * phi2\n",
    "max2 = media + devStandard/sqrt(n) * phi2\n",
    "\n",
    "print(\n",
    "    \"l'intervallo di confidenza al 99% è [{},{}]\".format(min2,max2)\n",
    ")\n",
    "\n",
    "\n"
   ]
  },
  {
   "cell_type": "code",
   "execution_count": 4,
   "id": "a3f2f49f-e91d-4fa0-83da-94c5a33e1046",
   "metadata": {},
   "outputs": [],
   "source": [
    "#2: determinare gli stessi intervalli di confidenza nel caso in cui si avesse sigma = 1.4V"
   ]
  },
  {
   "cell_type": "code",
   "execution_count": 5,
   "id": "9f9432c6-885d-4dff-bdb6-9696b53c3734",
   "metadata": {},
   "outputs": [
    {
     "name": "stdout",
     "output_type": "stream",
     "text": [
      "l'intervallo di confidenza al 95% è [11.274239029436865,13.103538748340915] l'intervallo di confidenza al 95% è [10.986835213899404,13.390942563878376]\n"
     ]
    }
   ],
   "source": [
    "from math import sqrt\n",
    "import numpy as np\n",
    "from scipy.stats import norm\n",
    "\n",
    "X = np.array([11, 13.2, 12.3, 10.9, 13, 10.5, 12.3, 13, 13.5])\n",
    "n = X.size\n",
    "devStandard = 1.4\n",
    "alpha1 = 0.05\n",
    "alpha2 = 0.01\n",
    "\n",
    "media = np.mean(X)\n",
    "\n",
    "phi1 = norm.ppf(1-alpha1/2)\n",
    "phi2 = norm.ppf(1-alpha2/2)\n",
    "\n",
    "min1 = media - devStandard/sqrt(n) * phi1\n",
    "max1 = media + devStandard/sqrt(n) * phi1\n",
    "\n",
    "min2 = media - devStandard/sqrt(n) * phi2\n",
    "max2 = media + devStandard/sqrt(n) * phi2\n",
    "\n",
    "print(\n",
    "    \"l'intervallo di confidenza al 95% è [{},{}]\".format(min1,max1),\n",
    "    \"l'intervallo di confidenza al 95% è [{},{}]\".format(min2,max2)\n",
    ")\n",
    "\n"
   ]
  },
  {
   "cell_type": "code",
   "execution_count": 6,
   "id": "f8325576-f4ba-47ec-96a8-1a9765098773",
   "metadata": {},
   "outputs": [],
   "source": [
    "#3: sempre con precisione sigma=1V determina gli stessi intervalli con la stessa media delle misure ma supponendo che essa \n",
    "#provenga da un campione di 20 misurazioni"
   ]
  },
  {
   "cell_type": "code",
   "execution_count": 7,
   "id": "2aa1bad9-f76e-47b0-b346-9ff9d3d64ec6",
   "metadata": {},
   "outputs": [
    {
     "name": "stdout",
     "output_type": "stream",
     "text": [
      "l'intervallo di confidenza del 95% è [11.7506276186006,12.62715015917718] l'intervallo di confidenza del 99% è [11.612915946771762,12.764861831006018]\n"
     ]
    }
   ],
   "source": [
    "import numpy as np\n",
    "from math import sqrt\n",
    "from scipy.stats import norm \n",
    "\n",
    "n = 20\n",
    "X = np.array([11, 13.2, 12.3, 10.9, 13, 10.5, 12.3, 13, 13.5])\n",
    "devStandard = 1\n",
    "alpha1 = 0.05\n",
    "alpha2 = 0.01\n",
    "\n",
    "phi1 = norm.ppf(1-alpha1/2)\n",
    "phi2 = norm.ppf(1-alpha2/2)\n",
    "\n",
    "media = np.mean(X)\n",
    "\n",
    "min1 = media - devStandard / sqrt(n) * phi1\n",
    "max1 = media + devStandard / sqrt(n) * phi1\n",
    "\n",
    "min2 = media - devStandard / sqrt(n) * phi2\n",
    "max2 = media + devStandard / sqrt(n) * phi2\n",
    "\n",
    "print(\n",
    "    \"l'intervallo di confidenza del 95% è [{},{}]\".format(min1,max1),\n",
    "    \"l'intervallo di confidenza del 99% è [{},{}]\".format(min2,max2)\n",
    ")\n",
    "    "
   ]
  },
  {
   "cell_type": "code",
   "execution_count": null,
   "id": "3fc6c68b-83ec-4d1c-af3b-b8ff95156e82",
   "metadata": {},
   "outputs": [],
   "source": []
  },
  {
   "cell_type": "code",
   "execution_count": null,
   "id": "f5ecff42-183e-4bb5-bd28-2444ae2d0d6c",
   "metadata": {},
   "outputs": [],
   "source": []
  }
 ],
 "metadata": {
  "kernelspec": {
   "display_name": "Python 3 (ipykernel)",
   "language": "python",
   "name": "python3"
  },
  "language_info": {
   "codemirror_mode": {
    "name": "ipython",
    "version": 3
   },
   "file_extension": ".py",
   "mimetype": "text/x-python",
   "name": "python",
   "nbconvert_exporter": "python",
   "pygments_lexer": "ipython3",
   "version": "3.12.7"
  }
 },
 "nbformat": 4,
 "nbformat_minor": 5
}
