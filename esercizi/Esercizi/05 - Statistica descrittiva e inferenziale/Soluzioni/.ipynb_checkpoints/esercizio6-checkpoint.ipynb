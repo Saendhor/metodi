{
 "cells": [
  {
   "cell_type": "code",
   "execution_count": 1,
   "id": "0ef4a826-de24-4769-b47e-54fe2760b4aa",
   "metadata": {},
   "outputs": [],
   "source": [
    "#un macchinario riempie automaticamente delle bottiglie. \n",
    "#Da un campione di 20 misurazioni si ottengono i seguenti valori in litri:\n",
    "#2.05, 2.04, 1.98, 1.96, 2.03, 2.01, 1.97, 1.99, 2.01, 2.05 1.96, 1.95, 2.04, 2.01, 1.97, 1.96, 2.02, 2.04, 1.98, 1.94\n",
    "#se la varianza fosse troppo grande la proporzione di bottiglie sotto o sovrariempite sarebbe non accettabile."
   ]
  },
  {
   "cell_type": "code",
   "execution_count": 2,
   "id": "ef804116-82f6-43eb-9282-fabfc386c109",
   "metadata": {},
   "outputs": [],
   "source": [
    "#1: calcolare l'intervallo di confidenza al 95% per il limite superiore per la deviazione standard"
   ]
  },
  {
   "cell_type": "code",
   "execution_count": 3,
   "id": "667c2555-26ae-445e-b125-d2385a89ad8d",
   "metadata": {},
   "outputs": [
    {
     "name": "stdout",
     "output_type": "stream",
     "text": [
      "l'intervallo di confidenza al 95% per il limite superiore per la varianza è:  0.0007933669721643767\n",
      "l'intervallo di confidenza al 95% per il limite superiore per la deviazione Standard è:  0.02816677070884017\n"
     ]
    }
   ],
   "source": [
    "import numpy as np\n",
    "from scipy.stats import chi2\n",
    "from math import sqrt\n",
    "\n",
    "X = np.array([2.05, 2.04, 1.98, 1.96, 2.03, 2.01, 1.97, 1.99, 2.01, 2.05, 1.96, 1.95, 2.04, 2.01, 1.97, 1.96, 2.02, 2.04, 1.98, 1.94])\n",
    "n = X.size\n",
    "\n",
    "S = np.std(X,ddof=1) #deviazione standard\n",
    "\n",
    "alpha = 0.05\n",
    "chi = chi2.ppf(1-alpha,n)\n",
    "\n",
    "var = (pow(S,2)*(n-1))/((chi)) \n",
    "\n",
    "devSta = sqrt(var) #la deviazione standard è la radice quadrata della varianza\n",
    "\n",
    "print(\n",
    "    \"l'intervallo di confidenza al 95% per il limite superiore per la varianza è: \",\n",
    "    var\n",
    ")\n",
    "\n",
    "print(\n",
    "    \"l'intervallo di confidenza al 95% per il limite superiore per la deviazione Standard è: \",\n",
    "    devSta\n",
    ")\n",
    "    \n",
    "\n",
    "\n",
    "\n"
   ]
  },
  {
   "cell_type": "code",
   "execution_count": null,
   "id": "a0c174c8-b901-4cf2-91dc-c933e1c3aa82",
   "metadata": {},
   "outputs": [],
   "source": []
  },
  {
   "cell_type": "code",
   "execution_count": null,
   "id": "39c08483-c128-4f96-ba4b-5c11036c3703",
   "metadata": {},
   "outputs": [],
   "source": []
  }
 ],
 "metadata": {
  "kernelspec": {
   "display_name": "Python 3 (ipykernel)",
   "language": "python",
   "name": "python3"
  },
  "language_info": {
   "codemirror_mode": {
    "name": "ipython",
    "version": 3
   },
   "file_extension": ".py",
   "mimetype": "text/x-python",
   "name": "python",
   "nbconvert_exporter": "python",
   "pygments_lexer": "ipython3",
   "version": "3.11.7"
  }
 },
 "nbformat": 4,
 "nbformat_minor": 5
}
