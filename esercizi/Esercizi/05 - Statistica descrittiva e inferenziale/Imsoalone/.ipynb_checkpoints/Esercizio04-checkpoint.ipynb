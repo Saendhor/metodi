{
 "cells": [
  {
   "cell_type": "code",
   "execution_count": 1,
   "id": "0ecb3c2f-0020-42a9-80cc-deca7a8efb13",
   "metadata": {},
   "outputs": [],
   "source": [
    "# Si vuole testare un dispositivo con uno strumento che fornisce delle misure di voltaggio.\n",
    "# Si eseguono 9 misurazioni registrando i seguenti valori in volt [V]:\n",
    "misurazioni = [11, 13.2, 12.3, 10.9, 13, 10.5, 12.3, 13, 13.5]\n",
    "n = 9\n",
    "# È nota la precisione dello strumento e si ha che\n",
    "devStandard = 1 # [V]\n",
    "\n",
    "import numpy as np\n",
    "from scipy.stats import norm"
   ]
  },
  {
   "cell_type": "code",
   "execution_count": 2,
   "id": "34768d68-910b-410c-9586-3fe30f1613a8",
   "metadata": {},
   "outputs": [
    {
     "name": "stdout",
     "output_type": "stream",
     "text": [
      "L'intervallo di confidenza per alpha = 0.05 è [ 11.536 , 12.842 ]\n",
      "L'intervallo di confidenza per alpha = 0.01 è [ 11.33 , 13.047 ]\n"
     ]
    }
   ],
   "source": [
    "# Punto 1: Si determinino gli intervalli di confidenza al 95% e al 99%\n",
    "media = np.mean (misurazioni)\n",
    "\n",
    "alpha = 0.05\n",
    "phi = norm.ppf (1 - alpha/2)\n",
    "\n",
    "lim_inf = round( media - (devStandard / np.sqrt(n) * phi), 3)\n",
    "lim_sup = round( media + (devStandard / np.sqrt(n) * phi), 3)\n",
    "\n",
    "print (\"L'intervallo di confidenza per alpha = 0.05 è [\", lim_inf, \",\", lim_sup, \"]\")\n",
    "\n",
    "alpha = 0.01\n",
    "phi = norm.ppf (1 - alpha/2)\n",
    "\n",
    "lim_inf = round( media - (devStandard / np.sqrt(n) * phi), 3)\n",
    "lim_sup = round( media + (devStandard / np.sqrt(n) * phi), 3)\n",
    "\n",
    "print (\"L'intervallo di confidenza per alpha = 0.01 è [\", lim_inf, \",\", lim_sup, \"]\")"
   ]
  },
  {
   "cell_type": "code",
   "execution_count": 3,
   "id": "684092a9-0ec6-423c-95cb-fa175ef414c1",
   "metadata": {},
   "outputs": [
    {
     "name": "stdout",
     "output_type": "stream",
     "text": [
      "L'intervallo di confidenza per alpha = 0.05 è [ 11.274 , 13.104 ]\n",
      "L'intervallo di confidenza per alpha = 0.01 è [ 10.987 , 13.391 ]\n"
     ]
    }
   ],
   "source": [
    "# Punto 2: Determinare gli stessi intervalli di confidenza nel caso in cui si avesse\n",
    "devStandard_2 = 1.4 # [V]\n",
    "\n",
    "alpha = 0.05\n",
    "phi = norm.ppf (1 - alpha/2)\n",
    "\n",
    "lim_inf = round( media - (devStandard_2 / np.sqrt(n) * phi), 3)\n",
    "lim_sup = round( media + (devStandard_2 / np.sqrt(n) * phi), 3)\n",
    "\n",
    "print (\"L'intervallo di confidenza per alpha = 0.05 è [\", lim_inf, \",\", lim_sup, \"]\")\n",
    "\n",
    "alpha = 0.01\n",
    "phi = norm.ppf (1 - alpha/2)\n",
    "\n",
    "lim_inf = round( media - (devStandard_2 / np.sqrt(n) * phi), 3)\n",
    "lim_sup = round( media + (devStandard_2 / np.sqrt(n) * phi), 3)\n",
    "\n",
    "print (\"L'intervallo di confidenza per alpha = 0.01 è [\", lim_inf, \",\", lim_sup, \"]\")"
   ]
  },
  {
   "cell_type": "code",
   "execution_count": 4,
   "id": "cf46c61a-3168-42c9-9755-f97894e43d6c",
   "metadata": {},
   "outputs": [
    {
     "name": "stdout",
     "output_type": "stream",
     "text": [
      "L'intervallo di confidenza per alpha = 0.05 è [ 11.751 , 12.627 ]\n",
      "L'intervallo di confidenza per alpha = 0.01 è [ 11.613 , 12.765 ]\n"
     ]
    }
   ],
   "source": [
    "# Punto 3: Sempre con precisione sigma = 1 V, determinare gli stessi intervalli con la stessa media delle\n",
    "# misure ma supponendo che essa provenga da un campione di 20 misurazioni\n",
    "\n",
    "n_2 = 20\n",
    "\n",
    "alpha = 0.05\n",
    "phi = norm.ppf (1 - alpha/2)\n",
    "\n",
    "lim_inf = round( media - (devStandard / np.sqrt(n_2) * phi), 3)\n",
    "lim_sup = round( media + (devStandard / np.sqrt(n_2) * phi), 3)\n",
    "\n",
    "print (\"L'intervallo di confidenza per alpha = 0.05 è [\", lim_inf, \",\", lim_sup, \"]\")\n",
    "\n",
    "alpha = 0.01\n",
    "phi = norm.ppf (1 - alpha/2)\n",
    "\n",
    "lim_inf = round( media - (devStandard / np.sqrt(n_2) * phi), 3)\n",
    "lim_sup = round( media + (devStandard / np.sqrt(n_2) * phi), 3)\n",
    "\n",
    "print (\"L'intervallo di confidenza per alpha = 0.01 è [\", lim_inf, \",\", lim_sup, \"]\")"
   ]
  }
 ],
 "metadata": {
  "kernelspec": {
   "display_name": "Python 3 (ipykernel)",
   "language": "python",
   "name": "python3"
  },
  "language_info": {
   "codemirror_mode": {
    "name": "ipython",
    "version": 3
   },
   "file_extension": ".py",
   "mimetype": "text/x-python",
   "name": "python",
   "nbconvert_exporter": "python",
   "pygments_lexer": "ipython3",
   "version": "3.12.7"
  }
 },
 "nbformat": 4,
 "nbformat_minor": 5
}
