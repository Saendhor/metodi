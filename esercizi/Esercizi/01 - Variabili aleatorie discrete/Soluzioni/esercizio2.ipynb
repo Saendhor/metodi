{
 "cells": [
  {
   "cell_type": "code",
   "execution_count": 1,
   "id": "c1d79e80-8b52-47d4-ad61-bd1e2823ba92",
   "metadata": {},
   "outputs": [],
   "source": [
    "#Da una rilevazione risulta che il numero di incidenti stradali che avvengono ad un determinato incrocio in un mese\n",
    "#segue una distribuzione di Poisson con valor medio 1.5."
   ]
  },
  {
   "cell_type": "code",
   "execution_count": 2,
   "id": "e32d6418-1207-480e-9789-0122d9496b6c",
   "metadata": {},
   "outputs": [],
   "source": [
    "from math import e\n",
    "from math import factorial"
   ]
  },
  {
   "cell_type": "code",
   "execution_count": 3,
   "id": "c1e4d157-174f-49cf-8b51-c6d731b1ffe8",
   "metadata": {},
   "outputs": [],
   "source": [
    "#1: Qual è la probabilità che in un mese non ci siano incidenti?"
   ]
  },
  {
   "cell_type": "code",
   "execution_count": 4,
   "id": "91429f9b-fa36-4906-b92e-0579de9d013c",
   "metadata": {},
   "outputs": [],
   "source": [
    "#la media nella dsitribuzione di Poisson coincinde con lambda --> quindi lambda=1.5\n",
    "#anche la varianza nella distribuzione di Poisson coincide con lambda --> quindi varianza=media=lambda"
   ]
  },
  {
   "cell_type": "code",
   "execution_count": 5,
   "id": "faed1f4d-5f62-4c78-aa4b-845d00240eef",
   "metadata": {},
   "outputs": [
    {
     "name": "stdout",
     "output_type": "stream",
     "text": [
      "La probabilità che in un mese non ci siano incidenti è:  0.2231\n"
     ]
    }
   ],
   "source": [
    "k0 = 0 #il numero di successi\n",
    "lam1 = 1.5\n",
    "\n",
    "#probabilità\n",
    "p_es1 = pow(e,-lam1)*((pow(lam1,k0))/(factorial(k0)))\n",
    "\n",
    "print(\n",
    "    \"La probabilità che in un mese non ci siano incidenti è: \",\n",
    "    round(p_es1,4)\n",
    ")"
   ]
  },
  {
   "cell_type": "code",
   "execution_count": 6,
   "id": "fdca310f-1c49-4e3b-9768-385277a4309b",
   "metadata": {},
   "outputs": [],
   "source": [
    "#2: Qual è la probabilità che in un mese ci siano più di due incidenti?"
   ]
  },
  {
   "cell_type": "code",
   "execution_count": 7,
   "id": "771dd3d0-cb88-4578-aaad-ee60d39efc20",
   "metadata": {},
   "outputs": [],
   "source": [
    "#k varia da un minimo di 0 a un massimo di 2 \n",
    "#dal caso ottimo togliamo i casi in cui k=0,1,2"
   ]
  },
  {
   "cell_type": "code",
   "execution_count": 8,
   "id": "e744deec-af0c-44f5-af40-df52cca2f9bc",
   "metadata": {},
   "outputs": [
    {
     "name": "stdout",
     "output_type": "stream",
     "text": [
      "La probabilità che in un mese ci siano più di due incidenti è:  0.1912\n"
     ]
    }
   ],
   "source": [
    "k0=0\n",
    "k1=1\n",
    "k2=2\n",
    "lam2=1.5\n",
    "\n",
    "#calcolo la probabilità usando la distribuzione di Poisson per ogni k e faccio la somma\n",
    "p0 = pow(e,-lam2)*((pow(lam2,k0))/(factorial(k0)))\n",
    "p1 = pow(e,-lam2)*((pow(lam2,k1))/(factorial(k1)))\n",
    "p2 = pow(e,-lam2)*((pow(lam2,k2))/(factorial(k2)))\n",
    "pTot = p0 + p1 + p2\n",
    "\n",
    "p_es2 = 1 - pTot\n",
    "\n",
    "print(\n",
    "    \"La probabilità che in un mese ci siano più di due incidenti è: \",\n",
    "    round(p_es2,4)\n",
    ")\n",
    "\n"
   ]
  }
 ],
 "metadata": {
  "kernelspec": {
   "display_name": "Python 3 (ipykernel)",
   "language": "python",
   "name": "python3"
  },
  "language_info": {
   "codemirror_mode": {
    "name": "ipython",
    "version": 3
   },
   "file_extension": ".py",
   "mimetype": "text/x-python",
   "name": "python",
   "nbconvert_exporter": "python",
   "pygments_lexer": "ipython3",
   "version": "3.12.7"
  }
 },
 "nbformat": 4,
 "nbformat_minor": 5
}
