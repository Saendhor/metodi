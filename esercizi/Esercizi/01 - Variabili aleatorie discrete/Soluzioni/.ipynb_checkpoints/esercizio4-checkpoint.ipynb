{
 "cells": [
  {
   "cell_type": "code",
   "execution_count": 1,
   "id": "c7f719f5-dabc-4bab-af8e-2f7a5cf12230",
   "metadata": {},
   "outputs": [],
   "source": [
    "#si lancia un dado equilibrato finchè non esca un numero dispari."
   ]
  },
  {
   "cell_type": "code",
   "execution_count": 2,
   "id": "be96b7fc-88ee-4ccc-8962-370113506ec1",
   "metadata": {},
   "outputs": [],
   "source": [
    "#1: Qual è la probabilità che esca un numero dispari al quarto tentativo?"
   ]
  },
  {
   "cell_type": "code",
   "execution_count": 3,
   "id": "26571fae-18db-4ac4-a399-56bdefb6e482",
   "metadata": {},
   "outputs": [],
   "source": [
    "#è necessario usare la distribuzione geometrica"
   ]
  },
  {
   "cell_type": "code",
   "execution_count": 4,
   "id": "23326cde-2175-4259-9ade-273698a58325",
   "metadata": {},
   "outputs": [
    {
     "name": "stdout",
     "output_type": "stream",
     "text": [
      "la probabilità che esca un numero dispari al quarto tentavito è:  0.0625\n"
     ]
    }
   ],
   "source": [
    "p = 3/6 #probabilità che esca un numero dispari\n",
    "k = 4 #numero di successi: 4 lanci -> 3 lanci numero pari + 1 lancio dispari\n",
    "q = 1-p #probabilità di insuccessi\n",
    "\n",
    "p_es1 = p*(pow(q,k-1))\n",
    "\n",
    "print(\n",
    "    \"la probabilità che esca un numero dispari al quarto tentavito è: \",\n",
    "    round(p_es1,4)\n",
    ")"
   ]
  },
  {
   "cell_type": "code",
   "execution_count": 5,
   "id": "5284338a-9a74-4d8a-98d7-ae83caae5c5d",
   "metadata": {},
   "outputs": [],
   "source": [
    "#2: Quanti tentativi sono necessari affichè si abbia una probabilità maggiore del 95% \n",
    "#che esca un numero dispari esattamente al tentativo successivo?"
   ]
  },
  {
   "cell_type": "code",
   "execution_count": 6,
   "id": "a443f3fd-90a3-459b-8914-17ed3f08e647",
   "metadata": {},
   "outputs": [],
   "source": [
    "#occorre utilizzare la Funzione di Densità "
   ]
  },
  {
   "cell_type": "code",
   "execution_count": 7,
   "id": "afa070de-1a7b-44dd-a69c-eedde6889298",
   "metadata": {},
   "outputs": [
    {
     "data": {
      "text/plain": [
       "5"
      ]
     },
     "execution_count": 7,
     "metadata": {},
     "output_type": "execute_result"
    }
   ],
   "source": [
    "from scipy.stats import geom\n",
    "\n",
    "k = 1\n",
    "p = 3/6\n",
    "q = 1-p\n",
    "\n",
    "while geom.cdf(k,p) < (95/100):\n",
    "    k += 1\n",
    "k\n",
    "    \n",
    "\n"
   ]
  },
  {
   "cell_type": "code",
   "execution_count": 8,
   "id": "0e9f433f-cd61-4d47-9840-b48ccbd5fc87",
   "metadata": {},
   "outputs": [],
   "source": [
    "#3: sapendo che nei primi 4 lanci non si è verificato un numero dispari\n",
    "#qual è la probabilità che si abbia un numero dispari per la prima volta al settimo tentativo?"
   ]
  },
  {
   "cell_type": "code",
   "execution_count": 9,
   "id": "9e03ca1c-5b63-4a10-b192-6d7ba5fc461b",
   "metadata": {},
   "outputs": [],
   "source": [
    "#sfrutta la caratteristica fondamentale della distribuzione geometrica : PERDITA DI MEMORIA"
   ]
  },
  {
   "cell_type": "code",
   "execution_count": 10,
   "id": "fa0200db-5fad-4fa2-a18b-21f283d492ce",
   "metadata": {},
   "outputs": [
    {
     "name": "stdout",
     "output_type": "stream",
     "text": [
      "la la probabilità che si abbia un numero dispari per la prima volta al settimo tentativo è:  0.125\n"
     ]
    }
   ],
   "source": [
    "k = 3 #non consideriamo i primi 4 lanci -->perdita di memoria\n",
    "p = 3/6 #probabilità che esca un numero dispari\n",
    "q = 1-p #probabilità di insuccesso\n",
    "\n",
    "p_es3 = p*(pow(q,k-1))\n",
    "\n",
    "print(\n",
    "    \"la la probabilità che si abbia un numero dispari per la prima volta al settimo tentativo è: \",\n",
    "    round(p_es3, 4)\n",
    ")"
   ]
  }
 ],
 "metadata": {
  "kernelspec": {
   "display_name": "Python 3 (ipykernel)",
   "language": "python",
   "name": "python3"
  },
  "language_info": {
   "codemirror_mode": {
    "name": "ipython",
    "version": 3
   },
   "file_extension": ".py",
   "mimetype": "text/x-python",
   "name": "python",
   "nbconvert_exporter": "python",
   "pygments_lexer": "ipython3",
   "version": "3.11.7"
  }
 },
 "nbformat": 4,
 "nbformat_minor": 5
}
