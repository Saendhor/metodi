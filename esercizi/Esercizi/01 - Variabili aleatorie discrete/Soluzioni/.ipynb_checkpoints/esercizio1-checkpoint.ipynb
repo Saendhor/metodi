{
 "cells": [
  {
   "cell_type": "code",
   "execution_count": 1,
   "id": "8cc5fd45-3a95-4c94-bfdc-b9407ea64a98",
   "metadata": {},
   "outputs": [],
   "source": [
    "#due centralini tra di loro indipendenti ricevono nell'unita di tempo un numero di telefonate X e Y \n",
    "#aventi legge di Poisson di parametri rispettivamente lambda e mu (miu)"
   ]
  },
  {
   "cell_type": "code",
   "execution_count": 2,
   "id": "cda27135-1734-4225-beee-6a4e9d1a5dda",
   "metadata": {},
   "outputs": [],
   "source": [
    "from math import e\n",
    "from math import factorial\n",
    "import scipy.special as sp\n"
   ]
  },
  {
   "cell_type": "code",
   "execution_count": 3,
   "id": "64f24d4b-a542-420a-b0e3-87b3066c3665",
   "metadata": {},
   "outputs": [],
   "source": [
    "#1: qual è la probabilità che nell'unità di tempo i due centralini ricevano insieme non più di tre telefonate?\n",
    "#supponendo lambda = 2 e miu = 4"
   ]
  },
  {
   "cell_type": "code",
   "execution_count": 4,
   "id": "d2d1274f-3808-4af2-9ea9-31b72c52bda6",
   "metadata": {},
   "outputs": [],
   "source": [
    "#usiamo la distribuzione di Poisson \n",
    "#k = numero di eventi --> varia da ub minimo di 0 telefonate a un massimo di 3 telefonate\n",
    "#lambda(X) = 2\n",
    "#miu(Y) = 4\n",
    "#quindi X+Y = lambda + miu\n",
    "\n",
    "#quello che dobbiamo fare è calcolare la probabilità al variare di k (che assumen valori 0,1,2,3) usando lmbda+miu, \n",
    "#e sommare le singole probabilità --> P(X+Y<=3)=P(k=0)+P(k=1)+P(k=2)+P(k=3)"
   ]
  },
  {
   "cell_type": "code",
   "execution_count": 5,
   "id": "6fbfd12a-a8a6-4cc1-b746-6362d71aa92b",
   "metadata": {},
   "outputs": [
    {
     "name": "stdout",
     "output_type": "stream",
     "text": [
      "La probabilità che nell'unità di tempo i due centralini ricevano insieme non più di tre telefonate è:  0.1512\n"
     ]
    }
   ],
   "source": [
    "#lambda + miu\n",
    "lam = 2\n",
    "miu = 4\n",
    "par = lam + miu\n",
    "k0=0\n",
    "k1=1\n",
    "k2=2\n",
    "k3=3\n",
    "\n",
    "p0 = pow(e,-par) * ((pow(par,k0)/factorial(k0)))\n",
    "p1 = pow(e,-par)*((pow(par,k1)/factorial(k1)))\n",
    "p2 = pow(e,-par) * ((pow(par,k2)/factorial(k2)))\n",
    "p3 = pow(e,-par)* ((pow(par,k3)/factorial(k3)))\n",
    "\n",
    "p_es1 = p0 + p1 + p2 + p3\n",
    "\n",
    "print(\n",
    "    \"La probabilità che nell'unità di tempo i due centralini ricevano insieme non più di tre telefonate è: \",\n",
    "    round(p_es1,4)\n",
    ")\n",
    "    "
   ]
  },
  {
   "cell_type": "code",
   "execution_count": 6,
   "id": "6733a812-8afa-49c5-aad8-b239d393a547",
   "metadata": {},
   "outputs": [],
   "source": [
    "#2: calcolare la legge condizionale di X dato X+Y=n. (legge condizionale = distribuzione di probabilità)\n",
    "# si tratta di una densità nota? Di quale si tratta? (\n",
    "# quanto vale la media di questa legge condizionale?\n",
    "\n",
    "#VEDI"
   ]
  },
  {
   "cell_type": "code",
   "execution_count": 7,
   "id": "e613055a-f9a3-4616-a80b-f6bfb79e1457",
   "metadata": {},
   "outputs": [],
   "source": [
    "#3: supponendo lambda=2 e miu = 4\n",
    "# sapendo che nell'unità di tempo i due centalini hanno ricevuto complessivamente 8 telefonate\n",
    "# qual è la probabilità che il primo ne abbia ricevute 3?"
   ]
  },
  {
   "cell_type": "code",
   "execution_count": 8,
   "id": "afe60198-a6aa-447c-862c-572eb4c76b49",
   "metadata": {},
   "outputs": [],
   "source": [
    "#usiamo la distribuzione binomiale"
   ]
  },
  {
   "cell_type": "code",
   "execution_count": 9,
   "id": "fb520f92-c40e-4ed1-9ffa-b7ea1a2049a6",
   "metadata": {},
   "outputs": [
    {
     "name": "stdout",
     "output_type": "stream",
     "text": [
      "la probabilità che il primo centralino abbia ricevuto 3 telefonate su 8 è:  0.2731\n"
     ]
    }
   ],
   "source": [
    "k = 3 #numero di successi\n",
    "n = 8 #numero di prove\n",
    "p = 2/(2+4) #probabilità di successo nella singola prova\n",
    "q = 1-p #probabilità di insuccesso nella singola prova\n",
    "\n",
    "#probabilità\n",
    "p_es3 = sp.binom(n,k)*pow(p,k)*(pow(q,n-k))\n",
    "print(\n",
    "    \"la probabilità che il primo centralino abbia ricevuto 3 telefonate su 8 è: \",\n",
    "    round(p_es3,4)\n",
    ")\n",
    "\n"
   ]
  }
 ],
 "metadata": {
  "kernelspec": {
   "display_name": "Python 3 (ipykernel)",
   "language": "python",
   "name": "python3"
  },
  "language_info": {
   "codemirror_mode": {
    "name": "ipython",
    "version": 3
   },
   "file_extension": ".py",
   "mimetype": "text/x-python",
   "name": "python",
   "nbconvert_exporter": "python",
   "pygments_lexer": "ipython3",
   "version": "3.11.7"
  }
 },
 "nbformat": 4,
 "nbformat_minor": 5
}
