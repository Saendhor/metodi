{
 "cells": [
  {
   "cell_type": "code",
   "execution_count": 1,
   "id": "f02d7d6d-ee27-43bf-b70e-e70373317882",
   "metadata": {},
   "outputs": [],
   "source": [
    "#si supponga che tre negozi della stessa tipologia attraggano rispettivamente il 20% della clientela, il 45% e il 35%.\n",
    "#Si scelgano a caso 6 clienti"
   ]
  },
  {
   "cell_type": "code",
   "execution_count": 2,
   "id": "9b8a005c-1447-45a9-a673-1e4845f81a8a",
   "metadata": {},
   "outputs": [],
   "source": [
    "#1: qual è la probabilità che 2 vadano nel primo negozio, 1 nel secondo e 3 nel terzo?"
   ]
  },
  {
   "cell_type": "code",
   "execution_count": 3,
   "id": "055cf24b-491e-4b2e-b8d0-04df5f2a704d",
   "metadata": {},
   "outputs": [],
   "source": [
    "from math import factorial"
   ]
  },
  {
   "cell_type": "code",
   "execution_count": 4,
   "id": "2929d802-1676-4472-ba5c-cd575cc7f179",
   "metadata": {},
   "outputs": [],
   "source": [
    "#occorre usare la Distribuzione Multinomiale\n",
    "#numero prove = numero di clienti scelti a caso\n",
    "#P[Y = 2, 1, 3] --> numeri di volte in cui si devono verificare eventi di categoria 1,2,3.\n",
    "#B(numProve, probabilità categoria1,probabilità categoria2,probabilità categoria3)"
   ]
  },
  {
   "cell_type": "code",
   "execution_count": 5,
   "id": "1f81d7c5-9d9d-4942-8447-764b3cc6dce3",
   "metadata": {},
   "outputs": [
    {
     "name": "stdout",
     "output_type": "stream",
     "text": [
      "la probabilità che, scelti 6 clienti a caso 2 vadano nel primo negozio, 1 nel secondo e 3 nel terzo è:  0.0463\n"
     ]
    }
   ],
   "source": [
    "n = 6 #numero di prove totali\n",
    "x1 = 2 #numero di volte in cui si deve verificare l'evento d icategoria 1\n",
    "x2 = 1 #numero di volte in cui si deve verificare l'evento d icategoria 2\n",
    "x3 = 3 #numero di volte in cui si deve verificare l'evento d icategoria 3\n",
    "\n",
    "#probabilità che l'evento di categoria 1,2,3 si verifichi\n",
    "p1 = 20/100\n",
    "p2 = 45/100\n",
    "p3 = 35/100\n",
    "\n",
    "p_es1 = ((factorial(n)) / ((factorial(x1))*(factorial(x2))*((factorial(x3))))) * (pow(p1,x1))*(pow(p2,x2))*(pow(p3,x3))\n",
    "\n",
    "print(\n",
    "    \"la probabilità che, scelti 6 clienti a caso 2 vadano nel primo negozio, 1 nel secondo e 3 nel terzo è: \",\n",
    "    round(p_es1,4)\n",
    ")\n"
   ]
  },
  {
   "cell_type": "code",
   "execution_count": 6,
   "id": "976f0dbd-21a4-4ac4-8a72-e6cf68519935",
   "metadata": {},
   "outputs": [],
   "source": [
    "#2: qual è la probabilità che nessun cliente vada nel primo negozio"
   ]
  },
  {
   "cell_type": "code",
   "execution_count": 7,
   "id": "82f42fee-7d75-4c50-8d9f-615b24d8ca21",
   "metadata": {},
   "outputs": [],
   "source": [
    "import scipy.special as sp"
   ]
  },
  {
   "cell_type": "code",
   "execution_count": 8,
   "id": "406a29d1-6355-4ab0-941e-6d934e28ae80",
   "metadata": {},
   "outputs": [
    {
     "name": "stdout",
     "output_type": "stream",
     "text": [
      "la probabilità che scelti 6 clienti a caso, nessuno vada nel primo negozio è:  0.2621\n"
     ]
    }
   ],
   "source": [
    "n = 6 #numero di prove totali\n",
    "p = 20/100\n",
    "k = 0\n",
    "q = 1-p\n",
    "\n",
    "p_es2 = sp.binom(n,k)*pow(p,k)*pow(q,n-k)\n",
    "\n",
    "print(\n",
    "    \"la probabilità che scelti 6 clienti a caso, nessuno vada nel primo negozio è: \",\n",
    "    round(p_es2,4)\n",
    ")\n"
   ]
  }
 ],
 "metadata": {
  "kernelspec": {
   "display_name": "Python 3 (ipykernel)",
   "language": "python",
   "name": "python3"
  },
  "language_info": {
   "codemirror_mode": {
    "name": "ipython",
    "version": 3
   },
   "file_extension": ".py",
   "mimetype": "text/x-python",
   "name": "python",
   "nbconvert_exporter": "python",
   "pygments_lexer": "ipython3",
   "version": "3.12.7"
  }
 },
 "nbformat": 4,
 "nbformat_minor": 5
}
