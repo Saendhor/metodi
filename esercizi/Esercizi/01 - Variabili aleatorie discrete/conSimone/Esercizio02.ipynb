{
 "cells": [
  {
   "cell_type": "code",
   "execution_count": 1,
   "id": "21c9d447-6978-4b1b-9014-0cf9c959e6c5",
   "metadata": {},
   "outputs": [],
   "source": [
    "from scipy.stats import poisson"
   ]
  },
  {
   "cell_type": "code",
   "execution_count": 2,
   "id": "43fcf07c-4e5f-4017-ae90-468a90717ffe",
   "metadata": {},
   "outputs": [],
   "source": [
    "# Punto a"
   ]
  },
  {
   "cell_type": "code",
   "execution_count": 3,
   "id": "7d6d6587-3416-4eac-9722-7eaabdd70d41",
   "metadata": {},
   "outputs": [],
   "source": [
    "lam = 1.5"
   ]
  },
  {
   "cell_type": "code",
   "execution_count": 4,
   "id": "9a953d5c-3be1-4df6-8c75-f67dda9972e6",
   "metadata": {},
   "outputs": [],
   "source": [
    "x_a = 0 #perchè in un mese ci devono essere 0 istanze"
   ]
  },
  {
   "cell_type": "code",
   "execution_count": 5,
   "id": "a3aacecd-79a5-43a6-8b95-ffd44fb44612",
   "metadata": {},
   "outputs": [],
   "source": [
    "result_a = poisson.pmf (x_a, lam)"
   ]
  },
  {
   "cell_type": "code",
   "execution_count": 6,
   "id": "526a88b8-99f8-4026-8da2-d7e345624dff",
   "metadata": {},
   "outputs": [
    {
     "data": {
      "text/plain": [
       "np.float64(0.22313016014842982)"
      ]
     },
     "metadata": {},
     "output_type": "display_data"
    }
   ],
   "source": [
    "display (result_a)"
   ]
  },
  {
   "cell_type": "code",
   "execution_count": 7,
   "id": "a87e8827-04ee-42df-a6c6-7e50f2409cb3",
   "metadata": {},
   "outputs": [],
   "source": [
    "# Punto b"
   ]
  },
  {
   "cell_type": "code",
   "execution_count": 8,
   "id": "925b8e6f-77c3-4bac-af4d-4ed2b98c8668",
   "metadata": {},
   "outputs": [],
   "source": [
    "result_b = 1 - ( poisson.pmf (2, lam) + poisson.pmf (1, lam) + poisson.pmf (0, lam) )"
   ]
  },
  {
   "cell_type": "code",
   "execution_count": 9,
   "id": "2c153c69-e5b6-475d-94c0-156e4af347cd",
   "metadata": {},
   "outputs": [
    {
     "data": {
      "text/plain": [
       "np.float64(0.19115316946194194)"
      ]
     },
     "metadata": {},
     "output_type": "display_data"
    }
   ],
   "source": [
    "display (result_b)"
   ]
  }
 ],
 "metadata": {
  "kernelspec": {
   "display_name": "Python 3 (ipykernel)",
   "language": "python",
   "name": "python3"
  },
  "language_info": {
   "codemirror_mode": {
    "name": "ipython",
    "version": 3
   },
   "file_extension": ".py",
   "mimetype": "text/x-python",
   "name": "python",
   "nbconvert_exporter": "python",
   "pygments_lexer": "ipython3",
   "version": "3.12.7"
  }
 },
 "nbformat": 4,
 "nbformat_minor": 5
}
