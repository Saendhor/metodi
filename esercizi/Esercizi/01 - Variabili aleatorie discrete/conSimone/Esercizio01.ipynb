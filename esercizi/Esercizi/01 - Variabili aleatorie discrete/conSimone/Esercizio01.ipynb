{
 "cells": [
  {
   "cell_type": "code",
   "execution_count": 1,
   "id": "fd30441f-7000-43a7-ab82-fe88b06cc6f8",
   "metadata": {},
   "outputs": [],
   "source": [
    "from scipy.stats import binom\n",
    "from scipy.stats import poisson"
   ]
  },
  {
   "cell_type": "code",
   "execution_count": 2,
   "id": "5e7f053f-4ce2-4c61-aedc-080512eacca0",
   "metadata": {},
   "outputs": [],
   "source": [
    "# Punto a"
   ]
  },
  {
   "cell_type": "code",
   "execution_count": 3,
   "id": "70a723f5-f397-4884-93dd-051a399bb61c",
   "metadata": {},
   "outputs": [],
   "source": [
    "mi = 4"
   ]
  },
  {
   "cell_type": "code",
   "execution_count": 4,
   "id": "d3c5ac1b-3282-443f-ba32-9f02a87e6814",
   "metadata": {},
   "outputs": [],
   "source": [
    "lam = 2"
   ]
  },
  {
   "cell_type": "code",
   "execution_count": 5,
   "id": "4425281b-0d55-4f08-b92d-f654302dec9b",
   "metadata": {},
   "outputs": [],
   "source": [
    "result_a = poisson.pmf (0,lam+mi) + poisson.pmf (1,lam+mi) + poisson.pmf (2,lam+mi) + poisson.pmf (3,lam+mi)"
   ]
  },
  {
   "cell_type": "code",
   "execution_count": 6,
   "id": "abc5728b-4d1a-44fd-9511-cd2b003696fe",
   "metadata": {},
   "outputs": [
    {
     "data": {
      "text/plain": [
       "np.float64(0.15120388277664787)"
      ]
     },
     "metadata": {},
     "output_type": "display_data"
    }
   ],
   "source": [
    "display (result_a)"
   ]
  },
  {
   "cell_type": "code",
   "execution_count": 7,
   "id": "51c9d41e-c79b-4e4a-9185-dfc701704c20",
   "metadata": {},
   "outputs": [],
   "source": [
    "# Punto b TBD"
   ]
  },
  {
   "cell_type": "code",
   "execution_count": 8,
   "id": "f93e84b4-3da7-4e96-91c3-73da0e175a38",
   "metadata": {},
   "outputs": [],
   "source": [
    "# Punto c"
   ]
  },
  {
   "cell_type": "code",
   "execution_count": 9,
   "id": "72e105f6-7953-44c3-9eea-69a015e45295",
   "metadata": {},
   "outputs": [],
   "source": [
    "n = 8"
   ]
  },
  {
   "cell_type": "code",
   "execution_count": 10,
   "id": "64902363-4f2a-4bb3-aba8-223d9c7fb3c6",
   "metadata": {},
   "outputs": [],
   "source": [
    "k = 3"
   ]
  },
  {
   "cell_type": "code",
   "execution_count": 11,
   "id": "c1b1c3a3-d2d5-4ce5-a848-f6dca7c07536",
   "metadata": {},
   "outputs": [],
   "source": [
    "p = 2/6 # perchè lam = 2, mentre lam + mi (media legge Poisson) è 4+2 = 6"
   ]
  },
  {
   "cell_type": "code",
   "execution_count": 12,
   "id": "6b438812-e433-4fa3-877b-c5b28ead7c20",
   "metadata": {},
   "outputs": [],
   "source": [
    "result_c = binom.pmf (k, n, p)"
   ]
  },
  {
   "cell_type": "code",
   "execution_count": 13,
   "id": "e3f1424d-f49e-4df8-857d-b8588b8c04e1",
   "metadata": {},
   "outputs": [
    {
     "data": {
      "text/plain": [
       "np.float64(0.2731290961743638)"
      ]
     },
     "metadata": {},
     "output_type": "display_data"
    }
   ],
   "source": [
    "display (result_c)"
   ]
  }
 ],
 "metadata": {
  "kernelspec": {
   "display_name": "Python 3 (ipykernel)",
   "language": "python",
   "name": "python3"
  },
  "language_info": {
   "codemirror_mode": {
    "name": "ipython",
    "version": 3
   },
   "file_extension": ".py",
   "mimetype": "text/x-python",
   "name": "python",
   "nbconvert_exporter": "python",
   "pygments_lexer": "ipython3",
   "version": "3.12.7"
  }
 },
 "nbformat": 4,
 "nbformat_minor": 5
}
