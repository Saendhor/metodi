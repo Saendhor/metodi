{
 "cells": [
  {
   "cell_type": "code",
   "execution_count": 1,
   "id": "44cca66f-cfc2-422a-81a5-6eba87cc6954",
   "metadata": {},
   "outputs": [],
   "source": [
    "# Da una rilevazione risulta che il numero di incidenti stradali che avvengono ad un determinato incrocio\n",
    "# in un mese segue una distribuzione di Poisson con valor medio 1.5.\n",
    "from scipy.stats import poisson\n",
    "\n",
    "lamb = 1.5"
   ]
  },
  {
   "cell_type": "code",
   "execution_count": 2,
   "id": "ac0afb53-5b39-49e1-b2e4-5fa5622867e3",
   "metadata": {},
   "outputs": [
    {
     "name": "stdout",
     "output_type": "stream",
     "text": [
      "La probabilità che in un mese non ci siano incidenti è 0.22\n"
     ]
    }
   ],
   "source": [
    "# a) Qual è la probabilità che in un mese non ci siano incidenti?\n",
    "\n",
    "p = poisson.pmf(0, lamb)\n",
    "print (\"La probabilità che in un mese non ci siano incidenti è\", round(p,2))"
   ]
  },
  {
   "cell_type": "code",
   "execution_count": 3,
   "id": "dbbae246-c8d8-47d8-a28f-faed1671c2b4",
   "metadata": {},
   "outputs": [
    {
     "name": "stdout",
     "output_type": "stream",
     "text": [
      "La probabilità che in un mese ci siano più di due incidenti è 0.19115316946194194\n"
     ]
    }
   ],
   "source": [
    "#b) Qual è la probabilità che in un mese ci siano più di due incidenti?\n",
    "p = 0\n",
    "n = 2 +1 #+1 perchè contiamo lo 0\n",
    "\n",
    "for i in range (n): #0, 1, 2 | 3\n",
    "    p = p + poisson.pmf(i, lamb)\n",
    "\n",
    "q = 1 - p\n",
    "print (\"La probabilità che in un mese ci siano più di due incidenti è\", round(q, 2))"
   ]
  }
 ],
 "metadata": {
  "kernelspec": {
   "display_name": "Python 3 (ipykernel)",
   "language": "python",
   "name": "python3"
  },
  "language_info": {
   "codemirror_mode": {
    "name": "ipython",
    "version": 3
   },
   "file_extension": ".py",
   "mimetype": "text/x-python",
   "name": "python",
   "nbconvert_exporter": "python",
   "pygments_lexer": "ipython3",
   "version": "3.12.7"
  }
 },
 "nbformat": 4,
 "nbformat_minor": 5
}
