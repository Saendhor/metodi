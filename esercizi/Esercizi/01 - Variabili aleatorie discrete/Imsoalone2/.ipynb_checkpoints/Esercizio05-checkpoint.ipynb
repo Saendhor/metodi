{
 "cells": [
  {
   "cell_type": "code",
   "execution_count": 1,
   "id": "44cca66f-cfc2-422a-81a5-6eba87cc6954",
   "metadata": {},
   "outputs": [],
   "source": [
    "# Si supponga che tre negozi della stessa tipologia attraggano rispettivamente il 20% della clientela, il 45%\n",
    "# e il 35%. Scegliendo a caso 6 clienti, qual è la probabilità che 2 vadano nel primo negozio, 1 nel secondo\n",
    "# e 3 nel terzo? Qual è la probabilità che nessun cliente vada nel primo negozio?\n",
    "\n",
    "pc1 = 20/100\n",
    "pc2 = 45/100\n",
    "pc3 = 35/100\n",
    "n = 6\n",
    "\n",
    "n1 = 2\n",
    "n2 = 1\n",
    "n3 = 3"
   ]
  },
  {
   "cell_type": "code",
   "execution_count": 2,
   "id": "5dd196da-b6e4-42f0-9703-aec2919e7de5",
   "metadata": {},
   "outputs": [
    {
     "name": "stdout",
     "output_type": "stream",
     "text": [
      "La probabilità che 2 vadano nel primo negozio, 1 nel secondo e 3 nel terzo è 0.046305\n"
     ]
    }
   ],
   "source": [
    "from math import factorial\n",
    "\n",
    "prob = (factorial(n) / (factorial(n1) * factorial(n2) * factorial(n3))) * (pc1 **n1) * (pc2 **n2) * (pc3 **n3)\n",
    "\n",
    "print(\"La probabilità che 2 vadano nel primo negozio, 1 nel secondo e 3 nel terzo è\", prob)"
   ]
  },
  {
   "cell_type": "code",
   "execution_count": 3,
   "id": "ebf9f8b0-911e-474c-8835-98d4b2b4de7f",
   "metadata": {},
   "outputs": [
    {
     "name": "stdout",
     "output_type": "stream",
     "text": [
      "la probabilità che nessun cliente vada nel primo negozio è 0.26\n"
     ]
    }
   ],
   "source": [
    "from scipy.stats import binom\n",
    "k = 0\n",
    "p = binom.pmf(k, n, pc1)\n",
    "\n",
    "print (\"la probabilità che nessun cliente vada nel primo negozio è\", round(p, 2))"
   ]
  }
 ],
 "metadata": {
  "kernelspec": {
   "display_name": "Python 3 (ipykernel)",
   "language": "python",
   "name": "python3"
  },
  "language_info": {
   "codemirror_mode": {
    "name": "ipython",
    "version": 3
   },
   "file_extension": ".py",
   "mimetype": "text/x-python",
   "name": "python",
   "nbconvert_exporter": "python",
   "pygments_lexer": "ipython3",
   "version": "3.12.7"
  }
 },
 "nbformat": 4,
 "nbformat_minor": 5
}
