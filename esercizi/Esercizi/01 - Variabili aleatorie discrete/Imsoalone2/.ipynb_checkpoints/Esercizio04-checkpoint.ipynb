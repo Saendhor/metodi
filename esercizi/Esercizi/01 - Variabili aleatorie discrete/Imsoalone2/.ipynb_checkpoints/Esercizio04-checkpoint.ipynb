{
 "cells": [
  {
   "cell_type": "code",
   "execution_count": 1,
   "id": "44cca66f-cfc2-422a-81a5-6eba87cc6954",
   "metadata": {},
   "outputs": [],
   "source": [
    "# Si lancia un dado equilibrato finché non esca un numero dispari.\n",
    "p = 3/6\n",
    "q = 1-p"
   ]
  },
  {
   "cell_type": "code",
   "execution_count": 2,
   "id": "1b7fa886-3306-4049-b9c6-c875f8f38962",
   "metadata": {},
   "outputs": [
    {
     "name": "stdout",
     "output_type": "stream",
     "text": [
      "La probabilità che esca un numero dispari al quarto tentativo è 0.0625\n"
     ]
    }
   ],
   "source": [
    "# a) Qual è la probabilità che ciò avvenga al quarto tentativo?\n",
    "from scipy.stats import geom\n",
    "prob_a = geom.pmf(4, p)\n",
    "\n",
    "print (\"La probabilità che esca un numero dispari al quarto tentativo è\", prob_a)"
   ]
  },
  {
   "cell_type": "code",
   "execution_count": null,
   "id": "13213ad8-ef98-4768-aed1-211eb47a607a",
   "metadata": {},
   "outputs": [],
   "source": [
    "# b) Quanti tentativi sono necessari affinché si abbia una probabilità maggiore del 95% che esca un numero\n",
    "# dispari esattamente al tentativo successivo?\n",
    "request = 95/100\n",
    "k = 1\n",
    "arg = geom.pmf(1, p)\n",
    "while arg < request:\n",
    "    k += 1\n",
    "    arg = geom.pmf(k, p)\n",
    "\n",
    "print(\"Il numero di tentativi necessari affinchè si abbia una probabilità maggiore del 95% che esca un numero\",\n",
    "     \"dispari esattamente al tentativo successivo è\", round(k,2))"
   ]
  },
  {
   "cell_type": "code",
   "execution_count": null,
   "id": "b89620cf-3897-4229-8252-c20d38fd10d5",
   "metadata": {},
   "outputs": [],
   "source": [
    "# c) Sapendo che nei primi 4 lanci non si è avuto un numero dispari, qual è la probabilità che si abbia\n",
    "# un numero dispari per la prima volta al settimo tentativo?\n",
    "\n",
    "#ricordiamo la proprietà di assenza della memoria della distribuzione geometrica, quindi k = 7-4\n",
    "prob = geom.pmf(3, p)\n",
    "\n",
    "print (\"Sfruttando la proprietà di assenza di memoria della distribuzione geometrica, possiamo affermare che\",\n",
    "      \"la probabilità che si abbia un numero dispari per la prima volta al settimo tentativo è\", round(prob, 2))"
   ]
  }
 ],
 "metadata": {
  "kernelspec": {
   "display_name": "Python 3 (ipykernel)",
   "language": "python",
   "name": "python3"
  },
  "language_info": {
   "codemirror_mode": {
    "name": "ipython",
    "version": 3
   },
   "file_extension": ".py",
   "mimetype": "text/x-python",
   "name": "python",
   "nbconvert_exporter": "python",
   "pygments_lexer": "ipython3",
   "version": "3.12.7"
  }
 },
 "nbformat": 4,
 "nbformat_minor": 5
}
