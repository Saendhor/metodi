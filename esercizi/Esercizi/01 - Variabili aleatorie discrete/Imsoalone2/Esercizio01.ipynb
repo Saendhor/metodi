{
 "cells": [
  {
   "cell_type": "code",
   "execution_count": 1,
   "id": "44cca66f-cfc2-422a-81a5-6eba87cc6954",
   "metadata": {},
   "outputs": [],
   "source": [
    "# Due centralini fra di loro indipendenti ricevono nell'unità di tempo un numero di telefonate X e Y aventi\n",
    "# legge di Poisson di parametri rispettivamente lambda e µ\n",
    "from scipy.stats import binom\n",
    "from scipy.stats import poisson\n",
    "lamb = 2\n",
    "mi = 4"
   ]
  },
  {
   "cell_type": "code",
   "execution_count": 2,
   "id": "9bf5620a-1438-4c72-a8f4-11d0135cd05e",
   "metadata": {},
   "outputs": [
    {
     "name": "stdout",
     "output_type": "stream",
     "text": [
      "La probabilità che nell'unità di tempo i due centralini ricevano insieme non più di 3 telefonate è 0.15\n"
     ]
    }
   ],
   "source": [
    "#a) Qual è la probabilità che nell'unità di tempo i due centralini ricevano insieme non più di 3 telefonate,\n",
    "# supponendo\n",
    "lamb = 2\n",
    "mi = 4\n",
    "n = 4 #perchè 0 è incluso\n",
    "p = 0\n",
    "for i in range (n):\n",
    "    p = p + poisson.pmf(i, lamb + mi)\n",
    "\n",
    "print (\"La probabilità che nell'unità di tempo i due centralini ricevano insieme non più di 3 telefonate è\",\n",
    "      round(p, 2))"
   ]
  },
  {
   "cell_type": "code",
   "execution_count": 3,
   "id": "ee906c8e-d445-4973-9459-ea275b91c4bb",
   "metadata": {},
   "outputs": [],
   "source": [
    "#b) Calcolare la legge condizionale di X dato X+Y=n. Si tratta di una densità nota? Quanto vale la \n",
    "# media di questa legge condizionale?"
   ]
  },
  {
   "cell_type": "code",
   "execution_count": 4,
   "id": "f7c3541d-c95f-4ca2-bad5-fa11f5239a32",
   "metadata": {},
   "outputs": [
    {
     "name": "stdout",
     "output_type": "stream",
     "text": [
      "Sapendo che nell’unità di tempo i due centralini hanno ricevuto complessivamente 8 telefonate,la probabilità che il primo ne abbia ricevute 3 è 0.27\n"
     ]
    }
   ],
   "source": [
    "#c) Supponendo λ = 2 e μ = 4 e sapendo che nell’unità di tempo i due centralini hanno ricevuto complessivamente\n",
    "# 8 telefonate, qual è la probabilità che il primo ne abbia ricevute 3?\n",
    "n = 8\n",
    "k = 3\n",
    "p = lamb / (lamb + mi)\n",
    "\n",
    "pk = binom.pmf(k, n, p)\n",
    "\n",
    "print(\"Sapendo che nell’unità di tempo i due centralini hanno ricevuto complessivamente 8 telefonate,\"\n",
    "     \"la probabilità che il primo ne abbia ricevute 3 è\", round(pk, 2))"
   ]
  }
 ],
 "metadata": {
  "kernelspec": {
   "display_name": "Python 3 (ipykernel)",
   "language": "python",
   "name": "python3"
  },
  "language_info": {
   "codemirror_mode": {
    "name": "ipython",
    "version": 3
   },
   "file_extension": ".py",
   "mimetype": "text/x-python",
   "name": "python",
   "nbconvert_exporter": "python",
   "pygments_lexer": "ipython3",
   "version": "3.12.7"
  }
 },
 "nbformat": 4,
 "nbformat_minor": 5
}
