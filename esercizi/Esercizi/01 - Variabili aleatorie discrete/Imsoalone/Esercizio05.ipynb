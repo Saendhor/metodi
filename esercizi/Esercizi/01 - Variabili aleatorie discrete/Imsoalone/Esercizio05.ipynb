{
 "cells": [
  {
   "cell_type": "code",
   "execution_count": 1,
   "id": "eb4e12ca-d8fa-4a2e-a188-d870b42b9ffe",
   "metadata": {},
   "outputs": [],
   "source": [
    "from math import factorial\n",
    "from scipy.stats import binom\n",
    "# Si supponga che tre negozi della stessa tipologia attraggano rispettivamente il 20% della clientela, il\n",
    "# 45% e il 35%. \n",
    "\n",
    "p1 = 20/100\n",
    "p2 = 45/100\n",
    "p3 = 35/100"
   ]
  },
  {
   "cell_type": "code",
   "execution_count": 2,
   "id": "66793a24-feec-4d8b-abcc-705a983978d6",
   "metadata": {},
   "outputs": [
    {
     "name": "stdout",
     "output_type": "stream",
     "text": [
      "La probabilità che, scelti 6 clienti a caso 2 vadano nel primo negozio, 1 nel secondo e 3 nel terzo è:  0.046\n"
     ]
    }
   ],
   "source": [
    "# Punto a) Scegliendo a caso 6 clienti, qual è la probabilità che 2 vadano nel primo negozio, 1 nel\n",
    "# secondo e 3 nel terzo? \n",
    "n = 6\n",
    "\n",
    "k1 = 2\n",
    "k2 = 1\n",
    "k3 = 3\n",
    "\n",
    "\n",
    "multinomial = (factorial(n) / ( (factorial(k1) ) * (factorial(k2) ) * (factorial(k3) ))) * pow(p1,k1) * pow(p2,k2) * pow(p3,k3)\n",
    "\n",
    "print( \"La probabilità che, scelti 6 clienti a caso 2 vadano nel primo negozio, 1 nel secondo e 3 nel terzo è: \", round(multinomial,3) )\n"
   ]
  },
  {
   "cell_type": "code",
   "execution_count": 3,
   "id": "72ede759-5fec-442d-a30d-4a5368b86787",
   "metadata": {},
   "outputs": [
    {
     "name": "stdout",
     "output_type": "stream",
     "text": [
      "La probabilità che nessun cliente vada nel primo negozio è  0.262\n"
     ]
    }
   ],
   "source": [
    "# Punto b) Qual è la probabilità che nessun cliente vada nel primo negozio?\n",
    "\n",
    "# n = 6, p1 = 0.02\n",
    "p = p1\n",
    "k = 0\n",
    "\n",
    "result_b = binom.pmf(k, n, p)\n",
    "\n",
    "print (\"La probabilità che nessun cliente vada nel primo negozio è \", round(result_b, 3)) "
   ]
  }
 ],
 "metadata": {
  "kernelspec": {
   "display_name": "Python 3 (ipykernel)",
   "language": "python",
   "name": "python3"
  },
  "language_info": {
   "codemirror_mode": {
    "name": "ipython",
    "version": 3
   },
   "file_extension": ".py",
   "mimetype": "text/x-python",
   "name": "python",
   "nbconvert_exporter": "python",
   "pygments_lexer": "ipython3",
   "version": "3.12.7"
  }
 },
 "nbformat": 4,
 "nbformat_minor": 5
}
