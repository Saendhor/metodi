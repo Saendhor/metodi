{
 "cells": [
  {
   "cell_type": "code",
   "execution_count": 1,
   "id": "a1dacf7b-a158-4745-997b-9a01d5abe0d1",
   "metadata": {},
   "outputs": [],
   "source": [
    "from scipy.stats import poisson\n",
    "from scipy.stats import binom"
   ]
  },
  {
   "cell_type": "code",
   "execution_count": 2,
   "id": "f79688c7-9990-42e9-871f-378bfd863f4d",
   "metadata": {},
   "outputs": [],
   "source": [
    "lamb = 2\n",
    "mi = 4"
   ]
  },
  {
   "cell_type": "code",
   "execution_count": 3,
   "id": "559e4284-5b99-4a34-8bbd-f46644dd8014",
   "metadata": {},
   "outputs": [
    {
     "data": {
      "text/plain": [
       "np.float64(0.06196880441665894)"
      ]
     },
     "metadata": {},
     "output_type": "display_data"
    }
   ],
   "source": [
    "#punto a\n",
    "result_a = poisson.pmf(2, lamb+mi) + poisson.pmf(1, lamb+mi) + poisson.pmf(0, lamb+mi)\n",
    "display (result_a)"
   ]
  },
  {
   "cell_type": "code",
   "execution_count": 4,
   "id": "5529bc7a-fa80-4ce9-89db-2f43966a03d1",
   "metadata": {},
   "outputs": [],
   "source": [
    "#punto b\n",
    "#non ne ho idea onestamente"
   ]
  },
  {
   "cell_type": "code",
   "execution_count": 5,
   "id": "b21939be-eda2-417d-a0a2-0a53971bde68",
   "metadata": {},
   "outputs": [
    {
     "ename": "NameError",
     "evalue": "name 'binom' is not defined",
     "output_type": "error",
     "traceback": [
      "\u001b[0;31m---------------------------------------------------------------------------\u001b[0m",
      "\u001b[0;31mNameError\u001b[0m                                 Traceback (most recent call last)",
      "Cell \u001b[0;32mIn[5], line 7\u001b[0m\n\u001b[1;32m      5\u001b[0m k \u001b[38;5;241m=\u001b[39m \u001b[38;5;241m3\u001b[39m\n\u001b[1;32m      6\u001b[0m p \u001b[38;5;241m=\u001b[39m lamb \u001b[38;5;241m/\u001b[39m lamb\u001b[38;5;241m+\u001b[39mmi \u001b[38;5;66;03m#2/6\u001b[39;00m\n\u001b[0;32m----> 7\u001b[0m result_c \u001b[38;5;241m=\u001b[39m \u001b[43mbinom\u001b[49m\u001b[38;5;241m.\u001b[39mpmf(k, n, p)\n\u001b[1;32m      8\u001b[0m display (result_c)\n",
      "\u001b[0;31mNameError\u001b[0m: name 'binom' is not defined"
     ]
    }
   ],
   "source": [
    "#punto c\n",
    "#num telefonate 8\n",
    "#prob che il primo ne abbia ricevute 3\n",
    "n = 8\n",
    "k = 3\n",
    "p = lamb / lamb+mi #2/6\n",
    "result_c = binom.pmf(k, n, p)\n",
    "display (result_c)"
   ]
  }
 ],
 "metadata": {
  "kernelspec": {
   "display_name": "Python 3 (ipykernel)",
   "language": "python",
   "name": "python3"
  },
  "language_info": {
   "codemirror_mode": {
    "name": "ipython",
    "version": 3
   },
   "file_extension": ".py",
   "mimetype": "text/x-python",
   "name": "python",
   "nbconvert_exporter": "python",
   "pygments_lexer": "ipython3",
   "version": "3.12.7"
  }
 },
 "nbformat": 4,
 "nbformat_minor": 5
}
