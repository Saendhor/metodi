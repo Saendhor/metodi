{
 "cells": [
  {
   "cell_type": "code",
   "execution_count": 1,
   "id": "52c9977e-e2e1-4aa1-be1c-665a5393e2ce",
   "metadata": {},
   "outputs": [],
   "source": [
    "from scipy.stats import binom"
   ]
  },
  {
   "cell_type": "code",
   "execution_count": 2,
   "id": "710a3695-cf66-401c-928f-ddb64ce117ba",
   "metadata": {},
   "outputs": [],
   "source": [
    "p = 0.0003\n",
    "n = 20000\n",
    "# k < 4"
   ]
  },
  {
   "cell_type": "code",
   "execution_count": 3,
   "id": "64f06ed0-a9c1-4ce1-8396-ab58379c91f3",
   "metadata": {},
   "outputs": [
    {
     "data": {
      "text/plain": [
       "np.float64(0.8488362766898622)"
      ]
     },
     "metadata": {},
     "output_type": "display_data"
    }
   ],
   "source": [
    "#punto a\n",
    "result_a = 1 - (binom.pmf(3, n, p) + binom.pmf(2, n, p) + binom.pmf(1, n, p) + binom.pmf(0, n, p))\n",
    "display (result_a)"
   ]
  },
  {
   "cell_type": "code",
   "execution_count": 4,
   "id": "6511a9c5-bf20-4228-897e-2090f0ecfe7e",
   "metadata": {},
   "outputs": [],
   "source": [
    "import matplotlib.pyplot as plt\n",
    "import numpy as np"
   ]
  },
  {
   "cell_type": "code",
   "execution_count": 5,
   "id": "ee1882b2-9d60-4a08-b869-f8f9a931acba",
   "metadata": {},
   "outputs": [
    {
     "ename": "NameError",
     "evalue": "name 'y' is not defined",
     "output_type": "error",
     "traceback": [
      "\u001b[0;31m---------------------------------------------------------------------------\u001b[0m",
      "\u001b[0;31mNameError\u001b[0m                                 Traceback (most recent call last)",
      "Cell \u001b[0;32mIn[5], line 2\u001b[0m\n\u001b[1;32m      1\u001b[0m x \u001b[38;5;241m=\u001b[39m np\u001b[38;5;241m.\u001b[39marange (\u001b[38;5;241m0\u001b[39m, \u001b[38;5;241m15\u001b[39m)\n\u001b[0;32m----> 2\u001b[0m y \u001b[38;5;241m=\u001b[39m binom\u001b[38;5;241m.\u001b[39mpmf (x, \u001b[43my\u001b[49m, p)\n\u001b[1;32m      4\u001b[0m plt\u001b[38;5;241m.\u001b[39mplot (x, y, \u001b[38;5;124m'\u001b[39m\u001b[38;5;124m*\u001b[39m\u001b[38;5;124m'\u001b[39m)\n\u001b[1;32m      5\u001b[0m plt\u001b[38;5;241m.\u001b[39mshow ()\n",
      "\u001b[0;31mNameError\u001b[0m: name 'y' is not defined"
     ]
    }
   ],
   "source": [
    "x = np.arange (0, 15)\n",
    "y = binom.pmf (x, n, p)\n",
    "\n",
    "plt.plot (x, y, '*')\n",
    "plt.show ()"
   ]
  }
 ],
 "metadata": {
  "kernelspec": {
   "display_name": "Python 3 (ipykernel)",
   "language": "python",
   "name": "python3"
  },
  "language_info": {
   "codemirror_mode": {
    "name": "ipython",
    "version": 3
   },
   "file_extension": ".py",
   "mimetype": "text/x-python",
   "name": "python",
   "nbconvert_exporter": "python",
   "pygments_lexer": "ipython3",
   "version": "3.12.7"
  }
 },
 "nbformat": 4,
 "nbformat_minor": 5
}
