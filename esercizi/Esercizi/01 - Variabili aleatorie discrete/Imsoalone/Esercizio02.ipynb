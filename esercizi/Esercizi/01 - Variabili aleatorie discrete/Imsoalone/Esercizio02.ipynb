{
 "cells": [
  {
   "cell_type": "code",
   "execution_count": 1,
   "id": "1c1daa28-50a4-407a-beec-50d8a34bfbb5",
   "metadata": {},
   "outputs": [],
   "source": [
    "from scipy.stats import poisson"
   ]
  },
  {
   "cell_type": "code",
   "execution_count": 2,
   "id": "a3a646e1-7ad5-4fb2-a318-de7c60600c62",
   "metadata": {},
   "outputs": [],
   "source": [
    "#1 mese => 30 giorni\n",
    "#E[x] = lamb = 1.5"
   ]
  },
  {
   "cell_type": "code",
   "execution_count": 3,
   "id": "a621fd0d-03c2-4943-ba04-56f01bcf23b8",
   "metadata": {},
   "outputs": [],
   "source": [
    "lamb = 1.5"
   ]
  },
  {
   "cell_type": "code",
   "execution_count": 4,
   "id": "5f673d93-a89a-44ad-9f87-3d5ea5934d9e",
   "metadata": {},
   "outputs": [
    {
     "data": {
      "text/plain": [
       "np.float64(0.22313016014842982)"
      ]
     },
     "metadata": {},
     "output_type": "display_data"
    }
   ],
   "source": [
    "#punto a\n",
    "#probabilità in un mese 0 incidenti\n",
    "\n",
    "result_a = poisson.pmf(0, lamb)\n",
    "display (result_a)"
   ]
  },
  {
   "cell_type": "code",
   "execution_count": 5,
   "id": "32229338-7932-4bd6-a386-44753654ddcf",
   "metadata": {},
   "outputs": [
    {
     "data": {
      "text/plain": [
       "np.float64(0.1911531694619419)"
      ]
     },
     "metadata": {},
     "output_type": "display_data"
    }
   ],
   "source": [
    "#punto b\n",
    "result_b = 1 - poisson.pmf(2, lamb) - poisson.pmf(1, lamb) - poisson.pmf(0, lamb)\n",
    "display (result_b) "
   ]
  }
 ],
 "metadata": {
  "kernelspec": {
   "display_name": "Python 3 (ipykernel)",
   "language": "python",
   "name": "python3"
  },
  "language_info": {
   "codemirror_mode": {
    "name": "ipython",
    "version": 3
   },
   "file_extension": ".py",
   "mimetype": "text/x-python",
   "name": "python",
   "nbconvert_exporter": "python",
   "pygments_lexer": "ipython3",
   "version": "3.12.7"
  }
 },
 "nbformat": 4,
 "nbformat_minor": 5
}
