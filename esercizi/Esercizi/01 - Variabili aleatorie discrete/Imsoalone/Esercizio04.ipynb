{
 "cells": [
  {
   "cell_type": "code",
   "execution_count": 1,
   "id": "07eb072f-ce18-414f-9f62-2773a3f02ac5",
   "metadata": {},
   "outputs": [],
   "source": [
    "from scipy.stats import geom"
   ]
  },
  {
   "cell_type": "code",
   "execution_count": 2,
   "id": "cab2a483-616d-4a09-a65e-fe9cbf55851e",
   "metadata": {},
   "outputs": [],
   "source": [
    "# Si lancia un dado equilibrato finché non esca un numero dispari.\n",
    "\n",
    "# 3 dispari: 1, 3, 5"
   ]
  },
  {
   "cell_type": "code",
   "execution_count": 3,
   "id": "37778f44-dadc-4a27-88b7-a3b0347253b8",
   "metadata": {},
   "outputs": [
    {
     "name": "stdout",
     "output_type": "stream",
     "text": [
      "La probabilità che esca un numero dispari al quarto tentativo è:  0.062\n"
     ]
    }
   ],
   "source": [
    "#Punto a) Qual è la probabilità che ciò avvenga al quarto tentativo?\n",
    "p = 3/6\n",
    "q = 1-p\n",
    "k = 4\n",
    "\n",
    "result_a = p*(pow(q,k-1))\n",
    "print(\"La probabilità che esca un numero dispari al quarto tentativo è: \", round(result_a, 3))"
   ]
  },
  {
   "cell_type": "code",
   "execution_count": 4,
   "id": "66eed0a8-f54f-48eb-b904-f988329cd7b9",
   "metadata": {},
   "outputs": [
    {
     "name": "stdout",
     "output_type": "stream",
     "text": [
      "Number of attempts:  5\n"
     ]
    }
   ],
   "source": [
    "#Punto b) Quanti tentativi sono necessari affinché si abbia una probabilità maggiore del 95% che esca un\n",
    "# numero dispari esattamente al tentativo successivo?\n",
    "request = 95/100\n",
    "k = 1\n",
    "\n",
    "while ( (1 - pow(q, k)) <  request):\n",
    "    k += 1\n",
    "\n",
    "result_b = k\n",
    "print (\"Number of attempts: \", result_b)"
   ]
  },
  {
   "cell_type": "code",
   "execution_count": 5,
   "id": "0253c80d-413f-434e-9f8f-12882b4ff4a7",
   "metadata": {},
   "outputs": [
    {
     "name": "stdout",
     "output_type": "stream",
     "text": [
      "La probabilità che esca un numero dispari per la prima volta al settimo tentativo è:  0.125\n"
     ]
    }
   ],
   "source": [
    "#Punto c) Sapendo che nei primi 4 lanci non si è avuto un numero dispari, qual è la probabilità che si\n",
    "# abbia un numero dispari per la prima volta al settimo tentativo?\n",
    "\n",
    "# Proprietà: assenza di memoria\n",
    "# quindi k = 3 (ignoro i precedenti 4 tentativi che sicuramente sono pari e assumo che i tentativi 5 e 6 siano pure pari)\n",
    "# p e q sono identici a quelli di sopra\n",
    "\n",
    "k = 3\n",
    "\n",
    "result_c = p*(pow(q,k-1))\n",
    "print(\"La probabilità che esca un numero dispari per la prima volta al settimo tentativo è: \", round(result_c, 3))"
   ]
  }
 ],
 "metadata": {
  "kernelspec": {
   "display_name": "Python 3 (ipykernel)",
   "language": "python",
   "name": "python3"
  },
  "language_info": {
   "codemirror_mode": {
    "name": "ipython",
    "version": 3
   },
   "file_extension": ".py",
   "mimetype": "text/x-python",
   "name": "python",
   "nbconvert_exporter": "python",
   "pygments_lexer": "ipython3",
   "version": "3.12.7"
  }
 },
 "nbformat": 4,
 "nbformat_minor": 5
}
