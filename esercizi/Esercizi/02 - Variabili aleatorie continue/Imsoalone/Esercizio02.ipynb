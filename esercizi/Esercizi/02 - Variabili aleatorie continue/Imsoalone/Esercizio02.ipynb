{
 "cells": [
  {
   "cell_type": "code",
   "execution_count": 1,
   "id": "60abbef5-9347-477f-8219-e6729c5f5b87",
   "metadata": {},
   "outputs": [],
   "source": [
    "# Il tempo (in ore) necessario per riparare un macchinario è una v.a.\n",
    "# esponenziale di parametro λ=1\n",
    "\n",
    "lamb = 1"
   ]
  },
  {
   "cell_type": "code",
   "execution_count": 2,
   "id": "668c9ab9-0c57-4c1f-8192-b96e15659ac5",
   "metadata": {},
   "outputs": [
    {
     "name": "stdout",
     "output_type": "stream",
     "text": [
      "La probabilità che la riparazione superi le due ore di tempo è  0.135\n"
     ]
    }
   ],
   "source": [
    "# Qual è la probabilità che la riparazione superi le due ore di tempo?\n",
    "from scipy.stats import expon\n",
    "from math import e\n",
    "\n",
    "x = 2\n",
    "\n",
    "result_a = 1 - (1 - pow(e, -lamb * x))\n",
    "print (\"La probabilità che la riparazione superi le due ore di tempo è \", round (result_a, 3))"
   ]
  },
  {
   "cell_type": "code",
   "execution_count": 3,
   "id": "e77bccd4-4785-411d-92a0-3d958a2d5f8b",
   "metadata": {},
   "outputs": [
    {
     "name": "stdout",
     "output_type": "stream",
     "text": [
      "la probabilità che la riparazione richieda almeno tre ore sapendo che ne richiede più di due è  0.368\n"
     ]
    }
   ],
   "source": [
    "# Qual è la probabilità che la riparazione richieda almeno tre ore,\n",
    "# sapendo che ne richiede più di due?\n",
    "\n",
    "x = 1 # per mancanza di memoria noi abbiamo almeno 3 ore ma più di 2, quindi è (3-2)h = 1h\n",
    "\n",
    "result_c = 1 - (1 - pow(e, -lamb * x))\n",
    "print (\"la probabilità che la riparazione richieda almeno tre ore sapendo che ne richiede più di due è \", round(result_c, 3)) "
   ]
  }
 ],
 "metadata": {
  "kernelspec": {
   "display_name": "Python 3 (ipykernel)",
   "language": "python",
   "name": "python3"
  },
  "language_info": {
   "codemirror_mode": {
    "name": "ipython",
    "version": 3
   },
   "file_extension": ".py",
   "mimetype": "text/x-python",
   "name": "python",
   "nbconvert_exporter": "python",
   "pygments_lexer": "ipython3",
   "version": "3.12.7"
  }
 },
 "nbformat": 4,
 "nbformat_minor": 5
}
