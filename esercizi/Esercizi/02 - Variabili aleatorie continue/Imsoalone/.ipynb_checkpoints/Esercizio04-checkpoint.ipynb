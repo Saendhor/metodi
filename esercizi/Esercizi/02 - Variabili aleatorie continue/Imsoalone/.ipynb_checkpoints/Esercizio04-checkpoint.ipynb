{
 "cells": [
  {
   "cell_type": "code",
   "execution_count": 1,
   "id": "02190ed9-0de6-42da-9137-ca74049fc539",
   "metadata": {},
   "outputs": [],
   "source": [
    "# Si scelga a caso un punto X all’interno dell’intervallo [0,2].\n",
    "a = 0\n",
    "b = 2"
   ]
  },
  {
   "cell_type": "code",
   "execution_count": 2,
   "id": "7786aad4-6d8e-4942-87ec-21b7a8c3b4d8",
   "metadata": {},
   "outputs": [
    {
     "name": "stdout",
     "output_type": "stream",
     "text": [
      "La probabilità che il triangolo equilatero il cui lato ha lunghezza X abbia area maggiore di 1 è  0.24\n"
     ]
    }
   ],
   "source": [
    "# Qual è la probabilità che il triangolo equilatero il cui lato ha lunghezza X\n",
    "# abbia area maggiore di 1?\n",
    "from scipy.stats import uniform\n",
    "from math import sqrt\n",
    "\n",
    "\n",
    "x = sqrt ( 4/sqrt (3) )\n",
    "result_a = 1 - (uniform.cdf(x, a, b-a))\n",
    "\n",
    "print (\"La probabilità che il triangolo equilatero il cui lato ha lunghezza X abbia area maggiore di 1 è \", round (result_a, 3))"
   ]
  }
 ],
 "metadata": {
  "kernelspec": {
   "display_name": "Python 3 (ipykernel)",
   "language": "python",
   "name": "python3"
  },
  "language_info": {
   "codemirror_mode": {
    "name": "ipython",
    "version": 3
   },
   "file_extension": ".py",
   "mimetype": "text/x-python",
   "name": "python",
   "nbconvert_exporter": "python",
   "pygments_lexer": "ipython3",
   "version": "3.12.7"
  }
 },
 "nbformat": 4,
 "nbformat_minor": 5
}
