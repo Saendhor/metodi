{
 "cells": [
  {
   "cell_type": "code",
   "execution_count": 1,
   "id": "bc08f25d-e012-451b-85d2-a0bc944df1f5",
   "metadata": {},
   "outputs": [],
   "source": [
    "# Ad un esame universitario, il voto medio è stato 24 e la deviazione standard 4.\n",
    "# Supponendo i voti distribuiti normalmente, calcolare:\n",
    "from scipy.stats import norm\n",
    "\n",
    "mi = 24 #µ\n",
    "devStandard = 4 # sigma_quadro"
   ]
  },
  {
   "cell_type": "code",
   "execution_count": 2,
   "id": "4e91d5e1-ee69-408f-bc99-ead48bd359b6",
   "metadata": {},
   "outputs": [
    {
     "name": "stdout",
     "output_type": "stream",
     "text": [
      "La probabilità che uno studente abbia riportato un voto superiore a 27 è 0.227\n"
     ]
    }
   ],
   "source": [
    "# a) la probabilità che uno studente abbia riportato un voto superiore a 27\n",
    "x = 27\n",
    "\n",
    "result_a = 1 - (norm.cdf (x, mi, devStandard))\n",
    "print (\"La probabilità che uno studente abbia riportato un voto superiore a 27 è\", round(result_a, 3))"
   ]
  },
  {
   "cell_type": "code",
   "execution_count": 3,
   "id": "2b5d5724-8ba4-420c-8c48-7e78fdee2e6e",
   "metadata": {},
   "outputs": [
    {
     "name": "stdout",
     "output_type": "stream",
     "text": [
      "La probabilità che uno studente abbia riportato un voto inferiore a 22 è 0.309\n"
     ]
    }
   ],
   "source": [
    "# b) la probabilità che uno studente abbia riportato un voto inferiore a 22\n",
    "\n",
    "x = 22\n",
    "\n",
    "result_b = norm.cdf (x, mi, devStandard)\n",
    "print (\"La probabilità che uno studente abbia riportato un voto inferiore a 22 è\", round(result_b, 3))"
   ]
  },
  {
   "cell_type": "code",
   "execution_count": 4,
   "id": "9cf9442d-8787-4e0c-8b6c-e590210b449b",
   "metadata": {},
   "outputs": [
    {
     "name": "stdout",
     "output_type": "stream",
     "text": [
      "La probabilità che uno studente abbia riportato un voto compreso tra 23 e 25 è 0.197\n"
     ]
    }
   ],
   "source": [
    "# c) la probabilità che uno studente abbia riportato un voto compreso tra 23 e 25\n",
    "\n",
    "# 25 - 23 + 1= 3\n",
    "\n",
    "p1 = norm.cdf (23, mi, devStandard) # prob voto < 23\n",
    "p2 = norm.cdf (25, mi, devStandard) # prob voto < 25\n",
    "\n",
    "result_c = 1 - p1 - (1-p2) #trovo il range prendendo 1, gli sottraggo <23 e >25 e ho il risultato\n",
    "print (\"La probabilità che uno studente abbia riportato un voto compreso tra 23 e 25 è\", round(result_c, 3))"
   ]
  },
  {
   "cell_type": "code",
   "execution_count": 5,
   "id": "3c7b75e4-0703-4f32-8fed-c1cb4afa8725",
   "metadata": {},
   "outputs": [
    {
     "name": "stdout",
     "output_type": "stream",
     "text": [
      "Il voto minimo riportato dal 70% degli studenti è 21.902\n"
     ]
    }
   ],
   "source": [
    "# d) il voto minimo riportato dal 70% degli studenti\n",
    "\n",
    "p = 70/100\n",
    "q = 1-p\n",
    "\n",
    "result_d = norm.ppf (q, mi, devStandard)\n",
    "print (\"Il voto minimo riportato dal 70% degli studenti è\", round(result_d, 0))"
   ]
  },
  {
   "cell_type": "code",
   "execution_count": 6,
   "id": "68ce27ac-6ba2-42fa-bdcc-a11f354a0111",
   "metadata": {},
   "outputs": [
    {
     "name": "stdout",
     "output_type": "stream",
     "text": [
      "Il voto massimo non superato dal 90% degli studenti è 29.126\n"
     ]
    }
   ],
   "source": [
    "# e) il voto massimo non superato dal 90% degli studenti\n",
    "p = 90/100\n",
    "\n",
    "result_e = norm.ppf (p, mi, devStandard)\n",
    "print (\"Il voto massimo non superato dal 90% degli studenti è\", round(result_e, 0))"
   ]
  }
 ],
 "metadata": {
  "kernelspec": {
   "display_name": "Python 3 (ipykernel)",
   "language": "python",
   "name": "python3"
  },
  "language_info": {
   "codemirror_mode": {
    "name": "ipython",
    "version": 3
   },
   "file_extension": ".py",
   "mimetype": "text/x-python",
   "name": "python",
   "nbconvert_exporter": "python",
   "pygments_lexer": "ipython3",
   "version": "3.12.7"
  }
 },
 "nbformat": 4,
 "nbformat_minor": 5
}
