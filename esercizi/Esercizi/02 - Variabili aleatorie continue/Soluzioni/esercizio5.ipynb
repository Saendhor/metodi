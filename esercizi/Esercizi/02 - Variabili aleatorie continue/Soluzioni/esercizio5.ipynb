{
 "cells": [
  {
   "cell_type": "code",
   "execution_count": 1,
   "id": "94dc0277-cea1-480d-b7b0-f602f2fcbedc",
   "metadata": {},
   "outputs": [],
   "source": [
    "#Ad un esame universitario il voto medio è stato 24 e la deviazione standard 4.\n",
    "#Supponendo i voti distribuiti normalmente. "
   ]
  },
  {
   "cell_type": "code",
   "execution_count": 2,
   "id": "db7d26a8-6107-4835-b64c-91389f2c4af6",
   "metadata": {},
   "outputs": [],
   "source": [
    "#1: calcolare la probabilità che uno studente abbia riportato un voto superiore a 27"
   ]
  },
  {
   "cell_type": "code",
   "execution_count": 3,
   "id": "cd91e7e6-6c51-4c2e-90a1-487ecc5dedfd",
   "metadata": {},
   "outputs": [
    {
     "name": "stdout",
     "output_type": "stream",
     "text": [
      "La probabilità che uno studente abbia riportato un voto superiore a 27 è:  0.2266\n"
     ]
    }
   ],
   "source": [
    "from scipy.stats import norm\n",
    "\n",
    "#DISTRIBUZIONE NORMALE \n",
    "\n",
    "miu1 = 24 #media=miu=24\n",
    "devStandard1 = 4 #devStandard = radice quadrata della varianza -> varianza = 2\n",
    "x=27\n",
    "\n",
    "#probabilità che lo studente abbia riportato un voto inferiore a 27\n",
    "p1 = norm.cdf(x,miu1,devStandard1)\n",
    "#probabilità che lo studente abbia riportato un voto superiore a 27\n",
    "p_es1 = 1 - p1\n",
    "\n",
    "print(\n",
    "    \"La probabilità che uno studente abbia riportato un voto superiore a 27 è: \",\n",
    "    round(p_es1,4)\n",
    ")"
   ]
  },
  {
   "cell_type": "code",
   "execution_count": 4,
   "id": "08d79d3d-f4f6-495d-a320-94079db85fe4",
   "metadata": {},
   "outputs": [],
   "source": [
    "#2: calcolare la probabilità che uno studente abbia riportato un voto inferiore a 22"
   ]
  },
  {
   "cell_type": "code",
   "execution_count": 5,
   "id": "7f5f0fc1-9a1c-4583-b82c-285816322ae2",
   "metadata": {},
   "outputs": [
    {
     "name": "stdout",
     "output_type": "stream",
     "text": [
      "la probabilità che uno studente abbia riportato un voto inferiore a 22 è:  0.3085\n"
     ]
    }
   ],
   "source": [
    "from scipy.stats import norm\n",
    "\n",
    "#DISTRIBUZIONE NORMALE\n",
    "\n",
    "miu2 = 24\n",
    "devStandard2 = 4\n",
    "x2 = 22 \n",
    "\n",
    "p_es2 = norm.cdf(x2,miu2,devStandard2) \n",
    "\n",
    "print(\n",
    "    \"la probabilità che uno studente abbia riportato un voto inferiore a 22 è: \",\n",
    "    round(p_es2,4)\n",
    ")"
   ]
  },
  {
   "cell_type": "code",
   "execution_count": 6,
   "id": "e4e05923-45e9-4976-a636-acb1f3c43729",
   "metadata": {},
   "outputs": [],
   "source": [
    "#3: la probabilità che uno studente abbia riportato un voto compreso fra 23 e 25"
   ]
  },
  {
   "cell_type": "code",
   "execution_count": 7,
   "id": "fd88b5bd-f64f-4f76-8db1-9632414615d4",
   "metadata": {},
   "outputs": [
    {
     "name": "stdout",
     "output_type": "stream",
     "text": [
      "la probabilità che uno studente abbia riportato un voto compreso fra 23 e 25 è:  0.1974\n"
     ]
    }
   ],
   "source": [
    "from scipy.stats import norm\n",
    "\n",
    "miu3 = 24\n",
    "devStandard3 = 4\n",
    "x3A = 23\n",
    "x3B = 25\n",
    "\n",
    "#probabilità che lo studente abbia riportato un voto minore di 23\n",
    "p1A = norm.cdf(23,miu3,devStandard3)\n",
    "\n",
    "#probabilità che lo studente abbia preso un voto minore di 25 --> P(V<25)\n",
    "p1 = norm.cdf(25,miu3,devStandard3)\n",
    "#probabilità che lo studnete abbia preso un voto maggiore di 25 --> P(V>25)=1-P(V<25)\n",
    "p1B = 1 - p1\n",
    "\n",
    "#probabilità che lo studnete abbia riportato un voto compreso fra 23 e 25 \n",
    "#dall'evento certo sottraggo la probabilità che lo studente abbia preso un voto minore di 23 e \n",
    "#la probabilità che lo studnete abbia preso un voto maggiore di 25 \n",
    "p_es3 = 1 - p1A - p1B\n",
    "\n",
    "print(\n",
    "    \"la probabilità che uno studente abbia riportato un voto compreso fra 23 e 25 è: \",\n",
    "    round(p_es3,4)\n",
    ")"
   ]
  },
  {
   "cell_type": "code",
   "execution_count": 8,
   "id": "df100553-74b7-4586-b54f-3e3810c9481c",
   "metadata": {},
   "outputs": [],
   "source": [
    "#4: il voto minimo riportato dal 70% degli studenti"
   ]
  },
  {
   "cell_type": "code",
   "execution_count": 9,
   "id": "3a400b90-7773-4c7b-aab8-2b87748f568d",
   "metadata": {},
   "outputs": [
    {
     "name": "stdout",
     "output_type": "stream",
     "text": [
      "il voto minimo riportato dal 70% degli studenti è:  21.9024\n"
     ]
    }
   ],
   "source": [
    "from scipy.stats import norm\n",
    "\n",
    "miu4 = 24\n",
    "devStandard4 = 4\n",
    "p = 70/100\n",
    "x = 1-p\n",
    "\n",
    "p_es4 = norm.ppf(x,miu4,devStandard4)\n",
    "\n",
    "print(\n",
    "    \"il voto minimo riportato dal 70% degli studenti è: \",\n",
    "    round(p_es4,4)\n",
    ")\n"
   ]
  },
  {
   "cell_type": "code",
   "execution_count": 10,
   "id": "ba310bae-c073-44ee-bfba-62f8af952610",
   "metadata": {},
   "outputs": [],
   "source": [
    "#5: il voto massimo non superato dal 90% degli studenti"
   ]
  },
  {
   "cell_type": "code",
   "execution_count": 11,
   "id": "97d2d3b1-769f-4b02-a54a-b1b786b8c139",
   "metadata": {},
   "outputs": [
    {
     "name": "stdout",
     "output_type": "stream",
     "text": [
      "il voto massimo non superato dal 90% degli studenti è:  29.1262\n"
     ]
    }
   ],
   "source": [
    "from scipy.stats import norm\n",
    "\n",
    "miu5 = 24\n",
    "devStandard5 = 4\n",
    "p = 90/100\n",
    "\n",
    "p_es5 = norm.ppf(p,miu5,devStandard5)\n",
    "\n",
    "print(\n",
    "    \"il voto massimo non superato dal 90% degli studenti è: \",\n",
    "    round(p_es5,4)\n",
    ")"
   ]
  }
 ],
 "metadata": {
  "kernelspec": {
   "display_name": "Python 3 (ipykernel)",
   "language": "python",
   "name": "python3"
  },
  "language_info": {
   "codemirror_mode": {
    "name": "ipython",
    "version": 3
   },
   "file_extension": ".py",
   "mimetype": "text/x-python",
   "name": "python",
   "nbconvert_exporter": "python",
   "pygments_lexer": "ipython3",
   "version": "3.12.7"
  }
 },
 "nbformat": 4,
 "nbformat_minor": 5
}
