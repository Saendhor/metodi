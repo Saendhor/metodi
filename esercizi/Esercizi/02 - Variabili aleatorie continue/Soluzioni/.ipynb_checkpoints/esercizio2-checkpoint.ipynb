{
 "cells": [
  {
   "cell_type": "code",
   "execution_count": 1,
   "id": "f2f00dd1-daf5-4d0c-b0f6-044905bce0bd",
   "metadata": {},
   "outputs": [],
   "source": [
    "#Il tempo (in ore) necessario per riparare un macchinario è una variabile aleatoria esponenziale di parametro lambda = 1."
   ]
  },
  {
   "cell_type": "code",
   "execution_count": 2,
   "id": "b8522193-6c76-41bf-a975-ed20111cafce",
   "metadata": {},
   "outputs": [],
   "source": [
    "#Qual è la probabilità che la riparazione superi le due ore di tempo?"
   ]
  },
  {
   "cell_type": "code",
   "execution_count": 3,
   "id": "cb32d13b-165a-4acc-8cd0-7a42c7d95f69",
   "metadata": {},
   "outputs": [
    {
     "name": "stdout",
     "output_type": "stream",
     "text": [
      "la probabilità che la riparazione superi le due ore è:  0.1353\n"
     ]
    }
   ],
   "source": [
    "from scipy.stats import expon\n",
    "from math import e\n",
    "\n",
    "#distribuzione esponenziale --> occorre usare la cdf\n",
    "\n",
    "lam1 = 1\n",
    "x1 = 2 \n",
    "\n",
    "#probabilità che la riparazione non superi le due ore P(X < 2)\n",
    "p1 = 1 - (pow(e, -lam1*x1))\n",
    "\n",
    "#probabilità che la riparazione superi le due ore P(X>2)=1-P(X<2)\n",
    "p_es1 = 1 - p1\n",
    "\n",
    "print(\n",
    "    \"la probabilità che la riparazione superi le due ore è: \",\n",
    "    round(p_es1, 4)\n",
    ")"
   ]
  },
  {
   "cell_type": "code",
   "execution_count": 4,
   "id": "605a012d-b100-48e9-bc24-983f77d28a5f",
   "metadata": {},
   "outputs": [],
   "source": [
    "#Sapendo che la riparazione richiede più di due ore, qual è la probabilità ne richieda almeno tre?"
   ]
  },
  {
   "cell_type": "code",
   "execution_count": 5,
   "id": "d85f29c6-80ae-48c5-9b6b-26d52e71c797",
   "metadata": {},
   "outputs": [],
   "source": [
    "#sfruttiamo la caratteristica principale: MANCANZA DI MEMORIA"
   ]
  },
  {
   "cell_type": "code",
   "execution_count": 6,
   "id": "5e5d09a4-41db-436e-94fa-7f123994323d",
   "metadata": {},
   "outputs": [
    {
     "name": "stdout",
     "output_type": "stream",
     "text": [
      "Sapendo che la riparazione richiede più di due ore la probabilità ne richieda almeno tre  è:  0.3679\n"
     ]
    }
   ],
   "source": [
    "from scipy.stats import expon\n",
    "from math import e\n",
    "\n",
    "\n",
    "x2 = 1\n",
    "lam2 = 1\n",
    "\n",
    "#probabilità che richieda meno di tre ore --> P(X<3)\n",
    "p2 = 1 - (pow(e,-lam2*x2))\n",
    "\n",
    "#probabilità che richiede più di tre ore --> P(X>)=1-P(X<3)\n",
    "p_es2 = 1 - p2\n",
    "\n",
    "print(\n",
    "    \"Sapendo che la riparazione richiede più di due ore la probabilità ne richieda almeno tre  è: \",\n",
    "    round(p_es2,4)\n",
    ")"
   ]
  }
 ],
 "metadata": {
  "kernelspec": {
   "display_name": "Python 3 (ipykernel)",
   "language": "python",
   "name": "python3"
  },
  "language_info": {
   "codemirror_mode": {
    "name": "ipython",
    "version": 3
   },
   "file_extension": ".py",
   "mimetype": "text/x-python",
   "name": "python",
   "nbconvert_exporter": "python",
   "pygments_lexer": "ipython3",
   "version": "3.11.7"
  }
 },
 "nbformat": 4,
 "nbformat_minor": 5
}
