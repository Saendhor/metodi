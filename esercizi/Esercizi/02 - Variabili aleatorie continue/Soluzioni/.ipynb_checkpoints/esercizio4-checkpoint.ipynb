{
 "cells": [
  {
   "cell_type": "code",
   "execution_count": 1,
   "id": "560d0656-f4b7-4c5a-ad38-7499615a3ad0",
   "metadata": {},
   "outputs": [],
   "source": [
    "#Si scelga a caso un punto X all'interno dell'intervallo [0,2]."
   ]
  },
  {
   "cell_type": "code",
   "execution_count": 2,
   "id": "26243090-6e5d-4f34-95b2-2da5db838175",
   "metadata": {},
   "outputs": [],
   "source": [
    "#Qual è la probabilità che il trinagolo equilatero il cui lato ha lunghezza X abbia area maggiore di 1?"
   ]
  },
  {
   "cell_type": "code",
   "execution_count": 3,
   "id": "59b64ba6-7063-46bd-b5a2-49dfd0090ddc",
   "metadata": {},
   "outputs": [],
   "source": [
    "#DISTRIBUZIONE UNIFORME"
   ]
  },
  {
   "cell_type": "code",
   "execution_count": 4,
   "id": "51882cb0-7bc2-4266-9121-16125a99003d",
   "metadata": {},
   "outputs": [
    {
     "name": "stdout",
     "output_type": "stream",
     "text": [
      "la probabilità che il trinagolo equilatero il cui lato ha lunghezza X abbia area maggiore di 1 è:  0.2402\n"
     ]
    }
   ],
   "source": [
    "from scipy.stats import uniform\n",
    "from math import sqrt\n",
    "\n",
    "#intervallo [0,2]\n",
    "a = 0\n",
    "b = 2\n",
    "\n",
    "#Area > 1 --> AreaTrgRett = sqrt(3)/4*latoX^2 > 1 quindi ---> latoX = 4 /sqrt(sqrt(3))\n",
    "x = sqrt(4 / (sqrt(3)))\n",
    "#probabilità che l'area sia minore di 1 -> P(A<1)\n",
    "p1 = uniform.cdf(x,a,b-a)\n",
    "\n",
    "#probabilità che l'area sia maggiore di 1 -> P(A>1)=1-P(A<1)\n",
    "p_es1 = 1 - p1\n",
    "\n",
    "print(\n",
    "    \"la probabilità che il trinagolo equilatero il cui lato ha lunghezza X abbia area maggiore di 1 è: \",\n",
    "    round(p_es1,4)\n",
    ")"
   ]
  },
  {
   "cell_type": "code",
   "execution_count": null,
   "id": "794a979c-57b0-41ea-9224-5c9401afc580",
   "metadata": {},
   "outputs": [],
   "source": []
  }
 ],
 "metadata": {
  "kernelspec": {
   "display_name": "Python 3 (ipykernel)",
   "language": "python",
   "name": "python3"
  },
  "language_info": {
   "codemirror_mode": {
    "name": "ipython",
    "version": 3
   },
   "file_extension": ".py",
   "mimetype": "text/x-python",
   "name": "python",
   "nbconvert_exporter": "python",
   "pygments_lexer": "ipython3",
   "version": "3.11.7"
  }
 },
 "nbformat": 4,
 "nbformat_minor": 5
}
