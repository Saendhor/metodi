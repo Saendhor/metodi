{
 "cells": [
  {
   "cell_type": "code",
   "execution_count": 1,
   "id": "cfbe49f0-51e9-4695-bb6c-5b625edf39d3",
   "metadata": {},
   "outputs": [],
   "source": [
    "# Il tempo (in ore) necessario per riparare un macchinario è una v.a. esponenziale di parametro λ=1.\n",
    "from scipy.stats import expon\n",
    "lamb = 1"
   ]
  },
  {
   "cell_type": "code",
   "execution_count": 2,
   "id": "db4c787a-6f4b-460b-814e-11e1e98bf696",
   "metadata": {},
   "outputs": [
    {
     "name": "stdout",
     "output_type": "stream",
     "text": [
      "La probabilità che la riparazione superi le due ore di tempo è 0.86\n"
     ]
    }
   ],
   "source": [
    "# Qual è la probabilità che la riparazione superi le due ore di tempo?\n",
    "x = 2\n",
    "p_2h = expon.pdf(x, 0, 1/lamb)\n",
    "q_2h = 1-p_2h\n",
    "print (\"La probabilità che la riparazione superi le due ore di tempo è\", round(q_2h, 2))"
   ]
  },
  {
   "cell_type": "code",
   "execution_count": 3,
   "id": "bd991141-2168-4383-827e-f9e72984d018",
   "metadata": {},
   "outputs": [
    {
     "name": "stdout",
     "output_type": "stream",
     "text": [
      "La probabilità che la riparazione richieda almeno tre ore, sapendo che ne richiede più di due è 0.09\n"
     ]
    }
   ],
   "source": [
    "# Qual è la probabilità che la riparazione richieda almeno tre ore, sapendo che ne richiede più di due?\n",
    "import numpy as np\n",
    "x = 3\n",
    "p_3h = expon.pdf(x, 0, 1/lamb)\n",
    "q_3h = 1 - p_3h\n",
    "p = np.abs(q_3h - q_2h)\n",
    "print (\"La probabilità che la riparazione richieda almeno tre ore, sapendo che ne richiede più di due è\", round(p, 2))"
   ]
  }
 ],
 "metadata": {
  "kernelspec": {
   "display_name": "Python 3 (ipykernel)",
   "language": "python",
   "name": "python3"
  },
  "language_info": {
   "codemirror_mode": {
    "name": "ipython",
    "version": 3
   },
   "file_extension": ".py",
   "mimetype": "text/x-python",
   "name": "python",
   "nbconvert_exporter": "python",
   "pygments_lexer": "ipython3",
   "version": "3.12.7"
  }
 },
 "nbformat": 4,
 "nbformat_minor": 5
}
