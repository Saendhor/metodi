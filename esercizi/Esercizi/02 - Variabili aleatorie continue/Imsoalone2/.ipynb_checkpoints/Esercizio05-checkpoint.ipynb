{
 "cells": [
  {
   "cell_type": "code",
   "execution_count": 1,
   "id": "cfbe49f0-51e9-4695-bb6c-5b625edf39d3",
   "metadata": {},
   "outputs": [],
   "source": [
    "# Ad un esame universitario, il voto medio è stato 24 e la deviazione standard 4. Supponendo i voti distribuiti normalmente, calcolare:\n",
    "from scipy.stats import norm\n",
    "mi = 24\n",
    "devStandard = 4"
   ]
  },
  {
   "cell_type": "code",
   "execution_count": 2,
   "id": "d5b6b4a0-45ed-4fe9-9f4a-e351e0ad964d",
   "metadata": {},
   "outputs": [
    {
     "name": "stdout",
     "output_type": "stream",
     "text": [
      "la probabilità che uno studente abbia riportato un voto superiore a 27 è 0.23\n"
     ]
    }
   ],
   "source": [
    "#a) la probabilità che uno studente abbia riportato un voto superiore a 27\n",
    "xa = 27\n",
    "\n",
    "pa = norm.cdf(xa, mi, devStandard)\n",
    "qa = 1 - pa\n",
    "print (\"la probabilità che uno studente abbia riportato un voto superiore a 27 è\", round(qa, 2))"
   ]
  },
  {
   "cell_type": "code",
   "execution_count": 3,
   "id": "70c43ef8-a0e8-4081-9f22-58c9d78fd5d6",
   "metadata": {},
   "outputs": [
    {
     "name": "stdout",
     "output_type": "stream",
     "text": [
      "la probabilità che uno studente abbia riportato un voto inferiore a 22 è 0.31\n"
     ]
    }
   ],
   "source": [
    "#b) la probabilità che uno studente abbia riportato un voto inferiore a 22\n",
    "xb = 22\n",
    "\n",
    "pb = norm.cdf(xb, mi, devStandard)\n",
    "print (\"la probabilità che uno studente abbia riportato un voto inferiore a 22 è\", round(pb, 2))"
   ]
  },
  {
   "cell_type": "code",
   "execution_count": 4,
   "id": "cb9a179e-55e6-445b-bc71-2a18aa3ba1ab",
   "metadata": {},
   "outputs": [
    {
     "name": "stdout",
     "output_type": "stream",
     "text": [
      "la probabilità che uno studente abbia riportato un voto compreso tra 23 e 25 è 0.2\n"
     ]
    }
   ],
   "source": [
    "#c) la probabilità che uno studente abbia riportato un voto compreso tra 23 e 25\n",
    "xc1 = 23\n",
    "xc2 = 25\n",
    "\n",
    "pc1 = norm.cdf(xc1, mi, devStandard)\n",
    "pc2 = norm.cdf(xc2, mi, devStandard)\n",
    "pc = pc2 - pc1\n",
    "print (\"la probabilità che uno studente abbia riportato un voto compreso tra 23 e 25 è\", round(pc, 2))"
   ]
  },
  {
   "cell_type": "code",
   "execution_count": 5,
   "id": "04f530a5-c676-4388-a1a8-91ad31beaa95",
   "metadata": {},
   "outputs": [
    {
     "name": "stdout",
     "output_type": "stream",
     "text": [
      "il voto minimo riportato dal 70% degli studenti è 21.9\n"
     ]
    }
   ],
   "source": [
    "#d) il voto minimo riportato dal 70% degli studenti\n",
    "probd = 70/100\n",
    "qd = 1 - probd\n",
    "\n",
    "pd = norm.ppf(qd, mi, devStandard)\n",
    "print (\"il voto minimo riportato dal 70% degli studenti è\", round(pd, 2))"
   ]
  },
  {
   "cell_type": "code",
   "execution_count": 6,
   "id": "cb2e3778-31b2-4f88-88d8-73bd081365b5",
   "metadata": {},
   "outputs": [
    {
     "name": "stdout",
     "output_type": "stream",
     "text": [
      "il voto massimo non superato dal 90% degli studenti 29.13\n"
     ]
    }
   ],
   "source": [
    "#e) il voto massimo non superato dal 90% degli studenti\n",
    "probe = 90/100\n",
    "\n",
    "pe = norm.ppf(probe, mi, devStandard)\n",
    "print(\"il voto massimo non superato dal 90% degli studenti\", round(pe, 2))"
   ]
  }
 ],
 "metadata": {
  "kernelspec": {
   "display_name": "Python 3 (ipykernel)",
   "language": "python",
   "name": "python3"
  },
  "language_info": {
   "codemirror_mode": {
    "name": "ipython",
    "version": 3
   },
   "file_extension": ".py",
   "mimetype": "text/x-python",
   "name": "python",
   "nbconvert_exporter": "python",
   "pygments_lexer": "ipython3",
   "version": "3.12.7"
  }
 },
 "nbformat": 4,
 "nbformat_minor": 5
}
