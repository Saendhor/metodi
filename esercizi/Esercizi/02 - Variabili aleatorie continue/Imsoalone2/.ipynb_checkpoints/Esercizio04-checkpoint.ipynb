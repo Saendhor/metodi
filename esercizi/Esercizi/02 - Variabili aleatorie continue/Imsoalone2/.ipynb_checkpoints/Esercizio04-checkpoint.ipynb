{
 "cells": [
  {
   "cell_type": "code",
   "execution_count": 1,
   "id": "cfbe49f0-51e9-4695-bb6c-5b625edf39d3",
   "metadata": {},
   "outputs": [],
   "source": [
    "# Si scelga a caso un punto X all’interno dell’intervallo [0,2]\n",
    "from scipy.stats import uniform\n",
    "a = 0\n",
    "b = 2"
   ]
  },
  {
   "cell_type": "code",
   "execution_count": 2,
   "id": "03a5a307-8f0c-4e88-b598-74cb83c454a3",
   "metadata": {},
   "outputs": [
    {
     "name": "stdout",
     "output_type": "stream",
     "text": [
      "La probabilità che il triangolo equilatero con lato di lunghezza X abbia area maggiore di 1 è 0.24\n"
     ]
    }
   ],
   "source": [
    "# Qual è la probabilità che il triangolo equilatero il cui lato ha lunghezza X abbia area maggiore di 1?\n",
    "import numpy as np\n",
    "#s = ??\n",
    "#area = (1/4) * np.sqrt(3) * (s**2)\n",
    "X = np.sqrt(4 * (1 / np.sqrt(3)))\n",
    "\n",
    "p = uniform.cdf(X, a, b-a)\n",
    "q = 1- p\n",
    "print (\"La probabilità che il triangolo equilatero con lato di lunghezza X abbia area maggiore di 1 è\", round(q,2))"
   ]
  }
 ],
 "metadata": {
  "kernelspec": {
   "display_name": "Python 3 (ipykernel)",
   "language": "python",
   "name": "python3"
  },
  "language_info": {
   "codemirror_mode": {
    "name": "ipython",
    "version": 3
   },
   "file_extension": ".py",
   "mimetype": "text/x-python",
   "name": "python",
   "nbconvert_exporter": "python",
   "pygments_lexer": "ipython3",
   "version": "3.12.7"
  }
 },
 "nbformat": 4,
 "nbformat_minor": 5
}
