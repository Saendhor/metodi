{
 "cells": [
  {
   "cell_type": "code",
   "execution_count": null,
   "id": "2c64979a-eb24-4c45-8510-5b84f4f1b1cd",
   "metadata": {},
   "outputs": [],
   "source": [
    "# Quesito 03\n",
    "# Una variabile aleatoria X ha la seguente densità di probabilità\n",
    "# f(x) =  x/2 per x appartenente a [0,2]\n",
    "#         0 altrove"
   ]
  },
  {
   "cell_type": "code",
   "execution_count": null,
   "id": "847c4b76-8515-411c-90b8-2df5d09e5337",
   "metadata": {},
   "outputs": [],
   "source": [
    "# 1. Decrivere e implementare un algoritmo per generare numeri pseudo-casuali con distribuzione X utilizzando il metodo dell'inversione"
   ]
  },
  {
   "cell_type": "code",
   "execution_count": null,
   "id": "a8cd8577-e17f-4cad-b22e-8137a2eccf7b",
   "metadata": {},
   "outputs": [],
   "source": [
    "# 2. Generare con l'algoritmo implementato un insieme di numeri casuali, e confron- tare graficamente la loro distribuzione costruendo un istogramma e sovrapponendolo alla f (x) data."
   ]
  }
 ],
 "metadata": {
  "kernelspec": {
   "display_name": "Python 3 (ipykernel)",
   "language": "python",
   "name": "python3"
  },
  "language_info": {
   "codemirror_mode": {
    "name": "ipython",
    "version": 3
   },
   "file_extension": ".py",
   "mimetype": "text/x-python",
   "name": "python",
   "nbconvert_exporter": "python",
   "pygments_lexer": "ipython3",
   "version": "3.12.7"
  }
 },
 "nbformat": 4,
 "nbformat_minor": 5
}
