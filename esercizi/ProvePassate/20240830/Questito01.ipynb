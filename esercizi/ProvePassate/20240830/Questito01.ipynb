{
 "cells": [
  {
   "cell_type": "code",
   "execution_count": 1,
   "id": "84b57826-0e16-48f3-8b2d-1b12dadc2b38",
   "metadata": {},
   "outputs": [],
   "source": [
    "# Quesito 01\n",
    "# Vengono lanciati tre comuni dadi a sei facce (numerate da 1 a 6), che supponiamo equilibrati.\n",
    "d = 3"
   ]
  },
  {
   "cell_type": "code",
   "execution_count": 2,
   "id": "660aacdb-b051-4ccb-9ea1-73f1e8145f32",
   "metadata": {},
   "outputs": [
    {
     "name": "stdout",
     "output_type": "stream",
     "text": [
      "Le probabilità che si ottengano esattamente uno, due o tre 6 sono 0.347 , 0.069 , 0.005\n"
     ]
    }
   ],
   "source": [
    "# 1. Quali sono le probabilità che si ottengano esattamente uno, due o tre 6?\n",
    "from scipy.stats import binom\n",
    "\n",
    "p = 1/6\n",
    "n = 3\n",
    "\n",
    "p1 = binom.pmf (1, n, p) # prob che esca 1 volta 6\n",
    "p2 = binom.pmf (2, n, p) # prob che esca 2 volte 6\n",
    "p3 = binom.pmf (3, n, p) # prob che esca 3 volte 6\n",
    "\n",
    "\n",
    "print (\"Le probabilità che si ottengano esattamente uno, due o tre 6 sono\", round(p1,3),\",\", round(p2,3), \",\", round(p3,3))"
   ]
  },
  {
   "cell_type": "code",
   "execution_count": 3,
   "id": "c007ab6b-3e1b-4464-b3b7-aba84139e549",
   "metadata": {},
   "outputs": [
    {
     "name": "stdout",
     "output_type": "stream",
     "text": [
      "Il numero di volte che è apparso 6 è 1617 1688 1681\n",
      "Il numero di volte in cui è apparso un solo 6 su qualsiasi dado è 3477 con probabilità 0.3477\n",
      "Il numero di volte in cui sono apparsi due 6 contemporaneamente è 669 con probabilità 0.0669\n",
      "Il numero di volte in cui sono apparsi tre 6 contemporaneamente è 57 con probabilità 0.0057\n",
      "index 10000\n"
     ]
    }
   ],
   "source": [
    "# 2. Realizzare una simulazione del lancio dei dadi per il calcolo delle probabilità descritte al punto 2 (minimo 1000 lanci) e confrontarle col valore teorico calcolato\n",
    "import numpy as np\n",
    "\n",
    "d1_ex = 0 # i valori 6 estratti in totale\n",
    "d2_ex = 0\n",
    "d3_ex = 0\n",
    "\n",
    "n =  1000\n",
    "\n",
    "dice_status1 = 0\n",
    "dice_status2 = 0\n",
    "dice_status3 = 0\n",
    "dice_cumulative = 0\n",
    "\n",
    "t1 = 0\n",
    "t2 = 0\n",
    "t3 = 0\n",
    "index = 0\n",
    "while index < n:\n",
    "    \n",
    "    # Dado 1\n",
    "    dice_status1 = 0\n",
    "    dice1 = np.random.randint(low = 1, high = 7)\n",
    "    if dice1 == 6:\n",
    "        dice_status1 = 1\n",
    "        d1_ex += 1\n",
    "\n",
    "    # Dado 2\n",
    "    dice_status2 = 0\n",
    "    dice2 = np.random.randint(low = 1, high = 7)\n",
    "    if dice2 == 6:\n",
    "        dice_status2 = 1\n",
    "        d2_ex += 1\n",
    "\n",
    "    # Dado 3\n",
    "    dice_status3 = 0\n",
    "    dice3 = np.random.randint(low = 1, high = 7)\n",
    "    if dice3 == 6:\n",
    "        dice_status3 = 1\n",
    "        d3_ex += 1\n",
    "\n",
    "\n",
    "    # All the testing stuff\n",
    "    dice_cumulative = dice_status1 + dice_status2 + dice_status3\n",
    "    \n",
    "    # Se è solo 1 dado ad essere 6\n",
    "    if dice_cumulative == 1:\n",
    "        t1 += 1\n",
    "\n",
    "    # Se sono 2 dadi ad essere 6\n",
    "    if dice_cumulative == 2:\n",
    "        t2 += 1\n",
    "\n",
    "    # Se sono 3 dadi ad essere 6\n",
    "    if dice_cumulative == 3:\n",
    "        t3 += 1\n",
    "\n",
    "    #End loop\n",
    "    dice_cumulative = 0\n",
    "    index += 1\n",
    "\n",
    "print (\"Il numero di volte che è apparso 6 è\", d1_ex, d2_ex, d3_ex)\n",
    "print (\"Il numero di volte in cui è apparso un solo 6 su qualsiasi dado è\", t1, \"con probabilità\", t1/n)\n",
    "print (\"Il numero di volte in cui sono apparsi due 6 contemporaneamente è\", t2, \"con probabilità\", t2/n)\n",
    "print (\"Il numero di volte in cui sono apparsi tre 6 contemporaneamente è\", t3, \"con probabilità\", t3/n)\n",
    "print (\"index\", index)"
   ]
  }
 ],
 "metadata": {
  "kernelspec": {
   "display_name": "Python 3 (ipykernel)",
   "language": "python",
   "name": "python3"
  },
  "language_info": {
   "codemirror_mode": {
    "name": "ipython",
    "version": 3
   },
   "file_extension": ".py",
   "mimetype": "text/x-python",
   "name": "python",
   "nbconvert_exporter": "python",
   "pygments_lexer": "ipython3",
   "version": "3.12.7"
  }
 },
 "nbformat": 4,
 "nbformat_minor": 5
}
