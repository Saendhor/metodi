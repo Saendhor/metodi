{
 "cells": [
  {
   "cell_type": "code",
   "execution_count": 1,
   "id": "6dfb3bec-3b03-4262-910b-5ce1b7c8ed9a",
   "metadata": {},
   "outputs": [],
   "source": [
    "# Quesito 02\n",
    "# Un mulino confeziona sacchetti di farina dal peso medio di 1 kg, secondo una distribuzione gaussiana avente deviazione standard di 6 grammi.\n",
    "from scipy.stats import norm\n",
    "\n",
    "mi = 1000\n",
    "devStandard = 6"
   ]
  },
  {
   "cell_type": "code",
   "execution_count": 2,
   "id": "28937180-7b3d-4a01-9280-b1c2f537d1c6",
   "metadata": {},
   "outputs": [
    {
     "name": "stdout",
     "output_type": "stream",
     "text": [
      "La probabilità che il peso di un sacchetto differisca di meno dell'1% dal peso dichiarato di 1 kg negativamente è 0.952\n",
      "La probabilità che il peso di un sacchetto differisca di meno dell'1% dal peso dichiarato di 1 kg positivamente è 0.952\n"
     ]
    }
   ],
   "source": [
    "# 1. Qual è la probabilità che il peso di un sacchetto differisca di meno dell'1% dal peso dichiarato di 1 kg?\n",
    "\n",
    "x = 1000 - (1000 * 1/100) # 1000 - 10 = 990\n",
    "result_1a = 1 - norm.cdf(x, mi, devStandard) \n",
    "\n",
    "x = 1000 - (1000 * 1/100) # 1000 + 10 = 1010\n",
    "result_1b = 1 - norm.cdf(x, mi, devStandard)\n",
    "\n",
    "print (\"La probabilità che il peso di un sacchetto differisca di meno dell'1% dal peso dichiarato di 1 kg negativamente è\", round(result_1a, 3))\n",
    "print (\"La probabilità che il peso di un sacchetto differisca di meno dell'1% dal peso dichiarato di 1 kg positivamente è\", round(result_1b, 3))"
   ]
  },
  {
   "cell_type": "code",
   "execution_count": 3,
   "id": "7514221a-ae71-4914-b364-d7e01f839086",
   "metadata": {},
   "outputs": [
    {
     "name": "stdout",
     "output_type": "stream",
     "text": [
      "La percentuale di sacchetti che non potranno essere messi in commercio se contengono quantità inferiore a 980 grammi è del 0.043 %\n"
     ]
    }
   ],
   "source": [
    "# 2. Se la legge impedisce di mettere in commercio confezioni che contengono meno di 980 grammi di farina, qual è la percentuale di sacchetti che non potranno essere messi in commercio?\n",
    "x = 980\n",
    "\n",
    "result_2= norm.cdf(x, mi, devStandard)\n",
    "print (\"La percentuale di sacchetti che non potranno essere messi in commercio se contengono quantità inferiore a 980 grammi è del\", round(result_2 * 100, 3), \"%\" )"
   ]
  },
  {
   "cell_type": "code",
   "execution_count": 4,
   "id": "543169d3-b2b2-4e86-8130-388ceffec036",
   "metadata": {},
   "outputs": [
    {
     "name": "stdout",
     "output_type": "stream",
     "text": [
      "La distribuzione di probabilità del peso di confezioni da 40 sacchetti da come risultato 0.0938\n"
     ]
    }
   ],
   "source": [
    "# 3. Trovare la distribuzione di probabilità del peso di confezioni da 40 sacchetti, e calcolare la probabilità che il peso di una confezione superi di oltre 50 grammi il peso medio.\n",
    "import numpy as np\n",
    "\n",
    "delta = 50\n",
    "n = 40\n",
    "x = (n * 1000) + delta\n",
    "\n",
    "result_3 = 1 - norm.cdf(x, mi*n, devStandard * np.sqrt(n)) # per proprietà di pag 78, µ*40 e var = sigma_quadro * 40\n",
    "\n",
    "print (\"La distribuzione di probabilità del peso di confezioni da 40 sacchetti da come risultato\", round(result_3, 4))"
   ]
  }
 ],
 "metadata": {
  "kernelspec": {
   "display_name": "Python 3 (ipykernel)",
   "language": "python",
   "name": "python3"
  },
  "language_info": {
   "codemirror_mode": {
    "name": "ipython",
    "version": 3
   },
   "file_extension": ".py",
   "mimetype": "text/x-python",
   "name": "python",
   "nbconvert_exporter": "python",
   "pygments_lexer": "ipython3",
   "version": "3.12.7"
  }
 },
 "nbformat": 4,
 "nbformat_minor": 5
}
