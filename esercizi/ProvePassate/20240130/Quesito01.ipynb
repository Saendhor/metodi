{
 "cells": [
  {
   "cell_type": "code",
   "execution_count": 1,
   "id": "f23b5dc9-0ae5-4a84-9399-4bd44231d0d5",
   "metadata": {},
   "outputs": [],
   "source": [
    "from scipy.stats import expon\n",
    "lamb = 1/400 #ore"
   ]
  },
  {
   "cell_type": "code",
   "execution_count": 2,
   "id": "c2b078e4-8292-48fb-9621-73d47f9c346b",
   "metadata": {},
   "outputs": [
    {
     "name": "stdout",
     "output_type": "stream",
     "text": [
      "Probabilità che il dispositivo fallisca il test in meno di 100 ore: 0.22\n"
     ]
    }
   ],
   "source": [
    "#Punto 1) Probabilità che il dispositivo fallisca il test in meno di 100 ore\n",
    "x1 = 100\n",
    "p1 = expon.cdf(x1, 0, 1/lamb)\n",
    "\n",
    "print (\"Probabilità che il dispositivo fallisca il test in meno di 100 ore:\", round(p1, 2))"
   ]
  },
  {
   "cell_type": "code",
   "execution_count": 3,
   "id": "f51e4347-e721-4070-9901-cc41514597ee",
   "metadata": {},
   "outputs": [
    {
     "name": "stdout",
     "output_type": "stream",
     "text": [
      "Probabilità dispositivo operi più di 500 ore prima di rompersi: 0.29\n"
     ]
    }
   ],
   "source": [
    "#Punto 2) Probabilità dispositivo operi più di 500 ore prima di rompersi\n",
    "x2 = 500\n",
    "p2 = expon.cdf(x2, 0, 1/lamb)\n",
    "q2 = 1 - p2\n",
    "print (\"Probabilità dispositivo operi più di 500 ore prima di rompersi:\", round(q2, 2))"
   ]
  },
  {
   "cell_type": "code",
   "execution_count": 4,
   "id": "cf524396-8624-4511-bfc4-c322886f5e8e",
   "metadata": {},
   "outputs": [
    {
     "name": "stdout",
     "output_type": "stream",
     "text": [
      "Sapendo che il dispositivo ha operato per 400 ore, la probabilità che fallisca nelle prossime 100 ore è 0.08\n"
     ]
    }
   ],
   "source": [
    "#Punto 3) Sapendo che il dispositivo ha operato per 400 ore, qual è la probabilità che fallisca nelle prossime 100 ore\n",
    "# Proprietà di mancanza di memoria\n",
    "x3 = 400\n",
    "delta = 100\n",
    "p3 = expon.cdf(x3+delta, 0, 1/lamb) - expon.cdf(x3, 0, 1/lamb)\n",
    "print (\"Sapendo che il dispositivo ha operato per 400 ore, la probabilità che fallisca nelle prossime 100 ore è\", round(p3, 2))"
   ]
  },
  {
   "cell_type": "code",
   "execution_count": 5,
   "id": "05d28b88-2c0d-490a-bd72-6696f506e860",
   "metadata": {},
   "outputs": [
    {
     "name": "stdout",
     "output_type": "stream",
     "text": [
      "20.51731775502023\n",
      "Ore di funzionamento necessarie per affermare che il dispositivo fallisca il test con probabilità superiore a 95%: 20.52\n"
     ]
    }
   ],
   "source": [
    "#Punto 4) Ore di funzionamento necessarie per affermare che il dispositivo fallisca il test con probabilità superiore a 95%\n",
    "\n",
    "p4 = 95/100\n",
    "q4 = 1-p4\n",
    "x4 = expon.ppf(q4, 0, 1/lamb)\n",
    "print (\"Ore di funzionamento necessarie per affermare che il dispositivo fallisca il test con probabilità superiore a 95%:\", round(x4, 2))"
   ]
  }
 ],
 "metadata": {
  "kernelspec": {
   "display_name": "Python 3 (ipykernel)",
   "language": "python",
   "name": "python3"
  },
  "language_info": {
   "codemirror_mode": {
    "name": "ipython",
    "version": 3
   },
   "file_extension": ".py",
   "mimetype": "text/x-python",
   "name": "python",
   "nbconvert_exporter": "python",
   "pygments_lexer": "ipython3",
   "version": "3.12.7"
  }
 },
 "nbformat": 4,
 "nbformat_minor": 5
}
