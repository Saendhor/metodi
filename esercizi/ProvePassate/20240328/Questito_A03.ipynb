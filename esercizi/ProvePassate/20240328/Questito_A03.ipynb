{
 "cells": [
  {
   "cell_type": "code",
   "execution_count": 1,
   "id": "2c001536-81bb-457b-9f4c-3cf06a2f984d",
   "metadata": {},
   "outputs": [],
   "source": [
    "import numpy as np\n",
    "n = 25\n",
    "data = np.array([36.6, 36.2, 36.3, 36.4, 36.6,\n",
    "                 36.6, 36.7, 36.7, 36.7, 36.7,\n",
    "                 36.8, 36.8, 36.8, 36.9, 36.9,\n",
    "                 36.9, 36.9, 37.0, 37.0, 37.1,\n",
    "                 37.1, 37.1, 37.2, 37.2, 37.2])"
   ]
  },
  {
   "cell_type": "code",
   "execution_count": 2,
   "id": "5471a7ef-8107-4ca4-a830-4bb5bb143f98",
   "metadata": {},
   "outputs": [
    {
     "name": "stdout",
     "output_type": "stream",
     "text": [
      "media: 36.82 ; devStandard: 0.27\n",
      "Intervallo di confidenza con alpha = 0.01: [ 36.68 , 36.95 ]\n"
     ]
    }
   ],
   "source": [
    "# Punto 1) i calcolino la media e la deviazione standard campionarie, e l’intervallo di confidenza per la media con livello di fiducia 0.01\n",
    "from scipy.stats import norm\n",
    "\n",
    "media = np.mean(data)\n",
    "devStandard = np.std(data)\n",
    "print(\"media:\", round(media, 2), \"; devStandard:\", round(devStandard, 2))\n",
    "\n",
    "alpha1 = 0.01\n",
    "phi = norm.ppf(1-alpha1/2)\n",
    "inf = media - (phi * (devStandard / np.sqrt(n)))\n",
    "sup = media + (phi * (devStandard / np.sqrt(n)))\n",
    "print(\"Intervallo di confidenza con alpha = 0.01: [\", round(inf, 2), \",\", round(sup, 2), \"]\")"
   ]
  },
  {
   "cell_type": "code",
   "execution_count": 3,
   "id": "ee468176-85c7-4891-808b-d0c97b6ddeab",
   "metadata": {},
   "outputs": [
    {
     "name": "stdout",
     "output_type": "stream",
     "text": [
      "-3.4347492237645683\n",
      "-1.7108820799094282\n",
      "L'ipotesi può essere rigettata\n"
     ]
    }
   ],
   "source": [
    "# Punto 2) Si testi l’ipotesi che la temperatura limite normale media sia di 37 °C. Si utilizzi α = 0.05\n",
    "from scipy.stats import t\n",
    "alpha2 = 0.05\n",
    "mi = 37 #°C\n",
    "\n",
    "T0 = ((media - mi) / devStandard) * np.sqrt(n)\n",
    "print (T0)\n",
    "test = t.ppf(alpha2, n-1)\n",
    "print(test)\n",
    "\n",
    "if T0 < test:\n",
    "    print(\"L'ipotesi può essere rigettata\")\n",
    "else:\n",
    "    print(\"L'ipotesi non può essere rigettata\")"
   ]
  },
  {
   "cell_type": "code",
   "execution_count": 4,
   "id": "b90f9725-7e7d-483d-b175-bc661ef1fdab",
   "metadata": {},
   "outputs": [
    {
     "name": "stdout",
     "output_type": "stream",
     "text": [
      "p-value: 0.0\n"
     ]
    }
   ],
   "source": [
    "# Punto 3) Calcolare il p-value del test\n",
    "pValue = t.cdf(T0, n-1)\n",
    "print(\"p-value:\", round(pValue, 2))"
   ]
  },
  {
   "cell_type": "code",
   "execution_count": 5,
   "id": "34ea1e6d-9d61-4078-950a-984d08af534e",
   "metadata": {},
   "outputs": [
    {
     "name": "stdout",
     "output_type": "stream",
     "text": [
      "La dimensione capionaria è 15.36\n"
     ]
    }
   ],
   "source": [
    "# Punto 4) Quale sarebbe la dimensione campionaria richiesta per determinare una temperatura limite reale di 36.8 °C richiedendo una potenza del test del 90%?\n",
    "alpha4 = 0.05\n",
    "beta4 = 0.1\n",
    "mi4 = 36.8\n",
    "\n",
    "delt = 37-36.8\n",
    "phi_a = norm.ppf(alpha4)\n",
    "phi_b = norm.ppf(beta4)\n",
    "\n",
    "dim = ((phi_a + phi_b)**2) * ((devStandard**2) / (delt **2))\n",
    "\n",
    "print(\"La dimensione capionaria è\", round(dim, 2))\n",
    "\n"
   ]
  }
 ],
 "metadata": {
  "kernelspec": {
   "display_name": "Python 3 (ipykernel)",
   "language": "python",
   "name": "python3"
  },
  "language_info": {
   "codemirror_mode": {
    "name": "ipython",
    "version": 3
   },
   "file_extension": ".py",
   "mimetype": "text/x-python",
   "name": "python",
   "nbconvert_exporter": "python",
   "pygments_lexer": "ipython3",
   "version": "3.12.7"
  }
 },
 "nbformat": 4,
 "nbformat_minor": 5
}
