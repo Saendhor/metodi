{
 "cells": [
  {
   "cell_type": "code",
   "execution_count": 1,
   "id": "48ebe138-a016-4f93-acca-0a984f01b129",
   "metadata": {},
   "outputs": [],
   "source": [
    "import numpy as np\n",
    "data = np.array([39.5, 41.5, 38.5, 42.5, 37.5, 43.5, 36.5, 44.5, 35.5, 45.5])\n",
    "devStandard = 1.25\n",
    "n = 10"
   ]
  },
  {
   "cell_type": "code",
   "execution_count": 2,
   "id": "126f4524-ca2d-4d22-b038-d23055f46ff2",
   "metadata": {},
   "outputs": [],
   "source": [
    "# Punto 1) media campionaria, intervallo di confidenza della media con alpha = 0.05\n",
    "from scipy.stats import norm\n",
    "alpha1 = 0.05\n",
    "mean = np.mean(data)\n",
    "\n",
    "phi1 = norm.ppf(1- alpha1/2)\n",
    "\n",
    "inf1 = mean - ((devStandard * np.sqrt(n)) * phi1)\n",
    "sup1 = mean + ((devStandard * np.sqrt(n)) * phi1)"
   ]
  },
  {
   "cell_type": "code",
   "execution_count": 3,
   "id": "673e1c90-3a89-44ac-9514-31f382587347",
   "metadata": {},
   "outputs": [
    {
     "name": "stdout",
     "output_type": "stream",
     "text": [
      "L'ipotesi non può essere rigettata\n"
     ]
    }
   ],
   "source": [
    "# Punto 2) Vi `e evidenza nel supportare l’ipotesi che il tempo di vita ecceda le 40 ore? Si usi α = 0.05\n",
    "alpha2 = 0.05\n",
    "mi = 40\n",
    "\n",
    "Z = ((mean - mi) / devStandard) * np.sqrt(n)\n",
    "test = norm.ppf(1 - alpha2)\n",
    "\n",
    "if Z > test:\n",
    "    print(\"L'ipotesi può essere rigettata\")\n",
    "else:\n",
    "    print(\"L'ipotesi non può essere rigettata\")\n"
   ]
  },
  {
   "cell_type": "code",
   "execution_count": 4,
   "id": "76c6075f-7e98-4f3e-881f-c82a2f91c41c",
   "metadata": {},
   "outputs": [],
   "source": [
    "# Punto 3) Calcolare il p-value del test precedente"
   ]
  }
 ],
 "metadata": {
  "kernelspec": {
   "display_name": "Python 3 (ipykernel)",
   "language": "python",
   "name": "python3"
  },
  "language_info": {
   "codemirror_mode": {
    "name": "ipython",
    "version": 3
   },
   "file_extension": ".py",
   "mimetype": "text/x-python",
   "name": "python",
   "nbconvert_exporter": "python",
   "pygments_lexer": "ipython3",
   "version": "3.12.7"
  }
 },
 "nbformat": 4,
 "nbformat_minor": 5
}
