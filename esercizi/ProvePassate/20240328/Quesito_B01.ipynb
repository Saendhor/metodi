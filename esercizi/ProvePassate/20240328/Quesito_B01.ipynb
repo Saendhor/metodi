{
 "cells": [
  {
   "cell_type": "code",
   "execution_count": 1,
   "id": "48ebe138-a016-4f93-acca-0a984f01b129",
   "metadata": {},
   "outputs": [],
   "source": [
    "from scipy.stats import norm\n",
    "\n",
    "mi = 60 #min\n",
    "devStandard = 5 #min"
   ]
  },
  {
   "cell_type": "code",
   "execution_count": 2,
   "id": "2eb70dc5-0119-4b22-b8f5-51541bad9513",
   "metadata": {},
   "outputs": [
    {
     "name": "stdout",
     "output_type": "stream",
     "text": [
      "0.0013498980316300933\n",
      "La probabilità che la cellula si divida in meno di 45 min è 0.0013\n"
     ]
    }
   ],
   "source": [
    "# Punto 1) probabilità che la cellula si divida in meno di 45 min\n",
    "x1 = 45\n",
    "\n",
    "pa = norm.cdf(x1, mi, devStandard)\n",
    "print (pa)\n",
    "print(\"La probabilità che la cellula si divida in meno di 45 min è\", round(pa, 4))"
   ]
  },
  {
   "cell_type": "code",
   "execution_count": 3,
   "id": "b3056dac-ccc7-4e90-8f14-e3fcda672b34",
   "metadata": {},
   "outputs": [
    {
     "name": "stdout",
     "output_type": "stream",
     "text": [
      "La probabilità che la cellula si divida in più di 65 min è 0.16\n"
     ]
    }
   ],
   "source": [
    "# Punto 2) probabilità che la cellula si divida in più di 65 min\n",
    "x2 = 65\n",
    "\n",
    "pb = 1 - norm.cdf(x2, mi, devStandard)\n",
    "print(\"La probabilità che la cellula si divida in più di 65 min è\", round(pb, 2))"
   ]
  },
  {
   "cell_type": "code",
   "execution_count": 4,
   "id": "ee340f11-a153-45dc-a9ef-ccae983dbd4e",
   "metadata": {},
   "outputs": [
    {
     "name": "stdout",
     "output_type": "stream",
     "text": [
      "il tempo impiegato approssimativamente dal 99% delle cellule per completare la mitosi 2.33 minuti\n"
     ]
    }
   ],
   "source": [
    "# Punto 3) Qual `e il tempo impiegato approssimativamente dal 99% delle cellule per completare la mitosi\n",
    "alpha3 = 0.99\n",
    "t3 = norm.ppf(alpha3)\n",
    "\n",
    "print(\"il tempo impiegato approssimativamente dal 99% delle cellule per completare la mitosi\", round(t3, 2), \"minuti\")"
   ]
  },
  {
   "cell_type": "code",
   "execution_count": 5,
   "id": "7478278a-3337-40b3-8b2f-090738d8af15",
   "metadata": {},
   "outputs": [
    {
     "name": "stdout",
     "output_type": "stream",
     "text": [
      "0.0\n",
      "la probabilit`a che il tempo medio di divisione sia minore di 58 minuti su un campione di 20 cellule è 0.0\n"
     ]
    }
   ],
   "source": [
    "# Punto 4) Su un campione di 20 cellule, qual `e la probabilit`a che il tempo medio di divisione sia minore di 58 minuti?\n",
    "import numpy as np\n",
    "\n",
    "n = 20\n",
    "x4 = 58 #minuti\n",
    "p4 = norm.cdf(x4, mi*n, devStandard * np.sqrt(n))\n",
    "print (p4)\n",
    "print(\"la probabilità che il tempo medio di divisione sia minore di 58 minuti su un campione di 20 cellule è\", round(p4, 2))"
   ]
  }
 ],
 "metadata": {
  "kernelspec": {
   "display_name": "Python 3 (ipykernel)",
   "language": "python",
   "name": "python3"
  },
  "language_info": {
   "codemirror_mode": {
    "name": "ipython",
    "version": 3
   },
   "file_extension": ".py",
   "mimetype": "text/x-python",
   "name": "python",
   "nbconvert_exporter": "python",
   "pygments_lexer": "ipython3",
   "version": "3.12.7"
  }
 },
 "nbformat": 4,
 "nbformat_minor": 5
}
