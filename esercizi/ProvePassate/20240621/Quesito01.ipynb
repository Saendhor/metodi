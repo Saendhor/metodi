{
 "cells": [
  {
   "cell_type": "code",
   "execution_count": null,
   "id": "35eff4f3-84c3-4c7a-98a4-33359ac6e001",
   "metadata": {},
   "outputs": [],
   "source": [
    "n = 52\n",
    "k = 13"
   ]
  },
  {
   "cell_type": "code",
   "execution_count": null,
   "id": "fbd7585f-900f-403b-800b-b74b8b70e02f",
   "metadata": {},
   "outputs": [],
   "source": [
    "# Punto 1) Probabilità vengano estratte 2 carte di cuori\n",
    "\n",
    "p1 = 2 * (k/n)"
   ]
  },
  {
   "cell_type": "code",
   "execution_count": null,
   "id": "bcaa5bb1-5cc1-43f7-8814-8de332767731",
   "metadata": {},
   "outputs": [],
   "source": [
    "# Punto 2) Probabilità vengano estratte un numero di carte di cuori compreso fra 3 e 5\n",
    "# 1 2 |3 4 5| 6 7 8 9 10 J Q K\n",
    "\n",
    "p2 = 3/52"
   ]
  },
  {
   "cell_type": "code",
   "execution_count": null,
   "id": "917fe264-5639-4c27-93b4-48b50157daae",
   "metadata": {},
   "outputs": [],
   "source": [
    "# Punto 3) Probabilità sia estratta almeno una carta di cuori\n",
    "p3 = k/n"
   ]
  }
 ],
 "metadata": {
  "kernelspec": {
   "display_name": "Python 3 (ipykernel)",
   "language": "python",
   "name": "python3"
  },
  "language_info": {
   "codemirror_mode": {
    "name": "ipython",
    "version": 3
   },
   "file_extension": ".py",
   "mimetype": "text/x-python",
   "name": "python",
   "nbconvert_exporter": "python",
   "pygments_lexer": "ipython3",
   "version": "3.12.7"
  }
 },
 "nbformat": 4,
 "nbformat_minor": 5
}
