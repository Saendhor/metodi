{
 "cells": [
  {
   "cell_type": "code",
   "execution_count": 1,
   "id": "f36fa7a9-1bb6-474f-9f01-9f68af9e819d",
   "metadata": {},
   "outputs": [
    {
     "name": "stdout",
     "output_type": "stream",
     "text": [
      "[['0' 'p' '1-p']\n",
      " ['1-p' '0' 'p']\n",
      " ['p' '1-p' '0']]\n"
     ]
    }
   ],
   "source": [
    "# Punto 1) matrice di transizione\n",
    "import numpy as np\n",
    "\n",
    "matrix1 = np.array([[\"0\", \"p\", \"1-p\"], [\"1-p\", \"0\", \"p\"], [\"p\", \"1-p\", \"0\"]])\n",
    "print (matrix1)"
   ]
  },
  {
   "cell_type": "code",
   "execution_count": 2,
   "id": "3d3352ba-ac93-475f-8310-7f198b1be7fc",
   "metadata": {},
   "outputs": [
    {
     "name": "stdout",
     "output_type": "stream",
     "text": [
      "[[0.         0.33333333 0.66666667]\n",
      " [0.66666667 0.         0.33333333]\n",
      " [0.33333333 0.66666667 0.        ]]\n",
      " \n",
      "[[0.44444444 0.44444444 0.11111111]\n",
      " [0.11111111 0.44444444 0.44444444]\n",
      " [0.44444444 0.11111111 0.44444444]]\n",
      "siccome tutti gli archi sono > 0 allora la catena è regolare\n"
     ]
    }
   ],
   "source": [
    "# Punto 2) fissato p = 1/3, mostrare che è una catena regolare\n",
    "p = 1/3\n",
    "P = np.array([[0, p, 1-p], [1-p, 0, p], [p, 1-p, 0]])\n",
    "print(P)\n",
    "\n",
    "print(\" \")\n",
    "\n",
    "matrix3 = np.dot(P, P)\n",
    "print(matrix3)\n",
    "print(\"siccome tutti gli archi sono > 0 allora la catena è regolare\")"
   ]
  },
  {
   "cell_type": "code",
   "execution_count": 3,
   "id": "27bab7f2-193e-4c94-9075-1ac13cfc0706",
   "metadata": {},
   "outputs": [
    {
     "name": "stdout",
     "output_type": "stream",
     "text": [
      "lam: [ 1. +0.j         -0.5+0.28867513j -0.5-0.28867513j]\n",
      " \n",
      "V: [[ 0.57735027+0.j   0.57735027+0.j   0.57735027-0.j ]\n",
      " [ 0.57735027+0.j  -0.28867513+0.5j -0.28867513-0.5j]\n",
      " [ 0.57735027+0.j  -0.28867513-0.5j -0.28867513+0.5j]]\n",
      " \n",
      "v: [0.33333333 0.33333333 0.33333333]\n"
     ]
    }
   ],
   "source": [
    "# Punto 3) Fissato p = 1/3 determinare la distribuzione stazionaria\n",
    "\n",
    "# metodo 1: v = vP\n",
    "lam, V = np.linalg.eig(P.T)\n",
    "print(\"lam:\", lam)\n",
    "print(\" \")\n",
    "print(\"V:\", V)\n",
    "\n",
    "print(\" \")\n",
    "\n",
    "v = np.real(V[:, 0]) / np.sum(np.real(V[:, 0]))\n",
    "print(\"v:\", v)"
   ]
  }
 ],
 "metadata": {
  "kernelspec": {
   "display_name": "Python 3 (ipykernel)",
   "language": "python",
   "name": "python3"
  },
  "language_info": {
   "codemirror_mode": {
    "name": "ipython",
    "version": 3
   },
   "file_extension": ".py",
   "mimetype": "text/x-python",
   "name": "python",
   "nbconvert_exporter": "python",
   "pygments_lexer": "ipython3",
   "version": "3.12.7"
  }
 },
 "nbformat": 4,
 "nbformat_minor": 5
}
