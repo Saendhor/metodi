{
 "cells": [
  {
   "cell_type": "code",
   "execution_count": 1,
   "id": "8ec168c4-e7f3-4675-a9c2-156728391294",
   "metadata": {},
   "outputs": [],
   "source": [
    "import numpy as np\n",
    "values = np.array([0.39, 0.68, 0.82, 1.35, 1.38, 1.62, 1.70, 1.71, 1.85, 2.14, 2.89, 3.69])"
   ]
  },
  {
   "cell_type": "code",
   "execution_count": 2,
   "id": "41cd46f4-6b22-4751-8673-dd8a386ec4d6",
   "metadata": {},
   "outputs": [
    {
     "name": "stdout",
     "output_type": "stream",
     "text": [
      "Media: 1.6850000000000003\n",
      "Varianza: 0.779325\n",
      "Skewness: 0.7277632779844692\n",
      "Kurtosis: 3.118238214525985\n"
     ]
    }
   ],
   "source": [
    "#01 - media campionaria, varianza campionaria, skewness e curtosi\n",
    "\n",
    "n = values.size\n",
    "mean = np.mean(values)\n",
    "var = np.var(values, mean = mean)\n",
    "\n",
    "print(\"Media:\", mean)\n",
    "print(\"Varianza:\", var)\n",
    "\n",
    "mi3 = np.sum((values - mean)**3) / n\n",
    "skewness = mi3 / (var**1.5)\n",
    "print(\"Skewness:\", skewness)\n",
    "\n",
    "mi4 = np.sum((values - mean)**4) /n\n",
    "kurtosis = mi4 / (var**2)\n",
    "print (\"Kurtosis:\", kurtosis)\n",
    "\n",
    "'''\n",
    "Siccome il valore di Kurtosis è prossimo a 3, per la regola dei 3 sigma ha senso parlare di una distribuzione normale.\n",
    "'''"
   ]
  },
  {
   "cell_type": "code",
   "execution_count": 3,
   "id": "098af01a-a3a2-486f-a173-7c3ac6c0f1c8",
   "metadata": {},
   "outputs": [
    {
     "name": "stdout",
     "output_type": "stream",
     "text": [
      "Per stimare il valore di mi possiamo usare la media campionaria, quindi 1.6850000000000003\n",
      "Per stimare la varianza, invece, usiamo il valore di S² 0.8501727272727273\n"
     ]
    }
   ],
   "source": [
    "#02 - Stimare valori di mi e var\n",
    "S_quadro = np.sum((values - mean)**2) / (n-1)\n",
    "S = np.sqrt(S_quadro)\n",
    "\n",
    "print(\"Per stimare il valore di mi possiamo usare la media campionaria, quindi\", mean)\n",
    "print(\"Per stimare la varianza, invece, usiamo il valore di S²\", S_quadro)"
   ]
  },
  {
   "cell_type": "code",
   "execution_count": 4,
   "id": "4b203a9e-43c8-4d4f-8b1b-eb77058cf7d5",
   "metadata": {},
   "outputs": [
    {
     "name": "stdout",
     "output_type": "stream",
     "text": [
      "I valori della media sono compresi fra 1.0991585771616705 2.27084142283833\n",
      "I valori della varianza sono compresi fra 0.42663681493771966 2.450869235023462\n",
      " \n",
      "I valori della media sono compresi fra 0.8583201381260045 2.511679861873996\n",
      "I valori della varianza sono compresi fra 0.3495142506950296 3.592432913257921\n"
     ]
    }
   ],
   "source": [
    "#03 - Intervalli di confidenza al 95% e al 99%\n",
    "from scipy.stats import t, chi2\n",
    "\n",
    "alpha1 = 0.05\n",
    "\n",
    "factor = S * t.ppf(1-(alpha1/2), n-1) / np.sqrt(n)\n",
    "min_mi = mean - factor\n",
    "max_mi = mean + factor\n",
    "print(\"I valori della media sono compresi fra\", min_mi, max_mi)\n",
    " \n",
    "min_var = (S_quadro * (n-1)) / chi2.ppf(1-(alpha1/2), n-1)\n",
    "max_var = (S_quadro * (n-1)) / chi2.ppf(alpha1/2, n-1)\n",
    "print(\"I valori della varianza sono compresi fra\", min_var, max_var)\n",
    "\n",
    "print(\" \")\n",
    "alpha2 = 0.01\n",
    "factor2 = S * t.ppf(1-(alpha2/2), n-1) / np.sqrt(n)\n",
    "min_mi2 = mean - factor2\n",
    "max_mi2 = mean + factor2\n",
    "print(\"I valori della media sono compresi fra\", min_mi2, max_mi2)\n",
    " \n",
    "min_var2 = (S_quadro * (n-1)) / chi2.ppf(1-(alpha2/2), n-1)\n",
    "max_var2 = (S_quadro * (n-1)) / chi2.ppf(alpha2/2, n-1)\n",
    "print(\"I valori della varianza sono compresi fra\", min_var2, max_var2)"
   ]
  }
 ],
 "metadata": {
  "kernelspec": {
   "display_name": "Python 3 (ipykernel)",
   "language": "python",
   "name": "python3"
  },
  "language_info": {
   "codemirror_mode": {
    "name": "ipython",
    "version": 3
   },
   "file_extension": ".py",
   "mimetype": "text/x-python",
   "name": "python",
   "nbconvert_exporter": "python",
   "pygments_lexer": "ipython3",
   "version": "3.13.1"
  }
 },
 "nbformat": 4,
 "nbformat_minor": 5
}
