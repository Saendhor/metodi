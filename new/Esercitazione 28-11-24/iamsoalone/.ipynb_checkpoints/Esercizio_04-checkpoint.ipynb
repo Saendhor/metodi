{
 "cells": [
  {
   "cell_type": "code",
   "execution_count": 1,
   "id": "10d45bf8-d773-4aa1-bc2d-92be98919bce",
   "metadata": {},
   "outputs": [
    {
     "name": "stdout",
     "output_type": "stream",
     "text": [
      "---- A, B, C\n",
      "inf: [47.3729421  52.99594088 51.51183729]\n",
      "sup: [50.6270579  57.00405912 54.48816271]\n",
      "Osserviamo che il campione C è il migliore, seguito dal campione A ed infine il campione B\n",
      "Non serve che giustifichiamo l'andamento mediante una distribuzione normale dal momento che il numero dei campioni è >= 30\n"
     ]
    }
   ],
   "source": [
    "import numpy as np\n",
    "from scipy.stats import t\n",
    "\n",
    "n = 100\n",
    "mean = np.array([49, 55, 53])\n",
    "S = np.array([8.2, 10.1, 7.5])\n",
    "\n",
    "alpha = 0.05\n",
    "error = S * t.ppf(1-(alpha/2), n-1) / np.sqrt(n)\n",
    "\n",
    "mi_min = mean - error\n",
    "mi_max = mean + error\n",
    "\n",
    "print(\"---- A, B, C\")\n",
    "print(\"inf:\", mi_min)\n",
    "print(\"sup:\", mi_max)\n",
    "\n",
    "print(\"Osserviamo che il campione C è il migliore, seguito dal campione A ed infine il campione B\")\n",
    "print (\"Non serve che giustifichiamo l'andamento mediante una distribuzione normale dal momento che il numero dei campioni è >= 30\")"
   ]
  }
 ],
 "metadata": {
  "kernelspec": {
   "display_name": "Python 3 (ipykernel)",
   "language": "python",
   "name": "python3"
  },
  "language_info": {
   "codemirror_mode": {
    "name": "ipython",
    "version": 3
   },
   "file_extension": ".py",
   "mimetype": "text/x-python",
   "name": "python",
   "nbconvert_exporter": "python",
   "pygments_lexer": "ipython3",
   "version": "3.13.1"
  }
 },
 "nbformat": 4,
 "nbformat_minor": 5
}
