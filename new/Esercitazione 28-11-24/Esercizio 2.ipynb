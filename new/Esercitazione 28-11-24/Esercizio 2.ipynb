{
 "cells": [
  {
   "cell_type": "markdown",
   "metadata": {},
   "source": [
    "# Esercizio 1"
   ]
  },
  {
   "cell_type": "code",
   "execution_count": 2,
   "metadata": {},
   "outputs": [],
   "source": [
    "import numpy as np\n",
    "import matplotlib.pyplot as plt"
   ]
  },
  {
   "cell_type": "code",
   "execution_count": 3,
   "metadata": {},
   "outputs": [
    {
     "name": "stdout",
     "output_type": "stream",
     "text": [
      "[0.3 0.4 0.2 0.5 0.6] [0.11 0.14 0.06 0.16 0.22]\n"
     ]
    }
   ],
   "source": [
    "x = np.array([0.3, 0.4, 0.2, 0.5, 0.6])\n",
    "y = np.array([0.11, 0.14, 0.06, 0.16, 0.22])\n",
    "print(x, y)"
   ]
  },
  {
   "cell_type": "code",
   "execution_count": 4,
   "metadata": {},
   "outputs": [
    {
     "name": "stdout",
     "output_type": "stream",
     "text": [
      "0.4 0.13799999999999998\n"
     ]
    }
   ],
   "source": [
    "n = np.size(x)\n",
    "#calcolo la media dei dati\n",
    "xn = np.sum(x)/n\n",
    "yn = np.sum(y)/n\n",
    "print(xn, yn)"
   ]
  },
  {
   "cell_type": "code",
   "execution_count": 5,
   "metadata": {},
   "outputs": [
    {
     "name": "stdout",
     "output_type": "stream",
     "text": [
      "0.019999999999999962 0.002816000000000006 0.007400000000000004\n"
     ]
    }
   ],
   "source": [
    "xn2 = np.sum(x**2)/n\n",
    "yn2 = np.sum(y**2)/n\n",
    "xyn = np.sum(x*y)/n\n",
    "#calcolo la varianza\n",
    "sx = xn2-xn**2\n",
    "sy = yn2-yn**2\n",
    "#calcolo la covarianza\n",
    "sxy = xyn - xn*yn\n",
    "print(sx, sy, sxy)"
   ]
  },
  {
   "cell_type": "code",
   "execution_count": 6,
   "metadata": {},
   "outputs": [
    {
     "name": "stdout",
     "output_type": "stream",
     "text": [
      "0.9860533131446986\n"
     ]
    }
   ],
   "source": [
    "rho = sxy/np.sqrt(sx*sy)\n",
    "#il coefficiente di correlazione lineare è molto prossimo a 1\n",
    "#per cui è ragionevole supporre che le variabili siano linearmente correlate\n",
    "print(rho)"
   ]
  },
  {
   "cell_type": "code",
   "execution_count": 7,
   "metadata": {},
   "outputs": [
    {
     "name": "stdout",
     "output_type": "stream",
     "text": [
      "-0.01000000000000037 0.3700000000000009\n"
     ]
    }
   ],
   "source": [
    "#Il metodo dei minimi quadrati mi permette di trovare la retta di\n",
    "#regressione che minimizza le distanze dai punti sperimentali\n",
    "#Questa retta sarà caratterizzata dal coefficiente angolare b1 e \n",
    "#dal termine noto b0 che si possono calcolare una volta note varianza\n",
    "#e covarianza come segue\n",
    "b1 = sxy/sx\n",
    "b0 = yn-b1*xn\n",
    "print(b0, b1)"
   ]
  },
  {
   "cell_type": "code",
   "execution_count": 8,
   "metadata": {},
   "outputs": [
    {
     "data": {
      "image/png": "[encoded data removed]",
      "text/plain": [
       "<Figure size 432x288 with 1 Axes>"
      ]
     },
     "metadata": {
      "needs_background": "light"
     },
     "output_type": "display_data"
    }
   ],
   "source": [
    "plt.plot(x, y, 'bo')\n",
    "plt.plot(x, b0+b1*x, '-g')\n",
    "plt.show()"
   ]
  },
  {
   "cell_type": "code",
   "execution_count": 13,
   "metadata": {},
   "outputs": [
    {
     "name": "stdout",
     "output_type": "stream",
     "text": [
      "[0.35 0.8 ] [0.1195 0.286 ]\n"
     ]
    }
   ],
   "source": [
    "#Per calcolare le stime sostituisco i dati alla mia retta di regressione\n",
    "xstimare = np.array([0.35, 0.8])\n",
    "ystimato = b0 + b1*xstimare\n",
    "print (xstimare, ystimato)\n",
    "#è più affidabile la previsione per x = 0.35 in quanto più\n",
    "#vicina ai valori osservati"
   ]
  },
  {
   "cell_type": "code",
   "execution_count": 12,
   "metadata": {},
   "outputs": [
    {
     "data": {
      "image/png": "[encoded data removed]",
      "text/plain": [
       "<Figure size 432x288 with 1 Axes>"
      ]
     },
     "metadata": {
      "needs_background": "light"
     },
     "output_type": "display_data"
    }
   ],
   "source": [
    "plt.plot(x, y, 'bo')\n",
    "plt.plot(x, b0+b1*x, '-g')\n",
    "plt.plot(xstimare, ystimato, 'r*')\n",
    "plt.show()"
   ]
  },
  {
   "cell_type": "code",
   "execution_count": null,
   "metadata": {},
   "outputs": [],
   "source": []
  }
 ],
 "metadata": {
  "kernelspec": {
   "display_name": "Python 3",
   "language": "python",
   "name": "python3"
  },
  "language_info": {
   "codemirror_mode": {
    "name": "ipython",
    "version": 3
   },
   "file_extension": ".py",
   "mimetype": "text/x-python",
   "name": "python",
   "nbconvert_exporter": "python",
   "pygments_lexer": "ipython3",
   "version": "3.8.10"
  }
 },
 "nbformat": 4,
 "nbformat_minor": 4
}
