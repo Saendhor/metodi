{
 "cells": [
  {
   "cell_type": "code",
   "execution_count": 1,
   "metadata": {},
   "outputs": [],
   "source": [
    "import numpy as np\n",
    "import matplotlib.pyplot as plt\n",
    "from scipy.stats import norm, t, chi2"
   ]
  },
  {
   "cell_type": "code",
   "execution_count": 2,
   "metadata": {},
   "outputs": [
    {
     "name": "stdout",
     "output_type": "stream",
     "text": [
      "[0.39 0.68 0.82 1.35 1.38 1.62 1.7  1.71 1.85 2.14 2.89 3.69]\n"
     ]
    }
   ],
   "source": [
    "x = np.array([0.39, 0.68, 0.82, 1.35, 1.38, 1.62, 1.70, 1.71, 1.85, 2.14, 2.89, 3.69])\n",
    "print(x)"
   ]
  },
  {
   "cell_type": "code",
   "execution_count": 4,
   "metadata": {},
   "outputs": [
    {
     "name": "stdout",
     "output_type": "stream",
     "text": [
      "1.6850000000000003 0.779325\n"
     ]
    }
   ],
   "source": [
    "#Questo è un array di dati, calcoliamo media e varianza campionaria\n",
    "n = np.size(x)\n",
    "xn = np.mean(x)\n",
    "#var_campionaria = np.sum((x-xn)**2)/n\n",
    "var_campionaria = np.var(x)\n",
    "print(xn, var_campionaria)"
   ]
  },
  {
   "cell_type": "code",
   "execution_count": 5,
   "metadata": {},
   "outputs": [
    {
     "name": "stdout",
     "output_type": "stream",
     "text": [
      "1.6850000000000003 0.9220481154867827 0.8501727272727273\n"
     ]
    }
   ],
   "source": [
    "#Per stimare la media possiamo usare la media campionaria xn\n",
    "#Per stimare la varianza, dato che la media non è nota, usiamo\n",
    "S2 = np.sum((x-xn)**2)/(n-1)\n",
    "S = np.sqrt(S2)\n",
    "print(xn, S, S2)"
   ]
  },
  {
   "cell_type": "code",
   "execution_count": 6,
   "metadata": {},
   "outputs": [
    {
     "name": "stdout",
     "output_type": "stream",
     "text": [
      "0.7277632779844692\n"
     ]
    }
   ],
   "source": [
    "#Calcoliamo la skewness mu3/var_campionaria^3/2\n",
    "mu3 = np.sum((x-xn)**3)/n\n",
    "sk = mu3/(var_campionaria**1.5)\n",
    "print(sk)"
   ]
  },
  {
   "cell_type": "code",
   "execution_count": 7,
   "metadata": {},
   "outputs": [
    {
     "name": "stdout",
     "output_type": "stream",
     "text": [
      "3.118238214525985\n"
     ]
    }
   ],
   "source": [
    "#Calcoliamo la kurtosi mu4/var_campionaria^2\n",
    "mu4 = np.sum((x-xn)**4)/n\n",
    "k = mu4/(var_campionaria**2)\n",
    "print(k)"
   ]
  },
  {
   "cell_type": "code",
   "execution_count": 20,
   "metadata": {},
   "outputs": [
    {
     "name": "stdout",
     "output_type": "stream",
     "text": [
      "[ 1.144826020097823 , 2.2251739799021775 ]\n"
     ]
    }
   ],
   "source": [
    "#Calcoliamo gli intervalli di confidenza per la media\n",
    "alpha = 0.05\n",
    "#Ci interessa l'errore sulla media, cioè l'ampiezza dell'intervallo\n",
    "errore_mu = S*t.ppf(1-0.5*alpha, n-1)/np.sqrt(n)\n",
    "#Calcoliamo gli estremi dell'intervallo\n",
    "mu_min = xn-errore_mu\n",
    "mu_max = xn+errore_mu\n",
    "print('[', mu_min, ',', mu_max, ']')"
   ]
  },
  {
   "cell_type": "code",
   "execution_count": 21,
   "metadata": {},
   "outputs": [
    {
     "name": "stdout",
     "output_type": "stream",
     "text": [
      "[ 0.922761391817145 , 2.4472386081828557 ]\n"
     ]
    }
   ],
   "source": [
    "#Ripeto il procedimento per l'altro valore di alpha\n",
    "alpha = 0.01\n",
    "errore_mu = S*t.ppf(1-0.5*alpha, n-1)/np.sqrt(n)\n",
    "mu_min = xn-errore_mu\n",
    "mu_max = xn+errore_mu\n",
    "print('[', mu_min, ',', mu_max, ']')"
   ]
  },
  {
   "cell_type": "code",
   "execution_count": 24,
   "metadata": {},
   "outputs": [
    {
     "name": "stdout",
     "output_type": "stream",
     "text": [
      "[ 0.42663681493771966 , 2.450869235023462 ]\n"
     ]
    }
   ],
   "source": [
    "#Calcoliamo gli estremi dell'intervallo di confidenza per la sigma\n",
    "alpha = 0.05\n",
    "sigma_min = (n-1)*S2/chi2.ppf(1-0.5*alpha, n-1)\n",
    "sigma_max = (n-1)*S2/chi2.ppf(0.5*alpha, n-1)\n",
    "print('[', sigma_min, ',', sigma_max, ']')"
   ]
  },
  {
   "cell_type": "code",
   "execution_count": 25,
   "metadata": {},
   "outputs": [
    {
     "name": "stdout",
     "output_type": "stream",
     "text": [
      "[ 0.3495142506950296 , 3.592432913257921 ]\n"
     ]
    }
   ],
   "source": [
    "#Anche per alpha = 0.01\n",
    "alpha = 0.01\n",
    "sigma_min = (n-1)*S2/chi2.ppf(1-0.5*alpha, n-1)\n",
    "sigma_max = (n-1)*S2/chi2.ppf(0.5*alpha, n-1)\n",
    "print('[', sigma_min, ',', sigma_max, ']')"
   ]
  },
  {
   "cell_type": "code",
   "execution_count": null,
   "metadata": {},
   "outputs": [],
   "source": []
  }
 ],
 "metadata": {
  "kernelspec": {
   "display_name": "Python 3",
   "language": "python",
   "name": "python3"
  },
  "language_info": {
   "codemirror_mode": {
    "name": "ipython",
    "version": 3
   },
   "file_extension": ".py",
   "mimetype": "text/x-python",
   "name": "python",
   "nbconvert_exporter": "python",
   "pygments_lexer": "ipython3",
   "version": "3.8.10"
  }
 },
 "nbformat": 4,
 "nbformat_minor": 4
}
