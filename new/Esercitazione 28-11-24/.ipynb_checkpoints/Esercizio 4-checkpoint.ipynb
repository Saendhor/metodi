{
 "cells": [
  {
   "cell_type": "code",
   "execution_count": 2,
   "metadata": {},
   "outputs": [],
   "source": [
    "import numpy as np\n",
    "import matplotlib.pyplot as plt\n",
    "from scipy.stats import norm, t, chi2"
   ]
  },
  {
   "cell_type": "code",
   "execution_count": 3,
   "metadata": {},
   "outputs": [],
   "source": [
    "n = 100\n",
    "xn = np.array([49, 55, 53])\n",
    "s = np.array([8.2, 10.1, 7.5])"
   ]
  },
  {
   "cell_type": "code",
   "execution_count": 4,
   "metadata": {},
   "outputs": [
    {
     "name": "stdout",
     "output_type": "stream",
     "text": [
      "[1.6270579  2.00405912 1.48816271]\n"
     ]
    }
   ],
   "source": [
    "alpha = 0.05\n",
    "errore_mu = s*t.ppf(1-0.5*alpha, n-1)/np.sqrt(n)\n",
    "print(errore_mu)"
   ]
  },
  {
   "cell_type": "code",
   "execution_count": 5,
   "metadata": {},
   "outputs": [
    {
     "name": "stdout",
     "output_type": "stream",
     "text": [
      "[47.3729421  52.99594088 51.51183729]\n",
      "[50.6270579  57.00405912 54.48816271]\n"
     ]
    }
   ],
   "source": [
    "xmin = xn - errore_mu\n",
    "xmax = xn + errore_mu\n",
    "print(xmin)\n",
    "print(xmax)"
   ]
  },
  {
   "cell_type": "code",
   "execution_count": 6,
   "metadata": {},
   "outputs": [],
   "source": [
    "#Osservando i dati, l'ultimo campione è molto migliore del primo\n",
    "#Non serve che siano distribuite normalmente perché n > 30"
   ]
  },
  {
   "cell_type": "code",
   "execution_count": null,
   "metadata": {},
   "outputs": [],
   "source": []
  }
 ],
 "metadata": {
  "kernelspec": {
   "display_name": "Python 3",
   "language": "python",
   "name": "python3"
  },
  "language_info": {
   "codemirror_mode": {
    "name": "ipython",
    "version": 3
   },
   "file_extension": ".py",
   "mimetype": "text/x-python",
   "name": "python",
   "nbconvert_exporter": "python",
   "pygments_lexer": "ipython3",
   "version": "3.8.10"
  }
 },
 "nbformat": 4,
 "nbformat_minor": 4
}
