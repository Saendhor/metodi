{
 "cells": [
  {
   "cell_type": "markdown",
   "metadata": {},
   "source": [
    "Generazione numeri random che seguono una legge binomiale(preso e copiato dalla lezione del 21-10-24)"
   ]
  },
  {
   "cell_type": "code",
   "execution_count": 5,
   "metadata": {},
   "outputs": [],
   "source": [
    "import numpy as np\n",
    "import matplotlib.pyplot as plt\n",
    "from scipy.stats import multinomial"
   ]
  },
  {
   "cell_type": "code",
   "execution_count": 6,
   "metadata": {},
   "outputs": [
    {
     "data": {
      "image/png": "[encoded data removed]",
      "text/plain": [
       "<Figure size 432x288 with 1 Axes>"
      ]
     },
     "metadata": {
      "needs_background": "light"
     },
     "output_type": "display_data"
    }
   ],
   "source": [
    "#Simuliamo il lancio di una moneta. p è la probabilità che esca testa, n il numero di lanci\n",
    "p = 0.2\n",
    "n = 1000\n",
    "\n",
    "#La moneta potrebbe non essere equilibrata, generiamo un vettore di n numeri random tra 0 e 1\n",
    "prove = np.random.rand(n)\n",
    "\n",
    "#Ogni volta che un elemento è minore p, vuol dire che è uscita testa\n",
    "#Per fare questa cosa utilizziamo il comando true, ovvero passiamo una condizione come \n",
    "#indice del vettore, otterremo come risultato un vettore con i soli elementi che \n",
    "#verificano la condizione\n",
    "\n",
    "testa = prove[prove < p]\n",
    "#print(testa)\n",
    "\n",
    "#Dato che testa contiene tutti gli elementi < p, la sua lunghezza sarà il numero di volte \n",
    "#in cui è uscito testa\n",
    "n_testa = testa.size\n",
    "\n",
    "#Il numero di volte in cui è uscito croce sarà il numero totale di lanci meno le volte in cui \n",
    "#è uscita croce\n",
    "n_croce = n - n_testa\n",
    "\n",
    "#Plottiamo usando plt.bar\n",
    "plt.xticks([0,1])\n",
    "plt.bar([0,1], [n_testa/n, n_croce/n], width=0.5, align='center')\n",
    "plt.show()"
   ]
  },
  {
   "cell_type": "markdown",
   "metadata": {},
   "source": [
    "Generazione numeri random che seguono una legge Multinomiale (preso e copiato dalla lezione del 21-10-24)"
   ]
  },
  {
   "cell_type": "code",
   "execution_count": 7,
   "metadata": {},
   "outputs": [
    {
     "data": {
      "image/png": "[encoded data removed]",
      "text/plain": [
       "<Figure size 432x288 with 1 Axes>"
      ]
     },
     "metadata": {
      "needs_background": "light"
     },
     "output_type": "display_data"
    }
   ],
   "source": [
    "#Simuliamo n lanci del dado\n",
    "n = 100000\n",
    "\n",
    "#Se assumiamo che il dado sia equilibrato possiamo generare un vettore di n elementi con \n",
    "#valori random tra 1 e 6\n",
    "dado = np.random.randint(1, 7, n) \n",
    "\n",
    "#Voglio sapere la frequenza con cui compare ogni numero estratto. Posso usare np.unique\n",
    "#che restituisce una matrice: la prima riga contiene i numeri che compaiono in dado,\n",
    "#la seconda riga la frequenza con cui questi compaiono.\n",
    "F = np.unique(dado, return_counts=True)\n",
    "\n",
    "#print(F)\n",
    "#plotto l'istogramma dei risultati con le relative frequenze\n",
    "plt.bar(F[0], F[1], width=0.5, align='center')\n",
    "plt.show()"
   ]
  },
  {
   "cell_type": "markdown",
   "metadata": {},
   "source": [
    "Generazione numeri random che seguono una legge Multinomiale (secondo la lezione del 16-12-24)"
   ]
  },
  {
   "cell_type": "code",
   "execution_count": 16,
   "metadata": {},
   "outputs": [],
   "source": [
    "#Simuliamo n lanci del dado\n",
    "n = 10000\n",
    "\n",
    "#Se assumiamo che il dado sia equilibrato possiamo generare un vettore di n elementi con \n",
    "#valori random tra 1 e 6\n",
    "#p1 = 1./6\n",
    "#p2 = 1./6\n",
    "#p3 = 1./6\n",
    "#p4 = 1./6\n",
    "#p5 = 1./6\n",
    "#p6 = 1./6\n",
    "#p = np.array([p1, p2, p3, p4, p5, p6])\n",
    "\n",
    "p1 = 1./3\n",
    "p2 = (1.-p1)/5\n",
    "\n",
    "p = np.array([p1, p2, p2, p2, p2, p2])\n",
    "\n",
    "F_i = np.cumsum(p)\n",
    "\n",
    "prove = np.random.rand(n)"
   ]
  },
  {
   "cell_type": "markdown",
   "metadata": {},
   "source": [
    "Ovviamente potete usare un if o uno switch, ma vediamo di farlo più \"pythonesco\".\n",
    "Vi ricordo che np.where funziona che controlla se gli elementi di un array soddisfano una data condizione e sostitusce agli elementi che soddisfani questa condizione il secondo argomento e agli elementi che non la soddisfano il terzo argomento\n"
   ]
  },
  {
   "cell_type": "code",
   "execution_count": 17,
   "metadata": {},
   "outputs": [
    {
     "name": "stdout",
     "output_type": "stream",
     "text": [
      "[0.42340922 0.97600519 0.19764599 ... 0.45827502 0.71746138 0.42938541]\n",
      "[2 6 1 ... 2 4 2]\n"
     ]
    },
    {
     "data": {
      "image/png": "[encoded data removed]",
      "text/plain": [
       "<Figure size 432x288 with 1 Axes>"
      ]
     },
     "metadata": {
      "needs_background": "light"
     },
     "output_type": "display_data"
    }
   ],
   "source": [
    "#dado = np.where(prove < F_i[0], 1, 0)\n",
    "\n",
    "#for i in range(1, len(p)):\n",
    "#    dado = np.where((prove < F_i[i])&(prove >=F_i[i-1]), i+1, dado) \n",
    "\n",
    "dado = np.sum(prove[:, None] >= F_i[:-1], axis=1) + 1\n",
    "    \n",
    "#Voglio sapere la frequenza con cui compare ogni numero estratto. Posso usare np.unique\n",
    "#che restituisce una matrice: la prima riga contiene i numeri che compaiono in dado,\n",
    "#la seconda riga la frequenza con cui questi compaiono.\n",
    "F = np.unique(dado, return_counts=True)\n",
    "\n",
    "print(prove)\n",
    "print(dado)\n",
    "\n",
    "#print(F)\n",
    "#plotto l'istogramma dei risultati con le relative frequenze\n",
    "plt.bar(F[0], F[1]/n, width=0.5, align='center')\n",
    "#plt.plot(F[0], multinomial.pmf(n, p))\n",
    "plt.show()"
   ]
  },
  {
   "cell_type": "code",
   "execution_count": null,
   "metadata": {},
   "outputs": [],
   "source": []
  }
 ],
 "metadata": {
  "kernelspec": {
   "display_name": "Python 3",
   "language": "python",
   "name": "python3"
  },
  "language_info": {
   "codemirror_mode": {
    "name": "ipython",
    "version": 3
   },
   "file_extension": ".py",
   "mimetype": "text/x-python",
   "name": "python",
   "nbconvert_exporter": "python",
   "pygments_lexer": "ipython3",
   "version": "3.8.10"
  }
 },
 "nbformat": 4,
 "nbformat_minor": 4
}
