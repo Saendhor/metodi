{
 "cells": [
  {
   "cell_type": "code",
   "execution_count": 7,
   "metadata": {},
   "outputs": [],
   "source": [
    "import numpy as np\n",
    "import matplotlib.pyplot as plt\n",
    "from scipy.stats import binom, multinomial, geom"
   ]
  },
  {
   "cell_type": "code",
   "execution_count": 8,
   "metadata": {},
   "outputs": [
    {
     "data": {
      "image/png": "[encoded data removed]",
      "text/plain": [
       "<Figure size 432x288 with 1 Axes>"
      ]
     },
     "metadata": {
      "needs_background": "light"
     },
     "output_type": "display_data"
    }
   ],
   "source": [
    "#Simuliamo il lancio di una moneta. p è la probabilità che esca testa, n il numero di lanci\n",
    "p = 0.9\n",
    "n = 1000\n",
    "\n",
    "#La moneta potrebbe non essere equilibrata, generiamo un vettore di n numeri random tra 0 e 1\n",
    "prove = np.random.rand(n)\n",
    "\n",
    "#Ogni volta che un elemento è minore p, vuol dire che è uscita testa\n",
    "#Per fare questa cosa utilizziamo il comando true, ovvero passiamo una condizione come \n",
    "#indice del vettore, otterremo come risultato un vettore con i soli elementi che \n",
    "#verificano la condizione\n",
    "\n",
    "testa = prove[prove < p]\n",
    "#print(testa)\n",
    "\n",
    "#Dato che testa contiene tutti gli elementi < p, la sua lunghezza sarà il numero di volte \n",
    "#in cui è uscito testa\n",
    "n_testa = testa.size\n",
    "\n",
    "#Il numero di volte in cui è uscito croce sarà il numero totale di lanci meno le volte in cui \n",
    "#è uscita croce\n",
    "n_croce = n - n_testa\n",
    "\n",
    "#Plottiamo usando plt.bar\n",
    "plt.xticks([0,1])\n",
    "plt.bar([0,1], [n_testa/n, n_croce/n], width=0.5, align='center')\n",
    "plt.show()"
   ]
  },
  {
   "cell_type": "code",
   "execution_count": 9,
   "metadata": {},
   "outputs": [
    {
     "data": {
      "image/png": "[encoded data removed]",
      "text/plain": [
       "<Figure size 432x288 with 1 Axes>"
      ]
     },
     "metadata": {
      "needs_background": "light"
     },
     "output_type": "display_data"
    }
   ],
   "source": [
    "#Simuliamo n lanci del dado\n",
    "n = 10000\n",
    "\n",
    "#Se assumiamo che il dado sia equilibrato possiamo generare un vettore di n elementi con \n",
    "#valori random tra 1 e 6\n",
    "dado = np.random.randint(1, 7, n) \n",
    "\n",
    "#Voglio sapere la frequenza con cui compare ogni numero estratto. Posso usare np.unique\n",
    "#che restituisce una matrice: la prima riga contiene i numeri che compaiono in dado,\n",
    "#la seconda riga la frequenza con cui questi compaiono.\n",
    "F = np.unique(dado, return_counts=True)\n",
    "\n",
    "#print(F)\n",
    "#plotto l'istogramma dei risultati con le relative frequenze\n",
    "plt.bar(F[0], F[1], width=0.5, align='center')\n",
    "plt.show()"
   ]
  },
  {
   "cell_type": "code",
   "execution_count": 10,
   "metadata": {},
   "outputs": [],
   "source": [
    "#Voglio calcolare il tempo di primo successo di una variabile binomiale di parametri p, n\n",
    "#Esempio: lancio n volte la moneta, quando uscirà la prima volta testa, sapendo che la \n",
    "#probabilità di ottenere testa è p?\n",
    "n = 50\n",
    "m = 1000\n",
    "p = 0.3\n",
    "\n",
    "#Genera una matrice m x n di numeri random tra 0, 1\n",
    "#Il mio esperimento consiste nel lenciare n volte la moneta \n",
    "#Ogni riga è una ripetizione del mio esperimento.\n",
    "\n",
    "moneta = np.random.rand(m, n)\n",
    "\n",
    "#Mi interessa la prima volta che si verifica l'evento, creo un vettore di m elementi\n",
    "#in cui ogni elemento i mi dice il tempo di primo successo nella ripetizione i-esima\n",
    "first_recurrence = np.zeros(m)\n",
    "\n",
    "#Faccio un ciclo sulle righe della matrice e cerco il primo successo in ogni istanza\n",
    "for i in range(m):\n",
    "    #np.where mi restituisce un vettore contenente gli indici degli elementi che verificano\n",
    "    #la condizione\n",
    "    index = np.where(moneta[i] < p)\n",
    "    #il tempo di primo successo sarà il primo di questi indici. Ma, dato che python conta \n",
    "    #da zero, dovremo sommare 1.\n",
    "    first_recurrence[i]= index[0][0]+1\n",
    "    "
   ]
  },
  {
   "cell_type": "code",
   "execution_count": 11,
   "metadata": {},
   "outputs": [
    {
     "data": {
      "image/png": "[encoded data removed]",
      "text/plain": [
       "<Figure size 432x288 with 1 Axes>"
      ]
     },
     "metadata": {
      "needs_background": "light"
     },
     "output_type": "display_data"
    }
   ],
   "source": [
    "#Per fare l'istogramma dei tempi di primo successo usiamo, come prima, np.unique\n",
    "F = np.unique(first_recurrence, return_counts=True)\n",
    "k = range(int(np.max(first_recurrence)))\n",
    "\n",
    "#Per normalizzare l'istogramma divido le frequenze per il numero di ripetizioni\n",
    "plt.bar(F[0], F[1]/m, width=0.5, align='center')\n",
    "#Plotto di sopra la distribuzione geometrica per confronto\n",
    "plt.plot(k, geom.pmf(k, p), 'rs')\n",
    "plt.show()"
   ]
  },
  {
   "cell_type": "code",
   "execution_count": null,
   "metadata": {},
   "outputs": [],
   "source": []
  }
 ],
 "metadata": {
  "kernelspec": {
   "display_name": "Python 3",
   "language": "python",
   "name": "python3"
  },
  "language_info": {
   "codemirror_mode": {
    "name": "ipython",
    "version": 3
   },
   "file_extension": ".py",
   "mimetype": "text/x-python",
   "name": "python",
   "nbconvert_exporter": "python",
   "pygments_lexer": "ipython3",
   "version": "3.8.10"
  }
 },
 "nbformat": 4,
 "nbformat_minor": 4
}
