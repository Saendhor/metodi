{
 "cells": [
  {
   "cell_type": "code",
   "execution_count": 1,
   "id": "075b3be3-b86a-43f0-9f8b-e0da65cbdaff",
   "metadata": {},
   "outputs": [
    {
     "name": "stdout",
     "output_type": "stream",
     "text": [
      "-2.0846721215176\n",
      "L'ipotesi può essere rigettata\n"
     ]
    }
   ],
   "source": [
    "import numpy as np\n",
    "from scipy.stats import t\n",
    "\n",
    "mi0 = 3.5\n",
    "n = 150\n",
    "mean = 3.42\n",
    "S = 0.2209\n",
    "\n",
    "#Processo fuori controllo => test bilatero\n",
    "#La varianza non è nota\n",
    "#H0: µ = µ0\n",
    "#h1: µ != µ0\n",
    "\n",
    "T = (mean - mi0) * np.sqrt(n) / np.sqrt(S)\n",
    "print(T)\n",
    "#supponiamo\n",
    "alpha = 0.05\n",
    "test = t.ppf(1-(alpha/2), n-1)\n",
    "\n",
    "if np.abs(T) > test:\n",
    "    print(\"L'ipotesi può essere rigettata\")\n",
    "else:\n",
    "    print(\"L'ipotesi non può essere rigettata\")"
   ]
  },
  {
   "cell_type": "code",
   "execution_count": 2,
   "id": "e6f29599-17b5-4be6-a6ba-48a1e86655c6",
   "metadata": {},
   "outputs": [],
   "source": [
    "# Dal momento che l'ipotesi può essere rigettata, il processo è da ritenere fuori controllo per un alpha = 0.05"
   ]
  },
  {
   "cell_type": "code",
   "execution_count": 3,
   "id": "8ef80045-3ef8-4f2e-8f7c-1936c7e47f24",
   "metadata": {},
   "outputs": [
    {
     "name": "stdout",
     "output_type": "stream",
     "text": [
      "L'ipotesi non può essere rigettata\n"
     ]
    }
   ],
   "source": [
    "#Proviamo per alpha = 0.01\n",
    "alpha2 = 0.01\n",
    "test2 = t.ppf(1-(alpha2/2), n-1)\n",
    "if np.abs(T) > test2:\n",
    "    print(\"L'ipotesi può essere rigettata\")\n",
    "else:\n",
    "    print(\"L'ipotesi non può essere rigettata\")"
   ]
  },
  {
   "cell_type": "code",
   "execution_count": 4,
   "id": "c0cd5ead-8961-4807-8f05-eb6cea87b1e2",
   "metadata": {},
   "outputs": [],
   "source": [
    "# La significatività del test per alpha = 0.01 non è sufficiente."
   ]
  },
  {
   "cell_type": "code",
   "execution_count": 5,
   "id": "7315f301-8125-4943-b8fe-3bb7eac364a5",
   "metadata": {},
   "outputs": [
    {
     "name": "stdout",
     "output_type": "stream",
     "text": [
      "Il processo è da considerarsi fuori controllo per ogni alpha > 0.038805309388787235\n"
     ]
    }
   ],
   "source": [
    "#Calcolo il p-value per capire quando il test diventa affidabile\n",
    "pvalue = 2*(1-t.cdf(np.abs(T), n-1))\n",
    "print(\"Il processo è da considerarsi fuori controllo per ogni alpha >\", pvalue)"
   ]
  },
  {
   "cell_type": "code",
   "execution_count": 6,
   "id": "f9a3a3ce-1deb-4d3d-a619-285b667b8547",
   "metadata": {},
   "outputs": [
    {
     "name": "stdout",
     "output_type": "stream",
     "text": [
      "L'ipotesi non può essere rigettata\n"
     ]
    }
   ],
   "source": [
    "m = 60\n",
    "T_alt = (mean - mi0) * np.sqrt(m) / np.sqrt(S)\n",
    "test_alt = t.ppf(1-(alpha/2), m-1)\n",
    "\n",
    "if np.abs(T_alt) > test_alt:\n",
    "    print(\"L'ipotesi può essere rigettata\")\n",
    "else:\n",
    "    print(\"L'ipotesi non può essere rigettata\")"
   ]
  },
  {
   "cell_type": "code",
   "execution_count": null,
   "id": "3b9ab010-1985-4feb-9664-b029b5646576",
   "metadata": {},
   "outputs": [],
   "source": [
    "#Dal momento che l'ipotesi non può essere rigettata, non posso concludere niente di significativo"
   ]
  }
 ],
 "metadata": {
  "kernelspec": {
   "display_name": "Python 3 (ipykernel)",
   "language": "python",
   "name": "python3"
  },
  "language_info": {
   "codemirror_mode": {
    "name": "ipython",
    "version": 3
   },
   "file_extension": ".py",
   "mimetype": "text/x-python",
   "name": "python",
   "nbconvert_exporter": "python",
   "pygments_lexer": "ipython3",
   "version": "3.13.1"
  }
 },
 "nbformat": 4,
 "nbformat_minor": 5
}
