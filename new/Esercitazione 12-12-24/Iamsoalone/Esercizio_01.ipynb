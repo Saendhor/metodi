{
 "cells": [
  {
   "cell_type": "code",
   "execution_count": 1,
   "id": "2404664c-27e0-4d48-8b54-e2c118a06b00",
   "metadata": {},
   "outputs": [
    {
     "name": "stdout",
     "output_type": "stream",
     "text": [
      "np: 6.0\n",
      "n(1-p0): 144.0\n"
     ]
    }
   ],
   "source": [
    "# Test unilatero a sinistra\n",
    "# H0: p >= 0.04\n",
    "# H1: p < 0.04\n",
    "\n",
    "p0 = 0.04\n",
    "n = 150\n",
    "#mean = k/n con k numero di successi.\n",
    "print(\"np:\", p0*n)\n",
    "print(\"n(1-p0):\", n*(1-p0))\n",
    "\n",
    "#Dato che n >> 1 e che np > 5 e n(1-p0) > 5, vale l'approssimazione normale\n",
    "\n",
    "#essendo unilatero a sinistra, Z < phi(alpha)\n",
    "# k < [(phi(alpha) * sqrt(p0*(1-p0)) / sqrt(n)] + p0"
   ]
  },
  {
   "cell_type": "code",
   "execution_count": 2,
   "id": "42fedca2-5292-437f-9733-11d4f59ecbc3",
   "metadata": {},
   "outputs": [
    {
     "name": "stdout",
     "output_type": "stream",
     "text": [
      "Il valore di k è: 2.0523512953164658\n"
     ]
    }
   ],
   "source": [
    "import numpy as np\n",
    "from scipy.stats import norm\n",
    "\n",
    "alpha = 0.05\n",
    "phi = norm.ppf(alpha)\n",
    "k = ((phi * np.sqrt(p0*(1-p0)) / np.sqrt(n)) + p0) *n\n",
    "print(\"Il valore di k è:\", k)"
   ]
  }
 ],
 "metadata": {
  "kernelspec": {
   "display_name": "Python 3 (ipykernel)",
   "language": "python",
   "name": "python3"
  },
  "language_info": {
   "codemirror_mode": {
    "name": "ipython",
    "version": 3
   },
   "file_extension": ".py",
   "mimetype": "text/x-python",
   "name": "python",
   "nbconvert_exporter": "python",
   "pygments_lexer": "ipython3",
   "version": "3.13.1"
  }
 },
 "nbformat": 4,
 "nbformat_minor": 5
}
