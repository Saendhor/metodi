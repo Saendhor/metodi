{
 "cells": [
  {
   "cell_type": "code",
   "execution_count": 1,
   "id": "d1f01cde-d44e-4178-abcc-edd79e33d416",
   "metadata": {},
   "outputs": [
    {
     "name": "stdout",
     "output_type": "stream",
     "text": [
      "1.742049609541951\n",
      "L'ipotesi può essere rigettata\n"
     ]
    }
   ],
   "source": [
    "import numpy as np\n",
    "from scipy.stats import norm\n",
    "\n",
    "n = 40\n",
    "m = 60\n",
    "\n",
    "x_mean = 2.91\n",
    "y_mean = 1.98\n",
    "\n",
    "x_var = 9.3\n",
    "y_var = 2.1\n",
    "\n",
    "alpha = 0.05\n",
    "\n",
    "#Test unilatero a destra\n",
    "#H0: µx <= µy\n",
    "#H1: µx > µy\n",
    "\n",
    "Z = (x_mean - y_mean) / np.sqrt((x_var/n) + (y_var/n))\n",
    "print (Z)\n",
    "\n",
    "phi = norm.ppf(1-alpha)\n",
    "\n",
    "if Z > phi:\n",
    "    print(\"L'ipotesi può essere rigettata\")\n",
    "else:\n",
    "    print(\"L'ipotesi non può essere rigettata\")"
   ]
  },
  {
   "cell_type": "code",
   "execution_count": null,
   "id": "bfd5eaf5-b14b-441f-9b44-dc7e26d9449b",
   "metadata": {},
   "outputs": [],
   "source": [
    "#Dal momento che posso rigettare l'ipotesi nulla, la rigetto in favore dell'ipotesi alternativa"
   ]
  }
 ],
 "metadata": {
  "kernelspec": {
   "display_name": "Python 3 (ipykernel)",
   "language": "python",
   "name": "python3"
  },
  "language_info": {
   "codemirror_mode": {
    "name": "ipython",
    "version": 3
   },
   "file_extension": ".py",
   "mimetype": "text/x-python",
   "name": "python",
   "nbconvert_exporter": "python",
   "pygments_lexer": "ipython3",
   "version": "3.13.1"
  }
 },
 "nbformat": 4,
 "nbformat_minor": 5
}
