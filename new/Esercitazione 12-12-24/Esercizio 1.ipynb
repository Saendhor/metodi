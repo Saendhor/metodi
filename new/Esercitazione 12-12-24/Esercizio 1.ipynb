{
 "cells": [
  {
   "cell_type": "markdown",
   "metadata": {},
   "source": [
    "In questo esercizio ci viene richiesto di impostare un test d'ipotesi sulla proporzione. Fondamentalmente vogliamo testare se è vero che la probabilità di avere un pezzo difettoso sia più piccola di quella fornita. \n",
    "\n",
    "Per tale ragione, come ipotesi avremo \n",
    "\n",
    "H0: $p \\ge 0.04$\n",
    "\n",
    "H1: $p < 0.04$,\n",
    "\n",
    "per cui è un test unilatero a sinistra.\n",
    "\n",
    "Pertanto, fissiamo $p_0 = 0.04$.\n",
    "\n",
    "Ci serve uno stimatore di p, scegliamo la media campionaria xn = successi/tentativi, dove il nostro successo è \"pezzo guasto\".\n",
    "\n",
    "Il nostro campione è composto da n = 150 pezzi. Di questi 150, k (ignoto) sono difettosi, per cui xn = k/n. Quanto deve essere k per rigettare l'ipotesi nulla con un livello di significatività del 5%?\n",
    "\n",
    "Dato che n >> 1 e che, soprattutto, sia $n p_0$ che $n(1-p_0)$ sono > 5, vale l'approssimazione normale, per cui posso impostare il test utilizzando i quantile di ordine alpha della distribuzione normale, $\\phi_\\alpha$ \n",
    "\n",
    "Per rigettare l'ipotesi nulla devo richiedere che la mia variabile normale standardizzata\n",
    "\n",
    "$Z_0 = \\frac{(xn-p_0)\\sqrt{n}}{\\sqrt{p_0(1-p_0)}} < \\phi_\\alpha.$\n",
    "\n",
    "Questo significa che \n",
    "\n",
    "$x_n < \\frac{\\phi_\\alpha \\sqrt{p_0(1-p_0)}}{\\sqrt{n}} + p_0,$\n",
    "\n",
    "e, dato che $x_n = k/n$, avremo che \n",
    "\n",
    "$k < \\left(\\frac{\\phi_\\alpha \\sqrt{p_0(1-p_0)}}{\\sqrt{n}} + p_0\\right)n$"
   ]
  },
  {
   "cell_type": "code",
   "execution_count": 1,
   "metadata": {},
   "outputs": [],
   "source": [
    "import numpy as np\n",
    "from scipy.stats import norm"
   ]
  },
  {
   "cell_type": "code",
   "execution_count": 2,
   "metadata": {},
   "outputs": [],
   "source": [
    "p0 = 0.04\n",
    "sigma = np.sqrt(p0*(1-p0))\n",
    "n = 150\n",
    "alpha = 0.05"
   ]
  },
  {
   "cell_type": "code",
   "execution_count": 3,
   "metadata": {},
   "outputs": [
    {
     "name": "stdout",
     "output_type": "stream",
     "text": [
      "-1.6448536269514729\n"
     ]
    }
   ],
   "source": [
    "qalpha = norm.ppf(alpha)\n",
    "print(qalpha)"
   ]
  },
  {
   "cell_type": "code",
   "execution_count": 4,
   "metadata": {},
   "outputs": [
    {
     "name": "stdout",
     "output_type": "stream",
     "text": [
      "2.0523512953164658\n"
     ]
    }
   ],
   "source": [
    "err = qalpha*sigma/np.sqrt(n)\n",
    "k = (err + p0)*n\n",
    "print(k)"
   ]
  },
  {
   "cell_type": "markdown",
   "metadata": {},
   "source": [
    "Se abbiamo più di due pezzi difettosi in ogni lotto rimandiamo il lotto al fornitore"
   ]
  },
  {
   "cell_type": "markdown",
   "metadata": {},
   "source": [
    "Esercizio v2\n",
    "\n",
    "Nel nostro campione abbiamo $k = 2$ pezzi guasti. \n",
    "Vogliamo testare se è vero che $p < p_0 = 0.04$ nei seguenti casi\n",
    "1) $n = 150$ con $\\alpha = 0.05$\n",
    "2) $n = 200$ con $\\alpha = 0.05$\n",
    "3) $n = 150$ con $\\alpha = 0.01$\n",
    "4) $n = 200$ con $\\alpha = 0.01$"
   ]
  },
  {
   "cell_type": "code",
   "execution_count": 17,
   "metadata": {},
   "outputs": [],
   "source": [
    "#Caso 1\n",
    "k = 2\n",
    "n = 250\n",
    "alpha = 0.01\n",
    "p0 = 0.04"
   ]
  },
  {
   "cell_type": "code",
   "execution_count": 18,
   "metadata": {},
   "outputs": [
    {
     "name": "stdout",
     "output_type": "stream",
     "text": [
      "-2.581988897471611\n",
      "-2.3263478740408408\n"
     ]
    }
   ],
   "source": [
    "xn = k/n\n",
    "sigma = np.sqrt(p0*(1-p0))\n",
    "Z = np.sqrt(n)*(xn-p0)/sigma\n",
    "print(Z)\n",
    "q = norm.ppf(alpha)\n",
    "print(q)"
   ]
  },
  {
   "cell_type": "code",
   "execution_count": 19,
   "metadata": {},
   "outputs": [
    {
     "name": "stdout",
     "output_type": "stream",
     "text": [
      "rigetto l'ipotesi nulla\n"
     ]
    }
   ],
   "source": [
    "if Z < q:\n",
    "    print('rigetto l\\'ipotesi nulla')\n",
    "else: \n",
    "    print('non posso concludere nulla')"
   ]
  },
  {
   "cell_type": "code",
   "execution_count": null,
   "metadata": {},
   "outputs": [],
   "source": []
  }
 ],
 "metadata": {
  "kernelspec": {
   "display_name": "Python 3",
   "language": "python",
   "name": "python3"
  },
  "language_info": {
   "codemirror_mode": {
    "name": "ipython",
    "version": 3
   },
   "file_extension": ".py",
   "mimetype": "text/x-python",
   "name": "python",
   "nbconvert_exporter": "python",
   "pygments_lexer": "ipython3",
   "version": "3.8.10"
  }
 },
 "nbformat": 4,
 "nbformat_minor": 4
}
