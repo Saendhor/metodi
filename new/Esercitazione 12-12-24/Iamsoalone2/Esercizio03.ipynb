{
 "cells": [
  {
   "cell_type": "code",
   "execution_count": 1,
   "id": "9095cda1-f34e-4bf8-af85-454125c5c752",
   "metadata": {},
   "outputs": [],
   "source": [
    "import numpy as np\n",
    "from scipy.stats import norm\n",
    "\n",
    "# Due popolazioni normali e indipendenti X e Y\n",
    "n = 40\n",
    "m = 50\n",
    "\n",
    "Xn = 2.91\n",
    "Ym = 1.98\n",
    "\n",
    "#VARIANZA NOTA\n",
    "VarX = 9.3\n",
    "VarY = 2.1\n",
    "\n",
    "alpha = 0.05\n",
    "# possiamo affermare che µx > µy?"
   ]
  },
  {
   "cell_type": "code",
   "execution_count": 2,
   "id": "30d445e2-595e-4cb8-b2e8-63bfd586c07a",
   "metadata": {},
   "outputs": [
    {
     "name": "stdout",
     "output_type": "stream",
     "text": [
      "Il valore di Zn: 1.7750548363729917\n",
      "Il valore di phi: 1.6448536269514722\n",
      " \n",
      "L'ipotesi può essere rigettata\n"
     ]
    }
   ],
   "source": [
    "'''\n",
    "Dal momento che vogliamo verificare che µx > µy, assumiamo come ipotesi alternativa il fatto che µy >= µx. Quindi impostiamo il test d'ipotesi come segue:\n",
    "    Hyp base: µx <= µy\n",
    "    Hyp alt : µx > µy\n",
    "    Test unilatero a destra\n",
    "'''\n",
    "# Assumiamo che µx e µy siano uguali dal momento che per hyp base assumiamo che possa essere minore o uguale, quindi calcoleremo Zn come segue\n",
    "Zn = (Xn - Ym) / np.sqrt((VarX/n) + (VarY/m))\n",
    "print(\"Il valore di Zn:\", Zn)\n",
    "\n",
    "phi = norm.ppf(1-alpha)\n",
    "print(\"Il valore di phi:\", phi)\n",
    "print(\" \")\n",
    "\n",
    "if Zn > phi:\n",
    "    print(\"L'ipotesi può essere rigettata\")\n",
    "else:\n",
    "    print(\"Non posso concludere niente di significativo per alpha = 0.05\")"
   ]
  },
  {
   "cell_type": "markdown",
   "id": "b74a63d8-d059-4e4a-8afa-e44d3ae5a783",
   "metadata": {},
   "source": [
    "Dal momento che l'ipotesi può essere rigettata, è possibile che µx sia maggiore di µy quindi rigettiamo l'ipotesi di base in favore di quella alternativa"
   ]
  }
 ],
 "metadata": {
  "kernelspec": {
   "display_name": "Python 3 (ipykernel)",
   "language": "python",
   "name": "python3"
  },
  "language_info": {
   "codemirror_mode": {
    "name": "ipython",
    "version": 3
   },
   "file_extension": ".py",
   "mimetype": "text/x-python",
   "name": "python",
   "nbconvert_exporter": "python",
   "pygments_lexer": "ipython3",
   "version": "3.13.1"
  }
 },
 "nbformat": 4,
 "nbformat_minor": 5
}
