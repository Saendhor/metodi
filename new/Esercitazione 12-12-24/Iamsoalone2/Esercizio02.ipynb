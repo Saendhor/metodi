{
 "cells": [
  {
   "cell_type": "code",
   "execution_count": 1,
   "id": "4923aa7b-3ad1-4bda-8c39-9c6bd4ae69f7",
   "metadata": {},
   "outputs": [],
   "source": [
    "import numpy as np\n",
    "from scipy.stats import t\n",
    "\n",
    "mi0 = 3.5 #mm\n",
    "n = 150\n",
    "Xn = 3.42 #mm\n",
    "Sn_quadro = 0.2209 #mm²"
   ]
  },
  {
   "cell_type": "code",
   "execution_count": 2,
   "id": "e3867a5a-fa0c-42bf-ba48-006606b9dfd0",
   "metadata": {},
   "outputs": [
    {
     "name": "stdout",
     "output_type": "stream",
     "text": [
      "Il valore di Tn è -2.0846721215176\n",
      " \n",
      "Il valore di t1 è 1.976013177679155\n",
      "Il valore di t2 è 2.609227907462654\n",
      " \n",
      "L'ipotesi può essere rigettata\n",
      "Non possiamo determinare nulla di significativo per alpha = 0.01\n"
     ]
    }
   ],
   "source": [
    "# Punto 1) Il processo è fuori controllo?\n",
    "'''\n",
    "Affinchè il processo venga considerato sotto controllo vuol dire che µ = µ0\n",
    "Consideriamo questa l'ipotesi base e come ipotesi alternativa supponiamo che µ != µ0\n",
    "Quindi\n",
    "    Hyp base: µ = µ0\n",
    "    Hyp alt: µ <> µ0\n",
    "    Test bilatero con varianza non nota\n",
    "'''\n",
    "alpha1 = 0.05\n",
    "alpha2 = 0.01\n",
    "Sn = np.sqrt(Sn_quadro)\n",
    "\n",
    "Tn = np.sqrt(n) * ((Xn - mi0) / Sn)\n",
    "print(\"Il valore di Tn è\", Tn)\n",
    "print(\" \")\n",
    "\n",
    "t1 = t.ppf(1-alpha1/2, n-1)\n",
    "t2 = t.ppf(1-alpha2/2, n-1)\n",
    "\n",
    "print(\"Il valore di t1 è\", t1)\n",
    "print(\"Il valore di t2 è\", t2)\n",
    "print(\" \")\n",
    "\n",
    "test = np.abs(Tn)\n",
    "if test > t1:\n",
    "    print(\"L'ipotesi può essere rigettata\")\n",
    "else:\n",
    "    print(\"Non possiamo determinare nulla di significativo per alpha =\", alpha1)\n",
    "\n",
    "if test > t2:\n",
    "    print(\"L'ipotesi può essere rigettata\")\n",
    "else:\n",
    "    print(\"Non possiamo determinare nulla di significativo per alpha =\", alpha2)"
   ]
  },
  {
   "cell_type": "markdown",
   "id": "84cfcb0f-6e8b-415d-9653-605cdca74007",
   "metadata": {},
   "source": [
    "Come abbiamo visto, per alpha = 0.01 non possiamo determinare nulla di significativo, a differenza che per alpha = 0.05\n",
    "Detto ciò, quello che ne ricaviamo dal test è che è possibile che µ sia diverso da 3.5mm quindi decidiamo di rigettare l'ipotesi nulla\n",
    "e dire che il processo non è sotto controllo."
   ]
  },
  {
   "cell_type": "code",
   "execution_count": 3,
   "id": "3f648beb-4003-49ec-9c12-203f4ffad166",
   "metadata": {},
   "outputs": [
    {
     "name": "stdout",
     "output_type": "stream",
     "text": [
      "Il valore di Tn è -1.3184624157301856\n",
      " \n",
      "Il valore di t1 è 2.0009953780882674\n",
      "Il valore di t2 è 2.661758752162967\n",
      " \n",
      "Non possiamo determinare nulla di significativo per alpha = 0.05\n",
      "Non possiamo determinare nulla di significativo per alpha = 0.01\n"
     ]
    }
   ],
   "source": [
    "# Punto 2) Rispondere alla stessa domanda assumendo n = 60\n",
    "n = 60\n",
    "Tn = np.sqrt(n) * ((Xn - mi0) / Sn)\n",
    "print(\"Il valore di Tn è\", Tn)\n",
    "print(\" \")\n",
    "\n",
    "t1 = t.ppf(1-alpha1/2, n-1)\n",
    "t2 = t.ppf(1-alpha2/2, n-1)\n",
    "\n",
    "print(\"Il valore di t1 è\", t1)\n",
    "print(\"Il valore di t2 è\", t2)\n",
    "print(\" \")\n",
    "\n",
    "test = np.abs(Tn)\n",
    "if test > t1:\n",
    "    print(\"L'ipotesi può essere rigettata\")\n",
    "else:\n",
    "    print(\"Non possiamo determinare nulla di significativo per alpha =\", alpha1)\n",
    "\n",
    "if test > t2:\n",
    "    print(\"L'ipotesi può essere rigettata\")\n",
    "else:\n",
    "    print(\"Non possiamo determinare nulla di significativo per alpha =\", alpha2)"
   ]
  },
  {
   "cell_type": "markdown",
   "id": "2b722cee-48e1-407a-acc1-bbff6d9191e8",
   "metadata": {},
   "source": [
    "Purtroppo per n = 60 non abbiamo abbastanza campioni per poter concludere qualcosa di significativo.\n",
    "Proviamo a vedere il p-value, quindi l'alpha più piccolo per cui il test è soddisfacente"
   ]
  },
  {
   "cell_type": "code",
   "execution_count": 5,
   "id": "966ff88e-aab1-4c00-93c4-307dd0f9d1f6",
   "metadata": {},
   "outputs": [
    {
     "name": "stdout",
     "output_type": "stream",
     "text": [
      "Il valore del p-value è 0.1924443567539622\n"
     ]
    }
   ],
   "source": [
    "pvalue = 2*(1-t.cdf(test, n-1))\n",
    "print(\"Il valore del p-value è\", pvalue)"
   ]
  }
 ],
 "metadata": {
  "kernelspec": {
   "display_name": "Python 3 (ipykernel)",
   "language": "python",
   "name": "python3"
  },
  "language_info": {
   "codemirror_mode": {
    "name": "ipython",
    "version": 3
   },
   "file_extension": ".py",
   "mimetype": "text/x-python",
   "name": "python",
   "nbconvert_exporter": "python",
   "pygments_lexer": "ipython3",
   "version": "3.13.1"
  }
 },
 "nbformat": 4,
 "nbformat_minor": 5
}
