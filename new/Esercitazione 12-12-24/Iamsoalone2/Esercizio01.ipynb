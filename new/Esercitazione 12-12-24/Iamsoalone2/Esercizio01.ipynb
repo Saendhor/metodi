{
 "cells": [
  {
   "cell_type": "raw",
   "id": "10077adf-0cec-4044-8466-92dccf89fd5e",
   "metadata": {},
   "source": [
    "Noi vogliamo che su 150 pezzi, al massimo k sono rotti: implica che k <= somma che dobbiamo trovare.\n",
    "Vogliamo che la probabilità che ci siano k pezzi rotti è p = 0.04 e lo vogliamo fare con un'accuratezza alpha = 0.05\n",
    "\n",
    "Il test che vogliamo eseguire è un test di proporzione con media nota. La media Xn la possiamo calcolare come 1/n * sommatoria di num_successi. \n",
    "Ne segue che in questo caso noi vogliamo che Xn = k/n (perchè vediamo come \"successo\" l'elemento rotto).\n",
    "Siccome vogliamo che il nostro test sia inferiore a un dato numero, allora cerchiamo un test unilatero a sinistra.\n",
    "    Hyp base: p0 <= 0.04\n",
    "    Hyp alt : p > 0.04\n",
    "\n",
    "calcoliamo Zn e phi come segue\n",
    "    Zn = (Xn - p0) * np.sqrt(n) / np.sqrt(p0 * (1-p0))\n",
    "    phi = ppf(alpha)\n",
    "\n",
    "Il test ci impone che\n",
    "    Zn < phi\n",
    "    osserviamo che Xn = k/n\n",
    "    concludiamo quindi che\n",
    "    k <= n * {{ppf(alpha) * np.sqrt(p0 * (1-p0)) / np.sqrt(n)} + p0}\n"
   ]
  },
  {
   "cell_type": "code",
   "execution_count": 1,
   "id": "2c409bd3-e91e-4575-8f54-be7ab062fb23",
   "metadata": {},
   "outputs": [
    {
     "name": "stdout",
     "output_type": "stream",
     "text": [
      "Il valore di phi è -1.6448536269514729\n",
      " \n",
      "Il valore di k deve essere minore o uguale a 2.052351295316465\n"
     ]
    }
   ],
   "source": [
    "import numpy as np\n",
    "from scipy.stats import norm\n",
    "\n",
    "n = 150\n",
    "p0 = 0.04\n",
    "alpha = 0.05\n",
    "\n",
    "phi = norm.ppf(alpha)\n",
    "print(\"Il valore di phi è\", phi)\n",
    "print(\" \")\n",
    "\n",
    "k = n * phi * np.sqrt((p0 * (1-p0))/n) + (n*p0)\n",
    "print(\"Affinchè la nostra ipotesi di base possa essere verificata, è importante che il valore di k deve essere minore o uguale a\", k)"
   ]
  }
 ],
 "metadata": {
  "kernelspec": {
   "display_name": "Python 3 (ipykernel)",
   "language": "python",
   "name": "python3"
  },
  "language_info": {
   "codemirror_mode": {
    "name": "ipython",
    "version": 3
   },
   "file_extension": ".py",
   "mimetype": "text/x-python",
   "name": "python",
   "nbconvert_exporter": "python",
   "pygments_lexer": "ipython3",
   "version": "3.13.1"
  }
 },
 "nbformat": 4,
 "nbformat_minor": 5
}
