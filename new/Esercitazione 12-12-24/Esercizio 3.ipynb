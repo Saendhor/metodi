{
 "cells": [
  {
   "cell_type": "markdown",
   "metadata": {},
   "source": [
    "In questo caso dobbiamo impostare un test d'ipotesi per coppie di popolazione, in cui controntiamo le medie per stabilire se effettivamente la media di una delle due popolazioni è maggiore dell'altra. \n",
    "\n",
    "Il nostro test avrà le seguenti ipotesi\n",
    "\n",
    "H0: $\\mu_X \\le \\mu_Y$\n",
    "\n",
    "H1: $\\mu_X > \\mu_Y$\n",
    "\n",
    "Lo impostiamo come Ztest come ormai abbiamo imparato a fare."
   ]
  },
  {
   "cell_type": "code",
   "execution_count": 3,
   "metadata": {},
   "outputs": [],
   "source": [
    "import numpy as np\n",
    "from scipy.stats import norm"
   ]
  },
  {
   "cell_type": "code",
   "execution_count": 4,
   "metadata": {},
   "outputs": [],
   "source": [
    "xn= 2.91     #media campionaria X\n",
    "ym=1.98      #media campionaria Y\n",
    "sn_x = 9.3   #Variazione della pèopolazione X\n",
    "sn_y = 2.1    #variazione della popolazione Y\n",
    "n= 40       #Ampiezza del campione X\n",
    "m= 50       #Ampiezza del campione Y\n",
    "alpha= 0.05   #Livello di significatività"
   ]
  },
  {
   "cell_type": "code",
   "execution_count": 5,
   "metadata": {},
   "outputs": [
    {
     "name": "stdout",
     "output_type": "stream",
     "text": [
      "1.6448536269514722\n",
      "1.7750548363729917\n",
      "Rigetto l'ipotesi nulla!\n"
     ]
    }
   ],
   "source": [
    "q = norm.ppf(1-alpha)\n",
    "print(q)\n",
    "\n",
    "z = (xn - ym)/np.sqrt(sn_x/n + sn_y/m)\n",
    "print(z)\n",
    "\n",
    "if z > q:\n",
    "    print('Rigetto l\\'ipotesi nulla!')\n",
    "else: \n",
    "    print('Non posso concludere nulla')\n"
   ]
  },
  {
   "cell_type": "code",
   "execution_count": null,
   "metadata": {},
   "outputs": [],
   "source": []
  }
 ],
 "metadata": {
  "kernelspec": {
   "display_name": "Python 3",
   "language": "python",
   "name": "python3"
  },
  "language_info": {
   "codemirror_mode": {
    "name": "ipython",
    "version": 3
   },
   "file_extension": ".py",
   "mimetype": "text/x-python",
   "name": "python",
   "nbconvert_exporter": "python",
   "pygments_lexer": "ipython3",
   "version": "3.8.10"
  }
 },
 "nbformat": 4,
 "nbformat_minor": 4
}
