{
 "cells": [
  {
   "cell_type": "markdown",
   "metadata": {},
   "source": [
    "In questo caso ci viene chiesto di decidere se un determinato processo di produzione deve essere considerato \"sotto controllo\". \n",
    "\n",
    "In termini statistici, quello che noi possiamo dire è se il nostro processo di produzione produce componenti che ragionevolmente hanno media prossima a $\\mu_0 = 3.5mm$. \n",
    "\n",
    "Per fare questo dobbiamo impostare un test di ipotesi sulla media con varianza non nota (infatti ci viene fornita la varianza campionaria), ovvero un t-test. Le nostre ipotesi saranno.\n",
    "\n",
    "H0: $\\mu = \\mu_0$\n",
    "\n",
    "H1: $\\mu \\ne \\mu_0$\n",
    "\n",
    "Il testo non ci chiede di testare a un dato livello di significatività, per cui dovremo scegliere noi un $\\alpha$ che riteniamo opportuno.\n",
    "\n"
   ]
  },
  {
   "cell_type": "code",
   "execution_count": 2,
   "metadata": {},
   "outputs": [],
   "source": [
    "import numpy as np\n",
    "from scipy.stats import t"
   ]
  },
  {
   "cell_type": "code",
   "execution_count": 3,
   "metadata": {},
   "outputs": [],
   "source": [
    "mu0=3.5\n",
    "xn = 3.42\n",
    "sn = 0.2209"
   ]
  },
  {
   "cell_type": "code",
   "execution_count": 4,
   "metadata": {
    "scrolled": true
   },
   "outputs": [
    {
     "name": "stdout",
     "output_type": "stream",
     "text": [
      "1.976013177679155\n",
      "-2.0846721215176\n",
      "Il processo è da considerarsi fuori controllo con livello di significatività 0.05\n"
     ]
    }
   ],
   "source": [
    "n = 150\n",
    "alpha = 0.05\n",
    "q = t.ppf(1-0.5*alpha, n-1)\n",
    "print(q)\n",
    "T = np.sqrt(n)*(xn - mu0)/np.sqrt(sn)\n",
    "print(T)\n",
    "if (abs(T) > q):\n",
    "    print(f'Il processo è da considerarsi fuori controllo con livello di significatività', alpha)\n",
    "else:\n",
    "    print(f'Non posso concludere nulla con livello di significatività', alpha)"
   ]
  },
  {
   "cell_type": "code",
   "execution_count": 5,
   "metadata": {},
   "outputs": [
    {
     "name": "stdout",
     "output_type": "stream",
     "text": [
      "2.6092279073321927\n",
      "-2.0846721215176\n",
      "Non posso concludere nullacon livello di significatività 0.01\n"
     ]
    }
   ],
   "source": [
    "alpha = 0.01\n",
    "q = t.ppf(1-0.5*alpha, n-1)\n",
    "print(q)\n",
    "T = np.sqrt(n)*(xn - mu0)/np.sqrt(sn)\n",
    "print(T)\n",
    "if (abs(T) > q):\n",
    "    print(f'Il processo è da considerarsi fuori controllo con livello di significatività', alpha)\n",
    "else:\n",
    "    print(f'Non posso concludere nulla con livello di significatività', alpha)"
   ]
  },
  {
   "cell_type": "markdown",
   "metadata": {},
   "source": [
    "Un altro possibile approccio è quello di calcolare il pvalue associato al processo, così facendo sapremo qual è il più piccolo livello di significatività per cui il processo è fuori controllo. Infatti, sappiamo che per ogni $\\alpha >$ pvalue, l'ipotesi nulla sarà rigettata. "
   ]
  },
  {
   "cell_type": "code",
   "execution_count": 8,
   "metadata": {
    "scrolled": true
   },
   "outputs": [
    {
     "name": "stdout",
     "output_type": "stream",
     "text": [
      "0.038805309388787235\n",
      "Il processo è fuori controllo per ogni alpha > 0.038805309388787235\n"
     ]
    }
   ],
   "source": [
    "pvalue = 2*(1 - t.cdf(abs(T), n-1))\n",
    "print(pvalue)\n",
    "print(f'Il processo è fuori controllo per ogni alpha >',pvalue)"
   ]
  },
  {
   "cell_type": "code",
   "execution_count": 9,
   "metadata": {
    "scrolled": true
   },
   "outputs": [
    {
     "name": "stdout",
     "output_type": "stream",
     "text": [
      "2.00099537704821\n",
      "-1.3184624157301856\n",
      "Non posso concludere nulla\n"
     ]
    }
   ],
   "source": [
    "n = 60\n",
    "alpha = 0.05\n",
    "q = t.ppf(1-0.5*alpha, n-1)\n",
    "print(q)\n",
    "T = np.sqrt(n)*(xn - mu0)/np.sqrt(sn)\n",
    "print(T)\n",
    "if (abs(T) > q):\n",
    "    print('Il processo è da considerarsi fuori controllo con livello di significatività 5%')\n",
    "else:\n",
    "    print('Non posso concludere nulla')"
   ]
  },
  {
   "cell_type": "code",
   "execution_count": null,
   "metadata": {},
   "outputs": [],
   "source": []
  }
 ],
 "metadata": {
  "kernelspec": {
   "display_name": "Python 3",
   "language": "python",
   "name": "python3"
  },
  "language_info": {
   "codemirror_mode": {
    "name": "ipython",
    "version": 3
   },
   "file_extension": ".py",
   "mimetype": "text/x-python",
   "name": "python",
   "nbconvert_exporter": "python",
   "pygments_lexer": "ipython3",
   "version": "3.8.10"
  }
 },
 "nbformat": 4,
 "nbformat_minor": 4
}
