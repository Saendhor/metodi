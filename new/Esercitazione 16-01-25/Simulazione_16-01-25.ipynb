{
 "cells": [
  {
   "cell_type": "markdown",
   "metadata": {},
   "source": [
    "# Esercizio 1"
   ]
  },
  {
   "cell_type": "markdown",
   "metadata": {},
   "source": [
    "Simuliamo N lanci di una moneta equilibrata, ovvero con $p = 0.5$.\n",
    "Per fare questo generiamo $N$ numeri random uniformi in $[0, 1]$ e poniamo testa ogni volta che il numero è minore di 0.5 e croce altrimenti. \n",
    "Si chiede di farlo per tre diversi $N$. Generiamo un vettore di prova che abbia lo stesso numero di elementi del più grande. Per i primi due casi considereremo soltanto i primi elementi."
   ]
  },
  {
   "cell_type": "code",
   "execution_count": 24,
   "metadata": {},
   "outputs": [],
   "source": [
    "import numpy as np\n",
    "import matplotlib.pyplot as plt\n",
    "from scipy.stats import binom"
   ]
  },
  {
   "cell_type": "code",
   "execution_count": 25,
   "metadata": {},
   "outputs": [
    {
     "name": "stdout",
     "output_type": "stream",
     "text": [
      "(array([0, 1]), array([59, 41]))\n"
     ]
    }
   ],
   "source": [
    "#Genero il lancio della moneta\n",
    "n = [100, 1000, 10000] #numero di prove\n",
    "p = 0.5 #probabilità\n",
    "\n",
    "prove = np.random.rand(n[2]) #vettori di numeri random tra 0 e 1\n",
    "\n",
    "testa = np.where(prove < p, 1, 0) #metto 1 quando p < 0.5 e 0 quando p > 0.5\n",
    "\n",
    "F0 = np.unique(testa[:n[0]], return_counts=True) #conto quanti uni e zero sono usciti nei primi 100 lanci\n",
    "F1 = np.unique(testa[:n[1]], return_counts=True) #conto quanti uni e zero sono usciti nei primi 1000 lanci\n",
    "F2 = np.unique(testa[:n[2]], return_counts=True) #conto quanti uni e zero sono usciti in tutti i lanci\n",
    "\n",
    "print(F)\n"
   ]
  },
  {
   "cell_type": "code",
   "execution_count": 42,
   "metadata": {},
   "outputs": [
    {
     "data": {
      "image/png": "[encoded data removed]",
      "text/plain": [
       "<Figure size 1080x360 with 3 Axes>"
      ]
     },
     "metadata": {
      "needs_background": "light"
     },
     "output_type": "display_data"
    }
   ],
   "source": [
    "#Faccio l'istogramma e confronto con il risultato teorico\n",
    "#Il risultato teorico è aspettarmi una media di np successi\n",
    "#ovvero la barra corrispondente al valore uno tenderà a np\n",
    "\n",
    "fig, ax = plt.subplots(nrows=1, ncols=3, figsize=(15, 5))\n",
    "ax[0].set_xticks([0, 1])\n",
    "ax[0].set_title(\"n=100\")\n",
    "ax[0].set_xlabel('x', fontsize=16)\n",
    "ax[0].set_ylabel('frequenza', fontsize=12)\n",
    "ax[0].bar(F0[0], F0[1], width=0.5, align='center')\n",
    "ax[0].axhline(y=n[0]*p, xmin=0, xmax=1, color='r')\n",
    "\n",
    "ax[1].set_xticks([0, 1])\n",
    "ax[1].set_title(\"n=1000\")\n",
    "ax[1].set_xlabel('x', fontsize=16)\n",
    "ax[1].set_ylabel('frequenza', fontsize=12)\n",
    "ax[1].bar(F1[0], F1[1], width=0.5, align='center')\n",
    "ax[1].axhline(y=n[1]*p, xmin=0, xmax=1, color='r')\n",
    "\n",
    "ax[2].set_xticks([0, 1])\n",
    "ax[2].set_title(\"n=10000\")\n",
    "ax[2].set_xlabel('x', fontsize=16)\n",
    "ax[2].set_ylabel('frequenza', fontsize=12)\n",
    "ax[2].bar(F2[0], F2[1], width=0.5, align='center')\n",
    "ax[2].axhline(y=n[2]*p, xmin=0, xmax=1, color='r')\n",
    "\n",
    "plt.show()\n"
   ]
  },
  {
   "cell_type": "code",
   "execution_count": 38,
   "metadata": {},
   "outputs": [],
   "source": [
    "#ripetiamo tutto per p = 0.7\n",
    "n = [100, 1000, 10000] #numero di prove\n",
    "p = 0.7 #probabilità\n",
    "\n",
    "prove = np.random.rand(n[2]) #vettori di numeri random tra 0 e 1\n",
    "\n",
    "testa = np.where(prove < p, 1, 0) #metto 1 quando p < 0.5 e 0 quando p > 0.5\n",
    "\n",
    "F0 = np.unique(testa[:n[0]], return_counts=True) #conto quanti uni e zero sono usciti nei primi 100 lanci\n",
    "F1 = np.unique(testa[:n[1]], return_counts=True) #conto quanti uni e zero sono usciti nei primi 1000 lanci\n",
    "F2 = np.unique(testa[:n[2]], return_counts=True) #conto quanti uni e zero sono usciti in tutti i lanci"
   ]
  },
  {
   "cell_type": "code",
   "execution_count": 43,
   "metadata": {},
   "outputs": [
    {
     "data": {
      "image/png": "[encoded data removed]",
      "text/plain": [
       "<Figure size 1080x360 with 3 Axes>"
      ]
     },
     "metadata": {
      "needs_background": "light"
     },
     "output_type": "display_data"
    }
   ],
   "source": [
    "#Faccio l'istogramma e confronto con il risultato teorico\n",
    "#Il risultato teorico è aspettarmi una media di np successi\n",
    "#ovvero la barra corrispondente al valore uno tenderà a np\n",
    "\n",
    "fig, ax = plt.subplots(nrows=1, ncols=3, figsize=(15, 5))\n",
    "ax[0].set_xticks([0, 1])\n",
    "ax[0].set_title(\"n=100\")\n",
    "ax[0].set_xlabel('x', fontsize=16)\n",
    "ax[0].set_ylabel('frequenza', fontsize=12)\n",
    "ax[0].bar(F0[0], F0[1], width=0.5, align='center')\n",
    "ax[0].axhline(y=n[0]*p, xmin=0, xmax=1, color='r')\n",
    "\n",
    "ax[1].set_xticks([0, 1])\n",
    "ax[1].set_title(\"n=1000\")\n",
    "ax[1].set_xlabel('x', fontsize=16)\n",
    "ax[1].set_ylabel('frequenza', fontsize=12)\n",
    "ax[1].bar(F1[0], F1[1], width=0.5, align='center')\n",
    "ax[1].axhline(y=n[1]*p, xmin=0, xmax=1, color='r')\n",
    "\n",
    "ax[2].set_xticks([0, 1])\n",
    "ax[2].set_title(\"n=10000\")\n",
    "ax[2].set_xlabel('x', fontsize=16)\n",
    "ax[2].set_ylabel('frequenza', fontsize=12)\n",
    "ax[2].bar(F2[0], F2[1], width=0.5, align='center')\n",
    "ax[2].axhline(y=n[2]*p, xmin=0, xmax=1, color='r')\n",
    "\n",
    "plt.show()"
   ]
  },
  {
   "cell_type": "markdown",
   "metadata": {},
   "source": [
    "Commentare il risultato ottenuto. \n",
    "I primi commenti che si possono fare sono abbastanza banali, ovvero che sbilanciando la moneta aumenta la probabilità di vincita, ovvero il numero di volte che otteniamo 1, che, per la nostra codifica, significa il numero di volte che abbiamo ottenuto croce. \n",
    "Osserviamo inoltre che al crescere del numero di lanci il risultato si avvicina sempre di più a quello predetto dalla teoria, confermando la legge dei grandi numeri. "
   ]
  },
  {
   "cell_type": "markdown",
   "metadata": {},
   "source": [
    "# Esercizio 2"
   ]
  },
  {
   "cell_type": "markdown",
   "metadata": {},
   "source": [
    "Dobbiamo calcolare l'integrale definito di una Gaussiana tra $a = -3$ e $b = 3$ utilizzando il metodo hit or miss. Ricordiamo che il metodo hit or miss è un metodo Monte Carlo che permette di calcolare numericamente integrali definiti. \n",
    "Per prima cosa disegniamo un rettangolo attorno alla funzione di base $b-a$ e di altezza il massimo $M$ assunto dalla funzione. In questo caso, trattandosi di una funzione normale standard, il massimo si ottiene in $x = 0$ ed è $\\frac{1}{\\sqrt{2\\pi}}$.\n",
    "Genero una coppia di numeri all'interno di questo rettangolo, allora la probabilità che questa coppia stia sotto la funzione è data dal rapporto tra l'area che voglio calcolare e l'area del rettangolo, ovvero $p =\\frac{I}{(b-a)M}$. \n",
    "Posso stimare in maniera empirica la probabilità generando $N$ (molto grande) coppie di numeri e contando il numero $N_s$ di volte in cui queste stiano sotto la funzione.\n",
    "In tal caso avrò che $p = \\frac{N_s}{N}$ e quindi stimerò l'integrale come $I = \\frac{N_s}{N}(b-a)M$.\n",
    "In questo caso posso anche confrontare il risultato con il valore teorico dato da $I = \\Phi(3) - \\Phi(-3)$, dove $\\Phi$ indica la funzione di ripartizione della normale standard.\n"
   ]
  },
  {
   "cell_type": "code",
   "execution_count": 46,
   "metadata": {},
   "outputs": [],
   "source": [
    "import numpy as np\n",
    "from scipy.stats import norm \n",
    "import matplotlib.pyplot as plt"
   ]
  },
  {
   "cell_type": "code",
   "execution_count": 50,
   "metadata": {},
   "outputs": [
    {
     "data": {
      "image/png": "[encoded data removed]",
      "text/plain": [
       "<Figure size 576x504 with 1 Axes>"
      ]
     },
     "metadata": {
      "needs_background": "light"
     },
     "output_type": "display_data"
    }
   ],
   "source": [
    "#Per comodità definiamoci la funzione che dobbiamo integrare\n",
    "def gauss(x):\n",
    "    return np.exp(-0.5*(x**2))/np.sqrt(2*np.pi) \n",
    "\n",
    "a = -3\n",
    "b = 3\n",
    "M = 1/np.sqrt(2*np.pi)\n",
    "\n",
    "nmin = 100 #numero minimo di campioni generati\n",
    "nmax = 100000 #numero massimo di campioni generati\n",
    "n = nmax-nmin #numero di stime dell'integrale generate \n",
    "nrange = np.arange(nmin, nmax, 1)\n",
    "nsize = np.size(nrange)\n",
    "\n",
    "x1 = np.random.rand(n) \n",
    "csi = a + (b-a)*x1 #genero primo numero random della coppia, uniforme in [a, b]\n",
    "x2 = np.random.rand(n)\n",
    "eta = M*x2 #secondo numero random della coppia, uniforme in [0, M]\n",
    "\n",
    "y = np.where(eta <= gauss(csi), 1, 0) #verifico se la coppia generata sta nell'area che mi interessa\n",
    "\n",
    "Ns = np.cumsum(y) #calcolo la somma cumulata per stimare ad ogni n l'integrale\n",
    "I = M*Ns*(b-a)/nrange #stimo l'integrale\n",
    "I_teoria = norm.cdf(b)-norm.cdf(a)\n",
    "\n",
    "fig, ax = plt.subplots(nrows=1, ncols=1, figsize=(8, 7))\n",
    "ax.plot(nrange, I, 'bo')\n",
    "ax.axhline(I_teoria, color='r')\n",
    "ax.set_ylim([I_teoria - 0.1, I_teoria + 0.1])\n",
    "plt.show()"
   ]
  },
  {
   "cell_type": "code",
   "execution_count": 51,
   "metadata": {},
   "outputs": [
    {
     "data": {
      "image/png": "[encoded data removed]",
      "text/plain": [
       "<Figure size 576x504 with 1 Axes>"
      ]
     },
     "metadata": {
      "needs_background": "light"
     },
     "output_type": "display_data"
    }
   ],
   "source": [
    "#Ripetiamo tutto cambiando gli estremi\n",
    "a = -1\n",
    "b = 1\n",
    "x1 = np.random.rand(n) \n",
    "csi = a + (b-a)*x1 #genero primo numero random della coppia, uniforme in [a, b]\n",
    "x2 = np.random.rand(n)\n",
    "eta = M*x2 #secondo numero random della coppia, uniforme in [0, M]\n",
    "\n",
    "y = np.where(eta <= gauss(csi), 1, 0) #verifico se la coppia generata sta nell'area che mi interessa\n",
    "\n",
    "Ns = np.cumsum(y) #calcolo la somma cumulata per stimare ad ogni n l'integrale\n",
    "I = M*Ns*(b-a)/nrange #stimo l'integrale\n",
    "I_teoria = norm.cdf(b)-norm.cdf(a)\n",
    "\n",
    "fig, ax = plt.subplots(nrows=1, ncols=1, figsize=(8, 7))\n",
    "ax.plot(nrange, I, 'bo')\n",
    "ax.axhline(I_teoria, color='r')\n",
    "ax.set_ylim([I_teoria - 0.1, I_teoria + 0.1])\n",
    "plt.show()"
   ]
  },
  {
   "cell_type": "markdown",
   "metadata": {},
   "source": [
    "Commentiamo il risultato. Per prima cosa osserviamo che la convergenza del Monte Carlo non è particolarmente veloce, infatti dobbiamo generare ben più di 10000 punti prima di avvicinarci sensibilmente al risultato teorico. \n",
    "Inoltre notiamo che nel secondo caso la convergenza è, in media, più rapida rispetto al primo caso. Questo è dovuto al fatto che quando consideriamo come estremi $a = -1$ e $b = 1$ la Gaussiana \"riempie\" di più il quadrato, diminuendo il numero di rigetti. Allargando gli estremi di integrazione il profilo della Gaussiana si allarga e la zona di rigetto inizia a diventare importante, richiedendo un maggior numero di punti generati. "
   ]
  },
  {
   "cell_type": "code",
   "execution_count": null,
   "metadata": {},
   "outputs": [],
   "source": []
  }
 ],
 "metadata": {
  "kernelspec": {
   "display_name": "Python 3",
   "language": "python",
   "name": "python3"
  },
  "language_info": {
   "codemirror_mode": {
    "name": "ipython",
    "version": 3
   },
   "file_extension": ".py",
   "mimetype": "text/x-python",
   "name": "python",
   "nbconvert_exporter": "python",
   "pygments_lexer": "ipython3",
   "version": "3.8.10"
  }
 },
 "nbformat": 4,
 "nbformat_minor": 4
}
