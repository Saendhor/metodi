{
 "cells": [
  {
   "cell_type": "markdown",
   "metadata": {},
   "source": [
    "# Esercizio 1"
   ]
  },
  {
   "cell_type": "code",
   "execution_count": 2,
   "metadata": {},
   "outputs": [],
   "source": [
    "import numpy as np\n",
    "import matplotlib.pyplot as plt"
   ]
  },
  {
   "cell_type": "code",
   "execution_count": 3,
   "metadata": {},
   "outputs": [
    {
     "name": "stdout",
     "output_type": "stream",
     "text": [
      "[1213 1518 1550 1215 2120 2207] [15474 16497 17224 14459 22186 23483]\n"
     ]
    }
   ],
   "source": [
    "x = np.array([1213, 1518, 1550, 1215, 2120, 2207])\n",
    "y = np.array([15474, 16497, 17224, 14459, 22186, 23483])\n",
    "print(x, y)"
   ]
  },
  {
   "cell_type": "code",
   "execution_count": 4,
   "metadata": {},
   "outputs": [
    {
     "name": "stdout",
     "output_type": "stream",
     "text": [
      "1637.1666666666667 18220.5\n"
     ]
    }
   ],
   "source": [
    "n = np.size(x)\n",
    "#calcolo la media dei dati\n",
    "#xn = np.sum(x)/n\n",
    "xn = np.mean(x)\n",
    "yn = np.sum(y)/n\n",
    "print(xn, yn)"
   ]
  },
  {
   "cell_type": "code",
   "execution_count": 5,
   "metadata": {},
   "outputs": [
    {
     "name": "stdout",
     "output_type": "stream",
     "text": [
      "[[  156296.47222222  1326437.08333333]\n",
      " [ 1326437.08333333 11512450.91666667]]\n",
      "156296.47222222202 11512450.916666687 1326437.083333332\n"
     ]
    }
   ],
   "source": [
    "xn2 = np.sum(x**2)/n\n",
    "yn2 = np.sum(y**2)/n\n",
    "xyn = np.sum(x*y)/n\n",
    "#calcolo la varianza\n",
    "sx = xn2-xn**2\n",
    "sy = yn2-yn**2\n",
    "#calcolo la covarianza\n",
    "print(np.cov(x,y, bias = True))\n",
    "sxy = xyn - xn*yn\n",
    "print(sx, sy, sxy)"
   ]
  },
  {
   "cell_type": "code",
   "execution_count": 6,
   "metadata": {},
   "outputs": [
    {
     "name": "stdout",
     "output_type": "stream",
     "text": [
      "0.9888448849296696\n"
     ]
    }
   ],
   "source": [
    "rho = sxy/np.sqrt(sx*sy)\n",
    "#il coefficiente di correlazione lineare è molto prossimo a 1\n",
    "#per cui è ragionevole supporre che le variabili siano linearmente correlate\n",
    "print(rho)"
   ]
  },
  {
   "cell_type": "code",
   "execution_count": 6,
   "metadata": {},
   "outputs": [
    {
     "name": "stdout",
     "output_type": "stream",
     "text": [
      "4326.4015127589555 8.4866732081285\n"
     ]
    }
   ],
   "source": [
    "#Il metodo dei minimi quadrati mi permette di trovare la retta di\n",
    "#regressione che minimizza le distanze dai punti sperimentali\n",
    "#Questa retta sarà caratterizzata dal coefficiente angolare b1 e \n",
    "#dal termine noto b0 che si possono calcolare una volta note varianza\n",
    "#e covarianza come segue\n",
    "b1 = sxy/sx\n",
    "b0 = yn-b1*xn\n",
    "print(b0, b1)"
   ]
  },
  {
   "cell_type": "code",
   "execution_count": 7,
   "metadata": {},
   "outputs": [
    {
     "data": {
      "image/png": "[encoded data removed]",
      "text/plain": [
       "<Figure size 432x288 with 1 Axes>"
      ]
     },
     "metadata": {
      "needs_background": "light"
     },
     "output_type": "display_data"
    }
   ],
   "source": [
    "plt.plot(x, y, 'bo')\n",
    "plt.plot(x, b0+b1*x, '-g')\n",
    "plt.show()"
   ]
  },
  {
   "cell_type": "code",
   "execution_count": 7,
   "metadata": {},
   "outputs": [
    {
     "name": "stdout",
     "output_type": "stream",
     "text": [
      "0.9778142064515715\n"
     ]
    }
   ],
   "source": [
    "#il coefficiente di determinazione è molto prossimo a 1\n",
    "#per cui il mio modello è affidabile\n",
    "R = rho**2\n",
    "print(R)"
   ]
  },
  {
   "cell_type": "code",
   "execution_count": 8,
   "metadata": {},
   "outputs": [
    {
     "name": "stdout",
     "output_type": "stream",
     "text": [
      "[1213 1518 1550 1215 2120 2207 3050  850 2175 1128] [15474 16497 17224 14459 22186 23483 29349 11314 24095 13982]\n"
     ]
    }
   ],
   "source": [
    "x = np.array([1213, 1518, 1550, 1215, 2120, 2207, 3050, 850, 2175, 1128])\n",
    "y = np.array([15474, 16497, 17224, 14459, 22186, 23483, 29349, 11314, 24095, 13982])\n",
    "print(x, y)"
   ]
  },
  {
   "cell_type": "code",
   "execution_count": 9,
   "metadata": {},
   "outputs": [
    {
     "name": "stdout",
     "output_type": "stream",
     "text": [
      "1702.6 18806.3\n"
     ]
    }
   ],
   "source": [
    "n = np.size(x)\n",
    "#calcolo la media dei dati\n",
    "#xn = np.sum(x)/n\n",
    "xn = np.mean(x)\n",
    "yn = np.sum(y)/n\n",
    "print(xn, yn)"
   ]
  },
  {
   "cell_type": "code",
   "execution_count": 10,
   "metadata": {},
   "outputs": [
    {
     "name": "stdout",
     "output_type": "stream",
     "text": [
      "[[  405920.84  3405220.12]\n",
      " [ 3405220.12 28966097.61]]\n",
      "405920.8400000003 28966097.610000014 3405220.120000005\n"
     ]
    }
   ],
   "source": [
    "xn2 = np.sum(x**2)/n\n",
    "yn2 = np.sum(y**2)/n\n",
    "xyn = np.sum(x*y)/n\n",
    "#calcolo la varianza\n",
    "sx = xn2-xn**2\n",
    "sy = yn2-yn**2\n",
    "#calcolo la covarianza\n",
    "print(np.cov(x,y, bias = True))\n",
    "sxy = xyn - xn*yn\n",
    "print(sx, sy, sxy)"
   ]
  },
  {
   "cell_type": "code",
   "execution_count": 11,
   "metadata": {},
   "outputs": [
    {
     "name": "stdout",
     "output_type": "stream",
     "text": [
      "0.9930692208128389\n"
     ]
    }
   ],
   "source": [
    "rho = sxy/np.sqrt(sx*sy)\n",
    "#il coefficiente di correlazione lineare è molto prossimo a 1\n",
    "#per cui è ragionevole supporre che le variabili siano linearmente correlate\n",
    "print(rho)"
   ]
  },
  {
   "cell_type": "code",
   "execution_count": 12,
   "metadata": {},
   "outputs": [
    {
     "name": "stdout",
     "output_type": "stream",
     "text": [
      "4523.397510164779 8.388877299327628\n"
     ]
    }
   ],
   "source": [
    "#Il metodo dei minimi quadrati mi permette di trovare la retta di\n",
    "#regressione che minimizza le distanze dai punti sperimentali\n",
    "#Questa retta sarà caratterizzata dal coefficiente angolare b1 e \n",
    "#dal termine noto b0 che si possono calcolare una volta note varianza\n",
    "#e covarianza come segue\n",
    "b1 = sxy/sx\n",
    "b0 = yn-b1*xn\n",
    "print(b0, b1)"
   ]
  },
  {
   "cell_type": "code",
   "execution_count": 13,
   "metadata": {},
   "outputs": [
    {
     "data": {
      "image/png": "[encoded data removed]",
      "text/plain": [
       "<Figure size 432x288 with 1 Axes>"
      ]
     },
     "metadata": {
      "needs_background": "light"
     },
     "output_type": "display_data"
    }
   ],
   "source": [
    "plt.plot(x, y, 'bo')\n",
    "plt.plot(x, b0+b1*x, '-g')\n",
    "plt.show()"
   ]
  },
  {
   "cell_type": "code",
   "execution_count": 15,
   "metadata": {},
   "outputs": [
    {
     "name": "stdout",
     "output_type": "stream",
     "text": [
      "0.986186477325819\n"
     ]
    }
   ],
   "source": [
    "#il coefficiente di determinazione è molto prossimo a 1\n",
    "#per cui il mio modello è affidabile\n",
    "R = rho**2\n",
    "print(R)"
   ]
  },
  {
   "cell_type": "markdown",
   "metadata": {},
   "source": [
    "I nuovi dati mi hanno permesso di avere un modello più predittivo. Infatti la retta che ho trovato è in accordo con dati che variano su un range maggiore. Noto inoltre che, anche se impercettibilmente, sia la correlazione che il coefficiente di determinazione sono migliorati."
   ]
  },
  {
   "cell_type": "markdown",
   "metadata": {},
   "source": [
    "# Esercizio 2"
   ]
  },
  {
   "cell_type": "code",
   "execution_count": 18,
   "metadata": {},
   "outputs": [],
   "source": [
    "from scipy.stats import binom"
   ]
  },
  {
   "cell_type": "code",
   "execution_count": 19,
   "metadata": {},
   "outputs": [
    {
     "name": "stdout",
     "output_type": "stream",
     "text": [
      "(200, 10)\n",
      "(200,)\n"
     ]
    }
   ],
   "source": [
    "#Genero il lancio della moneta\n",
    "n = 10 #numero di monete\n",
    "p = 0.5 #probabilità\n",
    "N = 200 #numero di prove\n",
    "\n",
    "prove = np.random.randint(0, 2, (N, n)) \n",
    "print(prove.shape)\n",
    "testa = np.sum(prove, axis=1) \n",
    "print(testa.shape)\n",
    "\n",
    "\n",
    "F = np.unique(testa, return_counts=True)\n",
    "print(F)"
   ]
  },
  {
   "cell_type": "code",
   "execution_count": 20,
   "metadata": {},
   "outputs": [
    {
     "data": {
      "text/plain": [
       "[<matplotlib.lines.Line2D at 0x7ff074c58310>]"
      ]
     },
     "execution_count": 20,
     "metadata": {},
     "output_type": "execute_result"
    },
    {
     "data": {
      "image/png": "[encoded data removed]",
      "text/plain": [
       "<Figure size 720x576 with 1 Axes>"
      ]
     },
     "metadata": {
      "needs_background": "light"
     },
     "output_type": "display_data"
    }
   ],
   "source": [
    "fig, ax = plt.subplots(nrows=1, ncols=1, figsize=(10, 8))\n",
    "ax.set_xticks(np.arange(0, n+1))\n",
    "ax.set_title(\"n=200\")\n",
    "ax.set_xlabel('x', fontsize=16)\n",
    "ax.set_ylabel('frequenza', fontsize=12)\n",
    "ax.bar(F[0], F[1]/N, width=0.5, align='center')\n",
    "ax.plot(F[0], binom.pmf(F[0], n, p), 'or')"
   ]
  },
  {
   "cell_type": "code",
   "execution_count": 21,
   "metadata": {},
   "outputs": [],
   "source": [
    "#Genero il lancio della moneta\n",
    "n = 10 #numero di monete\n",
    "p = 0.5 #probabilità\n",
    "N = 2000 #numero di prove\n",
    "\n",
    "prove = np.random.randint(0, 2, (N, n)) \n",
    "testa = np.sum(prove, axis=1) \n",
    "\n",
    "\n",
    "F = np.unique(testa, return_counts=True)\n"
   ]
  },
  {
   "cell_type": "code",
   "execution_count": 22,
   "metadata": {},
   "outputs": [
    {
     "data": {
      "text/plain": [
       "[<matplotlib.lines.Line2D at 0x7ff074bef4c0>]"
      ]
     },
     "execution_count": 22,
     "metadata": {},
     "output_type": "execute_result"
    },
    {
     "data": {
      "image/png": "[encoded data removed]",
      "text/plain": [
       "<Figure size 720x576 with 1 Axes>"
      ]
     },
     "metadata": {
      "needs_background": "light"
     },
     "output_type": "display_data"
    }
   ],
   "source": [
    "fig, ax = plt.subplots(nrows=1, ncols=1, figsize=(10, 8))\n",
    "ax.set_xticks(np.arange(0, n+1))\n",
    "ax.set_title(\"n=2000\")\n",
    "ax.set_xlabel('x', fontsize=16)\n",
    "ax.set_ylabel('frequenza', fontsize=12)\n",
    "ax.bar(F[0], F[1]/N, width=0.5, align='center')\n",
    "ax.plot(F[0], binom.pmf(F[0], n, p), 'or')"
   ]
  },
  {
   "cell_type": "code",
   "execution_count": null,
   "metadata": {},
   "outputs": [],
   "source": []
  }
 ],
 "metadata": {
  "kernelspec": {
   "display_name": "Python 3 (ipykernel)",
   "language": "python",
   "name": "python3"
  },
  "language_info": {
   "codemirror_mode": {
    "name": "ipython",
    "version": 3
   },
   "file_extension": ".py",
   "mimetype": "text/x-python",
   "name": "python",
   "nbconvert_exporter": "python",
   "pygments_lexer": "ipython3",
   "version": "3.13.1"
  }
 },
 "nbformat": 4,
 "nbformat_minor": 4
}
